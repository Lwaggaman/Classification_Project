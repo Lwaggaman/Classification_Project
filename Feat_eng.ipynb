{
 "cells": [
  {
   "cell_type": "markdown",
   "id": "1b95a615",
   "metadata": {},
   "source": [
    "#### Imports & Functions"
   ]
  },
  {
   "cell_type": "code",
   "execution_count": 1,
   "id": "1c8f8738",
   "metadata": {},
   "outputs": [],
   "source": [
    "import pandas as pd\n",
    "from collections import OrderedDict\n",
    "import matplotlib.pyplot as plt\n",
    "import seaborn as sns\n",
    "import numpy as np\n",
    "from sklearn.linear_model import LogisticRegression\n",
    "from sklearn.tree import DecisionTreeClassifier\n",
    "from sklearn.ensemble import RandomForestClassifier, AdaBoostClassifier\n",
    "from sklearn.metrics import f1_score, confusion_matrix, precision_score, recall_score, roc_curve\n",
    "from sklearn.neighbors import KNeighborsClassifier\n",
    "from collections import OrderedDict\n",
    "from sklearn.preprocessing import StandardScaler\n",
    "from sklearn.model_selection import train_test_split\n",
    "import xgboost as xgb\n",
    "from itertools import repeat, chain\n",
    "import shap\n",
    "from shap import TreeExplainer"
   ]
  },
  {
   "cell_type": "code",
   "execution_count": 2,
   "id": "17f68a87",
   "metadata": {},
   "outputs": [],
   "source": [
    "import warnings\n",
    "warnings.filterwarnings('ignore')"
   ]
  },
  {
   "cell_type": "code",
   "execution_count": 3,
   "id": "4b7eefd6",
   "metadata": {},
   "outputs": [],
   "source": [
    "def namestr(obj, namespace):\n",
    "    return [name for name in namespace if namespace[name] is obj]\n",
    "def plot_aocs(df):\n",
    "    for i in range(len(df)):\n",
    "        plt.plot(df.iloc[i,0], df.iloc[i,1])\n",
    "    x = np.linspace(0,1, 100000)\n",
    "    plt.plot(x, x, linestyle='--')\n",
    "\n",
    "    plt.title('ROC Curve')\n",
    "    plt.xlabel('False Positive Rate')\n",
    "    plt.ylabel('True Positive Rate')\n",
    "    plt.legend(df.index)\n",
    "\n",
    "def get_genre_aggregations(df, genres, aggs, suffix=''):    \n",
    "    agg_dfs = ([(df[df[genre]==1].groupby(['reader_id'], as_index=False)\n",
    "                                 .agg(aggs)\n",
    "                                 .set_index('reader_id')) for genre in genres])\n",
    "    genre_agg_df = pd.concat(agg_dfs, axis=1)\n",
    "    genre_agg_df.columns = [genre + suffix for genre in genres]\n",
    "    return genre_agg_df\n",
    "def test_features_basic_xgb(df, aoc = False, label = '', save_model=False):\n",
    "    X_train, X_test, y_train, y_test = (train_test_split(df.iloc[:,1:],df.rating,test_size=0.15, random_state=42))\n",
    "    X_train, X_val, y_train, y_val = train_test_split(X_train, y_train, test_size=0.18, random_state=42)\n",
    "    gbm = (xgb.XGBClassifier( \n",
    "                        n_estimators=30000,\n",
    "                        max_depth=6,\n",
    "                        objective='binary:logistic', #new objective\n",
    "                        learning_rate=.05, \n",
    "                        subsample=.8,\n",
    "                        min_child_weight=3,\n",
    "                        use_label_encoder=False\n",
    "                       ))\n",
    "    eval_set=[(X_train,y_train),(X_val,y_val)]\n",
    "    gbm_fit = (gbm.fit(X_train, y_train, \n",
    "                    eval_set=eval_set,\n",
    "                    eval_metric='logloss', #new evaluation metric: classification error (could also use AUC, e.g.)\n",
    "                    early_stopping_rounds=50,\n",
    "                    verbose=False\n",
    "                   ))\n",
    "    print(f'F1 score: {f1_score(y_test, gbm.predict(X_test))}')\n",
    "    print(f'Confusion Matrix:')\n",
    "    print(confusion_matrix(y_test, gbm.predict(X_test)))\n",
    "    if aoc==True:\n",
    "        fpr, tpr, _ = roc_curve(y_test, gbm_fit.predict(X_test))\n",
    "        roc_df.loc[label] = [fpr, tpr]\n",
    "    if save_model == True:\n",
    "        return X_test, y_test, gbm_fit\n",
    "def get_reader_split_data(df, index_id=True, test_size=.2, seed=123):\n",
    "    rs = np.random.RandomState(seed)\n",
    "    if index_id==True:\n",
    "        total_readers = df.index\n",
    "        test_readers = rs.choice(total_readers, size=int(total_readers.shape[0] * test_size), replace=False)\n",
    "        df_tr, df_te = df[~df.index.isin(test_readers)], df[df.index.isin(test_readers)]\n",
    "    else:\n",
    "        total_readers = readers['reader_id'].unique()\n",
    "        test_readers = rs.choice(total_readers, size=int(total_readers.shape[0] * test_size), replace=False)\n",
    "        df_tr = df[~df['reader_id'].isin(test_readers)], df[df['reader_id'].isin(test_readers)]\n",
    "    y_tr, y_te = df_tr['rating'], df_te['rating']\n",
    "    X_tr, X_te = df_tr.drop(columns=['rating']), df_te.drop(columns=['rating'])\n",
    "    return X_tr, X_te, y_tr, y_te\n",
    "revert_dict = lambda d: dict(chain(*[zip(val, repeat(key)) for key, val in d.items()]))\n",
    "def get_rankings(item, df):\n",
    "    item_count_dict = {}\n",
    "    # For every tag in df\n",
    "    for i in range(df.shape[1]):    \n",
    "        # Calculate % of cases that tagged the item\n",
    "        val_counts = df.iloc[:,i].value_counts(normalize = True)\n",
    "        if item in val_counts.index:\n",
    "            item_counts = val_counts[item]\n",
    "        else:\n",
    "            item_counts = 0\n",
    "        # Add score to dict\n",
    "        item_count_dict[\"tag_{}\".format(i)] = item_counts\n",
    "def grouped_shap(shap_vals, features, groups):\n",
    "    groupmap = revert_dict(groups)\n",
    "    shap_Tdf = pd.DataFrame(shap_vals, columns=pd.Index(features, name='features')).T\n",
    "    shap_Tdf['group'] = shap_Tdf.reset_index().features.map(groupmap).values\n",
    "    shap_grouped = shap_Tdf.groupby('group').sum().T\n",
    "    return shap_grouped"
   ]
  },
  {
   "cell_type": "code",
   "execution_count": 4,
   "id": "969f7e26",
   "metadata": {},
   "outputs": [],
   "source": [
    "def get_dist_perc(x):\n",
    "    star = int(x['reader_rating']-1)\n",
    "    return ( (x[stars[star]]/2) + x[stars[:star]].sum() ) / x[stars].sum()\n",
    "def get_likelihood(x):\n",
    "    star = int(x['reader_rating']-1)\n",
    "    return x[stars[star]] / x[stars].sum()\n",
    "def get_median(x):\n",
    "    median = x[stars].sum()/2\n",
    "    for star in range(1,6):\n",
    "        if median <= x[stars[:int(star)]].sum():\n",
    "            return star"
   ]
  },
  {
   "cell_type": "code",
   "execution_count": 5,
   "id": "7c3b33aa",
   "metadata": {},
   "outputs": [],
   "source": [
    "readers_books = pd.read_csv('Data/readers_books.csv')\n",
    "readers = pd.read_csv('Data/readers.csv').drop_duplicates().dropna() #some readers did not rate the book\n",
    "readers = readers[readers.reader_id.isin(readers_books.reader_id)] # Filter out readers with private profiles\n",
    "readers_books = readers_books[(readers_books.reader_id.isin(readers.reader_id))&(readers_books.book_id!=1162022)]"
   ]
  },
  {
   "cell_type": "markdown",
   "id": "32118bb2",
   "metadata": {},
   "source": [
    "#### Reader Level Features EDA"
   ]
  },
  {
   "cell_type": "code",
   "execution_count": 6,
   "id": "e97905c8",
   "metadata": {},
   "outputs": [],
   "source": [
    "#readers_books['read_at'] = pd.to_datetime(readers_books['read_at'])\n",
    "#readers_books['started_at'] = pd.to_datetime(hist['started_at'])\n",
    "#readers_books['reading_time'] = readers_books['read_at'] - readers_books['started_at']\n",
    "#readers_books.reading_time.mean()\n",
    "readers_books.drop(columns=['started_at','read_at'], inplace=True, errors='ignore')\n",
    "readers_books['rating_bias'] = readers_books['reader_rating'] - readers_books['book_avg_rating']"
   ]
  },
  {
   "cell_type": "code",
   "execution_count": 7,
   "id": "253976d1",
   "metadata": {},
   "outputs": [],
   "source": [
    "reader_features = (['reader_avg_publ_year', 'reader_avg_rating', 'reader_avg_book_length',\n",
    "                    'reader_avg_book_rating','reader_avg_rating bias', 'reader_avg_book_popularity',])\n",
    "\n",
    "df_reader_feats=(readers_books.groupby(['reader_id'],as_index=False).agg(OrderedDict([('book_year','mean'),\n",
    "                                                                                    ('reader_rating', 'mean'),\n",
    "                                                                                    ('book_avg_rating', 'mean'),\n",
    "                                                                                    ('book_nr_pages', 'mean'),\n",
    "                                                                                    ('rating_bias', 'mean'),\n",
    "                                                                                    ('book_nr_ratings', 'mean')])))\n",
    "df_reader_feats.columns = ['reader_id'] + reader_features\n",
    "\n",
    "#df_reader_feats['reader_med_reading_time'] = df_reader_feats.reader_med_reading_time.dt.days\n",
    "#df_reader_feats = df_reader_feats.drop(columns=['reader_med_reading_time'])"
   ]
  },
  {
   "cell_type": "code",
   "execution_count": 8,
   "id": "a6edc613",
   "metadata": {},
   "outputs": [],
   "source": [
    "df_X = df_reader_feats.merge(readers, how='inner', on='reader_id')\n",
    "# Convert rating to target                                         \n",
    "df_X['rating'] = df_X.rating.apply(lambda x: x>=4).astype(int)\n",
    "df_X['reader_avg_publ_year'] = df_X.reader_avg_publ_year.fillna(df_X.reader_avg_publ_year.mean())\n",
    "df_X = df_X.dropna()"
   ]
  },
  {
   "cell_type": "code",
   "execution_count": 9,
   "id": "ce37f6a7",
   "metadata": {},
   "outputs": [],
   "source": [
    "#sns.pairplot(df_X.loc[:,1:], hue='target', plot_kws=dict(alpha=.3, edgecolor='none'))"
   ]
  },
  {
   "cell_type": "markdown",
   "id": "b491a5ad",
   "metadata": {},
   "source": [
    "Look at proportion of 'older' books as a potential feature"
   ]
  },
  {
   "cell_type": "code",
   "execution_count": 10,
   "id": "05ac675e",
   "metadata": {},
   "outputs": [],
   "source": [
    "#test = readers_books.iloc[:,[1,4,7,-1]].merge(readers, how='inner', on='reader_id')\n",
    "#test = test[(test.book_year>1400)&(test.book_year<2024)]\n",
    "#test['target'] = (test.rating>=4).astype('int')\n",
    "#test['old'] = (test.book_year<2005).astype('int')\n",
    "#test = test.groupby('reader_id').agg({'old':'mean','target':'mean'})\n",
    "#sns.pairplot(test_old, hue='target')"
   ]
  },
  {
   "cell_type": "markdown",
   "id": "99b8311e",
   "metadata": {},
   "source": [
    "Look at books' popularity and if there is separation"
   ]
  },
  {
   "cell_type": "code",
   "execution_count": 11,
   "id": "89f0e9fb",
   "metadata": {},
   "outputs": [],
   "source": [
    "#test = readers_books.iloc[:,[-2,-3]]\n",
    "#test['pop_books'] = (test.book_nr_ratings>2000000).astype('int')\n",
    "#test['very_pop_books'] = (test.book_nr_ratings>4000000).astype('int')\n",
    "#test = ((test.groupby('reader_id', as_index=False).agg({'very_pop_books':'mean','pop_books':'mean'}))\n",
    "#        .merge(readers, on='reader_id', how='left'))\n",
    "#test.loc[:,'rating'] = (test.rating>=4).astype('int')\n",
    "#sns.pairplot(test.iloc[:,1:], hue='rating')"
   ]
  },
  {
   "cell_type": "markdown",
   "id": "4622478a",
   "metadata": {},
   "source": [
    "#### Baseline Models"
   ]
  },
  {
   "cell_type": "code",
   "execution_count": 12,
   "id": "af923fab",
   "metadata": {},
   "outputs": [],
   "source": [
    "models = [LogisticRegression(), DecisionTreeClassifier(), RandomForestClassifier()]\n",
    "X_tr, X_te, y_tr, y_te = get_reader_split_data(df_X)\n",
    "fit_models = []\n",
    "models_metrics = []\n",
    "for model in models:\n",
    "    init = model\n",
    "    init.fit(X_tr, y_tr)\n",
    "    fit_models.append(model)\n",
    "for fit_model in fit_models:\n",
    "    y_pred = fit_model.predict(X_te)\n",
    "    metrics = (OrderedDict([('Model', str(models[fit_models.index(fit_model)])),\n",
    "                            ('Precision', precision_score(y_te, y_pred)),\n",
    "                            ('Recall', recall_score(y_te, y_pred)),\n",
    "                            ('F1', f1_score(y_te, y_pred))]))\n",
    "    models_metrics.append(metrics)"
   ]
  },
  {
   "cell_type": "code",
   "execution_count": 13,
   "id": "f7d57eb5",
   "metadata": {},
   "outputs": [],
   "source": [
    "std = StandardScaler()\n",
    "std.fit(X_tr)\n",
    "X_tr_sc, X_te_sc = std.transform(X_tr), std.transform(X_te) \n",
    "\n",
    "knn = KNeighborsClassifier().fit(X_tr_sc, y_tr)\n",
    "fit_models.append(knn)\n",
    "y_pred = knn.predict(X_te_sc)\n",
    "models_metrics.append(OrderedDict([('Model', 'KNeighbors()'), ('Precision', precision_score(y_te, y_pred)),\n",
    "                            ('Recall', recall_score(y_te, y_pred)), ('F1', f1_score(y_te, y_pred))]))"
   ]
  },
  {
   "cell_type": "code",
   "execution_count": 14,
   "id": "906ce605",
   "metadata": {},
   "outputs": [
    {
     "data": {
      "text/plain": [
       "<AxesSubplot:xlabel='variable', ylabel='value'>"
      ]
     },
     "execution_count": 14,
     "metadata": {},
     "output_type": "execute_result"
    },
    {
     "data": {
      "image/png": "[encoded data removed]",
      "text/plain": [
       "<Figure size 432x288 with 1 Axes>"
      ]
     },
     "metadata": {
      "needs_background": "light"
     },
     "output_type": "display_data"
    }
   ],
   "source": [
    "models_metrics_df = pd.melt(pd.DataFrame(models_metrics), id_vars=['Model'])\n",
    "sns.barplot(y='value', x='variable', hue='Model', data=models_metrics_df)"
   ]
  },
  {
   "cell_type": "code",
   "execution_count": 15,
   "id": "09856f68",
   "metadata": {},
   "outputs": [],
   "source": [
    "roc_df = pd.DataFrame(columns=['fpr','tpr'])\n",
    "for fit_model in fit_models[:-1]:\n",
    "    fpr, tpr, _ = roc_curve(y_te, fit_model.predict_proba(X_te)[:,1])\n",
    "    roc_df.loc[str(fit_model)] = [fpr, tpr]\n",
    "fpr, tpr, _ = roc_curve(y_te, fit_models[-1].predict_proba(X_te_sc)[:,1])\n",
    "roc_df.loc[str(fit_models[-1])] = [fpr, tpr]"
   ]
  },
  {
   "cell_type": "code",
   "execution_count": 16,
   "id": "ac5b27fe",
   "metadata": {},
   "outputs": [
    {
     "data": {
      "image/png": "[encoded data removed]",
      "text/plain": [
       "<Figure size 432x288 with 1 Axes>"
      ]
     },
     "metadata": {
      "needs_background": "light"
     },
     "output_type": "display_data"
    }
   ],
   "source": [
    "plot_aocs(roc_df)"
   ]
  },
  {
   "cell_type": "code",
   "execution_count": 17,
   "id": "4fb13695",
   "metadata": {},
   "outputs": [],
   "source": [
    "#sns.pairplot(df_X.iloc[:,1:], hue='rating')\n",
    "#X_test, y_test, gbm = test_features_basic_xgb(df_X.iloc[:,[-1,1,2,3,4,5,6]], save_model=True)\n",
    "#exp = TreeExplainer(gbm)\n",
    "#shap_vals = exp.shap_values(X_test)\n",
    "#shap.summary_plot(shap_vals, X_test) #We can confirm that reader_avg_book_rating and reader_avg_book_popularity\n",
    "                                        # are not good features due to lack of separability"
   ]
  },
  {
   "cell_type": "code",
   "execution_count": 18,
   "id": "44a415fb",
   "metadata": {},
   "outputs": [],
   "source": [
    "df_X = df_X.drop(columns=['reader_avg_book_rating', 'reader_avg_book_popularity'])"
   ]
  },
  {
   "cell_type": "markdown",
   "id": "d84246ad",
   "metadata": {},
   "source": [
    "### Genres Features Data Wrangling"
   ]
  },
  {
   "cell_type": "code",
   "execution_count": 19,
   "id": "9faaf534",
   "metadata": {},
   "outputs": [],
   "source": [
    "readers = pd.read_csv('Data/readers.csv').drop_duplicates()\n",
    "readers_books = pd.read_csv('Data/readers_books.csv')\n",
    "books = pd.read_csv('Data/Books/all_books.csv')\n",
    "\n",
    "readers = pd.read_csv('Data/readers.csv').drop_duplicates().dropna() #some readers did not rate the book\n",
    "readers_books = readers_books[(readers_books.reader_id.isin(readers.reader_id))&(readers_books.book_id!=1162022)]\n",
    "readers = readers[readers.reader_id.isin(readers_books.reader_id)] # Filter out readers with private profiles\n",
    "# The target book rating in reading hist should not be used to train the model. "
   ]
  },
  {
   "cell_type": "code",
   "execution_count": 20,
   "id": "189e3b86",
   "metadata": {},
   "outputs": [
    {
     "data": {
      "text/html": [
       "<div>\n",
       "<style scoped>\n",
       "    .dataframe tbody tr th:only-of-type {\n",
       "        vertical-align: middle;\n",
       "    }\n",
       "\n",
       "    .dataframe tbody tr th {\n",
       "        vertical-align: top;\n",
       "    }\n",
       "\n",
       "    .dataframe thead th {\n",
       "        text-align: right;\n",
       "    }\n",
       "</style>\n",
       "<table border=\"1\" class=\"dataframe\">\n",
       "  <thead>\n",
       "    <tr style=\"text-align: right;\">\n",
       "      <th></th>\n",
       "      <th>book_id</th>\n",
       "      <th>rating_distribution</th>\n",
       "      <th>1 Star</th>\n",
       "      <th>2 Stars</th>\n",
       "      <th>3 Stars</th>\n",
       "      <th>4 Stars</th>\n",
       "      <th>5 Stars</th>\n",
       "      <th>book_median</th>\n",
       "    </tr>\n",
       "  </thead>\n",
       "  <tbody>\n",
       "    <tr>\n",
       "      <th>0</th>\n",
       "      <td>45023611</td>\n",
       "      <td>{'5 Stars': 8454, '4 Stars': 16217, '3 Stars':...</td>\n",
       "      <td>824</td>\n",
       "      <td>3067</td>\n",
       "      <td>12083</td>\n",
       "      <td>16217</td>\n",
       "      <td>8454</td>\n",
       "      <td>4</td>\n",
       "    </tr>\n",
       "    <tr>\n",
       "      <th>1</th>\n",
       "      <td>13662</td>\n",
       "      <td>{'5 Stars': 38599, '4 Stars': 39593, '3 Stars'...</td>\n",
       "      <td>1302</td>\n",
       "      <td>3514</td>\n",
       "      <td>18726</td>\n",
       "      <td>39593</td>\n",
       "      <td>38599</td>\n",
       "      <td>4</td>\n",
       "    </tr>\n",
       "  </tbody>\n",
       "</table>\n",
       "</div>"
      ],
      "text/plain": [
       "    book_id                                rating_distribution  1 Star  \\\n",
       "0  45023611  {'5 Stars': 8454, '4 Stars': 16217, '3 Stars':...     824   \n",
       "1     13662  {'5 Stars': 38599, '4 Stars': 39593, '3 Stars'...    1302   \n",
       "\n",
       "   2 Stars  3 Stars  4 Stars  5 Stars  book_median  \n",
       "0     3067    12083    16217     8454            4  \n",
       "1     3514    18726    39593    38599            4  "
      ]
     },
     "execution_count": 20,
     "metadata": {},
     "output_type": "execute_result"
    }
   ],
   "source": [
    "# Get books' rating distribution\n",
    "books_stars = books.iloc[:,[1,-1]]\n",
    "books_stars[\"rating_distribution\"] = books_stars[\"rating_distribution\"].apply(eval)\n",
    "stars = ['1 Star','2 Stars','3 Stars','4 Stars','5 Stars']\n",
    "for star in stars:\n",
    "    books_stars[star] = books_stars.loc[:,'rating_distribution'].apply(lambda x: x[star])\n",
    "books_stars['book_median'] = books_stars.apply(get_median, axis=1)\n",
    "books_stars.head(2)"
   ]
  },
  {
   "cell_type": "code",
   "execution_count": 21,
   "id": "c1d5ca1b",
   "metadata": {},
   "outputs": [],
   "source": [
    "readers_books_dist = (readers_books.loc[:,['reader_id','reader_rating','book_id','book_avg_rating']]\n",
    "                      .merge(books_stars.drop(columns=['rating_distribution']), on='book_id', how='inner'))\n",
    "readers_books_dist['rating_percentile'] = readers_books_dist.apply(get_dist_perc, axis=1)\n",
    "readers_books_dist['rating_likelihood'] = readers_books_dist.apply(get_likelihood, axis=1)\n",
    "readers_books_dist['bias_median'] = readers_books_dist.reader_rating - readers_books_dist.book_median\n",
    "readers_books_dist['bias_mean'] = readers_books_dist.reader_rating - readers_books_dist.book_avg_rating"
   ]
  },
  {
   "cell_type": "code",
   "execution_count": 23,
   "id": "3df5e1c7",
   "metadata": {},
   "outputs": [],
   "source": [
    "def to_1D(series):\n",
    "    return pd.Series([x for _list in series for x in _list])"
   ]
  },
  {
   "cell_type": "code",
   "execution_count": 24,
   "id": "dcebe284",
   "metadata": {},
   "outputs": [],
   "source": [
    "readers_books_genres = (readers_books_dist.iloc[:,[0,1,2,3,10,11,12,13]]\n",
    "                        .merge(books.iloc[:,[1,10]], on='book_id', how='inner'))\n",
    "all_genres = to_1D(readers_books_genres.genres.apply(eval)).value_counts().drop('Audiobook').index"
   ]
  },
  {
   "cell_type": "code",
   "execution_count": 25,
   "id": "0232f08b",
   "metadata": {},
   "outputs": [],
   "source": [
    "from sklearn.preprocessing import MultiLabelBinarizer\n",
    "\n",
    "s = readers_books_genres['genres'].apply(eval)\n",
    "\n",
    "mlb = MultiLabelBinarizer()\n",
    "\n",
    "reader_genres = (pd.concat([\n",
    "    readers_books_genres,\n",
    "    pd.DataFrame(mlb.fit_transform(s),columns=mlb.classes_, index=readers_books_genres.index)\n",
    "    ], axis=1))"
   ]
  },
  {
   "cell_type": "markdown",
   "id": "204d94ce",
   "metadata": {},
   "source": [
    "Baseline with few common genres (dropping NaNs)"
   ]
  },
  {
   "cell_type": "code",
   "execution_count": 26,
   "id": "b081d0e6",
   "metadata": {},
   "outputs": [],
   "source": [
    "baseline_df = (pd.concat([readers.set_index('reader_id'), get_genre_aggregations(reader_genres,\n",
    "                                                                                 ['Romance','Young Adult','Fiction'],\n",
    "                                                                                 {'bias_mean':'mean'})],\n",
    "                         axis=1))\n",
    "baseline_df['rating'] = (baseline_df.rating>=4).astype('int')\n",
    "#sns.pairplot(bias_test, hue='rating')"
   ]
  },
  {
   "cell_type": "code",
   "execution_count": 27,
   "id": "cca212f9",
   "metadata": {},
   "outputs": [],
   "source": [
    "X_tr, X_te, y_tr, y_te = get_reader_split_data(baseline_df.dropna())\n",
    "\n",
    "rf = RandomForestClassifier().fit(X_tr, y_tr)\n",
    "lr = LogisticRegression(C=100).fit(X_tr, y_tr)\n",
    "ada = AdaBoostClassifier().fit(X_tr, y_tr)\n",
    "\n",
    "std = StandardScaler().fit(X_tr)\n",
    "X_tr_sc, X_te_sc = std.transform(X_tr), std.transform(X_te) \n",
    "knn = KNeighborsClassifier().fit(X_tr_sc, y_tr)"
   ]
  },
  {
   "cell_type": "code",
   "execution_count": 28,
   "id": "849bf5f7",
   "metadata": {},
   "outputs": [],
   "source": [
    "for fit_model in [rf, lr, ada]:\n",
    "    fpr, tpr, _ = roc_curve(y_te, fit_model.predict_proba(X_te)[:,1])\n",
    "    roc_df.loc[str(fit_model)+' 3 genres'] = [fpr, tpr]\n",
    "fpr, tpr, _ = roc_curve(y_te, knn.predict_proba(X_te_sc)[:,1])\n",
    "roc_df.loc['knn 3 genres'] = [fpr, tpr]"
   ]
  },
  {
   "cell_type": "code",
   "execution_count": 29,
   "id": "1690fe58",
   "metadata": {},
   "outputs": [
    {
     "data": {
      "image/png": "[encoded data removed]",
      "text/plain": [
       "<Figure size 432x288 with 1 Axes>"
      ]
     },
     "metadata": {
      "needs_background": "light"
     },
     "output_type": "display_data"
    }
   ],
   "source": [
    "plot_aocs(roc_df.iloc[-4:])"
   ]
  },
  {
   "cell_type": "markdown",
   "id": "868991c7",
   "metadata": {},
   "source": [
    "#### Try all genres (with meaningful NaNs) on XGBoost"
   ]
  },
  {
   "cell_type": "markdown",
   "id": "bc17d46f",
   "metadata": {},
   "source": [
    "###### Divergence of user rating from book avg rating, aggregated by genre"
   ]
  },
  {
   "cell_type": "code",
   "execution_count": 30,
   "id": "9cc107ee",
   "metadata": {},
   "outputs": [],
   "source": [
    "div_from_mean = pd.concat([readers.set_index('reader_id'),\n",
    "                             get_genre_aggregations(reader_genres, all_genres, {'bias_mean':'mean'},\n",
    "                                                   ' mean')], axis=1, join='inner')\n",
    "div_from_mean['rating'] = (div_from_mean.rating>=4.0).astype('int')"
   ]
  },
  {
   "cell_type": "markdown",
   "id": "f0363a91",
   "metadata": {},
   "source": [
    "100 most common genres"
   ]
  },
  {
   "cell_type": "code",
   "execution_count": 31,
   "id": "27526762",
   "metadata": {},
   "outputs": [
    {
     "name": "stdout",
     "output_type": "stream",
     "text": [
      "F1 score: 0.5677083333333334\n",
      "Confusion Matrix:\n",
      "[[182  69]\n",
      " [ 97 109]]\n"
     ]
    }
   ],
   "source": [
    "test_features_basic_xgb(div_from_mean.iloc[:,:101], label='xgb mean top 100 gen', aoc=True)\n",
    "#plot_aocs(roc_df.iloc[:-5])"
   ]
  },
  {
   "cell_type": "markdown",
   "id": "bdb6f8fa",
   "metadata": {},
   "source": [
    "All genres"
   ]
  },
  {
   "cell_type": "code",
   "execution_count": 32,
   "id": "4ba738d1",
   "metadata": {},
   "outputs": [
    {
     "name": "stdout",
     "output_type": "stream",
     "text": [
      "F1 score: 0.5638297872340426\n",
      "Confusion Matrix:\n",
      "[[187  64]\n",
      " [100 106]]\n"
     ]
    }
   ],
   "source": [
    "test_features_basic_xgb(div_from_mean, label='xgb mean all gen', aoc=True)\n",
    "#plot_aocs(roc_df.iloc[6:])           # Even with the dimensionality there is an improvement"
   ]
  },
  {
   "cell_type": "markdown",
   "id": "542674eb",
   "metadata": {},
   "source": [
    "Divergence of user rating from book avg rating, aggregated by genre"
   ]
  },
  {
   "cell_type": "code",
   "execution_count": 33,
   "id": "20afbf27",
   "metadata": {},
   "outputs": [],
   "source": [
    "div_from_median = pd.concat([readers.set_index('reader_id'),\n",
    "                             get_genre_aggregations(reader_genres, all_genres, {'bias_median':'mean'},\n",
    "                                                   ' median')], axis=1, join='inner')\n",
    "div_from_median['rating'] = (div_from_median.rating>=4.0).astype('int')"
   ]
  },
  {
   "cell_type": "code",
   "execution_count": 34,
   "id": "e76feb0c",
   "metadata": {},
   "outputs": [
    {
     "name": "stdout",
     "output_type": "stream",
     "text": [
      "F1 score: 0.546875\n",
      "Confusion Matrix:\n",
      "[[178  73]\n",
      " [101 105]]\n"
     ]
    }
   ],
   "source": [
    "test_features_basic_xgb(div_from_median.iloc[:,:101], label='xgb median top 100 gen', aoc=True)\n",
    "#plot_aocs(roc_df.iloc[-5:])"
   ]
  },
  {
   "cell_type": "code",
   "execution_count": 35,
   "id": "dce8bc8a",
   "metadata": {},
   "outputs": [
    {
     "name": "stdout",
     "output_type": "stream",
     "text": [
      "F1 score: 0.5606469002695419\n",
      "Confusion Matrix:\n",
      "[[190  61]\n",
      " [102 104]]\n"
     ]
    }
   ],
   "source": [
    "test_features_basic_xgb(div_from_median, label='xgb median all gen', aoc=True)\n",
    "#plot_aocs(roc_df.iloc[-5:])"
   ]
  },
  {
   "cell_type": "code",
   "execution_count": 36,
   "id": "40a58349",
   "metadata": {},
   "outputs": [],
   "source": [
    "#div from median for some genres underperforms\n",
    "# but div from median from all genres performs better than div from mean"
   ]
  },
  {
   "cell_type": "markdown",
   "id": "3a9228ad",
   "metadata": {},
   "source": [
    "Percentile within books'distributions, aggregated by genre"
   ]
  },
  {
   "cell_type": "code",
   "execution_count": 37,
   "id": "936b209c",
   "metadata": {},
   "outputs": [],
   "source": [
    "percentile = pd.concat([readers.set_index('reader_id'),\n",
    "                             get_genre_aggregations(reader_genres, all_genres,{'rating_percentile':'mean'},\n",
    "                                                   ' percentile')], axis=1, join='inner')\n",
    "percentile['rating'] = (percentile.rating>=4.0).astype('int')"
   ]
  },
  {
   "cell_type": "code",
   "execution_count": 38,
   "id": "f7376fa4",
   "metadata": {},
   "outputs": [
    {
     "name": "stdout",
     "output_type": "stream",
     "text": [
      "F1 score: 0.6\n",
      "Confusion Matrix:\n",
      "[[184  67]\n",
      " [ 89 117]]\n"
     ]
    }
   ],
   "source": [
    "test_features_basic_xgb(percentile.iloc[:,:101], label='xgb perc top 100 gen', aoc=True)\n",
    "#plot_aocs(roc_df.iloc[-5:])"
   ]
  },
  {
   "cell_type": "code",
   "execution_count": 39,
   "id": "7b4f263c",
   "metadata": {},
   "outputs": [
    {
     "name": "stdout",
     "output_type": "stream",
     "text": [
      "F1 score: 0.6266318537859008\n",
      "Confusion Matrix:\n",
      "[[194  57]\n",
      " [ 86 120]]\n"
     ]
    }
   ],
   "source": [
    "test_features_basic_xgb(percentile, label='xgb perc all gen', aoc=True)\n",
    "#plot_aocs(roc_df.iloc[-5:])"
   ]
  },
  {
   "cell_type": "markdown",
   "id": "1b2ae59a",
   "metadata": {},
   "source": [
    "Nr books read per genre"
   ]
  },
  {
   "cell_type": "code",
   "execution_count": 40,
   "id": "0699da19",
   "metadata": {},
   "outputs": [],
   "source": [
    "count_genre = pd.concat([readers.set_index('reader_id'),\n",
    "                             get_genre_aggregations(reader_genres, all_genres,{'rating_percentile':'count'},\n",
    "                                                   ' freq')], axis=1, join='inner')\n",
    "count_genre['rating'] = (count_genre.rating>=4.0).astype('int')"
   ]
  },
  {
   "cell_type": "code",
   "execution_count": 41,
   "id": "90b429d1",
   "metadata": {},
   "outputs": [
    {
     "name": "stdout",
     "output_type": "stream",
     "text": [
      "F1 score: 0.5464190981432361\n",
      "Confusion Matrix:\n",
      "[[183  68]\n",
      " [103 103]]\n"
     ]
    }
   ],
   "source": [
    "test_features_basic_xgb(count_genre.iloc[:,:101], label='xgb count top 100 gen', aoc=True)\n",
    "#plot_aocs(roc_df.iloc[-5:])"
   ]
  },
  {
   "cell_type": "raw",
   "id": "8487fcd0",
   "metadata": {},
   "source": [
    "test_features_basic_xgb(count_genre, label='xgb count all gen', aoc=True)\n",
    "plot_aocs(roc_df.iloc[-5:])"
   ]
  },
  {
   "cell_type": "code",
   "execution_count": null,
   "id": "340df738",
   "metadata": {},
   "outputs": [],
   "source": [
    "# Underperforms compared to div from median and percentile"
   ]
  },
  {
   "cell_type": "markdown",
   "id": "66167bef",
   "metadata": {},
   "source": [
    "#### Compare feature groups"
   ]
  },
  {
   "cell_type": "code",
   "execution_count": null,
   "id": "b7d5e7f4",
   "metadata": {},
   "outputs": [],
   "source": [
    "groups = {'Difference from Mean Rating': [genre + ' mean' for genre in all_genres],\n",
    "          'Difference from Median Rating':[genre + ' median' for genre in all_genres],\n",
    "          'Percentile within Rating Distribution': [genre +' percentile' for genre in all_genres],\n",
    "          'Nr Books Read': [genre + ' freq' for genre in all_genres]}"
   ]
  },
  {
   "cell_type": "markdown",
   "id": "1395a784",
   "metadata": {},
   "source": [
    "top 80 genres"
   ]
  },
  {
   "cell_type": "code",
   "execution_count": null,
   "id": "7842974c",
   "metadata": {},
   "outputs": [],
   "source": [
    "grouped_genres_80 = (pd.concat([div_from_median.iloc[:,:81], div_from_mean.iloc[:,1:81],\n",
    "                             percentile.iloc[:,1:81], count_genre.iloc[:,1:81]], axis=1))\n",
    "X_test, y_test, gbm_group = test_features_basic_xgb(grouped_genres_80, save_model=True)"
   ]
  },
  {
   "cell_type": "code",
   "execution_count": null,
   "id": "57f8ce31",
   "metadata": {},
   "outputs": [],
   "source": [
    "exp = TreeExplainer(gbm_group)\n",
    "shap_vals = exp.shap_values(X_test)\n",
    "shap_group = grouped_shap(shap_vals, grouped_genres_80.columns[1:], groups)\n",
    "shap.summary_plot(shap_group.values, features=shap_group.columns)"
   ]
  },
  {
   "cell_type": "markdown",
   "id": "09b2f29f",
   "metadata": {},
   "source": [
    "top 50 genres"
   ]
  },
  {
   "cell_type": "code",
   "execution_count": null,
   "id": "e078b52c",
   "metadata": {},
   "outputs": [],
   "source": [
    "grouped_genres_50 = (pd.concat([div_from_median.iloc[:,:51], div_from_mean.iloc[:,1:51],\n",
    "                             percentile.iloc[:,1:51], count_genre.iloc[:,1:51]], axis=1))\n",
    "X_test, y_test, gbm_group = test_features_basic_xgb(grouped_genres_50, save_model=True)"
   ]
  },
  {
   "cell_type": "code",
   "execution_count": null,
   "id": "3265bc2b",
   "metadata": {},
   "outputs": [],
   "source": [
    "exp = TreeExplainer(gbm_group)\n",
    "shap_vals = exp.shap_values(X_test)\n",
    "shap_group = grouped_shap(shap_vals, grouped_genres_50.columns[1:], groups)\n",
    "shap.summary_plot(shap_group.values, features=shap_group.columns)"
   ]
  },
  {
   "cell_type": "markdown",
   "id": "be3588f2",
   "metadata": {},
   "source": [
    "all genres"
   ]
  },
  {
   "cell_type": "code",
   "execution_count": null,
   "id": "6269d5ac",
   "metadata": {},
   "outputs": [],
   "source": [
    "grouped_genres_all = (pd.concat([div_from_median, div_from_mean.iloc[:,1:],\n",
    "                             percentile.iloc[:,1:], count_genre.iloc[:,1:]], axis=1))\n",
    "X_test, y_test, gbm_group = test_features_basic_xgb(grouped_genres_all, save_model=True)"
   ]
  },
  {
   "cell_type": "code",
   "execution_count": null,
   "id": "2f66ddb4",
   "metadata": {},
   "outputs": [],
   "source": [
    "exp = TreeExplainer(gbm_group)\n",
    "shap_vals = exp.shap_values(X_test)\n",
    "shap_group = grouped_shap(shap_vals, grouped_genres_all.columns[1:], groups)\n",
    "shap.summary_plot(shap_group.values, features=shap_group.columns)"
   ]
  },
  {
   "cell_type": "markdown",
   "id": "37d20d84",
   "metadata": {},
   "source": [
    "Percentile is clearly the best performer, even when we add the extra complexity of the other measurements.\n",
    "I would use that metric, along with the divergenge of the reader's rating from the avg rating OR the nr of books read.\n",
    "I would also filter the genres, over 200 is too much. But which process to use for filtering? Most popular genres? I dont think this is actually where we get the best separation, and they are very correlated to each other"
   ]
  },
  {
   "cell_type": "markdown",
   "id": "27c741b7",
   "metadata": {},
   "source": [
    "#### Genre selection"
   ]
  },
  {
   "cell_type": "markdown",
   "id": "287696de",
   "metadata": {},
   "source": [
    "Find genres that are highly correlated in terms of how often they appear together."
   ]
  },
  {
   "cell_type": "code",
   "execution_count": null,
   "id": "ef632423",
   "metadata": {},
   "outputs": [],
   "source": [
    "def boolean_df(item_lists, unique_items):\n",
    "    bool_dict = {}\n",
    "    for i, item in enumerate(unique_items):\n",
    "        bool_dict[item] = item_lists.apply(lambda x: item in x)\n",
    "    return pd.DataFrame(bool_dict)"
   ]
  },
  {
   "cell_type": "code",
   "execution_count": null,
   "id": "71e9b1fa",
   "metadata": {},
   "outputs": [],
   "source": [
    "genres_matrix = boolean_df(books.genres, all_genres).astype('int')\n",
    "genres_corr = genres_matrix.corr(method = \"pearson\")\n"
   ]
  },
  {
   "cell_type": "code",
   "execution_count": null,
   "id": "b64543bb",
   "metadata": {},
   "outputs": [],
   "source": [
    "fig, ax = plt.subplots(figsize = (9,5))\n",
    "sns.heatmap(genres_corr.iloc[:50,:50], cmap = \"Blues\")\n",
    "plt.xticks(rotation=50)\n",
    "ticks = ax.set_xticklabels(ax.get_xticklabels(), rotation=90)"
   ]
  },
  {
   "cell_type": "code",
   "execution_count": null,
   "id": "0f6f206e",
   "metadata": {},
   "outputs": [],
   "source": [
    "genres_corr.loc[:,:] =  np.tril(genres_corr.values, k=-1)\n",
    "corr_stack = genres_corr.stack()\n",
    "redundant_genres = list(set([genre[1] for genre in corr_stack[abs(corr_stack)>=.8].index]))\n",
    "redundant_genres.append('Novels') ## I would drop novels as a genre, too general.\n",
    "most_genres = [genre for genre in all_genres if genre not in redundant_genres]"
   ]
  },
  {
   "cell_type": "markdown",
   "id": "4480a5d3",
   "metadata": {},
   "source": [
    "Test performance with now fewer features"
   ]
  },
  {
   "cell_type": "code",
   "execution_count": null,
   "id": "7c871ef3",
   "metadata": {},
   "outputs": [],
   "source": [
    "percentile_most = pd.concat([readers.set_index('reader_id'),\n",
    "                             get_genre_aggregations(reader_genres, all_genres,{'rating_percentile':'mean'},\n",
    "                                                   ' percentile')], axis=1, join='inner')\n",
    "percentile_most['rating'] = (percentile_most.rating>=4.0).astype('int')\n",
    "#test_features_basic_xgb(percentile_most, aoc=True, label='perc most')\n",
    "\n",
    "X_test, y_test, gbm_perc = test_features_basic_xgb(percentile_most, save_model=True)\n",
    "exp = TreeExplainer(gbm_perc)\n",
    "shap_vals = exp.shap_values(X_test)\n",
    "shap.summary_plot(shap_vals, X_test)\n",
    "# Same recall score"
   ]
  },
  {
   "cell_type": "code",
   "execution_count": null,
   "id": "bbc4b442",
   "metadata": {},
   "outputs": [],
   "source": [
    "mean_most = pd.concat([readers.set_index('reader_id'),\n",
    "                             get_genre_aggregations(reader_genres, most_genres,{'bias_mean':'mean'},\n",
    "                                                   ' mean')], axis=1, join='inner')\n",
    "mean_most['rating'] = (mean_most.rating>=4.0).astype('int')\n",
    "\n",
    "test_features_basic_xgb(mean_most)"
   ]
  },
  {
   "cell_type": "code",
   "execution_count": null,
   "id": "1222008e",
   "metadata": {},
   "outputs": [],
   "source": [
    "median_most = pd.concat([readers.set_index('reader_id'),\n",
    "                             get_genre_aggregations(reader_genres, most_genres,{'bias_median':'mean'},\n",
    "                                                   ' median')], axis=1, join='inner')\n",
    "median_most['rating'] = (median_most.rating>=4.0).astype('int')\n",
    "\n",
    "test_features_basic_xgb(median_most)"
   ]
  },
  {
   "cell_type": "code",
   "execution_count": null,
   "id": "65ba8ff1",
   "metadata": {},
   "outputs": [],
   "source": [
    "test_features_basic_xgb(pd.concat([percentile_most, mean_most.iloc[:,1:]], axis=1)) #No improvement on percentile"
   ]
  },
  {
   "cell_type": "code",
   "execution_count": null,
   "id": "8dca1808",
   "metadata": {},
   "outputs": [],
   "source": [
    "(test_features_basic_xgb(pd.concat([percentile_most, median_most.iloc[:,1:]], axis=1),\n",
    "                         label='most perc median', aoc=True)) #Tiny improvement on percentile"
   ]
  },
  {
   "cell_type": "code",
   "execution_count": null,
   "id": "8872ea6b",
   "metadata": {},
   "outputs": [],
   "source": [
    "most_features = (pd.concat([percentile_most, median_most.iloc[:,1:], df_X.set_index('reader_id').iloc[:,:-1]],\n",
    "                          axis=1, join='inner'))\n",
    "test_features_basic_xgb(most_features, label='most perc, median, basics', aoc=True)"
   ]
  },
  {
   "cell_type": "code",
   "execution_count": null,
   "id": "18504042",
   "metadata": {},
   "outputs": [],
   "source": [
    "all_features = (pd.concat([percentile, div_from_median.iloc[:,1:], df_X.set_index('reader_id').iloc[:,:-1]],\n",
    "                          axis=1, join='inner'))\n",
    "test_features_basic_xgb(all_features, label='all perc, median, basics', aoc=True) #Best performer"
   ]
  },
  {
   "cell_type": "code",
   "execution_count": null,
   "id": "1d33b42b",
   "metadata": {},
   "outputs": [],
   "source": [
    "plot_aocs(roc_df.iloc[-5:])"
   ]
  },
  {
   "cell_type": "code",
   "execution_count": null,
   "id": "27a9428a",
   "metadata": {},
   "outputs": [],
   "source": [
    "#most_features.to_csv('all_features_for_hp_tuning.csv')"
   ]
  },
  {
   "cell_type": "code",
   "execution_count": null,
   "id": "e000b00d",
   "metadata": {},
   "outputs": [],
   "source": [
    "most_features.head(2)"
   ]
  },
  {
   "cell_type": "code",
   "execution_count": null,
   "id": "7d5c00b1",
   "metadata": {},
   "outputs": [],
   "source": [
    "raise ValueError"
   ]
  },
  {
   "cell_type": "markdown",
   "id": "801e4081",
   "metadata": {},
   "source": [
    "### Hyperparameter Tuning"
   ]
  },
  {
   "cell_type": "code",
   "execution_count": null,
   "id": "13a43e6d",
   "metadata": {},
   "outputs": [],
   "source": [
    "X, y = most_features.iloc[:,1:], most_features.rating\n",
    "X_train, X_test, y_train, y_test = train_test_split(X, y, test_size = 0.2, random_state = 0)\n",
    "X_train, X_val, y_train, y_val = train_test_split(X_train, y_train, test_size=0.25, random_state=42)\n",
    "\n",
    "eval_set=[(X_test,y_test)]\n",
    "\n",
    "train_dmatrix = xgb.DMatrix(data=X_train, label=y_train)\n",
    "test_dmatrix = xgb.DMatrix(data=X_test, label=y_test)\n",
    "val_dmatrix = xgb.DMatrix(data=X_val, label=y_val)"
   ]
  },
  {
   "cell_type": "markdown",
   "id": "fa7dc413",
   "metadata": {},
   "source": [
    "#### 10-fold CV, iterating to find best parameters"
   ]
  },
  {
   "cell_type": "markdown",
   "id": "b50af39c",
   "metadata": {},
   "source": [
    "Tree depth"
   ]
  },
  {
   "cell_type": "code",
   "execution_count": null,
   "id": "07826027",
   "metadata": {},
   "outputs": [],
   "source": [
    "params = {\"objective\":\"binary:logistic\", 'seed': 123}\n",
    "\n",
    "max_depths = [3, 4, 5, 6, 7]\n",
    "best_auc = []\n",
    "best_logloss = []\n",
    "best_error = []\n",
    "\n",
    "for curr_val in max_depths:\n",
    "    params[\"max_depth\"] = curr_val\n",
    "    cv_results = (xgb.cv(dtrain=data_dmatrix, params=params, nfold=5, early_stopping_rounds=50,\n",
    "                         num_boost_round=1200,metrics=['error','aucpr','logloss'], seed=123, as_pandas=True))\n",
    "    best_auc.append(cv_results[\"test-aucpr-mean\"].tail().values[-1])\n",
    "    best_error.append(cv_results[\"test-error-mean\"].tail().values[-1])\n",
    "    best_logloss.append(cv_results[\"test-logloss-mean\"].tail().values[-1])"
   ]
  },
  {
   "cell_type": "code",
   "execution_count": null,
   "id": "567456b4",
   "metadata": {},
   "outputs": [],
   "source": [
    "max_depths_df = (pd.DataFrame(list(zip(max_depths, best_auc, best_logloss, best_error)),\n",
    "                              columns=[\"max_depth\", 'auc', \"logloss\", 'error']))\n",
    "max_depths_df"
   ]
  },
  {
   "cell_type": "markdown",
   "id": "b686f58c",
   "metadata": {},
   "source": [
    "Learning Rate"
   ]
  },
  {
   "cell_type": "code",
   "execution_count": null,
   "id": "19f3fcb9",
   "metadata": {},
   "outputs": [],
   "source": [
    "best_auc = []\n",
    "etas = []"
   ]
  },
  {
   "cell_type": "code",
   "execution_count": null,
   "id": "07cba851",
   "metadata": {},
   "outputs": [],
   "source": [
    "params = ({'objective':'binary:logistic', 'max_depth': 5, 'seed':123})\n",
    "new_etas = [.01]\n",
    "for curr_value in new_etas:\n",
    "    etas.append(curr_value)\n",
    "    params[\"learning_rate\"] = curr_value\n",
    "    cv_results = (xgb.cv(dtrain=data_dmatrix, params=params, nfold=4, early_stopping_rounds=45,\n",
    "                         num_boost_round=1200,metrics='auc', seed=123, as_pandas=True))\n",
    "    best_auc.append(cv_results[\"test-auc-mean\"].tail().values[-1])\n",
    "\n",
    "best_etas = (pd.DataFrame(list(zip(etas, best_auc)),columns=[\"eta\",\"best_auc\"]))\n",
    "best_etas"
   ]
  },
  {
   "cell_type": "markdown",
   "id": "3ab5cc61",
   "metadata": {},
   "source": [
    "Regularization"
   ]
  },
  {
   "cell_type": "code",
   "execution_count": null,
   "id": "55c229ec",
   "metadata": {},
   "outputs": [],
   "source": [
    "alphas = []\n",
    "best_alpha_auc = []"
   ]
  },
  {
   "cell_type": "code",
   "execution_count": null,
   "id": "8eedad2a",
   "metadata": {},
   "outputs": [],
   "source": [
    "params = ({'objective':'binary:logistic', 'max_depth': 4, 'seed':123, 'eta':.094, })\n",
    "new_alphas = [.001, .01, .1]\n",
    "for curr_value in new_alphas:\n",
    "    alphas.append(curr_value)\n",
    "    params[\"learning_rate\"] = curr_value\n",
    "    cv_results = (xgb.cv(dtrain=data_dmatrix, params=params, nfold=4, early_stopping_rounds=45,\n",
    "                         num_boost_round=1200,metrics='auc', seed=123, as_pandas=True))\n",
    "    best_alpha_auc.append(cv_results[\"test-auc-mean\"].tail().values[-1])\n",
    "\n",
    "best_alphas = (pd.DataFrame(list(zip(alphas, best_alpha_auc)),columns=[\"alpha\",\"best_auc\"]))"
   ]
  },
  {
   "cell_type": "markdown",
   "id": "50d89f2e",
   "metadata": {},
   "source": [
    "#### Randomized Search to narrow down. Metric: Precision."
   ]
  },
  {
   "cell_type": "code",
   "execution_count": null,
   "id": "0c9cba56",
   "metadata": {},
   "outputs": [],
   "source": [
    "from sklearn.model_selection import RandomizedSearchCV"
   ]
  },
  {
   "cell_type": "code",
   "execution_count": null,
   "id": "b418973f",
   "metadata": {},
   "outputs": [],
   "source": [
    "gbm_param_grid = {'learning_rate': np.arange(.01,.16, .01), 'max_depth': [3,4,5], 'alpha': [0, .001, .01, .1]}\n",
    "\n",
    "gbm = xgb.XGBClassifier(n_estimators=200, use_label_encoder=False)\n",
    "\n",
    "randomized_gbm = (RandomizedSearchCV(estimator=gbm, param_distributions = gbm_param_grid, n_iter=20,\n",
    "                                     scoring='precision', cv=10, verbose=1))\n",
    "randomized_gbm.fit(X_train, y_train)"
   ]
  },
  {
   "cell_type": "code",
   "execution_count": null,
   "id": "bef0d31d",
   "metadata": {},
   "outputs": [],
   "source": [
    "print(\"Best parameters found: \", randomized_auc.best_params_)\n",
    "print(\"Best precision score: \",(randomized_auc.best_score_))"
   ]
  },
  {
   "cell_type": "code",
   "execution_count": null,
   "id": "edb0e4aa",
   "metadata": {},
   "outputs": [],
   "source": [
    "y_pred = (randomized_auc.predict_proba(X_test)[:,1]>0.5)\n",
    "print(precision_score(y_test, y_pred))"
   ]
  },
  {
   "cell_type": "markdown",
   "id": "23ebbb51",
   "metadata": {},
   "source": [
    "#### Retrain model on train+train data"
   ]
  },
  {
   "cell_type": "code",
   "execution_count": null,
   "id": "502650a4",
   "metadata": {},
   "outputs": [],
   "source": [
    "X_train_test = pd.concat([X_train, X_test])\n",
    "y_train_test = pd.concat([y_train, y_test])"
   ]
  },
  {
   "cell_type": "code",
   "execution_count": null,
   "id": "1e7b4153",
   "metadata": {},
   "outputs": [],
   "source": [
    "gbm_param_grid = ({'learning_rate': [0.06299999999999996, 0.013999999999999997], 'max_depth': [4], \n",
    "                   'alpha': [.001, .01, .1]})\n",
    "\n",
    "gbm = xgb.XGBClassifier(n_estimators=200, use_label_encoder=False)\n",
    "\n",
    "final_gbm = (RandomizedSearchCV(estimator=gbm, param_distributions = gbm_param_grid, n_iter=3,\n",
    "                                     scoring='precision', cv=10, verbose=1))\n",
    "final_gbm.fit(X_train_test, y_train_test)"
   ]
  },
  {
   "cell_type": "code",
   "execution_count": null,
   "id": "46428633",
   "metadata": {},
   "outputs": [],
   "source": [
    "print(\"Best parameters found: \", randomized_auc.best_params_)\n",
    "print(\"Best precision score: \",(randomized_auc.best_score_))"
   ]
  },
  {
   "cell_type": "code",
   "execution_count": null,
   "id": "7a554f00",
   "metadata": {},
   "outputs": [],
   "source": [
    "print('Confusion Matrix')\n",
    "confusion_matrix(y_val, final_gbm.predict(X_val))"
   ]
  },
  {
   "cell_type": "code",
   "execution_count": null,
   "id": "6c78d4b3",
   "metadata": {},
   "outputs": [],
   "source": [
    "print(f'Precision: {precision_score(y_val, final_gbm.predict(X_val))}')"
   ]
  },
  {
   "cell_type": "markdown",
   "id": "128eeb6c",
   "metadata": {},
   "source": [
    "#### Old Functions"
   ]
  },
  {
   "cell_type": "code",
   "execution_count": null,
   "id": "12027f41",
   "metadata": {},
   "outputs": [],
   "source": [
    "raise ValueError"
   ]
  },
  {
   "cell_type": "code",
   "execution_count": null,
   "id": "0e0eb27c",
   "metadata": {},
   "outputs": [],
   "source": [
    "def get_performance(df, model_type, cutoff=.5, type_dict=False):\n",
    "    X_tr, X_te, y_tr, y_te = get_reader_split_data(df)\n",
    "    model = model_type\n",
    "    model.fit(X_tr, y_tr)\n",
    "    y_pred = (model.predict_proba(X_te)[:,1]>cutoff)\n",
    "    #print(model_type)\n",
    "    metrics = (OrderedDict([('Model', str(model_type)),\n",
    "                            ('Precision', precision_score(y_te, y_pred)),\n",
    "                            ('Recall', recall_score(y_te, y_pred)),\n",
    "                            ('F1', f1_score(y_te, y_pred)),\n",
    "                            #('Data', namestr(df,globals())[0]) #\n",
    "                           ]))\n",
    "    if type_dict == True:\n",
    "        return metrics\n",
    "    else:\n",
    "   #print('Confusion Matrix:')\n",
    "   #print(confusion_matrix(y_te, y_pred))\n",
    "        return pd.DataFrame(metrics)\n",
    "\n",
    "    def plot_performance_across_models(df, models, cutoff=.5):\n",
    "    metrics = []\n",
    "    for model in models:\n",
    "        metrics.append(get_performance(df, model))\n",
    "    metrics_df = pd.DataFrame(metrics)\n",
    "    metrics_melt = pd.melt(metrics_df, id_vars=['Model']) #'Data'\n",
    "    for metric in metrics:\n",
    "        sns.barplot(y='value', x='variable', hue='Model', data=metrics_melt, palette='Paired')\n",
    "        \n",
    "def plot_aocs(models, labels='default'):\n",
    "    for model in models:\n",
    "        try:\n",
    "            fpr, tpr, _ = roc_curve(y_te, model.predict_proba(X_te)[:,1])\n",
    "            plt.plot(fpr, tpr)\n",
    "        except:\n",
    "            fpr, tpr, _ = roc_curve(model.predict(X_test))\n",
    "            plt.plot(fpr, tpr)\n",
    "\n",
    "    x = np.linspace(0,1, 100000)\n",
    "    plt.plot(x, x, linestyle='--')\n",
    "\n",
    "    plt.title('ROC Curve')\n",
    "    plt.xlabel('False Positive Rate')\n",
    "    plt.ylabel('True Positive Rate')\n",
    "    if labels=='default':\n",
    "        plt.legend([str(model) for model in models])\n",
    "def get_reader_split_data(df, test_size=.2, seed=42):\n",
    "\n",
    "    rs = np.random.RandomState(seed)\n",
    "    \n",
    "    total_readers = readers['reader_id'].unique() \n",
    "    test_readers = rs.choice(total_readers,\n",
    "                             size=int(total_readers.shape[0] * test_size),\n",
    "                             replace=False)\n",
    "\n",
    "    df_tr = df[~df['reader_id'].isin(test_readers)]\n",
    "    df_te = df[df['reader_id'].isin(test_readers)] \n",
    "\n",
    "    y_tr, y_te = df_tr['rating'], df_te['rating']\n",
    "    X_tr, X_te = df_tr.iloc[:,1:-2], df_te.iloc[:,1:-2]\n",
    "\n",
    "    return X_tr, X_te, y_tr, y_te\n",
    "def get_reader_split_data2(df, test_size=.2, seed=42):\n",
    "    rs = np.random.RandomState(seed)\n",
    "    total_readers = df.index\n",
    "    test_readers = rs.choice(total_readers,\n",
    "                             size=int(total_readers.shape[0] * test_size),\n",
    "                             replace=False)\n",
    "    df_tr = df[~df.index.isin(test_readers)]\n",
    "    df_te = df[df.index.isin(test_readers)] \n",
    "\n",
    "    y_tr, y_te = df_tr.rating, df_te.rating\n",
    "    X_tr, X_te = df_tr.iloc[:,1:], df_te.iloc[:,1:]\n",
    "    return X_tr, X_te, y_tr, y_te"
   ]
  }
 ],
 "metadata": {
  "kernelspec": {
   "display_name": "Python [conda env:linreg]",
   "language": "python",
   "name": "conda-env-linreg-py"
  },
  "language_info": {
   "codemirror_mode": {
    "name": "ipython",
    "version": 3
   },
   "file_extension": ".py",
   "mimetype": "text/x-python",
   "name": "python",
   "nbconvert_exporter": "python",
   "pygments_lexer": "ipython3",
   "version": "3.9.7"
  }
 },
 "nbformat": 4,
 "nbformat_minor": 5
}
