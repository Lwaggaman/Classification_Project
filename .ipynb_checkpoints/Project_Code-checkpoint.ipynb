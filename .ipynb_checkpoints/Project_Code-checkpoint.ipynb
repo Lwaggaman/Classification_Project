{
 "cells": [
  {
   "cell_type": "markdown",
   "id": "1b95a615",
   "metadata": {},
   "source": [
    "#### Imports & Functions"
   ]
  },
  {
   "cell_type": "code",
   "execution_count": 1,
   "id": "1c8f8738",
   "metadata": {},
   "outputs": [],
   "source": [
    "import pandas as pd\n",
    "from collections import OrderedDict\n",
    "import matplotlib.pyplot as plt\n",
    "import seaborn as sns\n",
    "import numpy as np\n",
    "from sklearn.linear_model import LogisticRegression\n",
    "from sklearn.tree import DecisionTreeClassifier\n",
    "from sklearn.ensemble import RandomForestClassifier, AdaBoostClassifier\n",
    "from sklearn.metrics import f1_score, confusion_matrix, precision_score, recall_score, roc_curve\n",
    "from sklearn.neighbors import KNeighborsClassifier\n",
    "from collections import OrderedDict\n",
    "from sklearn.preprocessing import StandardScaler\n",
    "from sklearn.model_selection import train_test_split\n",
    "import xgboost as xgb\n",
    "from itertools import repeat, chain\n",
    "import shap\n",
    "from shap import TreeExplainer"
   ]
  },
  {
   "cell_type": "code",
   "execution_count": 3,
   "id": "17f68a87",
   "metadata": {},
   "outputs": [],
   "source": [
    "import warnings\n",
    "warnings.filterwarnings('ignore')"
   ]
  },
  {
   "cell_type": "code",
   "execution_count": 4,
   "id": "4b7eefd6",
   "metadata": {},
   "outputs": [],
   "source": [
    "def namestr(obj, namespace):\n",
    "    return [name for name in namespace if namespace[name] is obj]\n",
    "def plot_aocs(df):\n",
    "    for i in range(len(df)):\n",
    "        plt.plot(df.iloc[i,0], df.iloc[i,1])\n",
    "    x = np.linspace(0,1, 100000)\n",
    "    plt.plot(x, x, linestyle='--')\n",
    "\n",
    "    plt.title('ROC Curve')\n",
    "    plt.xlabel('False Positive Rate')\n",
    "    plt.ylabel('True Positive Rate')\n",
    "    plt.legend(df.index)\n",
    "\n",
    "def get_genre_aggregations(df, genres, aggs, suffix=''):    \n",
    "    agg_dfs = ([(df[df[genre]==1].groupby(['reader_id'], as_index=False)\n",
    "                                 .agg(aggs)\n",
    "                                 .set_index('reader_id')) for genre in genres])\n",
    "    genre_agg_df = pd.concat(agg_dfs, axis=1)\n",
    "    genre_agg_df.columns = [genre + suffix for genre in genres]\n",
    "    return genre_agg_df\n",
    "def test_features_basic_xgb(df, aoc = False, label = '', save_model=False):\n",
    "    X_train, X_test, y_train, y_test = (train_test_split(df.iloc[:,1:],df.rating,test_size=0.15, random_state=42))\n",
    "    X_train, X_val, y_train, y_val = train_test_split(X_train, y_train, test_size=0.18, random_state=42)\n",
    "    gbm = (xgb.XGBClassifier( \n",
    "                        n_estimators=30000,\n",
    "                        max_depth=6,\n",
    "                        objective='binary:logistic', #new objective\n",
    "                        learning_rate=.05, \n",
    "                        subsample=.8,\n",
    "                        min_child_weight=3,\n",
    "                        use_label_encoder=False\n",
    "                       ))\n",
    "    eval_set=[(X_train,y_train),(X_val,y_val)]\n",
    "    gbm_fit = (gbm.fit(X_train, y_train,\n",
    "                    eval_set=eval_set,\n",
    "                    eval_metric='logloss', #new evaluation metric: classification error (could also use AUC, e.g.)\n",
    "                    early_stopping_rounds=50,\n",
    "                    verbose=False\n",
    "                   ))\n",
    "    print(f'F1 score: {f1_score(y_test, gbm.predict(X_test))}')\n",
    "    print(f'Confusion Matrix:')\n",
    "    print(confusion_matrix(y_test, gbm.predict(X_test)))\n",
    "    if aoc==True:\n",
    "        fpr, tpr, _ = roc_curve(y_test, gbm_fit.predict(X_test))\n",
    "        roc_df.loc[label] = [fpr, tpr]\n",
    "    if save_model == True:\n",
    "        return X_test, y_test, gbm_fit\n",
    "def get_reader_split_data(df, index_id=True, test_size=.2, seed=123):\n",
    "    rs = np.random.RandomState(seed)\n",
    "    if index_id==True:\n",
    "        total_readers = df.index\n",
    "        test_readers = rs.choice(total_readers, size=int(total_readers.shape[0] * test_size), replace=False)\n",
    "        df_tr, df_te = df[~df.index.isin(test_readers)], df[df.index.isin(test_readers)]\n",
    "    else:\n",
    "        total_readers = readers['reader_id'].unique()\n",
    "        test_readers = rs.choice(total_readers, size=int(total_readers.shape[0] * test_size), replace=False)\n",
    "        df_tr = df[~df['reader_id'].isin(test_readers)], df[df['reader_id'].isin(test_readers)]\n",
    "    y_tr, y_te = df_tr['rating'], df_te['rating']\n",
    "    X_tr, X_te = df_tr.drop(columns=['rating']), df_te.drop(columns=['rating'])\n",
    "    return X_tr, X_te, y_tr, y_te\n",
    "revert_dict = lambda d: dict(chain(*[zip(val, repeat(key)) for key, val in d.items()]))\n",
    "def get_rankings(item, df):\n",
    "    item_count_dict = {}\n",
    "    # For every tag in df\n",
    "    for i in range(df.shape[1]):    \n",
    "        # Calculate % of cases that tagged the item\n",
    "        val_counts = df.iloc[:,i].value_counts(normalize = True)\n",
    "        if item in val_counts.index:\n",
    "            item_counts = val_counts[item]\n",
    "        else:\n",
    "            item_counts = 0\n",
    "        # Add score to dict\n",
    "        item_count_dict[\"tag_{}\".format(i)] = item_counts\n",
    "def grouped_shap(shap_vals, features, groups):\n",
    "    groupmap = revert_dict(groups)\n",
    "    shap_Tdf = pd.DataFrame(shap_vals, columns=pd.Index(features, name='features')).T\n",
    "    shap_Tdf['group'] = shap_Tdf.reset_index().features.map(groupmap).values\n",
    "    shap_grouped = shap_Tdf.groupby('group').sum().T\n",
    "    return shap_grouped"
   ]
  },
  {
   "cell_type": "code",
   "execution_count": 5,
   "id": "22f08e39",
   "metadata": {},
   "outputs": [],
   "source": [
    "def get_dist_perc(x):\n",
    "    star = int(x['reader_rating']-1)\n",
    "    return ( (x[stars[star]]/2) + x[stars[:star]].sum() ) / x[stars].sum()\n",
    "def get_likelihood(x):\n",
    "    star = int(x['reader_rating']-1)\n",
    "    return x[stars[star]] / x[stars].sum()\n",
    "def get_median(x):\n",
    "    median = x[stars].sum()/2\n",
    "    for star in range(1,6):\n",
    "        if median <= x[stars[:int(star)]].sum():\n",
    "            return star"
   ]
  },
  {
   "cell_type": "code",
   "execution_count": 6,
   "id": "7c3b33aa",
   "metadata": {},
   "outputs": [],
   "source": [
    "readers_books = pd.read_csv('Data/readers_books.csv')\n",
    "readers = pd.read_csv('Data/readers.csv').drop_duplicates().dropna() #some readers did not rate the book\n",
    "readers = readers[readers.reader_id.isin(readers_books.reader_id)] # Filter out readers with private profiles\n",
    "readers_books = readers_books[(readers_books.reader_id.isin(readers.reader_id))&(readers_books.book_id!=1162022)]"
   ]
  },
  {
   "cell_type": "markdown",
   "id": "32118bb2",
   "metadata": {},
   "source": [
    "#### Reader Level Features EDA"
   ]
  },
  {
   "cell_type": "code",
   "execution_count": 7,
   "id": "e97905c8",
   "metadata": {},
   "outputs": [],
   "source": [
    "#readers_books['read_at'] = pd.to_datetime(readers_books['read_at'])\n",
    "#readers_books['started_at'] = pd.to_datetime(hist['started_at'])\n",
    "#readers_books['reading_time'] = readers_books['read_at'] - readers_books['started_at']\n",
    "#readers_books.reading_time.mean()\n",
    "readers_books.drop(columns=['started_at','read_at'], inplace=True, errors='ignore')\n",
    "readers_books['rating_bias'] = readers_books['reader_rating'] - readers_books['book_avg_rating']"
   ]
  },
  {
   "cell_type": "code",
   "execution_count": 8,
   "id": "253976d1",
   "metadata": {},
   "outputs": [],
   "source": [
    "reader_features = (['reader_avg_publ_year', 'reader_avg_rating', 'reader_avg_book_length',\n",
    "                    'reader_avg_book_rating','reader_avg_rating bias', 'reader_avg_book_popularity',])\n",
    "\n",
    "df_reader_feats=(readers_books.groupby(['reader_id'],as_index=False).agg(OrderedDict([('book_year','mean'),\n",
    "                                                                                    ('reader_rating', 'mean'),\n",
    "                                                                                    ('book_avg_rating', 'mean'),\n",
    "                                                                                    ('book_nr_pages', 'mean'),\n",
    "                                                                                    ('rating_bias', 'mean'),\n",
    "                                                                                    ('book_nr_ratings', 'mean')])))\n",
    "df_reader_feats.columns = ['reader_id'] + reader_features\n",
    "\n",
    "#df_reader_feats['reader_med_reading_time'] = df_reader_feats.reader_med_reading_time.dt.days\n",
    "#df_reader_feats = df_reader_feats.drop(columns=['reader_med_reading_time'])"
   ]
  },
  {
   "cell_type": "code",
   "execution_count": 9,
   "id": "a6edc613",
   "metadata": {},
   "outputs": [],
   "source": [
    "df_X = df_reader_feats.merge(readers, how='inner', on='reader_id')\n",
    "# Convert rating to target                                         \n",
    "df_X['rating'] = df_X.rating.apply(lambda x: x>=4).astype(int)\n",
    "df_X['reader_avg_publ_year'] = df_X.reader_avg_publ_year.fillna(df_X.reader_avg_publ_year.mean())\n",
    "df_X = df_X.dropna()"
   ]
  },
  {
   "cell_type": "code",
   "execution_count": 9,
   "id": "ce37f6a7",
   "metadata": {},
   "outputs": [],
   "source": [
    "#sns.pairplot(df_X.loc[:,1:], hue='target', plot_kws=dict(alpha=.3, edgecolor='none'))"
   ]
  },
  {
   "cell_type": "markdown",
   "id": "b491a5ad",
   "metadata": {},
   "source": [
    "Look at proportion of 'older' books as a potential feature"
   ]
  },
  {
   "cell_type": "code",
   "execution_count": 10,
   "id": "05ac675e",
   "metadata": {},
   "outputs": [],
   "source": [
    "#test = readers_books.iloc[:,[1,4,7,-1]].merge(readers, how='inner', on='reader_id')\n",
    "#test = test[(test.book_year>1400)&(test.book_year<2024)]\n",
    "#test['target'] = (test.rating>=4).astype('int')\n",
    "#test['old'] = (test.book_year<2005).astype('int')\n",
    "#test = test.groupby('reader_id').agg({'old':'mean','target':'mean'})\n",
    "#sns.pairplot(test_old, hue='target')"
   ]
  },
  {
   "cell_type": "markdown",
   "id": "99b8311e",
   "metadata": {},
   "source": [
    "Look at books' popularity and if there is separation"
   ]
  },
  {
   "cell_type": "code",
   "execution_count": 11,
   "id": "89f0e9fb",
   "metadata": {},
   "outputs": [],
   "source": [
    "#test = readers_books.iloc[:,[-2,-3]]\n",
    "#test['pop_books'] = (test.book_nr_ratings>2000000).astype('int')\n",
    "#test['very_pop_books'] = (test.book_nr_ratings>4000000).astype('int')\n",
    "#test = ((test.groupby('reader_id', as_index=False).agg({'very_pop_books':'mean','pop_books':'mean'}))\n",
    "#        .merge(readers, on='reader_id', how='left'))\n",
    "#test.loc[:,'rating'] = (test.rating>=4).astype('int')\n",
    "#sns.pairplot(test.iloc[:,1:], hue='rating')"
   ]
  },
  {
   "cell_type": "markdown",
   "id": "4622478a",
   "metadata": {},
   "source": [
    "#### Baseline Models"
   ]
  },
  {
   "cell_type": "code",
   "execution_count": 10,
   "id": "af923fab",
   "metadata": {},
   "outputs": [],
   "source": [
    "models = [LogisticRegression(), DecisionTreeClassifier(), RandomForestClassifier()]\n",
    "X_tr, X_te, y_tr, y_te = get_reader_split_data(df_X)\n",
    "fit_models = []\n",
    "models_metrics = []\n",
    "for model in models:\n",
    "    init = model\n",
    "    init.fit(X_tr, y_tr)\n",
    "    fit_models.append(model)\n",
    "for fit_model in fit_models:\n",
    "    y_pred = fit_model.predict(X_te)\n",
    "    metrics = (OrderedDict([('Model', str(models[fit_models.index(fit_model)])),\n",
    "                            ('Precision', precision_score(y_te, y_pred)),\n",
    "                            ('Recall', recall_score(y_te, y_pred)),\n",
    "                            ('F1', f1_score(y_te, y_pred))]))\n",
    "    models_metrics.append(metrics)"
   ]
  },
  {
   "cell_type": "code",
   "execution_count": 11,
   "id": "f7d57eb5",
   "metadata": {},
   "outputs": [],
   "source": [
    "std = StandardScaler()\n",
    "std.fit(X_tr)\n",
    "X_tr_sc, X_te_sc = std.transform(X_tr), std.transform(X_te) \n",
    "\n",
    "knn = KNeighborsClassifier().fit(X_tr_sc, y_tr)\n",
    "fit_models.append(knn)\n",
    "y_pred = knn.predict(X_te_sc)\n",
    "models_metrics.append(OrderedDict([('Model', 'KNeighbors()'), ('Precision', precision_score(y_te, y_pred)),\n",
    "                            ('Recall', recall_score(y_te, y_pred)), ('F1', f1_score(y_te, y_pred))]))"
   ]
  },
  {
   "cell_type": "code",
   "execution_count": 12,
   "id": "906ce605",
   "metadata": {},
   "outputs": [
    {
     "data": {
      "text/plain": [
       "<AxesSubplot:xlabel='variable', ylabel='value'>"
      ]
     },
     "execution_count": 12,
     "metadata": {},
     "output_type": "execute_result"
    },
    {
     "data": {
      "image/png": "[encoded data removed]",
      "text/plain": [
       "<Figure size 432x288 with 1 Axes>"
      ]
     },
     "metadata": {
      "needs_background": "light"
     },
     "output_type": "display_data"
    }
   ],
   "source": [
    "models_metrics_df = pd.melt(pd.DataFrame(models_metrics), id_vars=['Model'])\n",
    "sns.barplot(y='value', x='variable', hue='Model', data=models_metrics_df)"
   ]
  },
  {
   "cell_type": "code",
   "execution_count": 13,
   "id": "09856f68",
   "metadata": {},
   "outputs": [],
   "source": [
    "roc_df = pd.DataFrame(columns=['fpr','tpr'])\n",
    "for fit_model in fit_models[:-1]:\n",
    "    fpr, tpr, _ = roc_curve(y_te, fit_model.predict_proba(X_te)[:,1])\n",
    "    roc_df.loc[str(fit_model)] = [fpr, tpr]\n",
    "fpr, tpr, _ = roc_curve(y_te, fit_models[-1].predict_proba(X_te_sc)[:,1])\n",
    "roc_df.loc[str(fit_models[-1])] = [fpr, tpr]"
   ]
  },
  {
   "cell_type": "code",
   "execution_count": 14,
   "id": "ac5b27fe",
   "metadata": {},
   "outputs": [
    {
     "data": {
      "image/png": "[encoded data removed]",
      "text/plain": [
       "<Figure size 432x288 with 1 Axes>"
      ]
     },
     "metadata": {
      "needs_background": "light"
     },
     "output_type": "display_data"
    }
   ],
   "source": [
    "plot_aocs(roc_df)"
   ]
  },
  {
   "cell_type": "code",
   "execution_count": 15,
   "id": "4fb13695",
   "metadata": {},
   "outputs": [],
   "source": [
    "#sns.pairplot(df_X.iloc[:,1:], hue='rating')\n",
    "#X_test, y_test, gbm = test_features_basic_xgb(df_X.iloc[:,[-1,1,2,3,4,5,6]], save_model=True)\n",
    "#exp = TreeExplainer(gbm)\n",
    "#shap_vals = exp.shap_values(X_test)\n",
    "#shap.summary_plot(shap_vals, X_test) #We can confirm that reader_avg_book_rating and reader_avg_book_popularity\n",
    "                                        # are not good features due to lack of separability"
   ]
  },
  {
   "cell_type": "code",
   "execution_count": 16,
   "id": "44a415fb",
   "metadata": {},
   "outputs": [],
   "source": [
    "df_X = df_X.drop(columns=['reader_avg_book_rating', 'reader_avg_book_popularity'])"
   ]
  },
  {
   "cell_type": "markdown",
   "id": "6879575d",
   "metadata": {},
   "source": [
    "### Genres Features Data Wrangling"
   ]
  },
  {
   "cell_type": "code",
   "execution_count": 17,
   "id": "a6f8c4d5",
   "metadata": {},
   "outputs": [],
   "source": [
    "readers = pd.read_csv('Data/readers.csv').drop_duplicates()\n",
    "readers_books = pd.read_csv('Data/readers_books.csv')\n",
    "books = pd.read_csv('Data/Books/all_books.csv')\n",
    "\n",
    "readers = pd.read_csv('Data/readers.csv').drop_duplicates().dropna() #some readers did not rate the book\n",
    "readers_books = readers_books[(readers_books.reader_id.isin(readers.reader_id))&(readers_books.book_id!=1162022)]\n",
    "readers = readers[readers.reader_id.isin(readers_books.reader_id)] # Filter out readers with private profiles\n",
    "# The target book rating in reading hist should not be used to train the model. "
   ]
  },
  {
   "cell_type": "code",
   "execution_count": 18,
   "id": "5014e77d",
   "metadata": {},
   "outputs": [
    {
     "data": {
      "text/html": [
       "<div>\n",
       "<style scoped>\n",
       "    .dataframe tbody tr th:only-of-type {\n",
       "        vertical-align: middle;\n",
       "    }\n",
       "\n",
       "    .dataframe tbody tr th {\n",
       "        vertical-align: top;\n",
       "    }\n",
       "\n",
       "    .dataframe thead th {\n",
       "        text-align: right;\n",
       "    }\n",
       "</style>\n",
       "<table border=\"1\" class=\"dataframe\">\n",
       "  <thead>\n",
       "    <tr style=\"text-align: right;\">\n",
       "      <th></th>\n",
       "      <th>book_id</th>\n",
       "      <th>rating_distribution</th>\n",
       "      <th>1 Star</th>\n",
       "      <th>2 Stars</th>\n",
       "      <th>3 Stars</th>\n",
       "      <th>4 Stars</th>\n",
       "      <th>5 Stars</th>\n",
       "      <th>book_median</th>\n",
       "    </tr>\n",
       "  </thead>\n",
       "  <tbody>\n",
       "    <tr>\n",
       "      <th>0</th>\n",
       "      <td>45023611</td>\n",
       "      <td>{'5 Stars': 8454, '4 Stars': 16217, '3 Stars':...</td>\n",
       "      <td>824</td>\n",
       "      <td>3067</td>\n",
       "      <td>12083</td>\n",
       "      <td>16217</td>\n",
       "      <td>8454</td>\n",
       "      <td>4</td>\n",
       "    </tr>\n",
       "    <tr>\n",
       "      <th>1</th>\n",
       "      <td>13662</td>\n",
       "      <td>{'5 Stars': 38599, '4 Stars': 39593, '3 Stars'...</td>\n",
       "      <td>1302</td>\n",
       "      <td>3514</td>\n",
       "      <td>18726</td>\n",
       "      <td>39593</td>\n",
       "      <td>38599</td>\n",
       "      <td>4</td>\n",
       "    </tr>\n",
       "  </tbody>\n",
       "</table>\n",
       "</div>"
      ],
      "text/plain": [
       "    book_id                                rating_distribution  1 Star  \\\n",
       "0  45023611  {'5 Stars': 8454, '4 Stars': 16217, '3 Stars':...     824   \n",
       "1     13662  {'5 Stars': 38599, '4 Stars': 39593, '3 Stars'...    1302   \n",
       "\n",
       "   2 Stars  3 Stars  4 Stars  5 Stars  book_median  \n",
       "0     3067    12083    16217     8454            4  \n",
       "1     3514    18726    39593    38599            4  "
      ]
     },
     "execution_count": 18,
     "metadata": {},
     "output_type": "execute_result"
    }
   ],
   "source": [
    "# Get books' rating distribution\n",
    "books_stars = books.iloc[:,[1,-1]]\n",
    "books_stars[\"rating_distribution\"] = books_stars[\"rating_distribution\"].apply(eval)\n",
    "stars = ['1 Star','2 Stars','3 Stars','4 Stars','5 Stars']\n",
    "for star in stars:\n",
    "    books_stars[star] = books_stars.loc[:,'rating_distribution'].apply(lambda x: x[star])\n",
    "books_stars['book_median'] = books_stars.apply(get_median, axis=1)\n",
    "books_stars.head(2)"
   ]
  },
  {
   "cell_type": "code",
   "execution_count": 19,
   "id": "aa901413",
   "metadata": {},
   "outputs": [],
   "source": [
    "readers_books_dist = (readers_books.loc[:,['reader_id','reader_rating','book_id','book_avg_rating']]\n",
    "                      .merge(books_stars.drop(columns=['rating_distribution']), on='book_id', how='inner'))\n",
    "readers_books_dist['rating_percentile'] = readers_books_dist.apply(get_dist_perc, axis=1)\n",
    "readers_books_dist['rating_likelihood'] = readers_books_dist.apply(get_likelihood, axis=1)\n",
    "readers_books_dist['bias_median'] = readers_books_dist.reader_rating - readers_books_dist.book_median\n",
    "readers_books_dist['bias_mean'] = readers_books_dist.reader_rating - readers_books_dist.book_avg_rating"
   ]
  },
  {
   "cell_type": "code",
   "execution_count": 20,
   "id": "19cb17e2",
   "metadata": {},
   "outputs": [],
   "source": [
    "def to_1D(series):\n",
    "    return pd.Series([x for _list in series for x in _list])"
   ]
  },
  {
   "cell_type": "code",
   "execution_count": 21,
   "id": "f446690d",
   "metadata": {},
   "outputs": [],
   "source": [
    "readers_books_genres = (readers_books_dist.iloc[:,[0,1,2,3,10,11,12,13]]\n",
    "                        .merge(books.iloc[:,[1,10]], on='book_id', how='inner'))\n",
    "all_genres = to_1D(readers_books_genres.genres.apply(eval)).value_counts().drop('Audiobook').index"
   ]
  },
  {
   "cell_type": "code",
   "execution_count": 25,
   "id": "c1fa564d",
   "metadata": {},
   "outputs": [],
   "source": [
    "from sklearn.preprocessing import MultiLabelBinarizer\n",
    "\n",
    "s = readers_books_genres['genres'].apply(eval)\n",
    "\n",
    "mlb = MultiLabelBinarizer()\n",
    "\n",
    "reader_genres = (pd.concat([\n",
    "    readers_books_genres,\n",
    "    pd.DataFrame(mlb.fit_transform(s),columns=mlb.classes_, index=readers_books_genres.index)\n",
    "    ], axis=1))"
   ]
  },
  {
   "cell_type": "markdown",
   "id": "204d94ce",
   "metadata": {},
   "source": [
    "Baseline with few common genres (dropping NaNs)"
   ]
  },
  {
   "cell_type": "code",
   "execution_count": 26,
   "id": "b081d0e6",
   "metadata": {},
   "outputs": [],
   "source": [
    "baseline_df = (pd.concat([readers.set_index('reader_id'), get_genre_aggregations(reader_genres,\n",
    "                                                                                 ['Romance','Young Adult','Fiction'],\n",
    "                                                                                 {'bias_mean':'mean'})],\n",
    "                         axis=1))\n",
    "baseline_df['rating'] = (baseline_df.rating>=4).astype('int')\n",
    "#sns.pairplot(bias_test, hue='rating')"
   ]
  },
  {
   "cell_type": "code",
   "execution_count": 27,
   "id": "cca212f9",
   "metadata": {},
   "outputs": [],
   "source": [
    "X_tr, X_te, y_tr, y_te = get_reader_split_data(baseline_df.dropna())\n",
    "\n",
    "rf = RandomForestClassifier().fit(X_tr, y_tr)\n",
    "lr = LogisticRegression(C=100).fit(X_tr, y_tr)\n",
    "ada = AdaBoostClassifier().fit(X_tr, y_tr)\n",
    "\n",
    "std = StandardScaler().fit(X_tr)\n",
    "X_tr_sc, X_te_sc = std.transform(X_tr), std.transform(X_te) \n",
    "knn = KNeighborsClassifier().fit(X_tr_sc, y_tr)"
   ]
  },
  {
   "cell_type": "code",
   "execution_count": 28,
   "id": "849bf5f7",
   "metadata": {},
   "outputs": [],
   "source": [
    "for fit_model in [rf, lr, ada]:\n",
    "    fpr, tpr, _ = roc_curve(y_te, fit_model.predict_proba(X_te)[:,1])\n",
    "    roc_df.loc[str(fit_model)+' 3 genres'] = [fpr, tpr]\n",
    "fpr, tpr, _ = roc_curve(y_te, knn.predict_proba(X_te_sc)[:,1])\n",
    "roc_df.loc['knn 3 genres'] = [fpr, tpr]"
   ]
  },
  {
   "cell_type": "code",
   "execution_count": 29,
   "id": "1690fe58",
   "metadata": {},
   "outputs": [
    {
     "data": {
      "image/png": "[encoded data removed]",
      "text/plain": [
       "<Figure size 432x288 with 1 Axes>"
      ]
     },
     "metadata": {
      "needs_background": "light"
     },
     "output_type": "display_data"
    }
   ],
   "source": [
    "plot_aocs(roc_df.iloc[-4:])"
   ]
  },
  {
   "cell_type": "markdown",
   "id": "868991c7",
   "metadata": {},
   "source": [
    "#### Try all genres (with meaningful NaNs) on XGBoost"
   ]
  },
  {
   "cell_type": "markdown",
   "id": "bc17d46f",
   "metadata": {},
   "source": [
    "###### Divergence of user rating from book avg rating, aggregated by genre"
   ]
  },
  {
   "cell_type": "code",
   "execution_count": 30,
   "id": "9cc107ee",
   "metadata": {},
   "outputs": [],
   "source": [
    "div_from_mean = pd.concat([readers.set_index('reader_id'),\n",
    "                             get_genre_aggregations(reader_genres, all_genres, {'bias_mean':'mean'},\n",
    "                                                   ' mean')], axis=1, join='inner')\n",
    "div_from_mean['rating'] = (div_from_mean.rating>=4.0).astype('int')"
   ]
  },
  {
   "cell_type": "markdown",
   "id": "ac038b3c",
   "metadata": {},
   "source": [
    "100 most common genres"
   ]
  },
  {
   "cell_type": "code",
   "execution_count": 31,
   "id": "27526762",
   "metadata": {},
   "outputs": [
    {
     "name": "stdout",
     "output_type": "stream",
     "text": [
      "F1 score: 0.5677083333333334\n",
      "Confusion Matrix:\n",
      "[[182  69]\n",
      " [ 97 109]]\n"
     ]
    }
   ],
   "source": [
    "test_features_basic_xgb(div_from_mean.iloc[:,:101], label='xgb mean top 100 gen', aoc=True)\n",
    "#plot_aocs(roc_df.iloc[:-5])"
   ]
  },
  {
   "cell_type": "markdown",
   "id": "c03e9c5a",
   "metadata": {},
   "source": [
    "All genres"
   ]
  },
  {
   "cell_type": "code",
   "execution_count": 32,
   "id": "4ba738d1",
   "metadata": {},
   "outputs": [
    {
     "name": "stdout",
     "output_type": "stream",
     "text": [
      "F1 score: 0.5638297872340426\n",
      "Confusion Matrix:\n",
      "[[187  64]\n",
      " [100 106]]\n"
     ]
    }
   ],
   "source": [
    "test_features_basic_xgb(div_from_mean, label='xgb mean all gen', aoc=True)\n",
    "#plot_aocs(roc_df.iloc[6:])           # Even with the dimensionality there is an improvement"
   ]
  },
  {
   "cell_type": "markdown",
   "id": "542674eb",
   "metadata": {},
   "source": [
    "Divergence of user rating from book avg rating, aggregated by genre"
   ]
  },
  {
   "cell_type": "code",
   "execution_count": 33,
   "id": "20afbf27",
   "metadata": {},
   "outputs": [],
   "source": [
    "div_from_median = pd.concat([readers.set_index('reader_id'),\n",
    "                             get_genre_aggregations(reader_genres, all_genres, {'bias_median':'mean'},\n",
    "                                                   ' median')], axis=1, join='inner')\n",
    "div_from_median['rating'] = (div_from_median.rating>=4.0).astype('int')"
   ]
  },
  {
   "cell_type": "code",
   "execution_count": 34,
   "id": "e76feb0c",
   "metadata": {},
   "outputs": [
    {
     "name": "stdout",
     "output_type": "stream",
     "text": [
      "F1 score: 0.546875\n",
      "Confusion Matrix:\n",
      "[[178  73]\n",
      " [101 105]]\n"
     ]
    },
    {
     "data": {
      "image/png": "[encoded data removed]",
      "text/plain": [
       "<Figure size 432x288 with 1 Axes>"
      ]
     },
     "metadata": {
      "needs_background": "light"
     },
     "output_type": "display_data"
    }
   ],
   "source": [
    "test_features_basic_xgb(div_from_median.iloc[:,:101], label='xgb median top 100 gen', aoc=True)\n",
    "plot_aocs(roc_df.iloc[-5:])"
   ]
  },
  {
   "cell_type": "code",
   "execution_count": 35,
   "id": "dce8bc8a",
   "metadata": {},
   "outputs": [
    {
     "name": "stdout",
     "output_type": "stream",
     "text": [
      "F1 score: 0.5606469002695419\n",
      "Confusion Matrix:\n",
      "[[190  61]\n",
      " [102 104]]\n"
     ]
    }
   ],
   "source": [
    "test_features_basic_xgb(div_from_median, label='xgb median all gen', aoc=True)\n",
    "#plot_aocs(roc_df.iloc[-5:])"
   ]
  },
  {
   "cell_type": "code",
   "execution_count": null,
   "id": "40a58349",
   "metadata": {},
   "outputs": [],
   "source": [
    "#div from median for some genres underperforms\n",
    "# but div from median from all genres performs better than div from mean"
   ]
  },
  {
   "cell_type": "markdown",
   "id": "3a9228ad",
   "metadata": {},
   "source": [
    "Percentile within books'distributions, aggregated by genre"
   ]
  },
  {
   "cell_type": "code",
   "execution_count": 36,
   "id": "936b209c",
   "metadata": {},
   "outputs": [],
   "source": [
    "percentile = pd.concat([readers.set_index('reader_id'),\n",
    "                             get_genre_aggregations(reader_genres, all_genres,{'rating_percentile':'mean'},\n",
    "                                                   ' percentile')], axis=1, join='inner')\n",
    "percentile['rating'] = (percentile.rating>=4.0).astype('int')"
   ]
  },
  {
   "cell_type": "code",
   "execution_count": 37,
   "id": "f7376fa4",
   "metadata": {},
   "outputs": [
    {
     "name": "stdout",
     "output_type": "stream",
     "text": [
      "F1 score: 0.6\n",
      "Confusion Matrix:\n",
      "[[184  67]\n",
      " [ 89 117]]\n"
     ]
    }
   ],
   "source": [
    "test_features_basic_xgb(percentile.iloc[:,:101], label='xgb perc top 100 gen', aoc=True)\n",
    "#plot_aocs(roc_df.iloc[-5:])"
   ]
  },
  {
   "cell_type": "code",
   "execution_count": 38,
   "id": "7b4f263c",
   "metadata": {},
   "outputs": [
    {
     "name": "stdout",
     "output_type": "stream",
     "text": [
      "F1 score: 0.6266318537859008\n",
      "Confusion Matrix:\n",
      "[[194  57]\n",
      " [ 86 120]]\n"
     ]
    },
    {
     "data": {
      "image/png": "[encoded data removed]",
      "text/plain": [
       "<Figure size 432x288 with 1 Axes>"
      ]
     },
     "metadata": {
      "needs_background": "light"
     },
     "output_type": "display_data"
    }
   ],
   "source": [
    "test_features_basic_xgb(percentile, label='xgb perc all gen', aoc=True)\n",
    "plot_aocs(roc_df.iloc[-5:])"
   ]
  },
  {
   "cell_type": "markdown",
   "id": "1b2ae59a",
   "metadata": {},
   "source": [
    "Nr books read per genre"
   ]
  },
  {
   "cell_type": "code",
   "execution_count": 39,
   "id": "0699da19",
   "metadata": {},
   "outputs": [],
   "source": [
    "count_genre = pd.concat([readers.set_index('reader_id'),\n",
    "                             get_genre_aggregations(reader_genres, all_genres,{'rating_percentile':'count'},\n",
    "                                                   ' freq')], axis=1, join='inner')\n",
    "count_genre['rating'] = (count_genre.rating>=4.0).astype('int')"
   ]
  },
  {
   "cell_type": "code",
   "execution_count": 40,
   "id": "90b429d1",
   "metadata": {},
   "outputs": [
    {
     "name": "stdout",
     "output_type": "stream",
     "text": [
      "F1 score: 0.5464190981432361\n",
      "Confusion Matrix:\n",
      "[[183  68]\n",
      " [103 103]]\n"
     ]
    }
   ],
   "source": [
    "test_features_basic_xgb(count_genre.iloc[:,:101], label='xgb count top 100 gen', aoc=True)\n",
    "#plot_aocs(roc_df.iloc[-5:])"
   ]
  },
  {
   "cell_type": "raw",
   "id": "127ee86b",
   "metadata": {},
   "source": [
    "test_features_basic_xgb(count_genre, label='xgb count all gen', aoc=True)\n",
    "plot_aocs(roc_df.iloc[-5:])"
   ]
  },
  {
   "cell_type": "code",
   "execution_count": null,
   "id": "340df738",
   "metadata": {},
   "outputs": [],
   "source": [
    "# Underperforms compared to div from median and percentile"
   ]
  },
  {
   "cell_type": "markdown",
   "id": "66167bef",
   "metadata": {},
   "source": [
    "#### Compare feature groups"
   ]
  },
  {
   "cell_type": "code",
   "execution_count": 41,
   "id": "b7d5e7f4",
   "metadata": {},
   "outputs": [],
   "source": [
    "groups = {'Difference from Mean Rating': [genre + ' mean' for genre in all_genres],\n",
    "          'Difference from Median Rating':[genre + ' median' for genre in all_genres],\n",
    "          'Percentile within Rating Distribution': [genre +' percentile' for genre in all_genres],\n",
    "          'Nr Books Read': [genre + ' freq' for genre in all_genres]}"
   ]
  },
  {
   "cell_type": "markdown",
   "id": "1395a784",
   "metadata": {},
   "source": [
    "top 80 genres"
   ]
  },
  {
   "cell_type": "code",
   "execution_count": 42,
   "id": "7842974c",
   "metadata": {},
   "outputs": [
    {
     "name": "stdout",
     "output_type": "stream",
     "text": [
      "F1 score: 0.6091370558375634\n",
      "Confusion Matrix:\n",
      "[[183  68]\n",
      " [ 86 120]]\n"
     ]
    }
   ],
   "source": [
    "grouped_genres_80 = (pd.concat([div_from_median.iloc[:,:81], div_from_mean.iloc[:,1:81],\n",
    "                             percentile.iloc[:,1:81], count_genre.iloc[:,1:81]], axis=1))\n",
    "X_test, y_test, gbm_group = test_features_basic_xgb(grouped_genres_80, save_model=True)"
   ]
  },
  {
   "cell_type": "code",
   "execution_count": 43,
   "id": "57f8ce31",
   "metadata": {},
   "outputs": [
    {
     "data": {
      "image/png": "[encoded data removed]",
      "text/plain": [
       "<Figure size 576x223.2 with 1 Axes>"
      ]
     },
     "metadata": {
      "needs_background": "light"
     },
     "output_type": "display_data"
    }
   ],
   "source": [
    "exp = TreeExplainer(gbm_group)\n",
    "shap_vals = exp.shap_values(X_test)\n",
    "shap_group = grouped_shap(shap_vals, grouped_genres_80.columns[1:], groups)\n",
    "shap.summary_plot(shap_group.values, features=shap_group.columns)"
   ]
  },
  {
   "cell_type": "markdown",
   "id": "09b2f29f",
   "metadata": {},
   "source": [
    "top 50 genres"
   ]
  },
  {
   "cell_type": "code",
   "execution_count": 44,
   "id": "e078b52c",
   "metadata": {},
   "outputs": [
    {
     "name": "stdout",
     "output_type": "stream",
     "text": [
      "F1 score: 0.6253229974160206\n",
      "Confusion Matrix:\n",
      "[[191  60]\n",
      " [ 85 121]]\n"
     ]
    }
   ],
   "source": [
    "grouped_genres_50 = (pd.concat([div_from_median.iloc[:,:51], div_from_mean.iloc[:,1:51],\n",
    "                             percentile.iloc[:,1:51], count_genre.iloc[:,1:51]], axis=1))\n",
    "X_test, y_test, gbm_group = test_features_basic_xgb(grouped_genres_50, save_model=True)"
   ]
  },
  {
   "cell_type": "code",
   "execution_count": 45,
   "id": "3265bc2b",
   "metadata": {},
   "outputs": [
    {
     "data": {
      "image/png": "[encoded data removed]",
      "text/plain": [
       "<Figure size 576x223.2 with 1 Axes>"
      ]
     },
     "metadata": {
      "needs_background": "light"
     },
     "output_type": "display_data"
    }
   ],
   "source": [
    "exp = TreeExplainer(gbm_group)\n",
    "shap_vals = exp.shap_values(X_test)\n",
    "shap_group = grouped_shap(shap_vals, grouped_genres_50.columns[1:], groups)\n",
    "shap.summary_plot(shap_group.values, features=shap_group.columns)"
   ]
  },
  {
   "cell_type": "markdown",
   "id": "be3588f2",
   "metadata": {},
   "source": [
    "all genres"
   ]
  },
  {
   "cell_type": "code",
   "execution_count": 46,
   "id": "6269d5ac",
   "metadata": {},
   "outputs": [
    {
     "name": "stdout",
     "output_type": "stream",
     "text": [
      "F1 score: 0.601010101010101\n",
      "Confusion Matrix:\n",
      "[[180  71]\n",
      " [ 87 119]]\n"
     ]
    }
   ],
   "source": [
    "grouped_genres_all = (pd.concat([div_from_median, div_from_mean.iloc[:,1:],\n",
    "                             percentile.iloc[:,1:], count_genre.iloc[:,1:]], axis=1))\n",
    "X_test, y_test, gbm_group = test_features_basic_xgb(grouped_genres_all, save_model=True)"
   ]
  },
  {
   "cell_type": "code",
   "execution_count": 47,
   "id": "2f66ddb4",
   "metadata": {},
   "outputs": [
    {
     "data": {
      "image/png": "[encoded data removed]",
      "text/plain": [
       "<Figure size 576x223.2 with 1 Axes>"
      ]
     },
     "metadata": {
      "needs_background": "light"
     },
     "output_type": "display_data"
    }
   ],
   "source": [
    "exp = TreeExplainer(gbm_group)\n",
    "shap_vals = exp.shap_values(X_test)\n",
    "shap_group = grouped_shap(shap_vals, grouped_genres_all.columns[1:], groups)\n",
    "shap.summary_plot(shap_group.values, features=shap_group.columns)"
   ]
  },
  {
   "cell_type": "markdown",
   "id": "37d20d84",
   "metadata": {},
   "source": [
    "Percentile is clearly the best performer, even when we add the extra complexity of the other measurements.\n",
    "I would use that metric, along with the divergenge of the reader's rating from the avg rating OR the nr of books read.\n",
    "I would also filter the genres, over 200 is too much. But which process to use for filtering? Most popular genres? I dont think this is actually where we get the best separation, and they are very correlated to each other"
   ]
  },
  {
   "cell_type": "markdown",
   "id": "27c741b7",
   "metadata": {},
   "source": [
    "#### Genre selection"
   ]
  },
  {
   "cell_type": "markdown",
   "id": "287696de",
   "metadata": {},
   "source": [
    "Find genres that are highly correlated in terms of how often they appear together."
   ]
  },
  {
   "cell_type": "code",
   "execution_count": 48,
   "id": "ef632423",
   "metadata": {},
   "outputs": [],
   "source": [
    "def boolean_df(item_lists, unique_items):\n",
    "    bool_dict = {}\n",
    "    for i, item in enumerate(unique_items):\n",
    "        bool_dict[item] = item_lists.apply(lambda x: item in x)\n",
    "    return pd.DataFrame(bool_dict)"
   ]
  },
  {
   "cell_type": "code",
   "execution_count": 49,
   "id": "71e9b1fa",
   "metadata": {},
   "outputs": [],
   "source": [
    "genres_matrix = boolean_df(books.genres, all_genres).astype('int')\n",
    "genres_corr = genres_matrix.corr(method = \"pearson\")\n"
   ]
  },
  {
   "cell_type": "code",
   "execution_count": 57,
   "id": "37800056",
   "metadata": {},
   "outputs": [
    {
     "data": {
      "image/png": "[encoded data removed]",
      "text/plain": [
       "<Figure size 648x360 with 2 Axes>"
      ]
     },
     "metadata": {
      "needs_background": "light"
     },
     "output_type": "display_data"
    }
   ],
   "source": [
    "fig, ax = plt.subplots(figsize = (9,5))\n",
    "sns.heatmap(genres_corr.iloc[:50,:50], cmap = \"Blues\")\n",
    "plt.xticks(rotation=50)\n",
    "ticks = ax.set_xticklabels(ax.get_xticklabels(), rotation=90)"
   ]
  },
  {
   "cell_type": "code",
   "execution_count": 50,
   "id": "8fd95b86",
   "metadata": {},
   "outputs": [],
   "source": [
    "genres_corr.loc[:,:] =  np.tril(genres_corr.values, k=-1)\n",
    "corr_stack = genres_corr.stack()\n",
    "redundant_genres = list(set([genre[1] for genre in corr_stack[abs(corr_stack)>=.8].index]))\n",
    "redundant_genres.append('Novels') ## I would drop novels as a genre, too general.\n",
    "most_genres = [genre for genre in all_genres if genre not in redundant_genres]"
   ]
  },
  {
   "cell_type": "markdown",
   "id": "4480a5d3",
   "metadata": {},
   "source": [
    "Test performance with now fewer features"
   ]
  },
  {
   "cell_type": "code",
   "execution_count": 55,
   "id": "7c871ef3",
   "metadata": {},
   "outputs": [
    {
     "name": "stdout",
     "output_type": "stream",
     "text": [
      "F1 score: 0.6266318537859008\n",
      "Confusion Matrix:\n",
      "[[194  57]\n",
      " [ 86 120]]\n"
     ]
    },
    {
     "data": {
      "image/png": "[encoded data removed]",
      "text/plain": [
       "<Figure size 576x684 with 2 Axes>"
      ]
     },
     "metadata": {
      "needs_background": "light"
     },
     "output_type": "display_data"
    }
   ],
   "source": [
    "percentile_most = pd.concat([readers.set_index('reader_id'),\n",
    "                             get_genre_aggregations(reader_genres, all_genres,{'rating_percentile':'mean'},\n",
    "                                                   ' percentile')], axis=1, join='inner')\n",
    "percentile_most['rating'] = (percentile_most.rating>=4.0).astype('int')\n",
    "#test_features_basic_xgb(percentile_most, aoc=True, label='perc most')\n",
    "\n",
    "X_test, y_test, gbm_perc = test_features_basic_xgb(percentile_most, save_model=True)\n",
    "exp = TreeExplainer(gbm_perc)\n",
    "shap_vals = exp.shap_values(X_test)\n",
    "shap.summary_plot(shap_vals, X_test)\n",
    "# Same recall score"
   ]
  },
  {
   "cell_type": "code",
   "execution_count": 59,
   "id": "bbc4b442",
   "metadata": {},
   "outputs": [
    {
     "name": "stdout",
     "output_type": "stream",
     "text": [
      "F1 score: 0.5464190981432361\n",
      "Confusion Matrix:\n",
      "[[183  68]\n",
      " [103 103]]\n"
     ]
    }
   ],
   "source": [
    "mean_most = pd.concat([readers.set_index('reader_id'),\n",
    "                             get_genre_aggregations(reader_genres, most_genres,{'bias_mean':'mean'},\n",
    "                                                   ' mean')], axis=1, join='inner')\n",
    "mean_most['rating'] = (mean_most.rating>=4.0).astype('int')\n",
    "\n",
    "test_features_basic_xgb(mean_most)"
   ]
  },
  {
   "cell_type": "code",
   "execution_count": 60,
   "id": "1222008e",
   "metadata": {},
   "outputs": [
    {
     "name": "stdout",
     "output_type": "stream",
     "text": [
      "F1 score: 0.5782493368700266\n",
      "Confusion Matrix:\n",
      "[[189  62]\n",
      " [ 97 109]]\n"
     ]
    }
   ],
   "source": [
    "median_most = pd.concat([readers.set_index('reader_id'),\n",
    "                             get_genre_aggregations(reader_genres, most_genres,{'bias_median':'mean'},\n",
    "                                                   ' median')], axis=1, join='inner')\n",
    "median_most['rating'] = (median_most.rating>=4.0).astype('int')\n",
    "\n",
    "test_features_basic_xgb(median_most)"
   ]
  },
  {
   "cell_type": "code",
   "execution_count": 61,
   "id": "65ba8ff1",
   "metadata": {},
   "outputs": [
    {
     "name": "stdout",
     "output_type": "stream",
     "text": [
      "F1 score: 0.6169665809768636\n",
      "Confusion Matrix:\n",
      "[[188  63]\n",
      " [ 86 120]]\n"
     ]
    }
   ],
   "source": [
    "test_features_basic_xgb(pd.concat([percentile_most, mean_most.iloc[:,1:]], axis=1)) #No improvement on percentile"
   ]
  },
  {
   "cell_type": "code",
   "execution_count": 62,
   "id": "8dca1808",
   "metadata": {},
   "outputs": [
    {
     "name": "stdout",
     "output_type": "stream",
     "text": [
      "F1 score: 0.6122448979591836\n",
      "Confusion Matrix:\n",
      "[[185  66]\n",
      " [ 86 120]]\n"
     ]
    }
   ],
   "source": [
    "(test_features_basic_xgb(pd.concat([percentile_most, median_most.iloc[:,1:]], axis=1),\n",
    "                         label='most perc median', aoc=True)) #Tiny improvement on percentile"
   ]
  },
  {
   "cell_type": "code",
   "execution_count": 63,
   "id": "8872ea6b",
   "metadata": {},
   "outputs": [
    {
     "name": "stdout",
     "output_type": "stream",
     "text": [
      "F1 score: 0.6441558441558441\n",
      "Confusion Matrix:\n",
      "[[196  62]\n",
      " [ 75 124]]\n"
     ]
    }
   ],
   "source": [
    "most_features = (pd.concat([percentile_most, median_most.iloc[:,1:], df_X.set_index('reader_id').iloc[:,:-1]],\n",
    "                          axis=1, join='inner'))\n",
    "test_features_basic_xgb(most_features, label='most perc, median, basics', aoc=True)"
   ]
  },
  {
   "cell_type": "code",
   "execution_count": 64,
   "id": "18504042",
   "metadata": {},
   "outputs": [
    {
     "name": "stdout",
     "output_type": "stream",
     "text": [
      "F1 score: 0.6272493573264781\n",
      "Confusion Matrix:\n",
      "[[190  68]\n",
      " [ 77 122]]\n"
     ]
    }
   ],
   "source": [
    "all_features = (pd.concat([percentile, div_from_median.iloc[:,1:], df_X.set_index('reader_id').iloc[:,:-1]],\n",
    "                          axis=1, join='inner'))\n",
    "test_features_basic_xgb(all_features, label='all perc, median, basics', aoc=True) #Best performer"
   ]
  },
  {
   "cell_type": "code",
   "execution_count": 65,
   "id": "1d33b42b",
   "metadata": {},
   "outputs": [
    {
     "data": {
      "image/png": "[encoded data removed]",
      "text/plain": [
       "<Figure size 432x288 with 1 Axes>"
      ]
     },
     "metadata": {
      "needs_background": "light"
     },
     "output_type": "display_data"
    }
   ],
   "source": [
    "plot_aocs(roc_df.iloc[-5:])"
   ]
  },
  {
   "cell_type": "code",
   "execution_count": 89,
   "id": "4969ae07",
   "metadata": {},
   "outputs": [],
   "source": [
    "percentile_50 = percentile_most.drop(columns=[f'{genre} percentile' for genre in most_genres[50:]])"
   ]
  },
  {
   "cell_type": "code",
   "execution_count": 130,
   "id": "17fca1e0",
   "metadata": {},
   "outputs": [
    {
     "name": "stdout",
     "output_type": "stream",
     "text": [
      "F1 score: 0.6275510204081632\n",
      "Confusion Matrix:\n",
      "[[188  70]\n",
      " [ 76 123]]\n"
     ]
    }
   ],
   "source": [
    "all_feat_50 = (pd.concat([percentile_most['rating'],\n",
    "                          percentile_most[[f'{genre} percentile' for genre in most_genres[:50]]],\n",
    "                          df_X.set_index('reader_id').iloc[:,:-1]],\n",
    "                          axis=1, join='inner'))\n",
    "test_features_basic_xgb(all_feat_50, label='top 50 genres', aoc=True)"
   ]
  },
  {
   "cell_type": "code",
   "execution_count": 131,
   "id": "1c959f15",
   "metadata": {},
   "outputs": [
    {
     "name": "stdout",
     "output_type": "stream",
     "text": [
      "F1 score: 0.6285714285714286\n",
      "Confusion Matrix:\n",
      "[[193  65]\n",
      " [ 78 121]]\n"
     ]
    }
   ],
   "source": [
    "all_feat_80 = (pd.concat([percentile_most['rating'],\n",
    "                          percentile_most[[f'{genre} percentile' for genre in most_genres[:80]]],\n",
    "                          df_X.set_index('reader_id').iloc[:,:-1]],\n",
    "                          axis=1, join='inner'))\n",
    "test_features_basic_xgb(all_feat_80, label='top 80 genres', aoc=True)"
   ]
  },
  {
   "cell_type": "code",
   "execution_count": 141,
   "id": "8aa4c550",
   "metadata": {},
   "outputs": [
    {
     "name": "stdout",
     "output_type": "stream",
     "text": [
      "F1 score: 0.6385224274406333\n",
      "Confusion Matrix:\n",
      "[[199  59]\n",
      " [ 78 121]]\n"
     ]
    }
   ],
   "source": [
    "all_feat_100 = (pd.concat([percentile_most['rating'],\n",
    "                          percentile_most[[f'{genre} percentile' for genre in most_genres[:100]]],\n",
    "                          df_X.set_index('reader_id').iloc[:,:-1]],\n",
    "                          axis=1, join='inner'))\n",
    "X_t100, y_t100, model100 = test_features_basic_xgb(all_feat_100, label='top 100 genres', aoc=True, save_model=True)"
   ]
  },
  {
   "cell_type": "code",
   "execution_count": 142,
   "id": "1c1ab4a7",
   "metadata": {},
   "outputs": [
    {
     "name": "stdout",
     "output_type": "stream",
     "text": [
      "F1 score: 0.6599496221662469\n",
      "Confusion Matrix:\n",
      "[[191  67]\n",
      " [ 68 131]]\n"
     ]
    }
   ],
   "source": [
    "all_feat_150 = (pd.concat([percentile_most['rating'],\n",
    "                          percentile_most[[f'{genre} percentile' for genre in most_genres[:150]]],\n",
    "                          df_X.set_index('reader_id').iloc[:,:-1]],\n",
    "                          axis=1, join='inner'))\n",
    "X_t150, y_t150, model150 = test_features_basic_xgb(all_feat_150, label='top 150 genres', aoc=True, save_model=True)"
   ]
  },
  {
   "cell_type": "code",
   "execution_count": 134,
   "id": "a248972c",
   "metadata": {},
   "outputs": [
    {
     "name": "stdout",
     "output_type": "stream",
     "text": [
      "F1 score: 0.6354166666666666\n",
      "Confusion Matrix:\n",
      "[[195  63]\n",
      " [ 77 122]]\n"
     ]
    }
   ],
   "source": [
    "all_feat_200 = (pd.concat([percentile_most['rating'],\n",
    "                          percentile_most[[f'{genre} percentile' for genre in most_genres[:200]]],\n",
    "                          df_X.set_index('reader_id').iloc[:,:-1]],\n",
    "                          axis=1, join='inner'))\n",
    "test_features_basic_xgb(all_feat_200, label='top 200 genres', aoc=True)"
   ]
  },
  {
   "cell_type": "code",
   "execution_count": 135,
   "id": "af7a6b1e",
   "metadata": {},
   "outputs": [
    {
     "data": {
      "image/png": "[encoded data removed]",
      "text/plain": [
       "<Figure size 432x288 with 1 Axes>"
      ]
     },
     "metadata": {
      "needs_background": "light"
     },
     "output_type": "display_data"
    }
   ],
   "source": [
    "plot_aocs(roc_df.iloc[-5:])"
   ]
  },
  {
   "cell_type": "code",
   "execution_count": 390,
   "id": "9e6a6d71",
   "metadata": {},
   "outputs": [
    {
     "data": {
      "text/plain": [
       "Text(0.5, 1.0, 'With 150 Genre Features')"
      ]
     },
     "execution_count": 390,
     "metadata": {},
     "output_type": "execute_result"
    },
    {
     "data": {
      "image/png": "[encoded data removed]",
      "text/plain": [
       "<Figure size 1080x360 with 3 Axes>"
      ]
     },
     "metadata": {
      "needs_background": "light"
     },
     "output_type": "display_data"
    }
   ],
   "source": [
    "confusion_100 = confusion_matrix(y_t100, model100.predict(X_t100))\n",
    "confusion_150 = confusion_matrix(y_t150, model150.predict(X_t150))\n",
    "\n",
    "fig, axes = plt.subplots(1, 2, figsize=(15, 5), sharey=True, gridspec_kw={'width_ratios':[1,1]})\n",
    "fig.suptitle('Confusion Matrices')\n",
    "\n",
    "axes[0].get_shared_y_axes().join(axes[1])\n",
    "\n",
    "sns.heatmap(confusion_100, cmap=plt.cm.Blues, annot=True, square=True, fmt='d',\n",
    "           xticklabels=['Negative', 'Positive'],\n",
    "           yticklabels=['Negative', 'Positive'],\n",
    "           ax=axes[0], cbar=False, vmin=59, vmax=199)\n",
    "axes[0].set_xlabel('Predicted Rating')\n",
    "axes[0].set_ylabel('Actual Rating')\n",
    "axes[0].set_title('With 100 Genre Features')\n",
    "\n",
    "sns.heatmap(confusion_150, cmap=plt.cm.Blues, annot=True, square=True, fmt='d',\n",
    "           xticklabels=['Negative', 'Positive'],\n",
    "           yticklabels=['Negative', 'Positive'],\n",
    "           ax=axes[1], cbar_kws = dict(use_gridspec=False,location=\"left\"), vmin=59, vmax=199)\n",
    "axes[1].set_xlabel('Predicted Rating')\n",
    "axes[1].set_ylabel('Actual Rating')\n",
    "axes[1].set_title('With 150 Genre Features')\n"
   ]
  },
  {
   "cell_type": "code",
   "execution_count": null,
   "id": "27a9428a",
   "metadata": {},
   "outputs": [],
   "source": [
    "#most_features.to_csv('all_features_for_hp_tuning.csv')"
   ]
  },
  {
   "cell_type": "code",
   "execution_count": null,
   "id": "794f8d8c",
   "metadata": {},
   "outputs": [],
   "source": [
    "raise ValueError"
   ]
  },
  {
   "cell_type": "markdown",
   "id": "666b26ff",
   "metadata": {},
   "source": [
    "### Hyperparameter Tuning"
   ]
  },
  {
   "cell_type": "code",
   "execution_count": 231,
   "id": "2c77b63d",
   "metadata": {},
   "outputs": [],
   "source": [
    "from sklearn.model_selection import RandomizedSearchCV"
   ]
  },
  {
   "cell_type": "code",
   "execution_count": 201,
   "id": "a697c2a9",
   "metadata": {},
   "outputs": [],
   "source": [
    "X, y = all_feat_100.iloc[:,1:], all_feat_100.rating\n",
    "X_train, X_test, y_train, y_test = train_test_split(X, y, test_size = 0.15, random_state = 42) #same split as formula\n",
    "X_train, X_val, y_train, y_val = train_test_split(X_train, y_train, test_size=0.18, random_state=42)\n",
    "\n",
    "eval_set=[(X_test,y_test)]\n",
    "\n",
    "train_dmatrix = xgb.DMatrix(data=X_train, label=y_train)\n",
    "test_dmatrix = xgb.DMatrix(data=X_test, label=y_test)\n",
    "val_dmatrix = xgb.DMatrix(data=X_val, label=y_val)"
   ]
  },
  {
   "cell_type": "markdown",
   "id": "725f94c6",
   "metadata": {},
   "source": [
    "#### 5-fold CV, iterating to find best parameters"
   ]
  },
  {
   "cell_type": "markdown",
   "id": "ea96f949",
   "metadata": {},
   "source": [
    "Tree depth"
   ]
  },
  {
   "cell_type": "code",
   "execution_count": 258,
   "id": "8b5c2275",
   "metadata": {},
   "outputs": [],
   "source": [
    "params = {\"objective\":\"binary:logistic\", 'seed': 123}\n",
    "\n",
    "max_depths = [3, 4, 5, 6, 7]\n",
    "best_auc, best_logloss, best_error, rounds = [], [], [], []\n",
    "\n",
    "for curr_val in max_depths:\n",
    "    params[\"max_depth\"] = curr_val\n",
    "    cv_results = (xgb.cv(dtrain=train_dmatrix, params=params, nfold=10, early_stopping_rounds=50,\n",
    "                         num_boost_round=1200,metrics=['error','aucpr','logloss'], seed=123, as_pandas=True))\n",
    "    best_auc.append(cv_results[\"test-aucpr-mean\"].tail().values[-1])\n",
    "    best_error.append(cv_results[\"test-error-mean\"].tail().values[-1])\n",
    "    best_logloss.append(cv_results[\"test-logloss-mean\"].tail().values[-1])\n",
    "    rounds.append(cv_results.shape[0])"
   ]
  },
  {
   "cell_type": "code",
   "execution_count": 259,
   "id": "7afe1340",
   "metadata": {},
   "outputs": [
    {
     "data": {
      "text/html": [
       "<div>\n",
       "<style scoped>\n",
       "    .dataframe tbody tr th:only-of-type {\n",
       "        vertical-align: middle;\n",
       "    }\n",
       "\n",
       "    .dataframe tbody tr th {\n",
       "        vertical-align: top;\n",
       "    }\n",
       "\n",
       "    .dataframe thead th {\n",
       "        text-align: right;\n",
       "    }\n",
       "</style>\n",
       "<table border=\"1\" class=\"dataframe\">\n",
       "  <thead>\n",
       "    <tr style=\"text-align: right;\">\n",
       "      <th></th>\n",
       "      <th>max_depth</th>\n",
       "      <th>rounds</th>\n",
       "      <th>auc</th>\n",
       "      <th>logloss</th>\n",
       "      <th>error</th>\n",
       "    </tr>\n",
       "  </thead>\n",
       "  <tbody>\n",
       "    <tr>\n",
       "      <th>0</th>\n",
       "      <td>3</td>\n",
       "      <td>30</td>\n",
       "      <td>0.663413</td>\n",
       "      <td>0.610116</td>\n",
       "      <td>0.333331</td>\n",
       "    </tr>\n",
       "    <tr>\n",
       "      <th>1</th>\n",
       "      <td>4</td>\n",
       "      <td>14</td>\n",
       "      <td>0.670587</td>\n",
       "      <td>0.607594</td>\n",
       "      <td>0.335222</td>\n",
       "    </tr>\n",
       "    <tr>\n",
       "      <th>2</th>\n",
       "      <td>5</td>\n",
       "      <td>10</td>\n",
       "      <td>0.642462</td>\n",
       "      <td>0.621012</td>\n",
       "      <td>0.361153</td>\n",
       "    </tr>\n",
       "    <tr>\n",
       "      <th>3</th>\n",
       "      <td>6</td>\n",
       "      <td>9</td>\n",
       "      <td>0.640544</td>\n",
       "      <td>0.629970</td>\n",
       "      <td>0.355494</td>\n",
       "    </tr>\n",
       "    <tr>\n",
       "      <th>4</th>\n",
       "      <td>7</td>\n",
       "      <td>7</td>\n",
       "      <td>0.633477</td>\n",
       "      <td>0.635179</td>\n",
       "      <td>0.367260</td>\n",
       "    </tr>\n",
       "  </tbody>\n",
       "</table>\n",
       "</div>"
      ],
      "text/plain": [
       "   max_depth  rounds       auc   logloss     error\n",
       "0          3      30  0.663413  0.610116  0.333331\n",
       "1          4      14  0.670587  0.607594  0.335222\n",
       "2          5      10  0.642462  0.621012  0.361153\n",
       "3          6       9  0.640544  0.629970  0.355494\n",
       "4          7       7  0.633477  0.635179  0.367260"
      ]
     },
     "execution_count": 259,
     "metadata": {},
     "output_type": "execute_result"
    }
   ],
   "source": [
    "max_depths_df = (pd.DataFrame(list(zip(max_depths, rounds, best_auc, best_logloss, best_error)),\n",
    "                              columns=[\"max_depth\", 'rounds', 'auc', \"logloss\", 'error']))\n",
    "max_depths_df"
   ]
  },
  {
   "cell_type": "code",
   "execution_count": 260,
   "id": "f8a432bf",
   "metadata": {},
   "outputs": [],
   "source": [
    "params['max_depth'] = 4"
   ]
  },
  {
   "cell_type": "markdown",
   "id": "1c087d17",
   "metadata": {},
   "source": [
    "Minimum sum of instance weight (hessian) needed in a child."
   ]
  },
  {
   "cell_type": "code",
   "execution_count": 261,
   "id": "a6f23648",
   "metadata": {},
   "outputs": [],
   "source": [
    "min_ch_weight = range(1,6)\n",
    "best_auc, best_logloss, best_error, rounds = [], [], [], []\n",
    "\n",
    "for curr_val in min_ch_weight:\n",
    "    params['min_child_weight'] = curr_val\n",
    "    cv_results = (xgb.cv(dtrain=train_dmatrix, params=params, nfold=10, early_stopping_rounds=50,\n",
    "                         num_boost_round=1200,metrics=['error','aucpr','logloss'], seed=123, as_pandas=True))\n",
    "    best_auc.append(cv_results[\"test-aucpr-mean\"].tail().values[-1])\n",
    "    best_error.append(cv_results[\"test-error-mean\"].tail().values[-1])\n",
    "    best_logloss.append(cv_results[\"test-logloss-mean\"].tail().values[-1])\n",
    "    rounds.append(cv_results.shape[0])"
   ]
  },
  {
   "cell_type": "code",
   "execution_count": 262,
   "id": "66f1f044",
   "metadata": {},
   "outputs": [
    {
     "data": {
      "text/html": [
       "<div>\n",
       "<style scoped>\n",
       "    .dataframe tbody tr th:only-of-type {\n",
       "        vertical-align: middle;\n",
       "    }\n",
       "\n",
       "    .dataframe tbody tr th {\n",
       "        vertical-align: top;\n",
       "    }\n",
       "\n",
       "    .dataframe thead th {\n",
       "        text-align: right;\n",
       "    }\n",
       "</style>\n",
       "<table border=\"1\" class=\"dataframe\">\n",
       "  <thead>\n",
       "    <tr style=\"text-align: right;\">\n",
       "      <th></th>\n",
       "      <th>min_ch_weight</th>\n",
       "      <th>rounds</th>\n",
       "      <th>auc</th>\n",
       "      <th>logloss</th>\n",
       "      <th>error</th>\n",
       "    </tr>\n",
       "  </thead>\n",
       "  <tbody>\n",
       "    <tr>\n",
       "      <th>0</th>\n",
       "      <td>1</td>\n",
       "      <td>14</td>\n",
       "      <td>0.670587</td>\n",
       "      <td>0.607594</td>\n",
       "      <td>0.335222</td>\n",
       "    </tr>\n",
       "    <tr>\n",
       "      <th>1</th>\n",
       "      <td>2</td>\n",
       "      <td>13</td>\n",
       "      <td>0.666192</td>\n",
       "      <td>0.609550</td>\n",
       "      <td>0.342293</td>\n",
       "    </tr>\n",
       "    <tr>\n",
       "      <th>2</th>\n",
       "      <td>3</td>\n",
       "      <td>18</td>\n",
       "      <td>0.677420</td>\n",
       "      <td>0.604913</td>\n",
       "      <td>0.345113</td>\n",
       "    </tr>\n",
       "    <tr>\n",
       "      <th>3</th>\n",
       "      <td>4</td>\n",
       "      <td>14</td>\n",
       "      <td>0.660194</td>\n",
       "      <td>0.606321</td>\n",
       "      <td>0.344182</td>\n",
       "    </tr>\n",
       "    <tr>\n",
       "      <th>4</th>\n",
       "      <td>5</td>\n",
       "      <td>15</td>\n",
       "      <td>0.674177</td>\n",
       "      <td>0.608878</td>\n",
       "      <td>0.347482</td>\n",
       "    </tr>\n",
       "  </tbody>\n",
       "</table>\n",
       "</div>"
      ],
      "text/plain": [
       "   min_ch_weight  rounds       auc   logloss     error\n",
       "0              1      14  0.670587  0.607594  0.335222\n",
       "1              2      13  0.666192  0.609550  0.342293\n",
       "2              3      18  0.677420  0.604913  0.345113\n",
       "3              4      14  0.660194  0.606321  0.344182\n",
       "4              5      15  0.674177  0.608878  0.347482"
      ]
     },
     "execution_count": 262,
     "metadata": {},
     "output_type": "execute_result"
    }
   ],
   "source": [
    "min_ch_weight_df = (pd.DataFrame(list(zip(min_ch_weight, rounds, best_auc, best_logloss, best_error)),\n",
    "                              columns=[\"min_ch_weight\", 'rounds', 'auc', \"logloss\", 'error']))\n",
    "min_ch_weight_df"
   ]
  },
  {
   "cell_type": "code",
   "execution_count": 263,
   "id": "8b59f4a0",
   "metadata": {},
   "outputs": [],
   "source": [
    "params['min_child_weight'] = 3"
   ]
  },
  {
   "cell_type": "code",
   "execution_count": 269,
   "id": "ba1873c7",
   "metadata": {},
   "outputs": [
    {
     "name": "stdout",
     "output_type": "stream",
     "text": [
      "\u0007"
     ]
    },
    {
     "data": {
      "text/plain": [
       "0"
      ]
     },
     "execution_count": 269,
     "metadata": {},
     "output_type": "execute_result"
    }
   ],
   "source": [
    "import os\n",
    "os.system(\"printf '\\a'\")"
   ]
  },
  {
   "cell_type": "markdown",
   "id": "6c2dac79",
   "metadata": {},
   "source": [
    "Learning Rate"
   ]
  },
  {
   "cell_type": "code",
   "execution_count": 270,
   "id": "0bdf56d5",
   "metadata": {},
   "outputs": [
    {
     "data": {
      "text/html": [
       "<div>\n",
       "<style scoped>\n",
       "    .dataframe tbody tr th:only-of-type {\n",
       "        vertical-align: middle;\n",
       "    }\n",
       "\n",
       "    .dataframe tbody tr th {\n",
       "        vertical-align: top;\n",
       "    }\n",
       "\n",
       "    .dataframe thead th {\n",
       "        text-align: right;\n",
       "    }\n",
       "</style>\n",
       "<table border=\"1\" class=\"dataframe\">\n",
       "  <thead>\n",
       "    <tr style=\"text-align: right;\">\n",
       "      <th></th>\n",
       "      <th>eta</th>\n",
       "      <th>rounds</th>\n",
       "      <th>auc</th>\n",
       "      <th>logloss</th>\n",
       "      <th>error</th>\n",
       "    </tr>\n",
       "  </thead>\n",
       "  <tbody>\n",
       "    <tr>\n",
       "      <th>0</th>\n",
       "      <td>0.0001</td>\n",
       "      <td>2000</td>\n",
       "      <td>0.619577</td>\n",
       "      <td>0.673194</td>\n",
       "      <td>0.375762</td>\n",
       "    </tr>\n",
       "    <tr>\n",
       "      <th>1</th>\n",
       "      <td>0.0010</td>\n",
       "      <td>2000</td>\n",
       "      <td>0.663782</td>\n",
       "      <td>0.613986</td>\n",
       "      <td>0.349843</td>\n",
       "    </tr>\n",
       "    <tr>\n",
       "      <th>2</th>\n",
       "      <td>0.0100</td>\n",
       "      <td>547</td>\n",
       "      <td>0.680486</td>\n",
       "      <td>0.597188</td>\n",
       "      <td>0.339470</td>\n",
       "    </tr>\n",
       "    <tr>\n",
       "      <th>3</th>\n",
       "      <td>0.1000</td>\n",
       "      <td>60</td>\n",
       "      <td>0.680228</td>\n",
       "      <td>0.596841</td>\n",
       "      <td>0.342300</td>\n",
       "    </tr>\n",
       "    <tr>\n",
       "      <th>4</th>\n",
       "      <td>0.2000</td>\n",
       "      <td>22</td>\n",
       "      <td>0.670997</td>\n",
       "      <td>0.602704</td>\n",
       "      <td>0.338053</td>\n",
       "    </tr>\n",
       "    <tr>\n",
       "      <th>5</th>\n",
       "      <td>0.3000</td>\n",
       "      <td>12</td>\n",
       "      <td>0.662179</td>\n",
       "      <td>0.608049</td>\n",
       "      <td>0.350791</td>\n",
       "    </tr>\n",
       "  </tbody>\n",
       "</table>\n",
       "</div>"
      ],
      "text/plain": [
       "      eta  rounds       auc   logloss     error\n",
       "0  0.0001    2000  0.619577  0.673194  0.375762\n",
       "1  0.0010    2000  0.663782  0.613986  0.349843\n",
       "2  0.0100     547  0.680486  0.597188  0.339470\n",
       "3  0.1000      60  0.680228  0.596841  0.342300\n",
       "4  0.2000      22  0.670997  0.602704  0.338053\n",
       "5  0.3000      12  0.662179  0.608049  0.350791"
      ]
     },
     "execution_count": 270,
     "metadata": {},
     "output_type": "execute_result"
    }
   ],
   "source": [
    "etas = [0.001, 0.01, 0.1, 0.2, 0.3]\n",
    "best_auc, best_logloss, best_error, rounds = [], [], [], []\n",
    "\n",
    "for curr_value in etas:\n",
    "    params[\"learning_rate\"] = curr_value\n",
    "    cv_results = (xgb.cv(dtrain=train_dmatrix, params=params, nfold=10, early_stopping_rounds=50,\n",
    "                         num_boost_round=2000,metrics=['error','aucpr','logloss'], seed=123, as_pandas=True))\n",
    "    best_auc.append(cv_results[\"test-aucpr-mean\"].tail().values[-1])\n",
    "    best_error.append(cv_results[\"test-error-mean\"].tail().values[-1])\n",
    "    best_logloss.append(cv_results[\"test-logloss-mean\"].tail().values[-1])\n",
    "    rounds.append(cv_results.shape[0])\n",
    "best_etas = (pd.DataFrame(list(zip(etas, rounds, best_auc, best_logloss, best_error)),\n",
    "                          columns=[\"eta\", 'rounds', \"auc\", 'logloss', 'error']))\n",
    "best_etas"
   ]
  },
  {
   "cell_type": "code",
   "execution_count": 272,
   "id": "6123116d",
   "metadata": {},
   "outputs": [],
   "source": [
    "params[\"learning_rate\"] = .05"
   ]
  },
  {
   "cell_type": "markdown",
   "id": "8d7e5106",
   "metadata": {},
   "source": [
    "Regularization: Gamma"
   ]
  },
  {
   "cell_type": "code",
   "execution_count": 273,
   "id": "d0e4dc1b",
   "metadata": {},
   "outputs": [
    {
     "data": {
      "text/html": [
       "<div>\n",
       "<style scoped>\n",
       "    .dataframe tbody tr th:only-of-type {\n",
       "        vertical-align: middle;\n",
       "    }\n",
       "\n",
       "    .dataframe tbody tr th {\n",
       "        vertical-align: top;\n",
       "    }\n",
       "\n",
       "    .dataframe thead th {\n",
       "        text-align: right;\n",
       "    }\n",
       "</style>\n",
       "<table border=\"1\" class=\"dataframe\">\n",
       "  <thead>\n",
       "    <tr style=\"text-align: right;\">\n",
       "      <th></th>\n",
       "      <th>reg</th>\n",
       "      <th>rounds</th>\n",
       "      <th>auc</th>\n",
       "      <th>logloss</th>\n",
       "      <th>error</th>\n",
       "    </tr>\n",
       "  </thead>\n",
       "  <tbody>\n",
       "    <tr>\n",
       "      <th>0</th>\n",
       "      <td>0.0</td>\n",
       "      <td>141</td>\n",
       "      <td>0.681746</td>\n",
       "      <td>0.597734</td>\n",
       "      <td>0.337581</td>\n",
       "    </tr>\n",
       "    <tr>\n",
       "      <th>1</th>\n",
       "      <td>0.1</td>\n",
       "      <td>124</td>\n",
       "      <td>0.678386</td>\n",
       "      <td>0.596888</td>\n",
       "      <td>0.342774</td>\n",
       "    </tr>\n",
       "    <tr>\n",
       "      <th>2</th>\n",
       "      <td>0.2</td>\n",
       "      <td>149</td>\n",
       "      <td>0.684894</td>\n",
       "      <td>0.593870</td>\n",
       "      <td>0.337118</td>\n",
       "    </tr>\n",
       "    <tr>\n",
       "      <th>3</th>\n",
       "      <td>0.3</td>\n",
       "      <td>137</td>\n",
       "      <td>0.676635</td>\n",
       "      <td>0.598242</td>\n",
       "      <td>0.332868</td>\n",
       "    </tr>\n",
       "    <tr>\n",
       "      <th>4</th>\n",
       "      <td>0.4</td>\n",
       "      <td>146</td>\n",
       "      <td>0.680624</td>\n",
       "      <td>0.595770</td>\n",
       "      <td>0.337109</td>\n",
       "    </tr>\n",
       "  </tbody>\n",
       "</table>\n",
       "</div>"
      ],
      "text/plain": [
       "   reg  rounds       auc   logloss     error\n",
       "0  0.0     141  0.681746  0.597734  0.337581\n",
       "1  0.1     124  0.678386  0.596888  0.342774\n",
       "2  0.2     149  0.684894  0.593870  0.337118\n",
       "3  0.3     137  0.676635  0.598242  0.332868\n",
       "4  0.4     146  0.680624  0.595770  0.337109"
      ]
     },
     "execution_count": 273,
     "metadata": {},
     "output_type": "execute_result"
    }
   ],
   "source": [
    "reg = np.arange(0,.5,.1)\n",
    "best_auc, best_logloss, best_error, rounds = [], [], [], []\n",
    "\n",
    "for curr_value in reg:\n",
    "    params[\"gamma\"] = curr_value\n",
    "    cv_results = (xgb.cv(dtrain=train_dmatrix, params=params, nfold=10, early_stopping_rounds=50,\n",
    "                         num_boost_round=2000,metrics=['error','aucpr','logloss'], seed=123, as_pandas=True))\n",
    "    best_auc.append(cv_results[\"test-aucpr-mean\"].tail().values[-1])\n",
    "    best_error.append(cv_results[\"test-error-mean\"].tail().values[-1])\n",
    "    best_logloss.append(cv_results[\"test-logloss-mean\"].tail().values[-1])\n",
    "    rounds.append(cv_results.shape[0])\n",
    "best_reg = (pd.DataFrame(list(zip(reg, rounds, best_auc, best_logloss, best_error)),\n",
    "                         columns=[\"reg\", 'rounds', \"auc\", 'logloss', 'error']))\n",
    "best_reg"
   ]
  },
  {
   "cell_type": "code",
   "execution_count": 290,
   "id": "9503757f",
   "metadata": {},
   "outputs": [
    {
     "data": {
      "text/html": [
       "<div>\n",
       "<style scoped>\n",
       "    .dataframe tbody tr th:only-of-type {\n",
       "        vertical-align: middle;\n",
       "    }\n",
       "\n",
       "    .dataframe tbody tr th {\n",
       "        vertical-align: top;\n",
       "    }\n",
       "\n",
       "    .dataframe thead th {\n",
       "        text-align: right;\n",
       "    }\n",
       "</style>\n",
       "<table border=\"1\" class=\"dataframe\">\n",
       "  <thead>\n",
       "    <tr style=\"text-align: right;\">\n",
       "      <th></th>\n",
       "      <th>reg</th>\n",
       "      <th>rounds</th>\n",
       "      <th>auc</th>\n",
       "      <th>logloss</th>\n",
       "      <th>error</th>\n",
       "    </tr>\n",
       "  </thead>\n",
       "  <tbody>\n",
       "    <tr>\n",
       "      <th>0</th>\n",
       "      <td>0.15</td>\n",
       "      <td>154</td>\n",
       "      <td>0.683634</td>\n",
       "      <td>0.595590</td>\n",
       "      <td>0.344180</td>\n",
       "    </tr>\n",
       "    <tr>\n",
       "      <th>1</th>\n",
       "      <td>0.25</td>\n",
       "      <td>174</td>\n",
       "      <td>0.684212</td>\n",
       "      <td>0.595749</td>\n",
       "      <td>0.334755</td>\n",
       "    </tr>\n",
       "  </tbody>\n",
       "</table>\n",
       "</div>"
      ],
      "text/plain": [
       "    reg  rounds       auc   logloss     error\n",
       "0  0.15     154  0.683634  0.595590  0.344180\n",
       "1  0.25     174  0.684212  0.595749  0.334755"
      ]
     },
     "execution_count": 290,
     "metadata": {},
     "output_type": "execute_result"
    }
   ],
   "source": [
    "reg = [.15,.25]\n",
    "best_auc, best_logloss, best_error, rounds = [], [], [], []\n",
    "\n",
    "for curr_value in reg:\n",
    "    params[\"gamma\"] = curr_value\n",
    "    cv_results = (xgb.cv(dtrain=train_dmatrix, params=params, nfold=10, early_stopping_rounds=50,\n",
    "                         num_boost_round=2000,metrics=['error','aucpr','logloss'], seed=123, as_pandas=True))\n",
    "    best_auc.append(cv_results[\"test-aucpr-mean\"].tail().values[-1])\n",
    "    best_error.append(cv_results[\"test-error-mean\"].tail().values[-1])\n",
    "    best_logloss.append(cv_results[\"test-logloss-mean\"].tail().values[-1])\n",
    "    rounds.append(cv_results.shape[0])\n",
    "best_reg2 = (pd.DataFrame(list(zip(reg, rounds, best_auc, best_logloss, best_error)),\n",
    "                         columns=[\"reg\", 'rounds', \"auc\", 'logloss', 'error']))\n",
    "best_reg2"
   ]
  },
  {
   "cell_type": "code",
   "execution_count": 291,
   "id": "b88e6108",
   "metadata": {},
   "outputs": [],
   "source": [
    "params['gamma'] = .2"
   ]
  },
  {
   "cell_type": "markdown",
   "id": "ec32e083",
   "metadata": {},
   "source": [
    "subsample & colsample_bytree"
   ]
  },
  {
   "cell_type": "code",
   "execution_count": 301,
   "id": "262f9607",
   "metadata": {},
   "outputs": [
    {
     "name": "stdout",
     "output_type": "stream",
     "text": [
      "Fitting 10 folds for each of 25 candidates, totalling 250 fits\n",
      "Best parameters found:  {'colsample_bytree': 0.8, 'gamma': 0.2, 'learning_rate': 0.05, 'max_depth': 4, 'min_child_weight': 3, 'n_estimators': 149, 'subsample': 0.7}\n",
      "Best precision score:  0.6474429928442194\n"
     ]
    }
   ],
   "source": [
    "gbm_param_grid = {'max_depth': [4], 'min_child_weight': [3], 'n_estimators':[150],\n",
    "                  'learning_rate':[.05], 'gamma':[.2],  'subsample':[i/10.0 for i in range(6,11)],\n",
    "                  'colsample_bytree':[i/10.0 for i in range(6,11)], 'n_estimators':[149]}\n",
    "\n",
    "gbm = xgb.XGBClassifier(use_label_encoder=False, eval_metric='logloss')\n",
    "\n",
    "grid_gbm = (GridSearchCV(estimator=gbm, param_grid = gbm_param_grid, scoring='precision', cv=10, verbose=1))\n",
    "grid_gbm.fit(X_train, y_train)\n",
    "print(\"Best parameters found: \", grid_gbm.best_params_)\n",
    "print(\"Best precision score: \",(grid_gbm.best_score_))"
   ]
  },
  {
   "cell_type": "code",
   "execution_count": 292,
   "id": "5c977177",
   "metadata": {},
   "outputs": [
    {
     "name": "stdout",
     "output_type": "stream",
     "text": [
      "Fitting 10 folds for each of 9 candidates, totalling 90 fits\n",
      "Best parameters found:  {'colsample_bytree': 0.8, 'gamma': 0.2, 'learning_rate': 0.05, 'max_depth': 4, 'min_child_weight': 3, 'n_estimators': 149, 'subsample': 0.7}\n",
      "Best precision score:  0.6474429928442194\n"
     ]
    }
   ],
   "source": [
    "gbm_param_grid = {'max_depth': [4], 'min_child_weight': [3], 'n_estimators':[150],\n",
    "                  'learning_rate':[.05], 'gamma':[.2],  'subsample':[.65,.7,.75],\n",
    "                  'colsample_bytree':[.75,.8,.85], 'n_estimators':[149]}\n",
    "\n",
    "gbm = xgb.XGBClassifier(use_label_encoder=False, eval_metric='logloss')\n",
    "\n",
    "grid_gbm = (GridSearchCV(estimator=gbm, param_grid = gbm_param_grid, scoring='precision', cv=10, verbose=1))\n",
    "grid_gbm.fit(X_train, y_train)\n",
    "print(\"Best parameters found: \", grid_gbm.best_params_)\n",
    "print(\"Best precision score: \",(grid_gbm.best_score_))"
   ]
  },
  {
   "cell_type": "code",
   "execution_count": 314,
   "id": "c74df1ea",
   "metadata": {},
   "outputs": [],
   "source": [
    "params['subsample'] = .7\n",
    "params['colsample_bytree'] = .8"
   ]
  },
  {
   "cell_type": "code",
   "execution_count": 294,
   "id": "35a45dd9",
   "metadata": {},
   "outputs": [],
   "source": [
    "cv_results = (xgb.cv(dtrain=train_dmatrix, params=params, nfold=10, early_stopping_rounds=50,\n",
    "                         num_boost_round=2000,metrics=['error','aucpr','logloss'], seed=123, as_pandas=True))"
   ]
  },
  {
   "cell_type": "code",
   "execution_count": 307,
   "id": "894178b6",
   "metadata": {},
   "outputs": [
    {
     "data": {
      "text/plain": [
       "train-error-mean      0.172403\n",
       "train-error-std       0.003463\n",
       "train-aucpr-mean      0.900331\n",
       "train-aucpr-std       0.003122\n",
       "train-logloss-mean    0.449413\n",
       "train-logloss-std     0.002571\n",
       "test-error-mean       0.332855\n",
       "test-error-std        0.026773\n",
       "test-aucpr-mean       0.671522\n",
       "test-aucpr-std        0.053874\n",
       "test-logloss-mean     0.604188\n",
       "test-logloss-std      0.027345\n",
       "Name: 220, dtype: float64"
      ]
     },
     "execution_count": 307,
     "metadata": {},
     "output_type": "execute_result"
    }
   ],
   "source": [
    "cv_results.iloc[-1]"
   ]
  },
  {
   "cell_type": "code",
   "execution_count": 311,
   "id": "b7ead3b2",
   "metadata": {},
   "outputs": [
    {
     "data": {
      "text/html": [
       "<div>\n",
       "<style scoped>\n",
       "    .dataframe tbody tr th:only-of-type {\n",
       "        vertical-align: middle;\n",
       "    }\n",
       "\n",
       "    .dataframe tbody tr th {\n",
       "        vertical-align: top;\n",
       "    }\n",
       "\n",
       "    .dataframe thead th {\n",
       "        text-align: right;\n",
       "    }\n",
       "</style>\n",
       "<table border=\"1\" class=\"dataframe\">\n",
       "  <thead>\n",
       "    <tr style=\"text-align: right;\">\n",
       "      <th></th>\n",
       "      <th>subsample</th>\n",
       "      <th>rounds</th>\n",
       "      <th>auc</th>\n",
       "      <th>logloss</th>\n",
       "      <th>error</th>\n",
       "    </tr>\n",
       "  </thead>\n",
       "  <tbody>\n",
       "    <tr>\n",
       "      <th>0</th>\n",
       "      <td>0.7</td>\n",
       "      <td>230</td>\n",
       "      <td>0.672393</td>\n",
       "      <td>0.602769</td>\n",
       "      <td>0.332390</td>\n",
       "    </tr>\n",
       "    <tr>\n",
       "      <th>1</th>\n",
       "      <td>0.8</td>\n",
       "      <td>228</td>\n",
       "      <td>0.680310</td>\n",
       "      <td>0.600702</td>\n",
       "      <td>0.331458</td>\n",
       "    </tr>\n",
       "    <tr>\n",
       "      <th>2</th>\n",
       "      <td>1.0</td>\n",
       "      <td>161</td>\n",
       "      <td>0.677774</td>\n",
       "      <td>0.602726</td>\n",
       "      <td>0.336642</td>\n",
       "    </tr>\n",
       "  </tbody>\n",
       "</table>\n",
       "</div>"
      ],
      "text/plain": [
       "   subsample  rounds       auc   logloss     error\n",
       "0        0.7     230  0.672393  0.602769  0.332390\n",
       "1        0.8     228  0.680310  0.600702  0.331458\n",
       "2        1.0     161  0.677774  0.602726  0.336642"
      ]
     },
     "execution_count": 311,
     "metadata": {},
     "output_type": "execute_result"
    }
   ],
   "source": [
    "subsamples = [.7,.8,1]\n",
    "best_auc, best_logloss, best_error, rounds = [], [], [], []\n",
    "\n",
    "for curr_value in subsamples:\n",
    "    params[\"subsample\"] = curr_value\n",
    "    cv_results = (xgb.cv(dtrain=train_dmatrix, params=params, nfold=10, early_stopping_rounds=50,\n",
    "                         num_boost_round=2000,metrics=['error','aucpr','logloss'], seed=123, as_pandas=True))\n",
    "    best_auc.append(cv_results[\"test-aucpr-mean\"].tail().values[-1])\n",
    "    best_error.append(cv_results[\"test-error-mean\"].tail().values[-1])\n",
    "    best_logloss.append(cv_results[\"test-logloss-mean\"].tail().values[-1])\n",
    "    rounds.append(cv_results.shape[0])\n",
    "best_subsample = (pd.DataFrame(list(zip(subsamples, rounds, best_auc, best_logloss, best_error)),\n",
    "                         columns=[\"subsample\", 'rounds', \"auc\", 'logloss', 'error']))\n",
    "best_subsample"
   ]
  },
  {
   "cell_type": "code",
   "execution_count": 312,
   "id": "2be93293",
   "metadata": {},
   "outputs": [
    {
     "data": {
      "text/plain": [
       "{'objective': 'binary:logistic',\n",
       " 'seed': 123,\n",
       " 'max_depth': 4,\n",
       " 'min_child_weight': 3,\n",
       " 'learning_rate': 0.05,\n",
       " 'gamma': 0.2,\n",
       " 'subsample': 1,\n",
       " 'reg_alpha': 15}"
      ]
     },
     "execution_count": 312,
     "metadata": {},
     "output_type": "execute_result"
    }
   ],
   "source": [
    "params"
   ]
  },
  {
   "cell_type": "markdown",
   "id": "4c54f4e8",
   "metadata": {},
   "source": [
    "Regularization: Alpha"
   ]
  },
  {
   "cell_type": "code",
   "execution_count": 303,
   "id": "c240adb0",
   "metadata": {},
   "outputs": [
    {
     "data": {
      "text/html": [
       "<div>\n",
       "<style scoped>\n",
       "    .dataframe tbody tr th:only-of-type {\n",
       "        vertical-align: middle;\n",
       "    }\n",
       "\n",
       "    .dataframe tbody tr th {\n",
       "        vertical-align: top;\n",
       "    }\n",
       "\n",
       "    .dataframe thead th {\n",
       "        text-align: right;\n",
       "    }\n",
       "</style>\n",
       "<table border=\"1\" class=\"dataframe\">\n",
       "  <thead>\n",
       "    <tr style=\"text-align: right;\">\n",
       "      <th></th>\n",
       "      <th>alpha</th>\n",
       "      <th>rounds</th>\n",
       "      <th>auc</th>\n",
       "      <th>logloss</th>\n",
       "      <th>error</th>\n",
       "    </tr>\n",
       "  </thead>\n",
       "  <tbody>\n",
       "    <tr>\n",
       "      <th>0</th>\n",
       "      <td>0.00001</td>\n",
       "      <td>138</td>\n",
       "      <td>0.675858</td>\n",
       "      <td>0.597646</td>\n",
       "      <td>0.338050</td>\n",
       "    </tr>\n",
       "    <tr>\n",
       "      <th>1</th>\n",
       "      <td>0.01000</td>\n",
       "      <td>96</td>\n",
       "      <td>0.675593</td>\n",
       "      <td>0.596025</td>\n",
       "      <td>0.329575</td>\n",
       "    </tr>\n",
       "    <tr>\n",
       "      <th>2</th>\n",
       "      <td>0.10000</td>\n",
       "      <td>168</td>\n",
       "      <td>0.676933</td>\n",
       "      <td>0.595901</td>\n",
       "      <td>0.323926</td>\n",
       "    </tr>\n",
       "    <tr>\n",
       "      <th>3</th>\n",
       "      <td>1.00000</td>\n",
       "      <td>127</td>\n",
       "      <td>0.673448</td>\n",
       "      <td>0.596498</td>\n",
       "      <td>0.334281</td>\n",
       "    </tr>\n",
       "    <tr>\n",
       "      <th>4</th>\n",
       "      <td>100.00000</td>\n",
       "      <td>935</td>\n",
       "      <td>0.617249</td>\n",
       "      <td>0.673615</td>\n",
       "      <td>0.451205</td>\n",
       "    </tr>\n",
       "  </tbody>\n",
       "</table>\n",
       "</div>"
      ],
      "text/plain": [
       "       alpha  rounds       auc   logloss     error\n",
       "0    0.00001     138  0.675858  0.597646  0.338050\n",
       "1    0.01000      96  0.675593  0.596025  0.329575\n",
       "2    0.10000     168  0.676933  0.595901  0.323926\n",
       "3    1.00000     127  0.673448  0.596498  0.334281\n",
       "4  100.00000     935  0.617249  0.673615  0.451205"
      ]
     },
     "execution_count": 303,
     "metadata": {},
     "output_type": "execute_result"
    }
   ],
   "source": [
    "reg_alpha = [1e-5, 1e-2, 0.1, 1, 100]\n",
    "best_auc, best_logloss, best_error, rounds = [], [], [], []\n",
    "\n",
    "for curr_value in reg_alpha:\n",
    "    params[\"reg_alpha\"] = curr_value\n",
    "    cv_results = (xgb.cv(dtrain=train_dmatrix, params=params, nfold=10, early_stopping_rounds=50,\n",
    "                         num_boost_round=2000,metrics=['error','aucpr','logloss'], seed=123, as_pandas=True))\n",
    "    best_auc.append(cv_results[\"test-aucpr-mean\"].tail().values[-1])\n",
    "    best_error.append(cv_results[\"test-error-mean\"].tail().values[-1])\n",
    "    best_logloss.append(cv_results[\"test-logloss-mean\"].tail().values[-1])\n",
    "    rounds.append(cv_results.shape[0])\n",
    "best_alpha = (pd.DataFrame(list(zip(reg_alpha, rounds, best_auc, best_logloss, best_error)),\n",
    "                         columns=[\"alpha\", 'rounds', \"auc\", 'logloss', 'error']))\n",
    "best_alpha"
   ]
  },
  {
   "cell_type": "code",
   "execution_count": 304,
   "id": "05283a63",
   "metadata": {},
   "outputs": [
    {
     "data": {
      "text/html": [
       "<div>\n",
       "<style scoped>\n",
       "    .dataframe tbody tr th:only-of-type {\n",
       "        vertical-align: middle;\n",
       "    }\n",
       "\n",
       "    .dataframe tbody tr th {\n",
       "        vertical-align: top;\n",
       "    }\n",
       "\n",
       "    .dataframe thead th {\n",
       "        text-align: right;\n",
       "    }\n",
       "</style>\n",
       "<table border=\"1\" class=\"dataframe\">\n",
       "  <thead>\n",
       "    <tr style=\"text-align: right;\">\n",
       "      <th></th>\n",
       "      <th>alpha</th>\n",
       "      <th>rounds</th>\n",
       "      <th>auc</th>\n",
       "      <th>logloss</th>\n",
       "      <th>error</th>\n",
       "    </tr>\n",
       "  </thead>\n",
       "  <tbody>\n",
       "    <tr>\n",
       "      <th>0</th>\n",
       "      <td>0.0000</td>\n",
       "      <td>138</td>\n",
       "      <td>0.675858</td>\n",
       "      <td>0.597646</td>\n",
       "      <td>0.338050</td>\n",
       "    </tr>\n",
       "    <tr>\n",
       "      <th>1</th>\n",
       "      <td>0.0010</td>\n",
       "      <td>93</td>\n",
       "      <td>0.674893</td>\n",
       "      <td>0.597017</td>\n",
       "      <td>0.336181</td>\n",
       "    </tr>\n",
       "    <tr>\n",
       "      <th>2</th>\n",
       "      <td>0.0001</td>\n",
       "      <td>138</td>\n",
       "      <td>0.675858</td>\n",
       "      <td>0.597646</td>\n",
       "      <td>0.338050</td>\n",
       "    </tr>\n",
       "    <tr>\n",
       "      <th>3</th>\n",
       "      <td>0.5000</td>\n",
       "      <td>98</td>\n",
       "      <td>0.676198</td>\n",
       "      <td>0.595945</td>\n",
       "      <td>0.329110</td>\n",
       "    </tr>\n",
       "    <tr>\n",
       "      <th>4</th>\n",
       "      <td>15.0000</td>\n",
       "      <td>221</td>\n",
       "      <td>0.671522</td>\n",
       "      <td>0.604188</td>\n",
       "      <td>0.332855</td>\n",
       "    </tr>\n",
       "  </tbody>\n",
       "</table>\n",
       "</div>"
      ],
      "text/plain": [
       "     alpha  rounds       auc   logloss     error\n",
       "0   0.0000     138  0.675858  0.597646  0.338050\n",
       "1   0.0010      93  0.674893  0.597017  0.336181\n",
       "2   0.0001     138  0.675858  0.597646  0.338050\n",
       "3   0.5000      98  0.676198  0.595945  0.329110\n",
       "4  15.0000     221  0.671522  0.604188  0.332855"
      ]
     },
     "execution_count": 304,
     "metadata": {},
     "output_type": "execute_result"
    }
   ],
   "source": [
    "reg_alpha2 = [0,.001,.0001,.5,15]\n",
    "best_auc, best_logloss, best_error, rounds = [], [], [], []\n",
    "\n",
    "for curr_value in reg_alpha2:\n",
    "    params[\"reg_alpha\"] = curr_value\n",
    "    cv_results = (xgb.cv(dtrain=train_dmatrix, params=params, nfold=10, early_stopping_rounds=50,\n",
    "                         num_boost_round=2000,metrics=['error','aucpr','logloss'], seed=123, as_pandas=True))\n",
    "    best_auc.append(cv_results[\"test-aucpr-mean\"].tail().values[-1])\n",
    "    best_error.append(cv_results[\"test-error-mean\"].tail().values[-1])\n",
    "    best_logloss.append(cv_results[\"test-logloss-mean\"].tail().values[-1])\n",
    "    rounds.append(cv_results.shape[0])\n",
    "best_alpha2 = (pd.DataFrame(list(zip(reg_alpha2, rounds, best_auc, best_logloss, best_error)),\n",
    "                         columns=[\"alpha\", 'rounds', \"auc\", 'logloss', 'error']))\n",
    "best_alpha2"
   ]
  },
  {
   "cell_type": "code",
   "execution_count": 316,
   "id": "d273d925",
   "metadata": {},
   "outputs": [
    {
     "data": {
      "text/html": [
       "<div>\n",
       "<style scoped>\n",
       "    .dataframe tbody tr th:only-of-type {\n",
       "        vertical-align: middle;\n",
       "    }\n",
       "\n",
       "    .dataframe tbody tr th {\n",
       "        vertical-align: top;\n",
       "    }\n",
       "\n",
       "    .dataframe thead th {\n",
       "        text-align: right;\n",
       "    }\n",
       "</style>\n",
       "<table border=\"1\" class=\"dataframe\">\n",
       "  <thead>\n",
       "    <tr style=\"text-align: right;\">\n",
       "      <th></th>\n",
       "      <th>alpha</th>\n",
       "      <th>rounds</th>\n",
       "      <th>auc</th>\n",
       "      <th>logloss</th>\n",
       "      <th>error</th>\n",
       "    </tr>\n",
       "  </thead>\n",
       "  <tbody>\n",
       "    <tr>\n",
       "      <th>0</th>\n",
       "      <td>0.0</td>\n",
       "      <td>138</td>\n",
       "      <td>0.675858</td>\n",
       "      <td>0.597646</td>\n",
       "      <td>0.338050</td>\n",
       "    </tr>\n",
       "    <tr>\n",
       "      <th>1</th>\n",
       "      <td>0.3</td>\n",
       "      <td>131</td>\n",
       "      <td>0.680054</td>\n",
       "      <td>0.595467</td>\n",
       "      <td>0.333814</td>\n",
       "    </tr>\n",
       "    <tr>\n",
       "      <th>2</th>\n",
       "      <td>0.7</td>\n",
       "      <td>131</td>\n",
       "      <td>0.676143</td>\n",
       "      <td>0.596812</td>\n",
       "      <td>0.332401</td>\n",
       "    </tr>\n",
       "    <tr>\n",
       "      <th>3</th>\n",
       "      <td>0.9</td>\n",
       "      <td>149</td>\n",
       "      <td>0.675285</td>\n",
       "      <td>0.596064</td>\n",
       "      <td>0.331453</td>\n",
       "    </tr>\n",
       "    <tr>\n",
       "      <th>4</th>\n",
       "      <td>1.5</td>\n",
       "      <td>129</td>\n",
       "      <td>0.674602</td>\n",
       "      <td>0.595866</td>\n",
       "      <td>0.327689</td>\n",
       "    </tr>\n",
       "    <tr>\n",
       "      <th>5</th>\n",
       "      <td>2.0</td>\n",
       "      <td>150</td>\n",
       "      <td>0.679278</td>\n",
       "      <td>0.597026</td>\n",
       "      <td>0.329104</td>\n",
       "    </tr>\n",
       "  </tbody>\n",
       "</table>\n",
       "</div>"
      ],
      "text/plain": [
       "   alpha  rounds       auc   logloss     error\n",
       "0    0.0     138  0.675858  0.597646  0.338050\n",
       "1    0.3     131  0.680054  0.595467  0.333814\n",
       "2    0.7     131  0.676143  0.596812  0.332401\n",
       "3    0.9     149  0.675285  0.596064  0.331453\n",
       "4    1.5     129  0.674602  0.595866  0.327689\n",
       "5    2.0     150  0.679278  0.597026  0.329104"
      ]
     },
     "execution_count": 316,
     "metadata": {},
     "output_type": "execute_result"
    }
   ],
   "source": [
    "reg_alpha3 = [0,.3,.7,.9,1.5,2]\n",
    "best_auc, best_logloss, best_error, rounds = [], [], [], []\n",
    "\n",
    "for curr_value in reg_alpha3:\n",
    "    params[\"reg_alpha\"] = curr_value\n",
    "    cv_results = (xgb.cv(dtrain=train_dmatrix, params=params, nfold=10, early_stopping_rounds=50,\n",
    "                         num_boost_round=2000,metrics=['error','aucpr','logloss'], seed=123, as_pandas=True))\n",
    "    best_auc.append(cv_results[\"test-aucpr-mean\"].tail().values[-1])\n",
    "    best_error.append(cv_results[\"test-error-mean\"].tail().values[-1])\n",
    "    best_logloss.append(cv_results[\"test-logloss-mean\"].tail().values[-1])\n",
    "    rounds.append(cv_results.shape[0])\n",
    "best_alpha3 = (pd.DataFrame(list(zip(reg_alpha3, rounds, best_auc, best_logloss, best_error)),\n",
    "                         columns=[\"alpha\", 'rounds', \"auc\", 'logloss', 'error']))\n",
    "best_alpha3"
   ]
  },
  {
   "cell_type": "code",
   "execution_count": 331,
   "id": "ccc58e97",
   "metadata": {},
   "outputs": [],
   "source": [
    "params['reg_alpha'] = .3"
   ]
  },
  {
   "cell_type": "code",
   "execution_count": 333,
   "id": "7b1712bf",
   "metadata": {},
   "outputs": [
    {
     "data": {
      "text/html": [
       "<div>\n",
       "<style scoped>\n",
       "    .dataframe tbody tr th:only-of-type {\n",
       "        vertical-align: middle;\n",
       "    }\n",
       "\n",
       "    .dataframe tbody tr th {\n",
       "        vertical-align: top;\n",
       "    }\n",
       "\n",
       "    .dataframe thead th {\n",
       "        text-align: right;\n",
       "    }\n",
       "</style>\n",
       "<table border=\"1\" class=\"dataframe\">\n",
       "  <thead>\n",
       "    <tr style=\"text-align: right;\">\n",
       "      <th></th>\n",
       "      <th>params</th>\n",
       "      <th>rounds</th>\n",
       "      <th>auc</th>\n",
       "      <th>logloss</th>\n",
       "      <th>error</th>\n",
       "    </tr>\n",
       "  </thead>\n",
       "  <tbody>\n",
       "    <tr>\n",
       "      <th>0</th>\n",
       "      <td>less</td>\n",
       "      <td>149</td>\n",
       "      <td>0.684894</td>\n",
       "      <td>0.593870</td>\n",
       "      <td>0.337118</td>\n",
       "    </tr>\n",
       "    <tr>\n",
       "      <th>1</th>\n",
       "      <td>more</td>\n",
       "      <td>131</td>\n",
       "      <td>0.680054</td>\n",
       "      <td>0.595467</td>\n",
       "      <td>0.333814</td>\n",
       "    </tr>\n",
       "  </tbody>\n",
       "</table>\n",
       "</div>"
      ],
      "text/plain": [
       "  params  rounds       auc   logloss     error\n",
       "0   less     149  0.684894  0.593870  0.337118\n",
       "1   more     131  0.680054  0.595467  0.333814"
      ]
     },
     "execution_count": 333,
     "metadata": {},
     "output_type": "execute_result"
    }
   ],
   "source": [
    "params_test1 = {'objective': 'binary:logistic', 'seed': 123, 'max_depth': 4, 'min_child_weight': 3, \n",
    "                'learning_rate': 0.05, 'gamma': 0.2}\n",
    "params_test2 = {'objective':'binary:logistic', 'seed':123, 'max_depth':4, 'min_child_weight':3, 'gamma': 0.2,\n",
    "                'learning_rate': 0.05, 'colsample_bytree':.8, 'subsample':.7, 'reg_alpha':.3}\n",
    "best_auc, best_logloss, best_error, rounds = [], [], [], []\n",
    "\n",
    "for params in [params_test1, params_test2]:\n",
    "    cv_results = (xgb.cv(dtrain=train_dmatrix, params=params, nfold=10, early_stopping_rounds=50,\n",
    "                         num_boost_round=2000,metrics=['error','aucpr','logloss'], seed=123, as_pandas=True))\n",
    "    best_auc.append(cv_results[\"test-aucpr-mean\"].tail().values[-1])\n",
    "    best_error.append(cv_results[\"test-error-mean\"].tail().values[-1])\n",
    "    best_logloss.append(cv_results[\"test-logloss-mean\"].tail().values[-1])\n",
    "    rounds.append(cv_results.shape[0])\n",
    "    \n",
    "best_params = (pd.DataFrame(list(zip(['less','more'], rounds, best_auc, best_logloss, best_error)),\n",
    "                         columns=[\"params\", 'rounds', \"auc\", 'logloss', 'error']))\n",
    "best_params"
   ]
  },
  {
   "cell_type": "markdown",
   "id": "62b91b70",
   "metadata": {},
   "source": [
    "Grid Search"
   ]
  },
  {
   "cell_type": "code",
   "execution_count": 334,
   "id": "7c958a59",
   "metadata": {},
   "outputs": [
    {
     "name": "stdout",
     "output_type": "stream",
     "text": [
      "Fitting 10 folds for each of 8 candidates, totalling 80 fits\n",
      "Best parameters found:  {'colsample_bytree': 0.8, 'gamma': 0.2, 'learning_rate': 0.05, 'max_depth': 4, 'min_child_weight': 3, 'n_estimators': 149, 'reg_alpha': 0, 'subsample': 0.7}\n",
      "Best precision score:  0.6474429928442194\n"
     ]
    }
   ],
   "source": [
    "gbm_param_grid = {'max_depth': [4], 'min_child_weight': [3], 'n_estimators':[149],\n",
    "                  'learning_rate':[.05], 'gamma':[.2],  'subsample':[1,.7],\n",
    "                  'colsample_bytree':[1,.8], 'n_estimators':[149], 'reg_alpha':[0,.3]}\n",
    "\n",
    "gbm = xgb.XGBClassifier(use_label_encoder=False, eval_metric='logloss')\n",
    "\n",
    "grid_gbm = (GridSearchCV(estimator=gbm, param_grid = gbm_param_grid, scoring='precision', cv=10, verbose=1))\n",
    "grid_gbm.fit(X_train, y_train)\n",
    "print(\"Best parameters found: \", grid_gbm.best_params_)\n",
    "print(\"Best precision score: \",(grid_gbm.best_score_))"
   ]
  },
  {
   "cell_type": "code",
   "execution_count": 356,
   "id": "97998b7e",
   "metadata": {},
   "outputs": [
    {
     "data": {
      "text/plain": [
       "array([[253,   5],\n",
       "       [187,  12]])"
      ]
     },
     "execution_count": 356,
     "metadata": {},
     "output_type": "execute_result"
    }
   ],
   "source": [
    "y_pred = (grid_gbm.predict_proba(X_test)[:,1]>0.8)\n",
    "#y_pred = grid_gbm.predict_proba(X_test)[:,1]\n",
    "confusion_matrix(y_test, y_pred)"
   ]
  },
  {
   "cell_type": "markdown",
   "id": "59985134",
   "metadata": {},
   "source": [
    "#### Randomized Search to narrow down. Metric: Precision."
   ]
  },
  {
   "cell_type": "markdown",
   "id": "945716ba",
   "metadata": {},
   "source": [
    "#### Retrain model on train+train data"
   ]
  },
  {
   "cell_type": "code",
   "execution_count": 372,
   "id": "476e322c",
   "metadata": {},
   "outputs": [],
   "source": [
    "train_test = all_feat_100[~all_feat_100.index.isin(X_val.index)]\n",
    "train_test_dmatrix = xgb.DMatrix(data=train_test.iloc[:,1:], label=train_test.rating)\n",
    "\n",
    "X_train_test = train_test.iloc[:,1:]\n",
    "y_train_test = train_test.rating"
   ]
  },
  {
   "cell_type": "code",
   "execution_count": 379,
   "id": "52586278",
   "metadata": {},
   "outputs": [
    {
     "name": "stdout",
     "output_type": "stream",
     "text": [
      "Precision score: 0.8663366336633663\n",
      "Confusion Matrix:\n",
      "[[231  27]\n",
      " [ 24 175]]\n"
     ]
    }
   ],
   "source": [
    "gbm = (xgb.XGBClassifier(n_estimators=2000, max_depth=4, objective='binary:logistic', learning_rate=.05, subsample=.8,\n",
    "                         min_child_weight=3, use_label_encoder=False, gamma=.2))\n",
    "eval_set=[(X_train_test, y_train_test),(X_val,y_val)]\n",
    "gbm.fit(X_train_test, y_train_test, eval_set=eval_set,eval_metric='logloss', early_stopping_rounds=50, verbose=False)\n",
    "print(f'Precision score: {precision_score(y_test, gbm.predict(X_test))}')\n",
    "print(f'Confusion Matrix:')\n",
    "print(confusion_matrix(y_test, gbm.predict(X_test)))"
   ]
  },
  {
   "cell_type": "code",
   "execution_count": 398,
   "id": "9b336b2c",
   "metadata": {},
   "outputs": [
    {
     "data": {
      "text/plain": [
       "array([[256,   2],\n",
       "       [125,  74]])"
      ]
     },
     "execution_count": 398,
     "metadata": {},
     "output_type": "execute_result"
    }
   ],
   "source": [
    "confusion_matrix(y_test, (gbm.predict_proba(X_test)[:,1]>0.7))"
   ]
  },
  {
   "cell_type": "code",
   "execution_count": 393,
   "id": "279322b5",
   "metadata": {},
   "outputs": [
    {
     "data": {
      "text/plain": [
       "0.8663366336633663"
      ]
     },
     "execution_count": 393,
     "metadata": {},
     "output_type": "execute_result"
    }
   ],
   "source": [
    "precision_score(y_val, gbm.predict(X_val))\n",
    "precision_score(y_test, gbm.predict(X_test))"
   ]
  },
  {
   "cell_type": "code",
   "execution_count": 388,
   "id": "de8ade75",
   "metadata": {},
   "outputs": [
    {
     "data": {
      "text/plain": [
       "0.44206008583690987"
      ]
     },
     "execution_count": 388,
     "metadata": {},
     "output_type": "execute_result"
    }
   ],
   "source": [
    "y_val.mean()"
   ]
  },
  {
   "cell_type": "markdown",
   "id": "128eeb6c",
   "metadata": {},
   "source": [
    "#### Old Functions"
   ]
  },
  {
   "cell_type": "code",
   "execution_count": 81,
   "id": "64577c20",
   "metadata": {},
   "outputs": [
    {
     "name": "stdout",
     "output_type": "stream",
     "text": [
      "Fitting 10 folds for each of 20 candidates, totalling 200 fits\n",
      "[15:34:32] WARNING: /Users/runner/miniforge3/conda-bld/xgboost-split_1634712680264/work/src/learner.cc:1115: Starting in XGBoost 1.3.0, the default evaluation metric used with the objective 'binary:logistic' was changed from 'error' to 'logloss'. Explicitly set eval_metric if you'd like to restore the old behavior.\n",
      "[15:34:53] WARNING: /Users/runner/miniforge3/conda-bld/xgboost-split_1634712680264/work/src/learner.cc:1115: Starting in XGBoost 1.3.0, the default evaluation metric used with the objective 'binary:logistic' was changed from 'error' to 'logloss'. Explicitly set eval_metric if you'd like to restore the old behavior.\n",
      "[15:35:15] WARNING: /Users/runner/miniforge3/conda-bld/xgboost-split_1634712680264/work/src/learner.cc:1115: Starting in XGBoost 1.3.0, the default evaluation metric used with the objective 'binary:logistic' was changed from 'error' to 'logloss'. Explicitly set eval_metric if you'd like to restore the old behavior.\n",
      "[15:35:33] WARNING: /Users/runner/miniforge3/conda-bld/xgboost-split_1634712680264/work/src/learner.cc:1115: Starting in XGBoost 1.3.0, the default evaluation metric used with the objective 'binary:logistic' was changed from 'error' to 'logloss'. Explicitly set eval_metric if you'd like to restore the old behavior.\n",
      "[15:35:51] WARNING: /Users/runner/miniforge3/conda-bld/xgboost-split_1634712680264/work/src/learner.cc:1115: Starting in XGBoost 1.3.0, the default evaluation metric used with the objective 'binary:logistic' was changed from 'error' to 'logloss'. Explicitly set eval_metric if you'd like to restore the old behavior.\n",
      "[15:36:10] WARNING: /Users/runner/miniforge3/conda-bld/xgboost-split_1634712680264/work/src/learner.cc:1115: Starting in XGBoost 1.3.0, the default evaluation metric used with the objective 'binary:logistic' was changed from 'error' to 'logloss'. Explicitly set eval_metric if you'd like to restore the old behavior.\n",
      "[15:36:29] WARNING: /Users/runner/miniforge3/conda-bld/xgboost-split_1634712680264/work/src/learner.cc:1115: Starting in XGBoost 1.3.0, the default evaluation metric used with the objective 'binary:logistic' was changed from 'error' to 'logloss'. Explicitly set eval_metric if you'd like to restore the old behavior.\n",
      "[15:36:46] WARNING: /Users/runner/miniforge3/conda-bld/xgboost-split_1634712680264/work/src/learner.cc:1115: Starting in XGBoost 1.3.0, the default evaluation metric used with the objective 'binary:logistic' was changed from 'error' to 'logloss'. Explicitly set eval_metric if you'd like to restore the old behavior.\n",
      "[15:37:03] WARNING: /Users/runner/miniforge3/conda-bld/xgboost-split_1634712680264/work/src/learner.cc:1115: Starting in XGBoost 1.3.0, the default evaluation metric used with the objective 'binary:logistic' was changed from 'error' to 'logloss'. Explicitly set eval_metric if you'd like to restore the old behavior.\n",
      "[15:37:20] WARNING: /Users/runner/miniforge3/conda-bld/xgboost-split_1634712680264/work/src/learner.cc:1115: Starting in XGBoost 1.3.0, the default evaluation metric used with the objective 'binary:logistic' was changed from 'error' to 'logloss'. Explicitly set eval_metric if you'd like to restore the old behavior.\n",
      "[15:37:37] WARNING: /Users/runner/miniforge3/conda-bld/xgboost-split_1634712680264/work/src/learner.cc:1115: Starting in XGBoost 1.3.0, the default evaluation metric used with the objective 'binary:logistic' was changed from 'error' to 'logloss'. Explicitly set eval_metric if you'd like to restore the old behavior.\n",
      "[15:37:54] WARNING: /Users/runner/miniforge3/conda-bld/xgboost-split_1634712680264/work/src/learner.cc:1115: Starting in XGBoost 1.3.0, the default evaluation metric used with the objective 'binary:logistic' was changed from 'error' to 'logloss'. Explicitly set eval_metric if you'd like to restore the old behavior.\n",
      "[15:38:11] WARNING: /Users/runner/miniforge3/conda-bld/xgboost-split_1634712680264/work/src/learner.cc:1115: Starting in XGBoost 1.3.0, the default evaluation metric used with the objective 'binary:logistic' was changed from 'error' to 'logloss'. Explicitly set eval_metric if you'd like to restore the old behavior.\n",
      "[15:38:28] WARNING: /Users/runner/miniforge3/conda-bld/xgboost-split_1634712680264/work/src/learner.cc:1115: Starting in XGBoost 1.3.0, the default evaluation metric used with the objective 'binary:logistic' was changed from 'error' to 'logloss'. Explicitly set eval_metric if you'd like to restore the old behavior.\n",
      "[15:38:45] WARNING: /Users/runner/miniforge3/conda-bld/xgboost-split_1634712680264/work/src/learner.cc:1115: Starting in XGBoost 1.3.0, the default evaluation metric used with the objective 'binary:logistic' was changed from 'error' to 'logloss'. Explicitly set eval_metric if you'd like to restore the old behavior.\n",
      "[15:39:03] WARNING: /Users/runner/miniforge3/conda-bld/xgboost-split_1634712680264/work/src/learner.cc:1115: Starting in XGBoost 1.3.0, the default evaluation metric used with the objective 'binary:logistic' was changed from 'error' to 'logloss'. Explicitly set eval_metric if you'd like to restore the old behavior.\n",
      "[15:39:19] WARNING: /Users/runner/miniforge3/conda-bld/xgboost-split_1634712680264/work/src/learner.cc:1115: Starting in XGBoost 1.3.0, the default evaluation metric used with the objective 'binary:logistic' was changed from 'error' to 'logloss'. Explicitly set eval_metric if you'd like to restore the old behavior.\n",
      "[15:39:37] WARNING: /Users/runner/miniforge3/conda-bld/xgboost-split_1634712680264/work/src/learner.cc:1115: Starting in XGBoost 1.3.0, the default evaluation metric used with the objective 'binary:logistic' was changed from 'error' to 'logloss'. Explicitly set eval_metric if you'd like to restore the old behavior.\n",
      "[15:39:54] WARNING: /Users/runner/miniforge3/conda-bld/xgboost-split_1634712680264/work/src/learner.cc:1115: Starting in XGBoost 1.3.0, the default evaluation metric used with the objective 'binary:logistic' was changed from 'error' to 'logloss'. Explicitly set eval_metric if you'd like to restore the old behavior.\n",
      "[15:40:11] WARNING: /Users/runner/miniforge3/conda-bld/xgboost-split_1634712680264/work/src/learner.cc:1115: Starting in XGBoost 1.3.0, the default evaluation metric used with the objective 'binary:logistic' was changed from 'error' to 'logloss'. Explicitly set eval_metric if you'd like to restore the old behavior.\n",
      "[15:40:28] WARNING: /Users/runner/miniforge3/conda-bld/xgboost-split_1634712680264/work/src/learner.cc:1115: Starting in XGBoost 1.3.0, the default evaluation metric used with the objective 'binary:logistic' was changed from 'error' to 'logloss'. Explicitly set eval_metric if you'd like to restore the old behavior.\n",
      "[15:40:49] WARNING: /Users/runner/miniforge3/conda-bld/xgboost-split_1634712680264/work/src/learner.cc:1115: Starting in XGBoost 1.3.0, the default evaluation metric used with the objective 'binary:logistic' was changed from 'error' to 'logloss'. Explicitly set eval_metric if you'd like to restore the old behavior.\n",
      "[15:41:10] WARNING: /Users/runner/miniforge3/conda-bld/xgboost-split_1634712680264/work/src/learner.cc:1115: Starting in XGBoost 1.3.0, the default evaluation metric used with the objective 'binary:logistic' was changed from 'error' to 'logloss'. Explicitly set eval_metric if you'd like to restore the old behavior.\n",
      "[15:41:31] WARNING: /Users/runner/miniforge3/conda-bld/xgboost-split_1634712680264/work/src/learner.cc:1115: Starting in XGBoost 1.3.0, the default evaluation metric used with the objective 'binary:logistic' was changed from 'error' to 'logloss'. Explicitly set eval_metric if you'd like to restore the old behavior.\n",
      "[15:41:52] WARNING: /Users/runner/miniforge3/conda-bld/xgboost-split_1634712680264/work/src/learner.cc:1115: Starting in XGBoost 1.3.0, the default evaluation metric used with the objective 'binary:logistic' was changed from 'error' to 'logloss'. Explicitly set eval_metric if you'd like to restore the old behavior.\n",
      "[15:42:13] WARNING: /Users/runner/miniforge3/conda-bld/xgboost-split_1634712680264/work/src/learner.cc:1115: Starting in XGBoost 1.3.0, the default evaluation metric used with the objective 'binary:logistic' was changed from 'error' to 'logloss'. Explicitly set eval_metric if you'd like to restore the old behavior.\n"
     ]
    },
    {
     "name": "stdout",
     "output_type": "stream",
     "text": [
      "[15:42:34] WARNING: /Users/runner/miniforge3/conda-bld/xgboost-split_1634712680264/work/src/learner.cc:1115: Starting in XGBoost 1.3.0, the default evaluation metric used with the objective 'binary:logistic' was changed from 'error' to 'logloss'. Explicitly set eval_metric if you'd like to restore the old behavior.\n",
      "[15:42:55] WARNING: /Users/runner/miniforge3/conda-bld/xgboost-split_1634712680264/work/src/learner.cc:1115: Starting in XGBoost 1.3.0, the default evaluation metric used with the objective 'binary:logistic' was changed from 'error' to 'logloss'. Explicitly set eval_metric if you'd like to restore the old behavior.\n",
      "[15:43:16] WARNING: /Users/runner/miniforge3/conda-bld/xgboost-split_1634712680264/work/src/learner.cc:1115: Starting in XGBoost 1.3.0, the default evaluation metric used with the objective 'binary:logistic' was changed from 'error' to 'logloss'. Explicitly set eval_metric if you'd like to restore the old behavior.\n",
      "[15:43:37] WARNING: /Users/runner/miniforge3/conda-bld/xgboost-split_1634712680264/work/src/learner.cc:1115: Starting in XGBoost 1.3.0, the default evaluation metric used with the objective 'binary:logistic' was changed from 'error' to 'logloss'. Explicitly set eval_metric if you'd like to restore the old behavior.\n",
      "[15:43:57] WARNING: /Users/runner/miniforge3/conda-bld/xgboost-split_1634712680264/work/src/learner.cc:1115: Starting in XGBoost 1.3.0, the default evaluation metric used with the objective 'binary:logistic' was changed from 'error' to 'logloss'. Explicitly set eval_metric if you'd like to restore the old behavior.\n",
      "[15:44:15] WARNING: /Users/runner/miniforge3/conda-bld/xgboost-split_1634712680264/work/src/learner.cc:1115: Starting in XGBoost 1.3.0, the default evaluation metric used with the objective 'binary:logistic' was changed from 'error' to 'logloss'. Explicitly set eval_metric if you'd like to restore the old behavior.\n",
      "[15:44:33] WARNING: /Users/runner/miniforge3/conda-bld/xgboost-split_1634712680264/work/src/learner.cc:1115: Starting in XGBoost 1.3.0, the default evaluation metric used with the objective 'binary:logistic' was changed from 'error' to 'logloss'. Explicitly set eval_metric if you'd like to restore the old behavior.\n",
      "[15:44:50] WARNING: /Users/runner/miniforge3/conda-bld/xgboost-split_1634712680264/work/src/learner.cc:1115: Starting in XGBoost 1.3.0, the default evaluation metric used with the objective 'binary:logistic' was changed from 'error' to 'logloss'. Explicitly set eval_metric if you'd like to restore the old behavior.\n",
      "[15:45:07] WARNING: /Users/runner/miniforge3/conda-bld/xgboost-split_1634712680264/work/src/learner.cc:1115: Starting in XGBoost 1.3.0, the default evaluation metric used with the objective 'binary:logistic' was changed from 'error' to 'logloss'. Explicitly set eval_metric if you'd like to restore the old behavior.\n",
      "[15:45:24] WARNING: /Users/runner/miniforge3/conda-bld/xgboost-split_1634712680264/work/src/learner.cc:1115: Starting in XGBoost 1.3.0, the default evaluation metric used with the objective 'binary:logistic' was changed from 'error' to 'logloss'. Explicitly set eval_metric if you'd like to restore the old behavior.\n",
      "[15:45:41] WARNING: /Users/runner/miniforge3/conda-bld/xgboost-split_1634712680264/work/src/learner.cc:1115: Starting in XGBoost 1.3.0, the default evaluation metric used with the objective 'binary:logistic' was changed from 'error' to 'logloss'. Explicitly set eval_metric if you'd like to restore the old behavior.\n",
      "[15:45:58] WARNING: /Users/runner/miniforge3/conda-bld/xgboost-split_1634712680264/work/src/learner.cc:1115: Starting in XGBoost 1.3.0, the default evaluation metric used with the objective 'binary:logistic' was changed from 'error' to 'logloss'. Explicitly set eval_metric if you'd like to restore the old behavior.\n",
      "[15:46:15] WARNING: /Users/runner/miniforge3/conda-bld/xgboost-split_1634712680264/work/src/learner.cc:1115: Starting in XGBoost 1.3.0, the default evaluation metric used with the objective 'binary:logistic' was changed from 'error' to 'logloss'. Explicitly set eval_metric if you'd like to restore the old behavior.\n",
      "[15:46:32] WARNING: /Users/runner/miniforge3/conda-bld/xgboost-split_1634712680264/work/src/learner.cc:1115: Starting in XGBoost 1.3.0, the default evaluation metric used with the objective 'binary:logistic' was changed from 'error' to 'logloss'. Explicitly set eval_metric if you'd like to restore the old behavior.\n",
      "[15:46:49] WARNING: /Users/runner/miniforge3/conda-bld/xgboost-split_1634712680264/work/src/learner.cc:1115: Starting in XGBoost 1.3.0, the default evaluation metric used with the objective 'binary:logistic' was changed from 'error' to 'logloss'. Explicitly set eval_metric if you'd like to restore the old behavior.\n",
      "[15:47:07] WARNING: /Users/runner/miniforge3/conda-bld/xgboost-split_1634712680264/work/src/learner.cc:1115: Starting in XGBoost 1.3.0, the default evaluation metric used with the objective 'binary:logistic' was changed from 'error' to 'logloss'. Explicitly set eval_metric if you'd like to restore the old behavior.\n",
      "[15:47:24] WARNING: /Users/runner/miniforge3/conda-bld/xgboost-split_1634712680264/work/src/learner.cc:1115: Starting in XGBoost 1.3.0, the default evaluation metric used with the objective 'binary:logistic' was changed from 'error' to 'logloss'. Explicitly set eval_metric if you'd like to restore the old behavior.\n",
      "[15:47:41] WARNING: /Users/runner/miniforge3/conda-bld/xgboost-split_1634712680264/work/src/learner.cc:1115: Starting in XGBoost 1.3.0, the default evaluation metric used with the objective 'binary:logistic' was changed from 'error' to 'logloss'. Explicitly set eval_metric if you'd like to restore the old behavior.\n",
      "[15:47:59] WARNING: /Users/runner/miniforge3/conda-bld/xgboost-split_1634712680264/work/src/learner.cc:1115: Starting in XGBoost 1.3.0, the default evaluation metric used with the objective 'binary:logistic' was changed from 'error' to 'logloss'. Explicitly set eval_metric if you'd like to restore the old behavior.\n",
      "[15:48:16] WARNING: /Users/runner/miniforge3/conda-bld/xgboost-split_1634712680264/work/src/learner.cc:1115: Starting in XGBoost 1.3.0, the default evaluation metric used with the objective 'binary:logistic' was changed from 'error' to 'logloss'. Explicitly set eval_metric if you'd like to restore the old behavior.\n",
      "[15:48:34] WARNING: /Users/runner/miniforge3/conda-bld/xgboost-split_1634712680264/work/src/learner.cc:1115: Starting in XGBoost 1.3.0, the default evaluation metric used with the objective 'binary:logistic' was changed from 'error' to 'logloss'. Explicitly set eval_metric if you'd like to restore the old behavior.\n",
      "[15:48:51] WARNING: /Users/runner/miniforge3/conda-bld/xgboost-split_1634712680264/work/src/learner.cc:1115: Starting in XGBoost 1.3.0, the default evaluation metric used with the objective 'binary:logistic' was changed from 'error' to 'logloss'. Explicitly set eval_metric if you'd like to restore the old behavior.\n",
      "[15:49:08] WARNING: /Users/runner/miniforge3/conda-bld/xgboost-split_1634712680264/work/src/learner.cc:1115: Starting in XGBoost 1.3.0, the default evaluation metric used with the objective 'binary:logistic' was changed from 'error' to 'logloss'. Explicitly set eval_metric if you'd like to restore the old behavior.\n",
      "[15:49:26] WARNING: /Users/runner/miniforge3/conda-bld/xgboost-split_1634712680264/work/src/learner.cc:1115: Starting in XGBoost 1.3.0, the default evaluation metric used with the objective 'binary:logistic' was changed from 'error' to 'logloss'. Explicitly set eval_metric if you'd like to restore the old behavior.\n",
      "[15:49:43] WARNING: /Users/runner/miniforge3/conda-bld/xgboost-split_1634712680264/work/src/learner.cc:1115: Starting in XGBoost 1.3.0, the default evaluation metric used with the objective 'binary:logistic' was changed from 'error' to 'logloss'. Explicitly set eval_metric if you'd like to restore the old behavior.\n",
      "[15:50:01] WARNING: /Users/runner/miniforge3/conda-bld/xgboost-split_1634712680264/work/src/learner.cc:1115: Starting in XGBoost 1.3.0, the default evaluation metric used with the objective 'binary:logistic' was changed from 'error' to 'logloss'. Explicitly set eval_metric if you'd like to restore the old behavior.\n"
     ]
    },
    {
     "name": "stdout",
     "output_type": "stream",
     "text": [
      "[15:50:18] WARNING: /Users/runner/miniforge3/conda-bld/xgboost-split_1634712680264/work/src/learner.cc:1115: Starting in XGBoost 1.3.0, the default evaluation metric used with the objective 'binary:logistic' was changed from 'error' to 'logloss'. Explicitly set eval_metric if you'd like to restore the old behavior.\n",
      "[15:50:35] WARNING: /Users/runner/miniforge3/conda-bld/xgboost-split_1634712680264/work/src/learner.cc:1115: Starting in XGBoost 1.3.0, the default evaluation metric used with the objective 'binary:logistic' was changed from 'error' to 'logloss'. Explicitly set eval_metric if you'd like to restore the old behavior.\n",
      "[15:50:52] WARNING: /Users/runner/miniforge3/conda-bld/xgboost-split_1634712680264/work/src/learner.cc:1115: Starting in XGBoost 1.3.0, the default evaluation metric used with the objective 'binary:logistic' was changed from 'error' to 'logloss'. Explicitly set eval_metric if you'd like to restore the old behavior.\n",
      "[15:51:09] WARNING: /Users/runner/miniforge3/conda-bld/xgboost-split_1634712680264/work/src/learner.cc:1115: Starting in XGBoost 1.3.0, the default evaluation metric used with the objective 'binary:logistic' was changed from 'error' to 'logloss'. Explicitly set eval_metric if you'd like to restore the old behavior.\n",
      "[15:51:26] WARNING: /Users/runner/miniforge3/conda-bld/xgboost-split_1634712680264/work/src/learner.cc:1115: Starting in XGBoost 1.3.0, the default evaluation metric used with the objective 'binary:logistic' was changed from 'error' to 'logloss'. Explicitly set eval_metric if you'd like to restore the old behavior.\n",
      "[15:51:43] WARNING: /Users/runner/miniforge3/conda-bld/xgboost-split_1634712680264/work/src/learner.cc:1115: Starting in XGBoost 1.3.0, the default evaluation metric used with the objective 'binary:logistic' was changed from 'error' to 'logloss'. Explicitly set eval_metric if you'd like to restore the old behavior.\n",
      "[15:52:01] WARNING: /Users/runner/miniforge3/conda-bld/xgboost-split_1634712680264/work/src/learner.cc:1115: Starting in XGBoost 1.3.0, the default evaluation metric used with the objective 'binary:logistic' was changed from 'error' to 'logloss'. Explicitly set eval_metric if you'd like to restore the old behavior.\n",
      "[15:52:18] WARNING: /Users/runner/miniforge3/conda-bld/xgboost-split_1634712680264/work/src/learner.cc:1115: Starting in XGBoost 1.3.0, the default evaluation metric used with the objective 'binary:logistic' was changed from 'error' to 'logloss'. Explicitly set eval_metric if you'd like to restore the old behavior.\n",
      "[15:52:35] WARNING: /Users/runner/miniforge3/conda-bld/xgboost-split_1634712680264/work/src/learner.cc:1115: Starting in XGBoost 1.3.0, the default evaluation metric used with the objective 'binary:logistic' was changed from 'error' to 'logloss'. Explicitly set eval_metric if you'd like to restore the old behavior.\n",
      "[15:52:56] WARNING: /Users/runner/miniforge3/conda-bld/xgboost-split_1634712680264/work/src/learner.cc:1115: Starting in XGBoost 1.3.0, the default evaluation metric used with the objective 'binary:logistic' was changed from 'error' to 'logloss'. Explicitly set eval_metric if you'd like to restore the old behavior.\n",
      "[15:53:18] WARNING: /Users/runner/miniforge3/conda-bld/xgboost-split_1634712680264/work/src/learner.cc:1115: Starting in XGBoost 1.3.0, the default evaluation metric used with the objective 'binary:logistic' was changed from 'error' to 'logloss'. Explicitly set eval_metric if you'd like to restore the old behavior.\n",
      "[15:53:39] WARNING: /Users/runner/miniforge3/conda-bld/xgboost-split_1634712680264/work/src/learner.cc:1115: Starting in XGBoost 1.3.0, the default evaluation metric used with the objective 'binary:logistic' was changed from 'error' to 'logloss'. Explicitly set eval_metric if you'd like to restore the old behavior.\n",
      "[15:54:01] WARNING: /Users/runner/miniforge3/conda-bld/xgboost-split_1634712680264/work/src/learner.cc:1115: Starting in XGBoost 1.3.0, the default evaluation metric used with the objective 'binary:logistic' was changed from 'error' to 'logloss'. Explicitly set eval_metric if you'd like to restore the old behavior.\n",
      "[15:54:22] WARNING: /Users/runner/miniforge3/conda-bld/xgboost-split_1634712680264/work/src/learner.cc:1115: Starting in XGBoost 1.3.0, the default evaluation metric used with the objective 'binary:logistic' was changed from 'error' to 'logloss'. Explicitly set eval_metric if you'd like to restore the old behavior.\n",
      "[15:54:44] WARNING: /Users/runner/miniforge3/conda-bld/xgboost-split_1634712680264/work/src/learner.cc:1115: Starting in XGBoost 1.3.0, the default evaluation metric used with the objective 'binary:logistic' was changed from 'error' to 'logloss'. Explicitly set eval_metric if you'd like to restore the old behavior.\n",
      "[15:55:06] WARNING: /Users/runner/miniforge3/conda-bld/xgboost-split_1634712680264/work/src/learner.cc:1115: Starting in XGBoost 1.3.0, the default evaluation metric used with the objective 'binary:logistic' was changed from 'error' to 'logloss'. Explicitly set eval_metric if you'd like to restore the old behavior.\n",
      "[15:55:27] WARNING: /Users/runner/miniforge3/conda-bld/xgboost-split_1634712680264/work/src/learner.cc:1115: Starting in XGBoost 1.3.0, the default evaluation metric used with the objective 'binary:logistic' was changed from 'error' to 'logloss'. Explicitly set eval_metric if you'd like to restore the old behavior.\n",
      "[15:55:47] WARNING: /Users/runner/miniforge3/conda-bld/xgboost-split_1634712680264/work/src/learner.cc:1115: Starting in XGBoost 1.3.0, the default evaluation metric used with the objective 'binary:logistic' was changed from 'error' to 'logloss'. Explicitly set eval_metric if you'd like to restore the old behavior.\n",
      "[15:56:09] WARNING: /Users/runner/miniforge3/conda-bld/xgboost-split_1634712680264/work/src/learner.cc:1115: Starting in XGBoost 1.3.0, the default evaluation metric used with the objective 'binary:logistic' was changed from 'error' to 'logloss'. Explicitly set eval_metric if you'd like to restore the old behavior.\n",
      "[15:56:32] WARNING: /Users/runner/miniforge3/conda-bld/xgboost-split_1634712680264/work/src/learner.cc:1115: Starting in XGBoost 1.3.0, the default evaluation metric used with the objective 'binary:logistic' was changed from 'error' to 'logloss'. Explicitly set eval_metric if you'd like to restore the old behavior.\n",
      "[15:56:54] WARNING: /Users/runner/miniforge3/conda-bld/xgboost-split_1634712680264/work/src/learner.cc:1115: Starting in XGBoost 1.3.0, the default evaluation metric used with the objective 'binary:logistic' was changed from 'error' to 'logloss'. Explicitly set eval_metric if you'd like to restore the old behavior.\n",
      "[15:57:16] WARNING: /Users/runner/miniforge3/conda-bld/xgboost-split_1634712680264/work/src/learner.cc:1115: Starting in XGBoost 1.3.0, the default evaluation metric used with the objective 'binary:logistic' was changed from 'error' to 'logloss'. Explicitly set eval_metric if you'd like to restore the old behavior.\n",
      "[15:57:39] WARNING: /Users/runner/miniforge3/conda-bld/xgboost-split_1634712680264/work/src/learner.cc:1115: Starting in XGBoost 1.3.0, the default evaluation metric used with the objective 'binary:logistic' was changed from 'error' to 'logloss'. Explicitly set eval_metric if you'd like to restore the old behavior.\n",
      "[15:57:53] WARNING: /Users/runner/miniforge3/conda-bld/xgboost-split_1634712680264/work/src/learner.cc:1115: Starting in XGBoost 1.3.0, the default evaluation metric used with the objective 'binary:logistic' was changed from 'error' to 'logloss'. Explicitly set eval_metric if you'd like to restore the old behavior.\n",
      "[15:58:06] WARNING: /Users/runner/miniforge3/conda-bld/xgboost-split_1634712680264/work/src/learner.cc:1115: Starting in XGBoost 1.3.0, the default evaluation metric used with the objective 'binary:logistic' was changed from 'error' to 'logloss'. Explicitly set eval_metric if you'd like to restore the old behavior.\n",
      "[15:58:20] WARNING: /Users/runner/miniforge3/conda-bld/xgboost-split_1634712680264/work/src/learner.cc:1115: Starting in XGBoost 1.3.0, the default evaluation metric used with the objective 'binary:logistic' was changed from 'error' to 'logloss'. Explicitly set eval_metric if you'd like to restore the old behavior.\n"
     ]
    },
    {
     "name": "stdout",
     "output_type": "stream",
     "text": [
      "[15:58:33] WARNING: /Users/runner/miniforge3/conda-bld/xgboost-split_1634712680264/work/src/learner.cc:1115: Starting in XGBoost 1.3.0, the default evaluation metric used with the objective 'binary:logistic' was changed from 'error' to 'logloss'. Explicitly set eval_metric if you'd like to restore the old behavior.\n",
      "[15:58:47] WARNING: /Users/runner/miniforge3/conda-bld/xgboost-split_1634712680264/work/src/learner.cc:1115: Starting in XGBoost 1.3.0, the default evaluation metric used with the objective 'binary:logistic' was changed from 'error' to 'logloss'. Explicitly set eval_metric if you'd like to restore the old behavior.\n",
      "[15:59:00] WARNING: /Users/runner/miniforge3/conda-bld/xgboost-split_1634712680264/work/src/learner.cc:1115: Starting in XGBoost 1.3.0, the default evaluation metric used with the objective 'binary:logistic' was changed from 'error' to 'logloss'. Explicitly set eval_metric if you'd like to restore the old behavior.\n",
      "[15:59:11] WARNING: /Users/runner/miniforge3/conda-bld/xgboost-split_1634712680264/work/src/learner.cc:1115: Starting in XGBoost 1.3.0, the default evaluation metric used with the objective 'binary:logistic' was changed from 'error' to 'logloss'. Explicitly set eval_metric if you'd like to restore the old behavior.\n",
      "[15:59:23] WARNING: /Users/runner/miniforge3/conda-bld/xgboost-split_1634712680264/work/src/learner.cc:1115: Starting in XGBoost 1.3.0, the default evaluation metric used with the objective 'binary:logistic' was changed from 'error' to 'logloss'. Explicitly set eval_metric if you'd like to restore the old behavior.\n",
      "[15:59:34] WARNING: /Users/runner/miniforge3/conda-bld/xgboost-split_1634712680264/work/src/learner.cc:1115: Starting in XGBoost 1.3.0, the default evaluation metric used with the objective 'binary:logistic' was changed from 'error' to 'logloss'. Explicitly set eval_metric if you'd like to restore the old behavior.\n",
      "[15:59:46] WARNING: /Users/runner/miniforge3/conda-bld/xgboost-split_1634712680264/work/src/learner.cc:1115: Starting in XGBoost 1.3.0, the default evaluation metric used with the objective 'binary:logistic' was changed from 'error' to 'logloss'. Explicitly set eval_metric if you'd like to restore the old behavior.\n",
      "[15:59:58] WARNING: /Users/runner/miniforge3/conda-bld/xgboost-split_1634712680264/work/src/learner.cc:1115: Starting in XGBoost 1.3.0, the default evaluation metric used with the objective 'binary:logistic' was changed from 'error' to 'logloss'. Explicitly set eval_metric if you'd like to restore the old behavior.\n",
      "[16:00:09] WARNING: /Users/runner/miniforge3/conda-bld/xgboost-split_1634712680264/work/src/learner.cc:1115: Starting in XGBoost 1.3.0, the default evaluation metric used with the objective 'binary:logistic' was changed from 'error' to 'logloss'. Explicitly set eval_metric if you'd like to restore the old behavior.\n",
      "[16:00:20] WARNING: /Users/runner/miniforge3/conda-bld/xgboost-split_1634712680264/work/src/learner.cc:1115: Starting in XGBoost 1.3.0, the default evaluation metric used with the objective 'binary:logistic' was changed from 'error' to 'logloss'. Explicitly set eval_metric if you'd like to restore the old behavior.\n",
      "[16:00:32] WARNING: /Users/runner/miniforge3/conda-bld/xgboost-split_1634712680264/work/src/learner.cc:1115: Starting in XGBoost 1.3.0, the default evaluation metric used with the objective 'binary:logistic' was changed from 'error' to 'logloss'. Explicitly set eval_metric if you'd like to restore the old behavior.\n",
      "[16:00:45] WARNING: /Users/runner/miniforge3/conda-bld/xgboost-split_1634712680264/work/src/learner.cc:1115: Starting in XGBoost 1.3.0, the default evaluation metric used with the objective 'binary:logistic' was changed from 'error' to 'logloss'. Explicitly set eval_metric if you'd like to restore the old behavior.\n",
      "[16:00:58] WARNING: /Users/runner/miniforge3/conda-bld/xgboost-split_1634712680264/work/src/learner.cc:1115: Starting in XGBoost 1.3.0, the default evaluation metric used with the objective 'binary:logistic' was changed from 'error' to 'logloss'. Explicitly set eval_metric if you'd like to restore the old behavior.\n",
      "[16:01:11] WARNING: /Users/runner/miniforge3/conda-bld/xgboost-split_1634712680264/work/src/learner.cc:1115: Starting in XGBoost 1.3.0, the default evaluation metric used with the objective 'binary:logistic' was changed from 'error' to 'logloss'. Explicitly set eval_metric if you'd like to restore the old behavior.\n",
      "[16:01:24] WARNING: /Users/runner/miniforge3/conda-bld/xgboost-split_1634712680264/work/src/learner.cc:1115: Starting in XGBoost 1.3.0, the default evaluation metric used with the objective 'binary:logistic' was changed from 'error' to 'logloss'. Explicitly set eval_metric if you'd like to restore the old behavior.\n",
      "[16:01:34] WARNING: /Users/runner/miniforge3/conda-bld/xgboost-split_1634712680264/work/src/learner.cc:1115: Starting in XGBoost 1.3.0, the default evaluation metric used with the objective 'binary:logistic' was changed from 'error' to 'logloss'. Explicitly set eval_metric if you'd like to restore the old behavior.\n",
      "[16:01:45] WARNING: /Users/runner/miniforge3/conda-bld/xgboost-split_1634712680264/work/src/learner.cc:1115: Starting in XGBoost 1.3.0, the default evaluation metric used with the objective 'binary:logistic' was changed from 'error' to 'logloss'. Explicitly set eval_metric if you'd like to restore the old behavior.\n",
      "[16:01:55] WARNING: /Users/runner/miniforge3/conda-bld/xgboost-split_1634712680264/work/src/learner.cc:1115: Starting in XGBoost 1.3.0, the default evaluation metric used with the objective 'binary:logistic' was changed from 'error' to 'logloss'. Explicitly set eval_metric if you'd like to restore the old behavior.\n",
      "[16:02:05] WARNING: /Users/runner/miniforge3/conda-bld/xgboost-split_1634712680264/work/src/learner.cc:1115: Starting in XGBoost 1.3.0, the default evaluation metric used with the objective 'binary:logistic' was changed from 'error' to 'logloss'. Explicitly set eval_metric if you'd like to restore the old behavior.\n",
      "[16:02:15] WARNING: /Users/runner/miniforge3/conda-bld/xgboost-split_1634712680264/work/src/learner.cc:1115: Starting in XGBoost 1.3.0, the default evaluation metric used with the objective 'binary:logistic' was changed from 'error' to 'logloss'. Explicitly set eval_metric if you'd like to restore the old behavior.\n",
      "[16:02:26] WARNING: /Users/runner/miniforge3/conda-bld/xgboost-split_1634712680264/work/src/learner.cc:1115: Starting in XGBoost 1.3.0, the default evaluation metric used with the objective 'binary:logistic' was changed from 'error' to 'logloss'. Explicitly set eval_metric if you'd like to restore the old behavior.\n",
      "[16:02:36] WARNING: /Users/runner/miniforge3/conda-bld/xgboost-split_1634712680264/work/src/learner.cc:1115: Starting in XGBoost 1.3.0, the default evaluation metric used with the objective 'binary:logistic' was changed from 'error' to 'logloss'. Explicitly set eval_metric if you'd like to restore the old behavior.\n",
      "[16:02:46] WARNING: /Users/runner/miniforge3/conda-bld/xgboost-split_1634712680264/work/src/learner.cc:1115: Starting in XGBoost 1.3.0, the default evaluation metric used with the objective 'binary:logistic' was changed from 'error' to 'logloss'. Explicitly set eval_metric if you'd like to restore the old behavior.\n",
      "[16:02:58] WARNING: /Users/runner/miniforge3/conda-bld/xgboost-split_1634712680264/work/src/learner.cc:1115: Starting in XGBoost 1.3.0, the default evaluation metric used with the objective 'binary:logistic' was changed from 'error' to 'logloss'. Explicitly set eval_metric if you'd like to restore the old behavior.\n",
      "[16:03:11] WARNING: /Users/runner/miniforge3/conda-bld/xgboost-split_1634712680264/work/src/learner.cc:1115: Starting in XGBoost 1.3.0, the default evaluation metric used with the objective 'binary:logistic' was changed from 'error' to 'logloss'. Explicitly set eval_metric if you'd like to restore the old behavior.\n",
      "[16:03:23] WARNING: /Users/runner/miniforge3/conda-bld/xgboost-split_1634712680264/work/src/learner.cc:1115: Starting in XGBoost 1.3.0, the default evaluation metric used with the objective 'binary:logistic' was changed from 'error' to 'logloss'. Explicitly set eval_metric if you'd like to restore the old behavior.\n"
     ]
    },
    {
     "name": "stdout",
     "output_type": "stream",
     "text": [
      "[16:03:37] WARNING: /Users/runner/miniforge3/conda-bld/xgboost-split_1634712680264/work/src/learner.cc:1115: Starting in XGBoost 1.3.0, the default evaluation metric used with the objective 'binary:logistic' was changed from 'error' to 'logloss'. Explicitly set eval_metric if you'd like to restore the old behavior.\n",
      "[16:03:51] WARNING: /Users/runner/miniforge3/conda-bld/xgboost-split_1634712680264/work/src/learner.cc:1115: Starting in XGBoost 1.3.0, the default evaluation metric used with the objective 'binary:logistic' was changed from 'error' to 'logloss'. Explicitly set eval_metric if you'd like to restore the old behavior.\n",
      "[16:04:07] WARNING: /Users/runner/miniforge3/conda-bld/xgboost-split_1634712680264/work/src/learner.cc:1115: Starting in XGBoost 1.3.0, the default evaluation metric used with the objective 'binary:logistic' was changed from 'error' to 'logloss'. Explicitly set eval_metric if you'd like to restore the old behavior.\n",
      "[16:04:24] WARNING: /Users/runner/miniforge3/conda-bld/xgboost-split_1634712680264/work/src/learner.cc:1115: Starting in XGBoost 1.3.0, the default evaluation metric used with the objective 'binary:logistic' was changed from 'error' to 'logloss'. Explicitly set eval_metric if you'd like to restore the old behavior.\n",
      "[16:04:41] WARNING: /Users/runner/miniforge3/conda-bld/xgboost-split_1634712680264/work/src/learner.cc:1115: Starting in XGBoost 1.3.0, the default evaluation metric used with the objective 'binary:logistic' was changed from 'error' to 'logloss'. Explicitly set eval_metric if you'd like to restore the old behavior.\n",
      "[16:04:54] WARNING: /Users/runner/miniforge3/conda-bld/xgboost-split_1634712680264/work/src/learner.cc:1115: Starting in XGBoost 1.3.0, the default evaluation metric used with the objective 'binary:logistic' was changed from 'error' to 'logloss'. Explicitly set eval_metric if you'd like to restore the old behavior.\n",
      "[16:05:07] WARNING: /Users/runner/miniforge3/conda-bld/xgboost-split_1634712680264/work/src/learner.cc:1115: Starting in XGBoost 1.3.0, the default evaluation metric used with the objective 'binary:logistic' was changed from 'error' to 'logloss'. Explicitly set eval_metric if you'd like to restore the old behavior.\n",
      "[16:05:20] WARNING: /Users/runner/miniforge3/conda-bld/xgboost-split_1634712680264/work/src/learner.cc:1115: Starting in XGBoost 1.3.0, the default evaluation metric used with the objective 'binary:logistic' was changed from 'error' to 'logloss'. Explicitly set eval_metric if you'd like to restore the old behavior.\n",
      "[16:05:34] WARNING: /Users/runner/miniforge3/conda-bld/xgboost-split_1634712680264/work/src/learner.cc:1115: Starting in XGBoost 1.3.0, the default evaluation metric used with the objective 'binary:logistic' was changed from 'error' to 'logloss'. Explicitly set eval_metric if you'd like to restore the old behavior.\n",
      "[16:05:47] WARNING: /Users/runner/miniforge3/conda-bld/xgboost-split_1634712680264/work/src/learner.cc:1115: Starting in XGBoost 1.3.0, the default evaluation metric used with the objective 'binary:logistic' was changed from 'error' to 'logloss'. Explicitly set eval_metric if you'd like to restore the old behavior.\n",
      "[16:06:00] WARNING: /Users/runner/miniforge3/conda-bld/xgboost-split_1634712680264/work/src/learner.cc:1115: Starting in XGBoost 1.3.0, the default evaluation metric used with the objective 'binary:logistic' was changed from 'error' to 'logloss'. Explicitly set eval_metric if you'd like to restore the old behavior.\n",
      "[16:06:14] WARNING: /Users/runner/miniforge3/conda-bld/xgboost-split_1634712680264/work/src/learner.cc:1115: Starting in XGBoost 1.3.0, the default evaluation metric used with the objective 'binary:logistic' was changed from 'error' to 'logloss'. Explicitly set eval_metric if you'd like to restore the old behavior.\n",
      "[16:06:27] WARNING: /Users/runner/miniforge3/conda-bld/xgboost-split_1634712680264/work/src/learner.cc:1115: Starting in XGBoost 1.3.0, the default evaluation metric used with the objective 'binary:logistic' was changed from 'error' to 'logloss'. Explicitly set eval_metric if you'd like to restore the old behavior.\n",
      "[16:06:40] WARNING: /Users/runner/miniforge3/conda-bld/xgboost-split_1634712680264/work/src/learner.cc:1115: Starting in XGBoost 1.3.0, the default evaluation metric used with the objective 'binary:logistic' was changed from 'error' to 'logloss'. Explicitly set eval_metric if you'd like to restore the old behavior.\n",
      "[16:06:53] WARNING: /Users/runner/miniforge3/conda-bld/xgboost-split_1634712680264/work/src/learner.cc:1115: Starting in XGBoost 1.3.0, the default evaluation metric used with the objective 'binary:logistic' was changed from 'error' to 'logloss'. Explicitly set eval_metric if you'd like to restore the old behavior.\n",
      "[16:07:06] WARNING: /Users/runner/miniforge3/conda-bld/xgboost-split_1634712680264/work/src/learner.cc:1115: Starting in XGBoost 1.3.0, the default evaluation metric used with the objective 'binary:logistic' was changed from 'error' to 'logloss'. Explicitly set eval_metric if you'd like to restore the old behavior.\n",
      "[16:07:19] WARNING: /Users/runner/miniforge3/conda-bld/xgboost-split_1634712680264/work/src/learner.cc:1115: Starting in XGBoost 1.3.0, the default evaluation metric used with the objective 'binary:logistic' was changed from 'error' to 'logloss'. Explicitly set eval_metric if you'd like to restore the old behavior.\n",
      "[16:07:30] WARNING: /Users/runner/miniforge3/conda-bld/xgboost-split_1634712680264/work/src/learner.cc:1115: Starting in XGBoost 1.3.0, the default evaluation metric used with the objective 'binary:logistic' was changed from 'error' to 'logloss'. Explicitly set eval_metric if you'd like to restore the old behavior.\n",
      "[16:07:40] WARNING: /Users/runner/miniforge3/conda-bld/xgboost-split_1634712680264/work/src/learner.cc:1115: Starting in XGBoost 1.3.0, the default evaluation metric used with the objective 'binary:logistic' was changed from 'error' to 'logloss'. Explicitly set eval_metric if you'd like to restore the old behavior.\n",
      "[16:07:51] WARNING: /Users/runner/miniforge3/conda-bld/xgboost-split_1634712680264/work/src/learner.cc:1115: Starting in XGBoost 1.3.0, the default evaluation metric used with the objective 'binary:logistic' was changed from 'error' to 'logloss'. Explicitly set eval_metric if you'd like to restore the old behavior.\n",
      "[16:08:01] WARNING: /Users/runner/miniforge3/conda-bld/xgboost-split_1634712680264/work/src/learner.cc:1115: Starting in XGBoost 1.3.0, the default evaluation metric used with the objective 'binary:logistic' was changed from 'error' to 'logloss'. Explicitly set eval_metric if you'd like to restore the old behavior.\n",
      "[16:08:11] WARNING: /Users/runner/miniforge3/conda-bld/xgboost-split_1634712680264/work/src/learner.cc:1115: Starting in XGBoost 1.3.0, the default evaluation metric used with the objective 'binary:logistic' was changed from 'error' to 'logloss'. Explicitly set eval_metric if you'd like to restore the old behavior.\n",
      "[16:08:23] WARNING: /Users/runner/miniforge3/conda-bld/xgboost-split_1634712680264/work/src/learner.cc:1115: Starting in XGBoost 1.3.0, the default evaluation metric used with the objective 'binary:logistic' was changed from 'error' to 'logloss'. Explicitly set eval_metric if you'd like to restore the old behavior.\n",
      "[16:08:34] WARNING: /Users/runner/miniforge3/conda-bld/xgboost-split_1634712680264/work/src/learner.cc:1115: Starting in XGBoost 1.3.0, the default evaluation metric used with the objective 'binary:logistic' was changed from 'error' to 'logloss'. Explicitly set eval_metric if you'd like to restore the old behavior.\n",
      "[16:08:44] WARNING: /Users/runner/miniforge3/conda-bld/xgboost-split_1634712680264/work/src/learner.cc:1115: Starting in XGBoost 1.3.0, the default evaluation metric used with the objective 'binary:logistic' was changed from 'error' to 'logloss'. Explicitly set eval_metric if you'd like to restore the old behavior.\n",
      "[16:08:54] WARNING: /Users/runner/miniforge3/conda-bld/xgboost-split_1634712680264/work/src/learner.cc:1115: Starting in XGBoost 1.3.0, the default evaluation metric used with the objective 'binary:logistic' was changed from 'error' to 'logloss'. Explicitly set eval_metric if you'd like to restore the old behavior.\n"
     ]
    },
    {
     "name": "stdout",
     "output_type": "stream",
     "text": [
      "[16:09:05] WARNING: /Users/runner/miniforge3/conda-bld/xgboost-split_1634712680264/work/src/learner.cc:1115: Starting in XGBoost 1.3.0, the default evaluation metric used with the objective 'binary:logistic' was changed from 'error' to 'logloss'. Explicitly set eval_metric if you'd like to restore the old behavior.\n",
      "[16:09:15] WARNING: /Users/runner/miniforge3/conda-bld/xgboost-split_1634712680264/work/src/learner.cc:1115: Starting in XGBoost 1.3.0, the default evaluation metric used with the objective 'binary:logistic' was changed from 'error' to 'logloss'. Explicitly set eval_metric if you'd like to restore the old behavior.\n",
      "[16:09:26] WARNING: /Users/runner/miniforge3/conda-bld/xgboost-split_1634712680264/work/src/learner.cc:1115: Starting in XGBoost 1.3.0, the default evaluation metric used with the objective 'binary:logistic' was changed from 'error' to 'logloss'. Explicitly set eval_metric if you'd like to restore the old behavior.\n",
      "[16:09:37] WARNING: /Users/runner/miniforge3/conda-bld/xgboost-split_1634712680264/work/src/learner.cc:1115: Starting in XGBoost 1.3.0, the default evaluation metric used with the objective 'binary:logistic' was changed from 'error' to 'logloss'. Explicitly set eval_metric if you'd like to restore the old behavior.\n",
      "[16:09:49] WARNING: /Users/runner/miniforge3/conda-bld/xgboost-split_1634712680264/work/src/learner.cc:1115: Starting in XGBoost 1.3.0, the default evaluation metric used with the objective 'binary:logistic' was changed from 'error' to 'logloss'. Explicitly set eval_metric if you'd like to restore the old behavior.\n",
      "[16:09:59] WARNING: /Users/runner/miniforge3/conda-bld/xgboost-split_1634712680264/work/src/learner.cc:1115: Starting in XGBoost 1.3.0, the default evaluation metric used with the objective 'binary:logistic' was changed from 'error' to 'logloss'. Explicitly set eval_metric if you'd like to restore the old behavior.\n",
      "[16:10:09] WARNING: /Users/runner/miniforge3/conda-bld/xgboost-split_1634712680264/work/src/learner.cc:1115: Starting in XGBoost 1.3.0, the default evaluation metric used with the objective 'binary:logistic' was changed from 'error' to 'logloss'. Explicitly set eval_metric if you'd like to restore the old behavior.\n",
      "[16:10:20] WARNING: /Users/runner/miniforge3/conda-bld/xgboost-split_1634712680264/work/src/learner.cc:1115: Starting in XGBoost 1.3.0, the default evaluation metric used with the objective 'binary:logistic' was changed from 'error' to 'logloss'. Explicitly set eval_metric if you'd like to restore the old behavior.\n",
      "[16:10:30] WARNING: /Users/runner/miniforge3/conda-bld/xgboost-split_1634712680264/work/src/learner.cc:1115: Starting in XGBoost 1.3.0, the default evaluation metric used with the objective 'binary:logistic' was changed from 'error' to 'logloss'. Explicitly set eval_metric if you'd like to restore the old behavior.\n",
      "[16:10:41] WARNING: /Users/runner/miniforge3/conda-bld/xgboost-split_1634712680264/work/src/learner.cc:1115: Starting in XGBoost 1.3.0, the default evaluation metric used with the objective 'binary:logistic' was changed from 'error' to 'logloss'. Explicitly set eval_metric if you'd like to restore the old behavior.\n",
      "[16:10:51] WARNING: /Users/runner/miniforge3/conda-bld/xgboost-split_1634712680264/work/src/learner.cc:1115: Starting in XGBoost 1.3.0, the default evaluation metric used with the objective 'binary:logistic' was changed from 'error' to 'logloss'. Explicitly set eval_metric if you'd like to restore the old behavior.\n",
      "[16:11:02] WARNING: /Users/runner/miniforge3/conda-bld/xgboost-split_1634712680264/work/src/learner.cc:1115: Starting in XGBoost 1.3.0, the default evaluation metric used with the objective 'binary:logistic' was changed from 'error' to 'logloss'. Explicitly set eval_metric if you'd like to restore the old behavior.\n",
      "[16:11:13] WARNING: /Users/runner/miniforge3/conda-bld/xgboost-split_1634712680264/work/src/learner.cc:1115: Starting in XGBoost 1.3.0, the default evaluation metric used with the objective 'binary:logistic' was changed from 'error' to 'logloss'. Explicitly set eval_metric if you'd like to restore the old behavior.\n",
      "[16:11:23] WARNING: /Users/runner/miniforge3/conda-bld/xgboost-split_1634712680264/work/src/learner.cc:1115: Starting in XGBoost 1.3.0, the default evaluation metric used with the objective 'binary:logistic' was changed from 'error' to 'logloss'. Explicitly set eval_metric if you'd like to restore the old behavior.\n",
      "[16:11:34] WARNING: /Users/runner/miniforge3/conda-bld/xgboost-split_1634712680264/work/src/learner.cc:1115: Starting in XGBoost 1.3.0, the default evaluation metric used with the objective 'binary:logistic' was changed from 'error' to 'logloss'. Explicitly set eval_metric if you'd like to restore the old behavior.\n",
      "[16:11:45] WARNING: /Users/runner/miniforge3/conda-bld/xgboost-split_1634712680264/work/src/learner.cc:1115: Starting in XGBoost 1.3.0, the default evaluation metric used with the objective 'binary:logistic' was changed from 'error' to 'logloss'. Explicitly set eval_metric if you'd like to restore the old behavior.\n",
      "[16:11:56] WARNING: /Users/runner/miniforge3/conda-bld/xgboost-split_1634712680264/work/src/learner.cc:1115: Starting in XGBoost 1.3.0, the default evaluation metric used with the objective 'binary:logistic' was changed from 'error' to 'logloss'. Explicitly set eval_metric if you'd like to restore the old behavior.\n",
      "[16:12:07] WARNING: /Users/runner/miniforge3/conda-bld/xgboost-split_1634712680264/work/src/learner.cc:1115: Starting in XGBoost 1.3.0, the default evaluation metric used with the objective 'binary:logistic' was changed from 'error' to 'logloss'. Explicitly set eval_metric if you'd like to restore the old behavior.\n",
      "[16:12:17] WARNING: /Users/runner/miniforge3/conda-bld/xgboost-split_1634712680264/work/src/learner.cc:1115: Starting in XGBoost 1.3.0, the default evaluation metric used with the objective 'binary:logistic' was changed from 'error' to 'logloss'. Explicitly set eval_metric if you'd like to restore the old behavior.\n",
      "[16:12:28] WARNING: /Users/runner/miniforge3/conda-bld/xgboost-split_1634712680264/work/src/learner.cc:1115: Starting in XGBoost 1.3.0, the default evaluation metric used with the objective 'binary:logistic' was changed from 'error' to 'logloss'. Explicitly set eval_metric if you'd like to restore the old behavior.\n",
      "[16:12:38] WARNING: /Users/runner/miniforge3/conda-bld/xgboost-split_1634712680264/work/src/learner.cc:1115: Starting in XGBoost 1.3.0, the default evaluation metric used with the objective 'binary:logistic' was changed from 'error' to 'logloss'. Explicitly set eval_metric if you'd like to restore the old behavior.\n",
      "[16:12:49] WARNING: /Users/runner/miniforge3/conda-bld/xgboost-split_1634712680264/work/src/learner.cc:1115: Starting in XGBoost 1.3.0, the default evaluation metric used with the objective 'binary:logistic' was changed from 'error' to 'logloss'. Explicitly set eval_metric if you'd like to restore the old behavior.\n",
      "[16:13:00] WARNING: /Users/runner/miniforge3/conda-bld/xgboost-split_1634712680264/work/src/learner.cc:1115: Starting in XGBoost 1.3.0, the default evaluation metric used with the objective 'binary:logistic' was changed from 'error' to 'logloss'. Explicitly set eval_metric if you'd like to restore the old behavior.\n",
      "[16:13:10] WARNING: /Users/runner/miniforge3/conda-bld/xgboost-split_1634712680264/work/src/learner.cc:1115: Starting in XGBoost 1.3.0, the default evaluation metric used with the objective 'binary:logistic' was changed from 'error' to 'logloss'. Explicitly set eval_metric if you'd like to restore the old behavior.\n",
      "[16:13:21] WARNING: /Users/runner/miniforge3/conda-bld/xgboost-split_1634712680264/work/src/learner.cc:1115: Starting in XGBoost 1.3.0, the default evaluation metric used with the objective 'binary:logistic' was changed from 'error' to 'logloss'. Explicitly set eval_metric if you'd like to restore the old behavior.\n",
      "[16:13:32] WARNING: /Users/runner/miniforge3/conda-bld/xgboost-split_1634712680264/work/src/learner.cc:1115: Starting in XGBoost 1.3.0, the default evaluation metric used with the objective 'binary:logistic' was changed from 'error' to 'logloss'. Explicitly set eval_metric if you'd like to restore the old behavior.\n"
     ]
    },
    {
     "name": "stdout",
     "output_type": "stream",
     "text": [
      "[16:13:43] WARNING: /Users/runner/miniforge3/conda-bld/xgboost-split_1634712680264/work/src/learner.cc:1115: Starting in XGBoost 1.3.0, the default evaluation metric used with the objective 'binary:logistic' was changed from 'error' to 'logloss'. Explicitly set eval_metric if you'd like to restore the old behavior.\n",
      "[16:13:53] WARNING: /Users/runner/miniforge3/conda-bld/xgboost-split_1634712680264/work/src/learner.cc:1115: Starting in XGBoost 1.3.0, the default evaluation metric used with the objective 'binary:logistic' was changed from 'error' to 'logloss'. Explicitly set eval_metric if you'd like to restore the old behavior.\n",
      "[16:14:04] WARNING: /Users/runner/miniforge3/conda-bld/xgboost-split_1634712680264/work/src/learner.cc:1115: Starting in XGBoost 1.3.0, the default evaluation metric used with the objective 'binary:logistic' was changed from 'error' to 'logloss'. Explicitly set eval_metric if you'd like to restore the old behavior.\n",
      "[16:14:14] WARNING: /Users/runner/miniforge3/conda-bld/xgboost-split_1634712680264/work/src/learner.cc:1115: Starting in XGBoost 1.3.0, the default evaluation metric used with the objective 'binary:logistic' was changed from 'error' to 'logloss'. Explicitly set eval_metric if you'd like to restore the old behavior.\n",
      "[16:14:26] WARNING: /Users/runner/miniforge3/conda-bld/xgboost-split_1634712680264/work/src/learner.cc:1115: Starting in XGBoost 1.3.0, the default evaluation metric used with the objective 'binary:logistic' was changed from 'error' to 'logloss'. Explicitly set eval_metric if you'd like to restore the old behavior.\n",
      "[16:14:37] WARNING: /Users/runner/miniforge3/conda-bld/xgboost-split_1634712680264/work/src/learner.cc:1115: Starting in XGBoost 1.3.0, the default evaluation metric used with the objective 'binary:logistic' was changed from 'error' to 'logloss'. Explicitly set eval_metric if you'd like to restore the old behavior.\n",
      "[16:14:47] WARNING: /Users/runner/miniforge3/conda-bld/xgboost-split_1634712680264/work/src/learner.cc:1115: Starting in XGBoost 1.3.0, the default evaluation metric used with the objective 'binary:logistic' was changed from 'error' to 'logloss'. Explicitly set eval_metric if you'd like to restore the old behavior.\n",
      "[16:14:58] WARNING: /Users/runner/miniforge3/conda-bld/xgboost-split_1634712680264/work/src/learner.cc:1115: Starting in XGBoost 1.3.0, the default evaluation metric used with the objective 'binary:logistic' was changed from 'error' to 'logloss'. Explicitly set eval_metric if you'd like to restore the old behavior.\n",
      "[16:15:08] WARNING: /Users/runner/miniforge3/conda-bld/xgboost-split_1634712680264/work/src/learner.cc:1115: Starting in XGBoost 1.3.0, the default evaluation metric used with the objective 'binary:logistic' was changed from 'error' to 'logloss'. Explicitly set eval_metric if you'd like to restore the old behavior.\n",
      "[16:15:18] WARNING: /Users/runner/miniforge3/conda-bld/xgboost-split_1634712680264/work/src/learner.cc:1115: Starting in XGBoost 1.3.0, the default evaluation metric used with the objective 'binary:logistic' was changed from 'error' to 'logloss'. Explicitly set eval_metric if you'd like to restore the old behavior.\n",
      "[16:15:29] WARNING: /Users/runner/miniforge3/conda-bld/xgboost-split_1634712680264/work/src/learner.cc:1115: Starting in XGBoost 1.3.0, the default evaluation metric used with the objective 'binary:logistic' was changed from 'error' to 'logloss'. Explicitly set eval_metric if you'd like to restore the old behavior.\n",
      "[16:15:39] WARNING: /Users/runner/miniforge3/conda-bld/xgboost-split_1634712680264/work/src/learner.cc:1115: Starting in XGBoost 1.3.0, the default evaluation metric used with the objective 'binary:logistic' was changed from 'error' to 'logloss'. Explicitly set eval_metric if you'd like to restore the old behavior.\n",
      "[16:15:50] WARNING: /Users/runner/miniforge3/conda-bld/xgboost-split_1634712680264/work/src/learner.cc:1115: Starting in XGBoost 1.3.0, the default evaluation metric used with the objective 'binary:logistic' was changed from 'error' to 'logloss'. Explicitly set eval_metric if you'd like to restore the old behavior.\n",
      "[16:16:01] WARNING: /Users/runner/miniforge3/conda-bld/xgboost-split_1634712680264/work/src/learner.cc:1115: Starting in XGBoost 1.3.0, the default evaluation metric used with the objective 'binary:logistic' was changed from 'error' to 'logloss'. Explicitly set eval_metric if you'd like to restore the old behavior.\n",
      "[16:16:11] WARNING: /Users/runner/miniforge3/conda-bld/xgboost-split_1634712680264/work/src/learner.cc:1115: Starting in XGBoost 1.3.0, the default evaluation metric used with the objective 'binary:logistic' was changed from 'error' to 'logloss'. Explicitly set eval_metric if you'd like to restore the old behavior.\n",
      "[16:16:21] WARNING: /Users/runner/miniforge3/conda-bld/xgboost-split_1634712680264/work/src/learner.cc:1115: Starting in XGBoost 1.3.0, the default evaluation metric used with the objective 'binary:logistic' was changed from 'error' to 'logloss'. Explicitly set eval_metric if you'd like to restore the old behavior.\n",
      "[16:16:32] WARNING: /Users/runner/miniforge3/conda-bld/xgboost-split_1634712680264/work/src/learner.cc:1115: Starting in XGBoost 1.3.0, the default evaluation metric used with the objective 'binary:logistic' was changed from 'error' to 'logloss'. Explicitly set eval_metric if you'd like to restore the old behavior.\n",
      "[16:16:42] WARNING: /Users/runner/miniforge3/conda-bld/xgboost-split_1634712680264/work/src/learner.cc:1115: Starting in XGBoost 1.3.0, the default evaluation metric used with the objective 'binary:logistic' was changed from 'error' to 'logloss'. Explicitly set eval_metric if you'd like to restore the old behavior.\n",
      "[16:16:53] WARNING: /Users/runner/miniforge3/conda-bld/xgboost-split_1634712680264/work/src/learner.cc:1115: Starting in XGBoost 1.3.0, the default evaluation metric used with the objective 'binary:logistic' was changed from 'error' to 'logloss'. Explicitly set eval_metric if you'd like to restore the old behavior.\n",
      "[16:17:04] WARNING: /Users/runner/miniforge3/conda-bld/xgboost-split_1634712680264/work/src/learner.cc:1115: Starting in XGBoost 1.3.0, the default evaluation metric used with the objective 'binary:logistic' was changed from 'error' to 'logloss'. Explicitly set eval_metric if you'd like to restore the old behavior.\n",
      "[16:17:14] WARNING: /Users/runner/miniforge3/conda-bld/xgboost-split_1634712680264/work/src/learner.cc:1115: Starting in XGBoost 1.3.0, the default evaluation metric used with the objective 'binary:logistic' was changed from 'error' to 'logloss'. Explicitly set eval_metric if you'd like to restore the old behavior.\n",
      "[16:17:25] WARNING: /Users/runner/miniforge3/conda-bld/xgboost-split_1634712680264/work/src/learner.cc:1115: Starting in XGBoost 1.3.0, the default evaluation metric used with the objective 'binary:logistic' was changed from 'error' to 'logloss'. Explicitly set eval_metric if you'd like to restore the old behavior.\n",
      "[16:17:37] WARNING: /Users/runner/miniforge3/conda-bld/xgboost-split_1634712680264/work/src/learner.cc:1115: Starting in XGBoost 1.3.0, the default evaluation metric used with the objective 'binary:logistic' was changed from 'error' to 'logloss'. Explicitly set eval_metric if you'd like to restore the old behavior.\n",
      "[16:17:47] WARNING: /Users/runner/miniforge3/conda-bld/xgboost-split_1634712680264/work/src/learner.cc:1115: Starting in XGBoost 1.3.0, the default evaluation metric used with the objective 'binary:logistic' was changed from 'error' to 'logloss'. Explicitly set eval_metric if you'd like to restore the old behavior.\n",
      "[16:17:58] WARNING: /Users/runner/miniforge3/conda-bld/xgboost-split_1634712680264/work/src/learner.cc:1115: Starting in XGBoost 1.3.0, the default evaluation metric used with the objective 'binary:logistic' was changed from 'error' to 'logloss'. Explicitly set eval_metric if you'd like to restore the old behavior.\n",
      "[16:18:11] WARNING: /Users/runner/miniforge3/conda-bld/xgboost-split_1634712680264/work/src/learner.cc:1115: Starting in XGBoost 1.3.0, the default evaluation metric used with the objective 'binary:logistic' was changed from 'error' to 'logloss'. Explicitly set eval_metric if you'd like to restore the old behavior.\n"
     ]
    },
    {
     "name": "stdout",
     "output_type": "stream",
     "text": [
      "[16:18:24] WARNING: /Users/runner/miniforge3/conda-bld/xgboost-split_1634712680264/work/src/learner.cc:1115: Starting in XGBoost 1.3.0, the default evaluation metric used with the objective 'binary:logistic' was changed from 'error' to 'logloss'. Explicitly set eval_metric if you'd like to restore the old behavior.\n",
      "[16:18:37] WARNING: /Users/runner/miniforge3/conda-bld/xgboost-split_1634712680264/work/src/learner.cc:1115: Starting in XGBoost 1.3.0, the default evaluation metric used with the objective 'binary:logistic' was changed from 'error' to 'logloss'. Explicitly set eval_metric if you'd like to restore the old behavior.\n",
      "[16:18:49] WARNING: /Users/runner/miniforge3/conda-bld/xgboost-split_1634712680264/work/src/learner.cc:1115: Starting in XGBoost 1.3.0, the default evaluation metric used with the objective 'binary:logistic' was changed from 'error' to 'logloss'. Explicitly set eval_metric if you'd like to restore the old behavior.\n",
      "[16:19:02] WARNING: /Users/runner/miniforge3/conda-bld/xgboost-split_1634712680264/work/src/learner.cc:1115: Starting in XGBoost 1.3.0, the default evaluation metric used with the objective 'binary:logistic' was changed from 'error' to 'logloss'. Explicitly set eval_metric if you'd like to restore the old behavior.\n",
      "[16:19:15] WARNING: /Users/runner/miniforge3/conda-bld/xgboost-split_1634712680264/work/src/learner.cc:1115: Starting in XGBoost 1.3.0, the default evaluation metric used with the objective 'binary:logistic' was changed from 'error' to 'logloss'. Explicitly set eval_metric if you'd like to restore the old behavior.\n",
      "[16:19:28] WARNING: /Users/runner/miniforge3/conda-bld/xgboost-split_1634712680264/work/src/learner.cc:1115: Starting in XGBoost 1.3.0, the default evaluation metric used with the objective 'binary:logistic' was changed from 'error' to 'logloss'. Explicitly set eval_metric if you'd like to restore the old behavior.\n",
      "[16:19:41] WARNING: /Users/runner/miniforge3/conda-bld/xgboost-split_1634712680264/work/src/learner.cc:1115: Starting in XGBoost 1.3.0, the default evaluation metric used with the objective 'binary:logistic' was changed from 'error' to 'logloss'. Explicitly set eval_metric if you'd like to restore the old behavior.\n",
      "[16:19:54] WARNING: /Users/runner/miniforge3/conda-bld/xgboost-split_1634712680264/work/src/learner.cc:1115: Starting in XGBoost 1.3.0, the default evaluation metric used with the objective 'binary:logistic' was changed from 'error' to 'logloss'. Explicitly set eval_metric if you'd like to restore the old behavior.\n",
      "[16:20:07] WARNING: /Users/runner/miniforge3/conda-bld/xgboost-split_1634712680264/work/src/learner.cc:1115: Starting in XGBoost 1.3.0, the default evaluation metric used with the objective 'binary:logistic' was changed from 'error' to 'logloss'. Explicitly set eval_metric if you'd like to restore the old behavior.\n",
      "[16:20:18] WARNING: /Users/runner/miniforge3/conda-bld/xgboost-split_1634712680264/work/src/learner.cc:1115: Starting in XGBoost 1.3.0, the default evaluation metric used with the objective 'binary:logistic' was changed from 'error' to 'logloss'. Explicitly set eval_metric if you'd like to restore the old behavior.\n",
      "[16:20:29] WARNING: /Users/runner/miniforge3/conda-bld/xgboost-split_1634712680264/work/src/learner.cc:1115: Starting in XGBoost 1.3.0, the default evaluation metric used with the objective 'binary:logistic' was changed from 'error' to 'logloss'. Explicitly set eval_metric if you'd like to restore the old behavior.\n",
      "[16:20:39] WARNING: /Users/runner/miniforge3/conda-bld/xgboost-split_1634712680264/work/src/learner.cc:1115: Starting in XGBoost 1.3.0, the default evaluation metric used with the objective 'binary:logistic' was changed from 'error' to 'logloss'. Explicitly set eval_metric if you'd like to restore the old behavior.\n",
      "[16:20:50] WARNING: /Users/runner/miniforge3/conda-bld/xgboost-split_1634712680264/work/src/learner.cc:1115: Starting in XGBoost 1.3.0, the default evaluation metric used with the objective 'binary:logistic' was changed from 'error' to 'logloss'. Explicitly set eval_metric if you'd like to restore the old behavior.\n",
      "[16:21:00] WARNING: /Users/runner/miniforge3/conda-bld/xgboost-split_1634712680264/work/src/learner.cc:1115: Starting in XGBoost 1.3.0, the default evaluation metric used with the objective 'binary:logistic' was changed from 'error' to 'logloss'. Explicitly set eval_metric if you'd like to restore the old behavior.\n",
      "[16:21:11] WARNING: /Users/runner/miniforge3/conda-bld/xgboost-split_1634712680264/work/src/learner.cc:1115: Starting in XGBoost 1.3.0, the default evaluation metric used with the objective 'binary:logistic' was changed from 'error' to 'logloss'. Explicitly set eval_metric if you'd like to restore the old behavior.\n",
      "[16:21:22] WARNING: /Users/runner/miniforge3/conda-bld/xgboost-split_1634712680264/work/src/learner.cc:1115: Starting in XGBoost 1.3.0, the default evaluation metric used with the objective 'binary:logistic' was changed from 'error' to 'logloss'. Explicitly set eval_metric if you'd like to restore the old behavior.\n",
      "[16:21:32] WARNING: /Users/runner/miniforge3/conda-bld/xgboost-split_1634712680264/work/src/learner.cc:1115: Starting in XGBoost 1.3.0, the default evaluation metric used with the objective 'binary:logistic' was changed from 'error' to 'logloss'. Explicitly set eval_metric if you'd like to restore the old behavior.\n",
      "[16:21:43] WARNING: /Users/runner/miniforge3/conda-bld/xgboost-split_1634712680264/work/src/learner.cc:1115: Starting in XGBoost 1.3.0, the default evaluation metric used with the objective 'binary:logistic' was changed from 'error' to 'logloss'. Explicitly set eval_metric if you'd like to restore the old behavior.\n",
      "[16:21:54] WARNING: /Users/runner/miniforge3/conda-bld/xgboost-split_1634712680264/work/src/learner.cc:1115: Starting in XGBoost 1.3.0, the default evaluation metric used with the objective 'binary:logistic' was changed from 'error' to 'logloss'. Explicitly set eval_metric if you'd like to restore the old behavior.\n"
     ]
    },
    {
     "data": {
      "text/plain": [
       "RandomizedSearchCV(cv=10,\n",
       "                   estimator=XGBClassifier(base_score=None, booster=None,\n",
       "                                           colsample_bylevel=None,\n",
       "                                           colsample_bynode=None,\n",
       "                                           colsample_bytree=None,\n",
       "                                           enable_categorical=False, gamma=None,\n",
       "                                           gpu_id=None, importance_type=None,\n",
       "                                           interaction_constraints=None,\n",
       "                                           learning_rate=None,\n",
       "                                           max_delta_step=None, max_depth=None,\n",
       "                                           min_child_weight=None, missing=nan,\n",
       "                                           monotone_constraint...\n",
       "                                           reg_alpha=None, reg_lambda=None,\n",
       "                                           scale_pos_weight=None,\n",
       "                                           subsample=None, tree_method=None,\n",
       "                                           use_label_encoder=False,\n",
       "                                           validate_parameters=None,\n",
       "                                           verbosity=None),\n",
       "                   n_iter=20,\n",
       "                   param_distributions={'alpha': [0.05, 0.1, 0.01],\n",
       "                                        'learning_rate': array([0.01, 0.02, 0.03, 0.04, 0.05, 0.06, 0.07, 0.08, 0.09, 0.1 , 0.11,\n",
       "       0.12, 0.13, 0.14, 0.15]),\n",
       "                                        'max_depth': [4, 5]},\n",
       "                   random_state=42, scoring='neg_log_loss', verbose=1)"
      ]
     },
     "execution_count": 81,
     "metadata": {},
     "output_type": "execute_result"
    }
   ],
   "source": [
    "gbm_param_grid = {'learning_rate': np.arange(.01,.16, .01), 'max_depth': [4,5], 'alpha': [.05, .1, .01]}\n",
    "\n",
    "gbm = xgb.XGBClassifier(objective='binary:logistic',n_estimators=200, use_label_encoder=False)\n",
    "\n",
    "randomized_final = (RandomizedSearchCV(estimator=gbm, param_distributions = gbm_param_grid, n_iter=20,\n",
    "                                     scoring='neg_log_loss', cv=10, verbose=1, random_state=42))\n",
    "randomized_final.fit(X_train_test, y_train_test)"
   ]
  },
  {
   "cell_type": "code",
   "execution_count": null,
   "id": "319a8169",
   "metadata": {},
   "outputs": [],
   "source": [
    "gbm_param_grid = {'learning_rate': np.arange(.01,.16, .01), 'max_depth': [3,4,5], 'alpha': [0, .001, .01, .1]}\n",
    "\n",
    "gbm = xgb.XGBClassifier(n_estimators=200, use_label_encoder=False)\n",
    "\n",
    "randomized_gbm = (RandomizedSearchCV(estimator=gbm, param_distributions = gbm_param_grid, n_iter=20,\n",
    "                                     scoring='precision', cv=10, verbose=1))\n",
    "randomized_gbm.fit(X_train, y_train)"
   ]
  },
  {
   "cell_type": "code",
   "execution_count": null,
   "id": "0e0eb27c",
   "metadata": {},
   "outputs": [],
   "source": [
    "def get_performance(df, model_type, cutoff=.5, type_dict=False):\n",
    "    X_tr, X_te, y_tr, y_te = get_reader_split_data(df)\n",
    "    model = model_type\n",
    "    model.fit(X_tr, y_tr)\n",
    "    y_pred = (model.predict_proba(X_te)[:,1]>cutoff)\n",
    "    #print(model_type)\n",
    "    metrics = (OrderedDict([('Model', str(model_type)),\n",
    "                            ('Precision', precision_score(y_te, y_pred)),\n",
    "                            ('Recall', recall_score(y_te, y_pred)),\n",
    "                            ('F1', f1_score(y_te, y_pred)),\n",
    "                            #('Data', namestr(df,globals())[0]) #\n",
    "                           ]))\n",
    "    if type_dict == True:\n",
    "        return metrics\n",
    "    else:\n",
    "   #print('Confusion Matrix:')\n",
    "   #print(confusion_matrix(y_te, y_pred))\n",
    "        return pd.DataFrame(metrics)\n",
    "\n",
    "    def plot_performance_across_models(df, models, cutoff=.5):\n",
    "    metrics = []\n",
    "    for model in models:\n",
    "        metrics.append(get_performance(df, model))\n",
    "    metrics_df = pd.DataFrame(metrics)\n",
    "    metrics_melt = pd.melt(metrics_df, id_vars=['Model']) #'Data'\n",
    "    for metric in metrics:\n",
    "        sns.barplot(y='value', x='variable', hue='Model', data=metrics_melt, palette='Paired')\n",
    "        \n",
    "def plot_aocs(models, labels='default'):\n",
    "    for model in models:\n",
    "        try:\n",
    "            fpr, tpr, _ = roc_curve(y_te, model.predict_proba(X_te)[:,1])\n",
    "            plt.plot(fpr, tpr)\n",
    "        except:\n",
    "            fpr, tpr, _ = roc_curve(model.predict(X_test))\n",
    "            plt.plot(fpr, tpr)\n",
    "\n",
    "    x = np.linspace(0,1, 100000)\n",
    "    plt.plot(x, x, linestyle='--')\n",
    "\n",
    "    plt.title('ROC Curve')\n",
    "    plt.xlabel('False Positive Rate')\n",
    "    plt.ylabel('True Positive Rate')\n",
    "    if labels=='default':\n",
    "        plt.legend([str(model) for model in models])\n",
    "def get_reader_split_data(df, test_size=.2, seed=42):\n",
    "\n",
    "    rs = np.random.RandomState(seed)\n",
    "    \n",
    "    total_readers = readers['reader_id'].unique() \n",
    "    test_readers = rs.choice(total_readers,\n",
    "                             size=int(total_readers.shape[0] * test_size),\n",
    "                             replace=False)\n",
    "\n",
    "    df_tr = df[~df['reader_id'].isin(test_readers)]\n",
    "    df_te = df[df['reader_id'].isin(test_readers)] \n",
    "\n",
    "    y_tr, y_te = df_tr['rating'], df_te['rating']\n",
    "    X_tr, X_te = df_tr.iloc[:,1:-2], df_te.iloc[:,1:-2]\n",
    "\n",
    "    return X_tr, X_te, y_tr, y_te\n",
    "def get_reader_split_data2(df, test_size=.2, seed=42):\n",
    "    rs = np.random.RandomState(seed)\n",
    "    total_readers = df.index\n",
    "    test_readers = rs.choice(total_readers,\n",
    "                             size=int(total_readers.shape[0] * test_size),\n",
    "                             replace=False)\n",
    "    df_tr = df[~df.index.isin(test_readers)]\n",
    "    df_te = df[df.index.isin(test_readers)] \n",
    "\n",
    "    y_tr, y_te = df_tr.rating, df_te.rating\n",
    "    X_tr, X_te = df_tr.iloc[:,1:], df_te.iloc[:,1:]\n",
    "    return X_tr, X_te, y_tr, y_te"
   ]
  }
 ],
 "metadata": {
  "kernelspec": {
   "display_name": "Python [conda env:linreg]",
   "language": "python",
   "name": "conda-env-linreg-py"
  },
  "language_info": {
   "codemirror_mode": {
    "name": "ipython",
    "version": 3
   },
   "file_extension": ".py",
   "mimetype": "text/x-python",
   "name": "python",
   "nbconvert_exporter": "python",
   "pygments_lexer": "ipython3",
   "version": "3.9.7"
  }
 },
 "nbformat": 4,
 "nbformat_minor": 5
}
