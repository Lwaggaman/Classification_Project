{
 "cells": [
  {
   "cell_type": "markdown",
   "id": "1b95a615",
   "metadata": {},
   "source": [
    "#### Imports & Functions"
   ]
  },
  {
   "cell_type": "code",
   "execution_count": 2,
   "id": "1c8f8738",
   "metadata": {},
   "outputs": [],
   "source": [
    "import pandas as pd\n",
    "from collections import OrderedDict\n",
    "import matplotlib.pyplot as plt\n",
    "import seaborn as sns\n",
    "import numpy as np\n",
    "from sklearn.linear_model import LogisticRegression\n",
    "from sklearn.tree import DecisionTreeClassifier\n",
    "from sklearn.ensemble import RandomForestClassifier\n",
    "from sklearn.metrics import f1_score, confusion_matrix, precision_score, recall_score, roc_curve\n",
    "from sklearn.neighbors import KNeighborsClassifier "
   ]
  },
  {
   "cell_type": "code",
   "execution_count": 3,
   "id": "8c563647",
   "metadata": {},
   "outputs": [],
   "source": [
    "from collections import OrderedDict"
   ]
  },
  {
   "cell_type": "code",
   "execution_count": 4,
   "id": "8e91f674",
   "metadata": {},
   "outputs": [],
   "source": [
    "def namestr(obj, namespace):\n",
    "    return [name for name in namespace if namespace[name] is obj]\n",
    "\n",
    "def plot_metrics(metrics_df):\n",
    "    metrics_melt = pd.melt(pd.DataFrame(metrics_df), id_vars=['Model'])\n",
    "    \n",
    "def plot_performance_across_models(df, models, cutoff=.5):\n",
    "    metrics = []\n",
    "    for model in models:\n",
    "        metrics.append(get_performance(df, model))\n",
    "    metrics_df = pd.DataFrame(metrics)\n",
    "    metrics_melt = pd.melt(metrics_df, id_vars=['Model']) #'Data'\n",
    "    for metric in metrics:\n",
    "        sns.barplot(y='value', x='variable', hue='Model', data=metrics_melt, palette='Paired')\n",
    "        \n",
    "def get_performance(df, model_type, cutoff=.5, type_dict=False):\n",
    "    X_tr, X_te, y_tr, y_te = get_reader_split_data(df)\n",
    "    model = model_type\n",
    "    model.fit(X_tr, y_tr)\n",
    "    y_pred = (model.predict_proba(X_te)[:,1]>cutoff)\n",
    "    #print(model_type)\n",
    "    metrics = (OrderedDict([('Model', str(model_type)),\n",
    "                            ('Precision', precision_score(y_te, y_pred)),\n",
    "                            ('Recall', recall_score(y_te, y_pred)),\n",
    "                            ('F1', f1_score(y_te, y_pred)),\n",
    "                            #('Data', namestr(df,globals())[0]) #\n",
    "                           ]))\n",
    "    if type_dict == True:\n",
    "        return metrics\n",
    "    else:\n",
    "   #print('Confusion Matrix:')\n",
    "   #print(confusion_matrix(y_te, y_pred))\n",
    "        return pd.DataFrame(metrics)\n"
   ]
  },
  {
   "cell_type": "code",
   "execution_count": 5,
   "id": "4b7eefd6",
   "metadata": {},
   "outputs": [],
   "source": [
    "def get_reader_split_data(df, test_size=.2, seed=42):\n",
    "\n",
    "    rs = np.random.RandomState(seed)\n",
    "    \n",
    "    total_readers = readers['reader_id'].unique() \n",
    "    test_readers = rs.choice(total_readers,\n",
    "                             size=int(total_readers.shape[0] * test_size),\n",
    "                             replace=False)\n",
    "\n",
    "    df_tr = df[~df['reader_id'].isin(test_readers)]\n",
    "    df_te = df[df['reader_id'].isin(test_readers)] \n",
    "\n",
    "    y_tr, y_te = df_tr['target'], df_te['target']\n",
    "    X_tr, X_te = df_tr.iloc[:,1:-2], df_te.iloc[:,1:-2]\n",
    "\n",
    "    return X_tr, X_te, y_tr, y_te"
   ]
  },
  {
   "cell_type": "code",
   "execution_count": 2,
   "id": "0a261f64",
   "metadata": {},
   "outputs": [],
   "source": [
    "import pandas as pd"
   ]
  },
  {
   "cell_type": "code",
   "execution_count": 3,
   "id": "7c3b33aa",
   "metadata": {},
   "outputs": [],
   "source": [
    "readers_books = pd.read_csv('Data/readers_books.csv')\n",
    "readers = pd.read_csv('Data/readers.csv')"
   ]
  },
  {
   "cell_type": "code",
   "execution_count": 4,
   "id": "1730bcf1",
   "metadata": {},
   "outputs": [
    {
     "name": "stdout",
     "output_type": "stream",
     "text": [
      "<class 'pandas.core.frame.DataFrame'>\n",
      "RangeIndex: 458921 entries, 0 to 458920\n",
      "Data columns (total 13 columns):\n",
      " #   Column                         Non-Null Count   Dtype  \n",
      "---  ------                         --------------   -----  \n",
      " 0   id                             458921 non-null  int64  \n",
      " 1   rating                         458921 non-null  int64  \n",
      " 2   started_at                     208605 non-null  object \n",
      " 3   read_at                        263231 non-null  object \n",
      " 4   book.id.#text                  458921 non-null  int64  \n",
      " 5   book.isbn13.@nil               46380 non-null   object \n",
      " 6   book.text_reviews_count.#text  458921 non-null  int64  \n",
      " 7   book.num_pages                 417638 non-null  float64\n",
      " 8   book.publication_year          405035 non-null  float64\n",
      " 9   book.average_rating            458921 non-null  float64\n",
      " 10  book.ratings_count             458921 non-null  int64  \n",
      " 11  reader_id                      458921 non-null  int64  \n",
      " 12  book.isbn13                    259593 non-null  object \n",
      "dtypes: float64(3), int64(6), object(4)\n",
      "memory usage: 45.5+ MB\n"
     ]
    }
   ],
   "source": [
    "readers_books.info()"
   ]
  },
  {
   "cell_type": "markdown",
   "id": "32118bb2",
   "metadata": {},
   "source": [
    "#### Reader Level Features EDA"
   ]
  },
  {
   "cell_type": "code",
   "execution_count": 8,
   "id": "e97905c8",
   "metadata": {},
   "outputs": [],
   "source": [
    "#readers_books['read_at'] = pd.to_datetime(readers_books['read_at'])\n",
    "#readers_books['started_at'] = pd.to_datetime(hist['started_at'])\n",
    "#readers_books['reading_time'] = readers_books['read_at'] - readers_books['started_at']\n",
    "#readers_books.reading_time.mean()\n",
    "readers_books.drop(columns=['started_at','read_at'], inplace=True)\n",
    "readers_books['rating_bias'] = readers_books['reader_rating'] - readers_books['book.average_rating']"
   ]
  },
  {
   "cell_type": "code",
   "execution_count": 9,
   "id": "253976d1",
   "metadata": {},
   "outputs": [],
   "source": [
    "reader_features = (['reader_avg_publ_year', 'reader_avg_rating', 'reader_avg_book_length',\n",
    "                    'reader_avg_book_rating','reader_avg_rating bias', 'reader_avg_book_popularity',])\n",
    "\n",
    "df_reader_feats=(readers_books.groupby(['reader_id'],as_index=False).agg(OrderedDict([('book_year','mean'),\n",
    "                                                                                    ('reader_rating', 'mean'),\n",
    "                                                                                    ('book_avg_rating', 'mean'),\n",
    "                                                                                    ('book_nr_pages', 'mean'),\n",
    "                                                                                    ('rating_bias', 'mean'),\n",
    "                                                                                    ('book_nr_ratings', 'mean')])))\n",
    "df_reader_feats.columns = ['reader_id'] + reader_features\n",
    "\n",
    "#df_reader_feats['reader_med_reading_time'] = df_reader_feats.reader_med_reading_time.dt.days\n",
    "#df_reader_feats = df_reader_feats.drop(columns=['reader_med_reading_time'])"
   ]
  },
  {
   "cell_type": "code",
   "execution_count": 10,
   "id": "a6edc613",
   "metadata": {},
   "outputs": [],
   "source": [
    "df_X = df_reader_feats.merge(readers, how='left', on='reader_id')\n",
    "# Convert rating to target\n",
    "df_X['target'] = df_X.reader_rating.apply(lambda x: x>=4).astype(int)"
   ]
  },
  {
   "cell_type": "code",
   "execution_count": 17,
   "id": "ce37f6a7",
   "metadata": {},
   "outputs": [
    {
     "ename": "NameError",
     "evalue": "name 'sns' is not defined",
     "output_type": "error",
     "traceback": [
      "\u001b[0;31m---------------------------------------------------------------------------\u001b[0m",
      "\u001b[0;31mNameError\u001b[0m                                 Traceback (most recent call last)",
      "\u001b[0;32m/var/folders/tv/8qzgqvq554vgrs4zb6bwbwlm0000gn/T/ipykernel_11150/553543303.py\u001b[0m in \u001b[0;36m<module>\u001b[0;34m\u001b[0m\n\u001b[0;32m----> 1\u001b[0;31m \u001b[0msns\u001b[0m\u001b[0;34m.\u001b[0m\u001b[0mpairplot\u001b[0m\u001b[0;34m(\u001b[0m\u001b[0mdf_X\u001b[0m\u001b[0;34m.\u001b[0m\u001b[0miloc\u001b[0m\u001b[0;34m[\u001b[0m\u001b[0;34m:\u001b[0m\u001b[0;34m,\u001b[0m\u001b[0;36m1\u001b[0m\u001b[0;34m:\u001b[0m\u001b[0;34m]\u001b[0m\u001b[0;34m,\u001b[0m \u001b[0mhue\u001b[0m\u001b[0;34m=\u001b[0m\u001b[0;34m'rating'\u001b[0m\u001b[0;34m,\u001b[0m \u001b[0mplot_kws\u001b[0m\u001b[0;34m=\u001b[0m\u001b[0mdict\u001b[0m\u001b[0;34m(\u001b[0m\u001b[0malpha\u001b[0m\u001b[0;34m=\u001b[0m\u001b[0;36m.3\u001b[0m\u001b[0;34m,\u001b[0m \u001b[0medgecolor\u001b[0m\u001b[0;34m=\u001b[0m\u001b[0;34m'none'\u001b[0m\u001b[0;34m)\u001b[0m\u001b[0;34m)\u001b[0m\u001b[0;34m\u001b[0m\u001b[0;34m\u001b[0m\u001b[0m\n\u001b[0m",
      "\u001b[0;31mNameError\u001b[0m: name 'sns' is not defined"
     ]
    }
   ],
   "source": [
    "sns.pairplot(df_X.iloc[:,1:], hue='target', plot_kws=dict(alpha=.3, edgecolor='none'))"
   ]
  },
  {
   "cell_type": "code",
   "execution_count": 11,
   "id": "dac88c71",
   "metadata": {},
   "outputs": [],
   "source": [
    "#df_X.info()\n",
    "df_X = df_X.dropna()"
   ]
  },
  {
   "cell_type": "code",
   "execution_count": 27,
   "id": "af923fab",
   "metadata": {},
   "outputs": [
    {
     "name": "stderr",
     "output_type": "stream",
     "text": [
      "/opt/anaconda3/envs/metis/lib/python3.9/site-packages/sklearn/metrics/_classification.py:1308: UndefinedMetricWarning: Precision is ill-defined and being set to 0.0 due to no predicted samples. Use `zero_division` parameter to control this behavior.\n",
      "  _warn_prf(average, modifier, msg_start, len(result))\n"
     ]
    }
   ],
   "source": [
    "models = [LogisticRegression(), KNeighborsClassifier(), DecisionTreeClassifier(), RandomForestClassifier()]\n",
    "metrics = []\n",
    "for model in models:\n",
    "    performance = get_performance(df_X, model, type_dict=True)\n",
    "    metrics.append(performance)"
   ]
  },
  {
   "cell_type": "code",
   "execution_count": 29,
   "id": "a751389a",
   "metadata": {},
   "outputs": [
    {
     "data": {
      "text/plain": [
       "0    1370\n",
       "1    1108\n",
       "Name: rating, dtype: int64"
      ]
     },
     "execution_count": 29,
     "metadata": {},
     "output_type": "execute_result"
    }
   ],
   "source": [
    "y_tr.value_counts()"
   ]
  },
  {
   "cell_type": "code",
   "execution_count": 30,
   "id": "77b38a71",
   "metadata": {},
   "outputs": [
    {
     "data": {
      "text/plain": [
       "0    346\n",
       "1    265\n",
       "Name: rating, dtype: int64"
      ]
     },
     "execution_count": 30,
     "metadata": {},
     "output_type": "execute_result"
    }
   ],
   "source": [
    "y_te.value_counts()"
   ]
  },
  {
   "cell_type": "code",
   "execution_count": 448,
   "id": "e4dbd178",
   "metadata": {},
   "outputs": [],
   "source": [
    "metrics_melt = pd.melt(pd.DataFrame(metrics), id_vars=['Model'])"
   ]
  },
  {
   "cell_type": "code",
   "execution_count": 449,
   "id": "2ae06818",
   "metadata": {},
   "outputs": [
    {
     "data": {
      "text/plain": [
       "<seaborn.axisgrid.FacetGrid at 0x15e921280>"
      ]
     },
     "execution_count": 449,
     "metadata": {},
     "output_type": "execute_result"
    },
    {
     "data": {
      "image/png": "[encoded data removed]",
      "text/plain": [
       "<Figure size 521.375x360 with 1 Axes>"
      ]
     },
     "metadata": {
      "needs_background": "light"
     },
     "output_type": "display_data"
    }
   ],
   "source": [
    "sns.catplot(kind='bar', y='value', x='variable', data=pd.melt(pd.DataFrame(metrics), id_vars=['Model']), hue='Model')"
   ]
  },
  {
   "cell_type": "code",
   "execution_count": 360,
   "id": "91a963b0",
   "metadata": {},
   "outputs": [
    {
     "data": {
      "text/plain": [
       "<seaborn.axisgrid.FacetGrid at 0x15e077760>"
      ]
     },
     "execution_count": 360,
     "metadata": {},
     "output_type": "execute_result"
    },
    {
     "data": {
      "image/png": "[encoded data removed]",
      "text/plain": [
       "<Figure size 521.375x360 with 1 Axes>"
      ]
     },
     "metadata": {
      "needs_background": "light"
     },
     "output_type": "display_data"
    }
   ],
   "source": [
    "sns.relplot(kind='line', y='value', x='variable', hue='Model', style='Data', data=metrics_melt)"
   ]
  },
  {
   "cell_type": "markdown",
   "id": "1aac20ed",
   "metadata": {},
   "source": [
    "#### Logistic Regression"
   ]
  },
  {
   "cell_type": "code",
   "execution_count": 13,
   "id": "22c2a1df",
   "metadata": {},
   "outputs": [
    {
     "data": {
      "text/plain": [
       "0.0"
      ]
     },
     "execution_count": 13,
     "metadata": {},
     "output_type": "execute_result"
    }
   ],
   "source": [
    "X_tr, X_te, y_tr, y_te = get_reader_split_data(df_X)\n",
    "\n",
    "lr = LogisticRegression(C=100)\n",
    "lr.fit(X_tr, y_tr)\n",
    "f1_score(y_te, lr.predict(X_te))"
   ]
  },
  {
   "cell_type": "code",
   "execution_count": 14,
   "id": "f30daf85",
   "metadata": {},
   "outputs": [
    {
     "name": "stdout",
     "output_type": "stream",
     "text": [
      "Precision: 0.0\n",
      "Recall: 0.0\n",
      "F1: 0.0\n"
     ]
    },
    {
     "name": "stderr",
     "output_type": "stream",
     "text": [
      "/opt/anaconda3/envs/metis/lib/python3.9/site-packages/sklearn/metrics/_classification.py:1308: UndefinedMetricWarning: Precision is ill-defined and being set to 0.0 due to no predicted samples. Use `zero_division` parameter to control this behavior.\n",
      "  _warn_prf(average, modifier, msg_start, len(result))\n"
     ]
    },
    {
     "data": {
      "text/plain": [
       "array([[346,   0],\n",
       "       [265,   0]])"
      ]
     },
     "execution_count": 14,
     "metadata": {},
     "output_type": "execute_result"
    }
   ],
   "source": [
    "y_pred = (lr.predict_proba(X_te)[:,1]>0.4)\n",
    "y_pred = lr.predict(X_te)\n",
    "\n",
    "print(f'Precision: {precision_score(y_te, y_pred)}')\n",
    "print(f'Recall: {recall_score(y_te, y_pred)}')\n",
    "print(f'F1: {f1_score(y_te, y_pred)}')\n",
    "confusion_matrix(y_te, y_pred)"
   ]
  },
  {
   "cell_type": "markdown",
   "id": "1cd79690",
   "metadata": {},
   "source": [
    "#### Decision Tree"
   ]
  },
  {
   "cell_type": "code",
   "execution_count": 23,
   "id": "64c7b384",
   "metadata": {},
   "outputs": [
    {
     "data": {
      "text/plain": [
       "DecisionTreeClassifier(max_depth=4)"
      ]
     },
     "execution_count": 23,
     "metadata": {},
     "output_type": "execute_result"
    }
   ],
   "source": [
    "dtree = DecisionTreeClassifier(max_depth=4)\n",
    "dtree.fit(X_tr, y_tr)"
   ]
  },
  {
   "cell_type": "code",
   "execution_count": 25,
   "id": "69fb126a",
   "metadata": {},
   "outputs": [
    {
     "name": "stdout",
     "output_type": "stream",
     "text": [
      "Precision: 0.5753424657534246\n",
      "Recall: 0.47547169811320755\n",
      "F1: 0.5206611570247934\n"
     ]
    },
    {
     "data": {
      "text/plain": [
       "array([[253,  93],\n",
       "       [139, 126]])"
      ]
     },
     "execution_count": 25,
     "metadata": {},
     "output_type": "execute_result"
    }
   ],
   "source": [
    "y_pred_dt = (dtree.predict_proba(X_te)[:,1]>.5)\n",
    "#y_pred_dt = dtree.predict(X_te)\n",
    "\n",
    "print(f'Precision: {precision_score(y_te, y_pred_dt)}')\n",
    "print(f'Recall: {recall_score(y_te, y_pred_dt)}')\n",
    "print(f'F1: {f1_score(y_te, y_pred_dt)}')\n",
    "confusion_matrix(y_te, y_pred_dt)"
   ]
  },
  {
   "cell_type": "code",
   "execution_count": 16,
   "id": "0f39d1bb",
   "metadata": {},
   "outputs": [
    {
     "name": "stdout",
     "output_type": "stream",
     "text": [
      "Precision: 0.5145348837209303\n",
      "Recall: 0.6679245283018868\n",
      "F1: 0.58128078817734\n"
     ]
    },
    {
     "data": {
      "text/plain": [
       "array([[179, 167],\n",
       "       [ 88, 177]])"
      ]
     },
     "execution_count": 16,
     "metadata": {},
     "output_type": "execute_result"
    }
   ],
   "source": [
    "y_pred_dt = (dtree.predict_proba(X_te)[:,1]>0.4)\n",
    "#y_pred_dt = dtree.predict(X_te)\n",
    "\n",
    "print(f'Precision: {precision_score(y_te, y_pred_dt)}')\n",
    "print(f'Recall: {recall_score(y_te, y_pred_dt)}')\n",
    "print(f'F1: {f1_score(y_te, y_pred_dt)}')\n",
    "confusion_matrix(y_te, y_pred_dt)"
   ]
  },
  {
   "cell_type": "markdown",
   "id": "63b5c34a",
   "metadata": {},
   "source": [
    "#### Random Forest"
   ]
  },
  {
   "cell_type": "code",
   "execution_count": 17,
   "id": "b02d9311",
   "metadata": {},
   "outputs": [
    {
     "data": {
      "text/plain": [
       "RandomForestClassifier()"
      ]
     },
     "execution_count": 17,
     "metadata": {},
     "output_type": "execute_result"
    }
   ],
   "source": [
    "randf = RandomForestClassifier()\n",
    "randf.fit(X_tr, y_tr)"
   ]
  },
  {
   "cell_type": "code",
   "execution_count": 18,
   "id": "123cf876",
   "metadata": {},
   "outputs": [
    {
     "name": "stdout",
     "output_type": "stream",
     "text": [
      "Precision: 0.5903083700440529\n",
      "Recall: 0.5056603773584906\n",
      "F1: 0.5447154471544715\n"
     ]
    },
    {
     "data": {
      "text/plain": [
       "array([[253,  93],\n",
       "       [131, 134]])"
      ]
     },
     "execution_count": 18,
     "metadata": {},
     "output_type": "execute_result"
    }
   ],
   "source": [
    "y_pred_rf = randf.predict(X_te)\n",
    "\n",
    "print(f'Precision: {precision_score(y_te, y_pred_rf)}')\n",
    "print(f'Recall: {recall_score(y_te, y_pred_rf)}')\n",
    "print(f'F1: {f1_score(y_te, y_pred_rf)}')\n",
    "confusion_matrix(y_te, y_pred_rf)"
   ]
  },
  {
   "cell_type": "markdown",
   "id": "9af8ec2e",
   "metadata": {},
   "source": [
    "#### kNN "
   ]
  },
  {
   "cell_type": "code",
   "execution_count": 19,
   "id": "a5b8b563",
   "metadata": {},
   "outputs": [],
   "source": [
    "from sklearn.preprocessing import StandardScaler\n",
    "\n",
    "std = StandardScaler()\n",
    "std.fit(X_tr)\n",
    "\n",
    "X_tr_sc = std.transform(X_tr)\n",
    "X_te_sc = std.transform(X_te) "
   ]
  },
  {
   "cell_type": "code",
   "execution_count": 20,
   "id": "3dc2c7a4",
   "metadata": {},
   "outputs": [
    {
     "data": {
      "text/plain": [
       "KNeighborsClassifier()"
      ]
     },
     "execution_count": 20,
     "metadata": {},
     "output_type": "execute_result"
    }
   ],
   "source": [
    "knn = KNeighborsClassifier()\n",
    "knn.fit(X_tr, y_tr)"
   ]
  },
  {
   "cell_type": "code",
   "execution_count": 21,
   "id": "8b38e680",
   "metadata": {},
   "outputs": [
    {
     "name": "stdout",
     "output_type": "stream",
     "text": [
      "Precision: 0.45149253731343286\n",
      "Recall: 0.45660377358490567\n",
      "F1: 0.4540337711069418\n"
     ]
    },
    {
     "data": {
      "text/plain": [
       "array([[199, 147],\n",
       "       [144, 121]])"
      ]
     },
     "execution_count": 21,
     "metadata": {},
     "output_type": "execute_result"
    }
   ],
   "source": [
    "y_pred_knn = knn.predict(X_te)\n",
    "\n",
    "print(f'Precision: {precision_score(y_te, y_pred_knn)}')\n",
    "print(f'Recall: {recall_score(y_te, y_pred_knn)}')\n",
    "print(f'F1: {f1_score(y_te, y_pred_knn)}')\n",
    "confusion_matrix(y_te, y_pred_knn)"
   ]
  },
  {
   "cell_type": "markdown",
   "id": "373a38ee",
   "metadata": {},
   "source": [
    "### ROC Curve"
   ]
  },
  {
   "cell_type": "code",
   "execution_count": 22,
   "id": "d5bbf331",
   "metadata": {},
   "outputs": [
    {
     "data": {
      "text/plain": [
       "<matplotlib.legend.Legend at 0x13ab9f040>"
      ]
     },
     "execution_count": 22,
     "metadata": {},
     "output_type": "execute_result"
    },
    {
     "data": {
      "image/png": "[encoded data removed]",
      "text/plain": [
       "<Figure size 432x288 with 1 Axes>"
      ]
     },
     "metadata": {
      "needs_background": "light"
     },
     "output_type": "display_data"
    }
   ],
   "source": [
    "fpr, tpr, _ = roc_curve(y_te, lr.predict_proba(X_te)[:,1])\n",
    "plt.plot(fpr, tpr)\n",
    "\n",
    "fpr, tpr, _ = roc_curve(y_te, dtree.predict_proba(X_te)[:,1])\n",
    "plt.plot(fpr, tpr)\n",
    "\n",
    "fpr, tpr, _ = roc_curve(y_te, randf.predict_proba(X_te)[:,1])\n",
    "plt.plot(fpr, tpr)\n",
    "\n",
    "fpr, tpr, _ = roc_curve(y_te, knn.predict_proba(X_te)[:,1])\n",
    "plt.plot(fpr, tpr)\n",
    "\n",
    "x = np.linspace(0,1, 100000)\n",
    "plt.plot(x, x, linestyle='--')\n",
    "\n",
    "plt.title('ROC Curve')\n",
    "plt.xlabel('False Positive Rate')\n",
    "plt.ylabel('True Positive Rate')\n",
    "plt.legend(['Logistic Regression','Decision Tree','Random Forest','kNN'])"
   ]
  },
  {
   "cell_type": "code",
   "execution_count": 432,
   "id": "9daa5ac5",
   "metadata": {},
   "outputs": [
    {
     "data": {
      "text/plain": [
       "<matplotlib.legend.Legend at 0x15e6debe0>"
      ]
     },
     "execution_count": 432,
     "metadata": {},
     "output_type": "execute_result"
    },
    {
     "data": {
      "image/png": "[encoded data removed]",
      "text/plain": [
       "<Figure size 432x288 with 1 Axes>"
      ]
     },
     "metadata": {
      "needs_background": "light"
     },
     "output_type": "display_data"
    }
   ],
   "source": [
    "fpr, tpr, _ = roc_curve(y_te, lr.predict_proba(X_te)[:,1])\n",
    "plt.plot(fpr, tpr)\n",
    "\n",
    "fpr, tpr, _ = roc_curve(y_te, dtree.predict_proba(X_te)[:,1])\n",
    "plt.plot(fpr, tpr)\n",
    "\n",
    "fpr, tpr, _ = roc_curve(y_te, randf.predict_proba(X_te)[:,1])\n",
    "plt.plot(fpr, tpr)\n",
    "\n",
    "fpr, tpr, _ = roc_curve(y_te, knn.predict_proba(X_te)[:,1])\n",
    "plt.plot(fpr, tpr)\n",
    "\n",
    "x = np.linspace(0,1, 100000)\n",
    "plt.plot(x, x, linestyle='--')\n",
    "\n",
    "plt.title('ROC Curve')\n",
    "plt.xlabel('False Positive Rate')\n",
    "plt.ylabel('True Positive Rate')\n",
    "plt.legend(['Logistic Regression','Decision Tree','Random Forest','kNN'])"
   ]
  },
  {
   "cell_type": "markdown",
   "id": "65339438",
   "metadata": {},
   "source": [
    "#### Old functions"
   ]
  },
  {
   "cell_type": "code",
   "execution_count": null,
   "id": "a54088e7",
   "metadata": {},
   "outputs": [],
   "source": [
    "def get_metrics_plot(datasets, cutoff=.5):\n",
    "    models = [LogisticRegression(), RandomForestClassifier(), DecisionTreeClassifier(), ]\n",
    "    metrics_list = []\n",
    "    for model in models:\n",
    "        for dataset in datasets:\n",
    "            metrics_list.append(get_performance(dataset, model, cutoff))\n",
    "    metrics_df = pd.DataFrame(metrics_list)\n",
    "    metrics_melt = pd.melt(metrics_df, id_vars=['Model','Data'])\n",
    "    sns.relplot(kind='line', y='value', x='variable', hue='Model', style='Data', data=metrics_melt)\n",
    "    #return metrics_melt\n",
    "    "
   ]
  }
 ],
 "metadata": {
  "kernelspec": {
   "display_name": "Python [conda env:metis] *",
   "language": "python",
   "name": "conda-env-metis-py"
  },
  "language_info": {
   "codemirror_mode": {
    "name": "ipython",
    "version": 3
   },
   "file_extension": ".py",
   "mimetype": "text/x-python",
   "name": "python",
   "nbconvert_exporter": "python",
   "pygments_lexer": "ipython3",
   "version": "3.9.7"
  }
 },
 "nbformat": 4,
 "nbformat_minor": 5
}
