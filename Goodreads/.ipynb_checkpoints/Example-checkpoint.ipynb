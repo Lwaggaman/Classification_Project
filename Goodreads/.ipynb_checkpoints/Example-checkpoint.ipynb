{
 "cells": [
  {
   "cell_type": "markdown",
   "metadata": {},
   "source": [
    "# How to Use the Goodreads Scraper"
   ]
  },
  {
   "cell_type": "markdown",
   "metadata": {},
   "source": [
    "By [Melanie Walsh](https://melaniewalsh.org/) and [Maria Antoniak](https://maria-antoniak.github.io/)"
   ]
  },
  {
   "cell_type": "markdown",
   "metadata": {},
   "source": [
    "This Jupyter notebook will walk you through how to collect Goodreads reviews and Goodreads book metadata (# reviews, # ratings, shelves, etc.) with our [Goodreads Scraper](https://github.com/maria-antoniak/goodreads-scraper) Python scripts.\n",
    "\n",
    "*Note: We recommend running these Python scripts from the command line. Please note that these scripts may not work consistently from a Jupyter notebook environment and that the tutorial is mostly intended for demonstration purposes.*"
   ]
  },
  {
   "cell_type": "markdown",
   "metadata": {},
   "source": [
    "## Download the `goodreads-scraper` GitHub Repository"
   ]
  },
  {
   "cell_type": "markdown",
   "metadata": {},
   "source": [
    "First, you need to download the `goodreads-scraper` GitHub repository (which includes this Jupyter notebook). You can either clone the repository with git:"
   ]
  },
  {
   "cell_type": "code",
   "execution_count": 1,
   "metadata": {},
   "outputs": [
    {
     "name": "stdout",
     "output_type": "stream",
     "text": [
      "Cloning into 'goodreads-scraper'...\n",
      "remote: Enumerating objects: 129, done.\u001b[K\n",
      "remote: Counting objects: 100% (129/129), done.\u001b[K\n",
      "remote: Compressing objects: 100% (105/105), done.\u001b[K\n",
      "remote: Total 129 (delta 64), reused 53 (delta 22), pack-reused 0\u001b[K\n",
      "Receiving objects: 100% (129/129), 31.45 KiB | 7.86 MiB/s, done.\n",
      "Resolving deltas: 100% (64/64), done.\n"
     ]
    }
   ],
   "source": [
    "!git clone https://github.com/maria-antoniak/goodreads-scraper.git"
   ]
  },
  {
   "cell_type": "markdown",
   "metadata": {},
   "source": [
    "Or you can download the repository as a zip file by clicking the following link:  \n",
    "https://github.com/maria-antoniak/goodreads-scraper/archive/master.zip"
   ]
  },
  {
   "cell_type": "markdown",
   "metadata": {},
   "source": [
    "If you haven't already, move into the `/goodreads-scraper` directory:"
   ]
  },
  {
   "cell_type": "code",
   "execution_count": 415,
   "metadata": {},
   "outputs": [
    {
     "name": "stdout",
     "output_type": "stream",
     "text": [
      "/Users/melaniewalsh/Goodreads-Project/notebooks/goodreads-scraper\n"
     ]
    }
   ],
   "source": [
    "cd goodreads-scraper/"
   ]
  },
  {
   "cell_type": "markdown",
   "metadata": {},
   "source": [
    "## Install required Python packages"
   ]
  },
  {
   "cell_type": "code",
   "execution_count": 1,
   "metadata": {},
   "outputs": [
    {
     "name": "stdout",
     "output_type": "stream",
     "text": [
      "Requirement already satisfied: beautifulsoup4 in c:\\users\\laura waggaman\\anaconda3\\envs\\class\\lib\\site-packages (from -r requirements.txt (line 1)) (4.10.0)\n",
      "Requirement already satisfied: selenium in c:\\users\\laura waggaman\\anaconda3\\envs\\class\\lib\\site-packages (from -r requirements.txt (line 2)) (3.141.0)\n",
      "Requirement already satisfied: lxml in c:\\users\\laura waggaman\\anaconda3\\envs\\class\\lib\\site-packages (from -r requirements.txt (line 3)) (4.7.1)\n",
      "Requirement already satisfied: geckodriver-autoinstaller in c:\\users\\laura waggaman\\anaconda3\\envs\\class\\lib\\site-packages (from -r requirements.txt (line 4)) (0.1.0)\n",
      "Requirement already satisfied: webdriver_manager in c:\\users\\laura waggaman\\anaconda3\\envs\\class\\lib\\site-packages (from -r requirements.txt (line 5)) (3.5.2)\n",
      "Requirement already satisfied: pandas in c:\\users\\laura waggaman\\anaconda3\\envs\\class\\lib\\site-packages (from -r requirements.txt (line 6)) (1.3.5)\n",
      "Requirement already satisfied: regex in c:\\users\\laura waggaman\\anaconda3\\envs\\class\\lib\\site-packages (from -r requirements.txt (line 7)) (2021.11.10)\n",
      "Collecting credentials\n",
      "  Downloading credentials-1.1-py2.py3-none-any.whl (4.2 kB)\n",
      "Requirement already satisfied: soupsieve>1.2 in c:\\users\\laura waggaman\\anaconda3\\envs\\class\\lib\\site-packages (from beautifulsoup4->-r requirements.txt (line 1)) (2.3.1)\n",
      "Requirement already satisfied: urllib3 in c:\\users\\laura waggaman\\anaconda3\\envs\\class\\lib\\site-packages (from selenium->-r requirements.txt (line 2)) (1.26.7)\n",
      "Requirement already satisfied: crayons in c:\\users\\laura waggaman\\anaconda3\\envs\\class\\lib\\site-packages (from webdriver_manager->-r requirements.txt (line 5)) (0.4.0)\n",
      "Requirement already satisfied: configparser in c:\\users\\laura waggaman\\anaconda3\\envs\\class\\lib\\site-packages (from webdriver_manager->-r requirements.txt (line 5)) (5.2.0)\n",
      "Requirement already satisfied: requests in c:\\users\\laura waggaman\\anaconda3\\envs\\class\\lib\\site-packages (from webdriver_manager->-r requirements.txt (line 5)) (2.27.0)\n",
      "Requirement already satisfied: numpy>=1.21.0 in c:\\users\\laura waggaman\\anaconda3\\envs\\class\\lib\\site-packages (from pandas->-r requirements.txt (line 6)) (1.22.0)\n",
      "Requirement already satisfied: python-dateutil>=2.7.3 in c:\\users\\laura waggaman\\anaconda3\\envs\\class\\lib\\site-packages (from pandas->-r requirements.txt (line 6)) (2.8.2)\n",
      "Requirement already satisfied: pytz>=2017.3 in c:\\users\\laura waggaman\\anaconda3\\envs\\class\\lib\\site-packages (from pandas->-r requirements.txt (line 6)) (2021.3)\n",
      "Requirement already satisfied: six>=1.5 in c:\\users\\laura waggaman\\anaconda3\\envs\\class\\lib\\site-packages (from python-dateutil>=2.7.3->pandas->-r requirements.txt (line 6)) (1.16.0)\n",
      "Requirement already satisfied: colorama in c:\\users\\laura waggaman\\anaconda3\\envs\\class\\lib\\site-packages (from crayons->webdriver_manager->-r requirements.txt (line 5)) (0.4.4)\n",
      "Requirement already satisfied: charset-normalizer~=2.0.0 in c:\\users\\laura waggaman\\anaconda3\\envs\\class\\lib\\site-packages (from requests->webdriver_manager->-r requirements.txt (line 5)) (2.0.9)\n",
      "Requirement already satisfied: certifi>=2017.4.17 in c:\\users\\laura waggaman\\anaconda3\\envs\\class\\lib\\site-packages (from requests->webdriver_manager->-r requirements.txt (line 5)) (2021.10.8)\n",
      "Requirement already satisfied: idna<4,>=2.5 in c:\\users\\laura waggaman\\anaconda3\\envs\\class\\lib\\site-packages (from requests->webdriver_manager->-r requirements.txt (line 5)) (3.1)\n",
      "Installing collected packages: credentials\n",
      "Successfully installed credentials-1.1\n"
     ]
    }
   ],
   "source": [
    "!pip install -r requirements.txt"
   ]
  },
  {
   "cell_type": "markdown",
   "metadata": {},
   "source": [
    "## Inspect Goodreads Book ID File"
   ]
  },
  {
   "cell_type": "markdown",
   "metadata": {},
   "source": [
    "To collect Goodreads data about particular books, you need to create a plain text file with the books' corresponding Goodreads IDs.\n",
    "\n",
    "Goodreads IDs can be found at the end of a book's Goodreads URL. For example, the book ID for *Little Women* — https://www.goodreads.com/book/show/1934.Little_Women — is `1934.Little_Women`.\n",
    "\n",
    "You can inspect the the sample book ID file included in the repository as an example:"
   ]
  },
  {
   "cell_type": "code",
   "execution_count": 1,
   "metadata": {},
   "outputs": [
    {
     "name": "stderr",
     "output_type": "stream",
     "text": [
      "'cat' is not recognized as an internal or external command,\n",
      "operable program or batch file.\n"
     ]
    }
   ],
   "source": [
    "!cat goodreads_classics_sample.txt"
   ]
  },
  {
   "cell_type": "markdown",
   "metadata": {},
   "source": [
    "# Collect Goodreads Book Metadata\n",
    "## # ratings, # reviews, average rating, shelves, lists etc."
   ]
  },
  {
   "cell_type": "markdown",
   "metadata": {},
   "source": [
    "## Make new directory for book metadata"
   ]
  },
  {
   "cell_type": "markdown",
   "metadata": {},
   "source": [
    "Make a new directory to output the book metadata "
   ]
  },
  {
   "cell_type": "code",
   "execution_count": 2,
   "metadata": {},
   "outputs": [],
   "source": [
    "!mkdir classic_book_metadata"
   ]
  },
  {
   "cell_type": "markdown",
   "metadata": {},
   "source": [
    "## Run book metadata collection script"
   ]
  },
  {
   "cell_type": "markdown",
   "metadata": {},
   "source": [
    "Below we're running the `get_books.py` script and directing it to output files to `/classic_book_metadata`. We're also setting the file format of the aggregated book metadata as a CSV file (in addition to a JSON file)."
   ]
  },
  {
   "cell_type": "code",
   "execution_count": 26,
   "metadata": {},
   "outputs": [
    {
     "name": "stderr",
     "output_type": "stream",
     "text": [
      "Traceback (most recent call last):\n",
      "  File \"C:\\Users\\Laura Waggaman\\Desktop\\Metis\\Project\\goodreads-scraper\\get_books.py\", line 229, in <module>\n",
      "    main()\n",
      "  File \"C:\\Users\\Laura Waggaman\\Desktop\\Metis\\Project\\goodreads-scraper\\get_books.py\", line 224, in main\n",
      "    print(str(datetime.now()) + ' ' + script_name + f':\\n\\n\\U0001f389 Success! All book metadata scraped. \\U0001f389\\n\\nMetadata files have been output to /{args.output_directory_path}\\nGoodreads scraping run time = \\u23f0 ' + str(datetime.now() - start_time) + ' \\u23f0')\n",
      "  File \"C:\\Users\\Laura Waggaman\\anaconda3\\envs\\class\\lib\\encodings\\cp1252.py\", line 19, in encode\n",
      "    return codecs.charmap_encode(input,self.errors,encoding_table)[0]\n",
      "UnicodeEncodeError: 'charmap' codec can't encode character '\\U0001f389' in position 44: character maps to <undefined>\n"
     ]
    }
   ],
   "source": [
    "!python get_books.py --book_ids_path goodreads_classics_sample.txt --output_directory_path classic_book_metadata --format csv"
   ]
  },
  {
   "cell_type": "markdown",
   "metadata": {},
   "source": [
    "Let's import Pandas so we can read in the aggregated CSV and see what the data looks like:"
   ]
  },
  {
   "cell_type": "code",
   "execution_count": 6,
   "metadata": {},
   "outputs": [],
   "source": [
    "import pandas as pd"
   ]
  },
  {
   "cell_type": "code",
   "execution_count": 7,
   "metadata": {},
   "outputs": [
    {
     "ename": "ValueError",
     "evalue": "Trailing data",
     "output_type": "error",
     "traceback": [
      "\u001b[1;31m---------------------------------------------------------------------------\u001b[0m",
      "\u001b[1;31mValueError\u001b[0m                                Traceback (most recent call last)",
      "\u001b[1;32mC:\\Users\\LAURAW~1\\AppData\\Local\\Temp/ipykernel_2272/3618205257.py\u001b[0m in \u001b[0;36m<module>\u001b[1;34m\u001b[0m\n\u001b[1;32m----> 1\u001b[1;33m \u001b[0mjson_df\u001b[0m \u001b[1;33m=\u001b[0m \u001b[0mpd\u001b[0m\u001b[1;33m.\u001b[0m\u001b[0mread_json\u001b[0m\u001b[1;33m(\u001b[0m\u001b[1;34m'12296.The_Scarlet_Letter.json'\u001b[0m\u001b[1;33m)\u001b[0m\u001b[1;33m\u001b[0m\u001b[1;33m\u001b[0m\u001b[0m\n\u001b[0m",
      "\u001b[1;32m~\\anaconda3\\envs\\class\\lib\\site-packages\\pandas\\util\\_decorators.py\u001b[0m in \u001b[0;36mwrapper\u001b[1;34m(*args, **kwargs)\u001b[0m\n\u001b[0;32m    205\u001b[0m                 \u001b[1;32melse\u001b[0m\u001b[1;33m:\u001b[0m\u001b[1;33m\u001b[0m\u001b[1;33m\u001b[0m\u001b[0m\n\u001b[0;32m    206\u001b[0m                     \u001b[0mkwargs\u001b[0m\u001b[1;33m[\u001b[0m\u001b[0mnew_arg_name\u001b[0m\u001b[1;33m]\u001b[0m \u001b[1;33m=\u001b[0m \u001b[0mnew_arg_value\u001b[0m\u001b[1;33m\u001b[0m\u001b[1;33m\u001b[0m\u001b[0m\n\u001b[1;32m--> 207\u001b[1;33m             \u001b[1;32mreturn\u001b[0m \u001b[0mfunc\u001b[0m\u001b[1;33m(\u001b[0m\u001b[1;33m*\u001b[0m\u001b[0margs\u001b[0m\u001b[1;33m,\u001b[0m \u001b[1;33m**\u001b[0m\u001b[0mkwargs\u001b[0m\u001b[1;33m)\u001b[0m\u001b[1;33m\u001b[0m\u001b[1;33m\u001b[0m\u001b[0m\n\u001b[0m\u001b[0;32m    208\u001b[0m \u001b[1;33m\u001b[0m\u001b[0m\n\u001b[0;32m    209\u001b[0m         \u001b[1;32mreturn\u001b[0m \u001b[0mcast\u001b[0m\u001b[1;33m(\u001b[0m\u001b[0mF\u001b[0m\u001b[1;33m,\u001b[0m \u001b[0mwrapper\u001b[0m\u001b[1;33m)\u001b[0m\u001b[1;33m\u001b[0m\u001b[1;33m\u001b[0m\u001b[0m\n",
      "\u001b[1;32m~\\anaconda3\\envs\\class\\lib\\site-packages\\pandas\\util\\_decorators.py\u001b[0m in \u001b[0;36mwrapper\u001b[1;34m(*args, **kwargs)\u001b[0m\n\u001b[0;32m    309\u001b[0m                     \u001b[0mstacklevel\u001b[0m\u001b[1;33m=\u001b[0m\u001b[0mstacklevel\u001b[0m\u001b[1;33m,\u001b[0m\u001b[1;33m\u001b[0m\u001b[1;33m\u001b[0m\u001b[0m\n\u001b[0;32m    310\u001b[0m                 )\n\u001b[1;32m--> 311\u001b[1;33m             \u001b[1;32mreturn\u001b[0m \u001b[0mfunc\u001b[0m\u001b[1;33m(\u001b[0m\u001b[1;33m*\u001b[0m\u001b[0margs\u001b[0m\u001b[1;33m,\u001b[0m \u001b[1;33m**\u001b[0m\u001b[0mkwargs\u001b[0m\u001b[1;33m)\u001b[0m\u001b[1;33m\u001b[0m\u001b[1;33m\u001b[0m\u001b[0m\n\u001b[0m\u001b[0;32m    312\u001b[0m \u001b[1;33m\u001b[0m\u001b[0m\n\u001b[0;32m    313\u001b[0m         \u001b[1;32mreturn\u001b[0m \u001b[0mwrapper\u001b[0m\u001b[1;33m\u001b[0m\u001b[1;33m\u001b[0m\u001b[0m\n",
      "\u001b[1;32m~\\anaconda3\\envs\\class\\lib\\site-packages\\pandas\\io\\json\\_json.py\u001b[0m in \u001b[0;36mread_json\u001b[1;34m(path_or_buf, orient, typ, dtype, convert_axes, convert_dates, keep_default_dates, numpy, precise_float, date_unit, encoding, encoding_errors, lines, chunksize, compression, nrows, storage_options)\u001b[0m\n\u001b[0;32m    612\u001b[0m \u001b[1;33m\u001b[0m\u001b[0m\n\u001b[0;32m    613\u001b[0m     \u001b[1;32mwith\u001b[0m \u001b[0mjson_reader\u001b[0m\u001b[1;33m:\u001b[0m\u001b[1;33m\u001b[0m\u001b[1;33m\u001b[0m\u001b[0m\n\u001b[1;32m--> 614\u001b[1;33m         \u001b[1;32mreturn\u001b[0m \u001b[0mjson_reader\u001b[0m\u001b[1;33m.\u001b[0m\u001b[0mread\u001b[0m\u001b[1;33m(\u001b[0m\u001b[1;33m)\u001b[0m\u001b[1;33m\u001b[0m\u001b[1;33m\u001b[0m\u001b[0m\n\u001b[0m\u001b[0;32m    615\u001b[0m \u001b[1;33m\u001b[0m\u001b[0m\n\u001b[0;32m    616\u001b[0m \u001b[1;33m\u001b[0m\u001b[0m\n",
      "\u001b[1;32m~\\anaconda3\\envs\\class\\lib\\site-packages\\pandas\\io\\json\\_json.py\u001b[0m in \u001b[0;36mread\u001b[1;34m(self)\u001b[0m\n\u001b[0;32m    746\u001b[0m                 \u001b[0mobj\u001b[0m \u001b[1;33m=\u001b[0m \u001b[0mself\u001b[0m\u001b[1;33m.\u001b[0m\u001b[0m_get_object_parser\u001b[0m\u001b[1;33m(\u001b[0m\u001b[0mself\u001b[0m\u001b[1;33m.\u001b[0m\u001b[0m_combine_lines\u001b[0m\u001b[1;33m(\u001b[0m\u001b[0mdata_lines\u001b[0m\u001b[1;33m)\u001b[0m\u001b[1;33m)\u001b[0m\u001b[1;33m\u001b[0m\u001b[1;33m\u001b[0m\u001b[0m\n\u001b[0;32m    747\u001b[0m         \u001b[1;32melse\u001b[0m\u001b[1;33m:\u001b[0m\u001b[1;33m\u001b[0m\u001b[1;33m\u001b[0m\u001b[0m\n\u001b[1;32m--> 748\u001b[1;33m             \u001b[0mobj\u001b[0m \u001b[1;33m=\u001b[0m \u001b[0mself\u001b[0m\u001b[1;33m.\u001b[0m\u001b[0m_get_object_parser\u001b[0m\u001b[1;33m(\u001b[0m\u001b[0mself\u001b[0m\u001b[1;33m.\u001b[0m\u001b[0mdata\u001b[0m\u001b[1;33m)\u001b[0m\u001b[1;33m\u001b[0m\u001b[1;33m\u001b[0m\u001b[0m\n\u001b[0m\u001b[0;32m    749\u001b[0m         \u001b[0mself\u001b[0m\u001b[1;33m.\u001b[0m\u001b[0mclose\u001b[0m\u001b[1;33m(\u001b[0m\u001b[1;33m)\u001b[0m\u001b[1;33m\u001b[0m\u001b[1;33m\u001b[0m\u001b[0m\n\u001b[0;32m    750\u001b[0m         \u001b[1;32mreturn\u001b[0m \u001b[0mobj\u001b[0m\u001b[1;33m\u001b[0m\u001b[1;33m\u001b[0m\u001b[0m\n",
      "\u001b[1;32m~\\anaconda3\\envs\\class\\lib\\site-packages\\pandas\\io\\json\\_json.py\u001b[0m in \u001b[0;36m_get_object_parser\u001b[1;34m(self, json)\u001b[0m\n\u001b[0;32m    768\u001b[0m         \u001b[0mobj\u001b[0m \u001b[1;33m=\u001b[0m \u001b[1;32mNone\u001b[0m\u001b[1;33m\u001b[0m\u001b[1;33m\u001b[0m\u001b[0m\n\u001b[0;32m    769\u001b[0m         \u001b[1;32mif\u001b[0m \u001b[0mtyp\u001b[0m \u001b[1;33m==\u001b[0m \u001b[1;34m\"frame\"\u001b[0m\u001b[1;33m:\u001b[0m\u001b[1;33m\u001b[0m\u001b[1;33m\u001b[0m\u001b[0m\n\u001b[1;32m--> 770\u001b[1;33m             \u001b[0mobj\u001b[0m \u001b[1;33m=\u001b[0m \u001b[0mFrameParser\u001b[0m\u001b[1;33m(\u001b[0m\u001b[0mjson\u001b[0m\u001b[1;33m,\u001b[0m \u001b[1;33m**\u001b[0m\u001b[0mkwargs\u001b[0m\u001b[1;33m)\u001b[0m\u001b[1;33m.\u001b[0m\u001b[0mparse\u001b[0m\u001b[1;33m(\u001b[0m\u001b[1;33m)\u001b[0m\u001b[1;33m\u001b[0m\u001b[1;33m\u001b[0m\u001b[0m\n\u001b[0m\u001b[0;32m    771\u001b[0m \u001b[1;33m\u001b[0m\u001b[0m\n\u001b[0;32m    772\u001b[0m         \u001b[1;32mif\u001b[0m \u001b[0mtyp\u001b[0m \u001b[1;33m==\u001b[0m \u001b[1;34m\"series\"\u001b[0m \u001b[1;32mor\u001b[0m \u001b[0mobj\u001b[0m \u001b[1;32mis\u001b[0m \u001b[1;32mNone\u001b[0m\u001b[1;33m:\u001b[0m\u001b[1;33m\u001b[0m\u001b[1;33m\u001b[0m\u001b[0m\n",
      "\u001b[1;32m~\\anaconda3\\envs\\class\\lib\\site-packages\\pandas\\io\\json\\_json.py\u001b[0m in \u001b[0;36mparse\u001b[1;34m(self)\u001b[0m\n\u001b[0;32m    883\u001b[0m \u001b[1;33m\u001b[0m\u001b[0m\n\u001b[0;32m    884\u001b[0m         \u001b[1;32melse\u001b[0m\u001b[1;33m:\u001b[0m\u001b[1;33m\u001b[0m\u001b[1;33m\u001b[0m\u001b[0m\n\u001b[1;32m--> 885\u001b[1;33m             \u001b[0mself\u001b[0m\u001b[1;33m.\u001b[0m\u001b[0m_parse_no_numpy\u001b[0m\u001b[1;33m(\u001b[0m\u001b[1;33m)\u001b[0m\u001b[1;33m\u001b[0m\u001b[1;33m\u001b[0m\u001b[0m\n\u001b[0m\u001b[0;32m    886\u001b[0m \u001b[1;33m\u001b[0m\u001b[0m\n\u001b[0;32m    887\u001b[0m         \u001b[1;32mif\u001b[0m \u001b[0mself\u001b[0m\u001b[1;33m.\u001b[0m\u001b[0mobj\u001b[0m \u001b[1;32mis\u001b[0m \u001b[1;32mNone\u001b[0m\u001b[1;33m:\u001b[0m\u001b[1;33m\u001b[0m\u001b[1;33m\u001b[0m\u001b[0m\n",
      "\u001b[1;32m~\\anaconda3\\envs\\class\\lib\\site-packages\\pandas\\io\\json\\_json.py\u001b[0m in \u001b[0;36m_parse_no_numpy\u001b[1;34m(self)\u001b[0m\n\u001b[0;32m   1138\u001b[0m         \u001b[1;32mif\u001b[0m \u001b[0morient\u001b[0m \u001b[1;33m==\u001b[0m \u001b[1;34m\"columns\"\u001b[0m\u001b[1;33m:\u001b[0m\u001b[1;33m\u001b[0m\u001b[1;33m\u001b[0m\u001b[0m\n\u001b[0;32m   1139\u001b[0m             self.obj = DataFrame(\n\u001b[1;32m-> 1140\u001b[1;33m                 \u001b[0mloads\u001b[0m\u001b[1;33m(\u001b[0m\u001b[0mjson\u001b[0m\u001b[1;33m,\u001b[0m \u001b[0mprecise_float\u001b[0m\u001b[1;33m=\u001b[0m\u001b[0mself\u001b[0m\u001b[1;33m.\u001b[0m\u001b[0mprecise_float\u001b[0m\u001b[1;33m)\u001b[0m\u001b[1;33m,\u001b[0m \u001b[0mdtype\u001b[0m\u001b[1;33m=\u001b[0m\u001b[1;32mNone\u001b[0m\u001b[1;33m\u001b[0m\u001b[1;33m\u001b[0m\u001b[0m\n\u001b[0m\u001b[0;32m   1141\u001b[0m             )\n\u001b[0;32m   1142\u001b[0m         \u001b[1;32melif\u001b[0m \u001b[0morient\u001b[0m \u001b[1;33m==\u001b[0m \u001b[1;34m\"split\"\u001b[0m\u001b[1;33m:\u001b[0m\u001b[1;33m\u001b[0m\u001b[1;33m\u001b[0m\u001b[0m\n",
      "\u001b[1;31mValueError\u001b[0m: Trailing data"
     ]
    }
   ],
   "source": [
    "json_df = pd.read_json('12296.The_Scarlet_Letter.json')"
   ]
  },
  {
   "cell_type": "code",
   "execution_count": 8,
   "metadata": {
    "scrolled": true
   },
   "outputs": [
    {
     "data": {
      "text/html": [
       "<div>\n",
       "<style scoped>\n",
       "    .dataframe tbody tr th:only-of-type {\n",
       "        vertical-align: middle;\n",
       "    }\n",
       "\n",
       "    .dataframe tbody tr th {\n",
       "        vertical-align: top;\n",
       "    }\n",
       "\n",
       "    .dataframe thead th {\n",
       "        text-align: right;\n",
       "    }\n",
       "</style>\n",
       "<table border=\"1\" class=\"dataframe\">\n",
       "  <thead>\n",
       "    <tr style=\"text-align: right;\">\n",
       "      <th></th>\n",
       "      <th>book_id_title</th>\n",
       "      <th>book_id</th>\n",
       "      <th>book_title</th>\n",
       "      <th>book_series</th>\n",
       "      <th>book_series_uri</th>\n",
       "      <th>isbn</th>\n",
       "      <th>isbn13</th>\n",
       "      <th>year_first_published</th>\n",
       "      <th>author</th>\n",
       "      <th>num_pages</th>\n",
       "      <th>genres</th>\n",
       "      <th>shelves</th>\n",
       "      <th>lists</th>\n",
       "      <th>num_ratings</th>\n",
       "      <th>num_reviews</th>\n",
       "      <th>average_rating</th>\n",
       "      <th>rating_distribution</th>\n",
       "    </tr>\n",
       "  </thead>\n",
       "  <tbody>\n",
       "    <tr>\n",
       "      <th>0</th>\n",
       "      <td>10210.Jane_Eyre</td>\n",
       "      <td>10210</td>\n",
       "      <td>Jane Eyre</td>\n",
       "      <td>NaN</td>\n",
       "      <td>NaN</td>\n",
       "      <td>1551111802</td>\n",
       "      <td>9781551111803</td>\n",
       "      <td>1847</td>\n",
       "      <td>Charlotte Brontë</td>\n",
       "      <td>532</td>\n",
       "      <td>['Classics', 'Fiction', 'Romance', 'Historical...</td>\n",
       "      <td>{'to-read': 26306, 'currently-reading': 61087,...</td>\n",
       "      <td>{'Best': 264, 'Books': 364, '100': 1551, 'Big'...</td>\n",
       "      <td>1806721</td>\n",
       "      <td>49174</td>\n",
       "      <td>4.13</td>\n",
       "      <td>{'5 Stars': 835792, '4 Stars': 557600, '3 Star...</td>\n",
       "    </tr>\n",
       "    <tr>\n",
       "      <th>1</th>\n",
       "      <td>11337.The_Bluest_Eye</td>\n",
       "      <td>11337</td>\n",
       "      <td>The Bluest Eye</td>\n",
       "      <td>NaN</td>\n",
       "      <td>NaN</td>\n",
       "      <td>0307278441</td>\n",
       "      <td>9780307278449</td>\n",
       "      <td>1970</td>\n",
       "      <td>Toni Morrison</td>\n",
       "      <td>216</td>\n",
       "      <td>['Fiction', 'Classics', 'Historical &gt; Historic...</td>\n",
       "      <td>{'to-read': 154280, 'currently-reading': 8629,...</td>\n",
       "      <td>{'Best': 2, 'Books': 49, \"Oprah's\": 11, 'Most'...</td>\n",
       "      <td>199971</td>\n",
       "      <td>11416</td>\n",
       "      <td>4.09</td>\n",
       "      <td>{'5 Stars': 78571, '4 Stars': 74952, '3 Stars'...</td>\n",
       "    </tr>\n",
       "    <tr>\n",
       "      <th>2</th>\n",
       "      <td>12296.The_Scarlet_Letter</td>\n",
       "      <td>12296</td>\n",
       "      <td>The Scarlet Letter</td>\n",
       "      <td>NaN</td>\n",
       "      <td>NaN</td>\n",
       "      <td>0679783385</td>\n",
       "      <td>9780679783381</td>\n",
       "      <td>1850</td>\n",
       "      <td>Nathaniel Hawthorne</td>\n",
       "      <td>279</td>\n",
       "      <td>['Classics', 'Fiction', 'Historical &gt; Historic...</td>\n",
       "      <td>{'to-read': 335535, 'classics': 21729, 'curren...</td>\n",
       "      <td>{'Books': 4, 'Best': 10, '100': 6, 'The': 104,...</td>\n",
       "      <td>768351</td>\n",
       "      <td>16257</td>\n",
       "      <td>3.43</td>\n",
       "      <td>{'5 Stars': 146213, '4 Stars': 229651, '3 Star...</td>\n",
       "    </tr>\n",
       "    <tr>\n",
       "      <th>3</th>\n",
       "      <td>1371.The_Iliad</td>\n",
       "      <td>1371</td>\n",
       "      <td>The Iliad</td>\n",
       "      <td>NaN</td>\n",
       "      <td>NaN</td>\n",
       "      <td>8497644905</td>\n",
       "      <td>9788497644907</td>\n",
       "      <td>800</td>\n",
       "      <td>Homer</td>\n",
       "      <td>683</td>\n",
       "      <td>['Classics', 'Poetry', 'Fiction', 'Fantasy &gt; M...</td>\n",
       "      <td>{'to-read': 292101, 'currently-reading': 20519...</td>\n",
       "      <td>{'Books': 58, 'The': 2, 'Big': 7486, 'Best': 3...</td>\n",
       "      <td>388749</td>\n",
       "      <td>8683</td>\n",
       "      <td>3.88</td>\n",
       "      <td>{'5 Stars': 132005, '4 Stars': 127126, '3 Star...</td>\n",
       "    </tr>\n",
       "    <tr>\n",
       "      <th>4</th>\n",
       "      <td>14942.Mrs_Dalloway</td>\n",
       "      <td>14942</td>\n",
       "      <td>Mrs. Dalloway</td>\n",
       "      <td>NaN</td>\n",
       "      <td>NaN</td>\n",
       "      <td>0156628708</td>\n",
       "      <td>9780156628709</td>\n",
       "      <td>1925</td>\n",
       "      <td>Virginia Woolf</td>\n",
       "      <td>194</td>\n",
       "      <td>['Classics', 'Fiction', 'Literature', 'Novels'...</td>\n",
       "      <td>{'to-read': 253023, 'currently-reading': 16993...</td>\n",
       "      <td>{'Best': 5, 'The': 10, 'Books': 1675, '1001': ...</td>\n",
       "      <td>251160</td>\n",
       "      <td>12189</td>\n",
       "      <td>3.79</td>\n",
       "      <td>{'5 Stars': 77953, '4 Stars': 83370, '3 Stars'...</td>\n",
       "    </tr>\n",
       "    <tr>\n",
       "      <th>5</th>\n",
       "      <td>18423.The_Left_Hand_of_Darkness</td>\n",
       "      <td>18423</td>\n",
       "      <td>The Left Hand of Darkness</td>\n",
       "      <td>Hainish Cycle</td>\n",
       "      <td>/series/49359-hainish-cycle</td>\n",
       "      <td>0441478123</td>\n",
       "      <td>9780441478125</td>\n",
       "      <td>1969</td>\n",
       "      <td>Ursula K. Le Guin</td>\n",
       "      <td>304</td>\n",
       "      <td>['Science Fiction', 'Fiction', 'Fantasy', 'Cla...</td>\n",
       "      <td>{'to-read': 142167, 'currently-reading': 10044...</td>\n",
       "      <td>{'Best': 61, 'Science': 3, 'Favorite': 5185, '...</td>\n",
       "      <td>141641</td>\n",
       "      <td>11138</td>\n",
       "      <td>4.08</td>\n",
       "      <td>{'5 Stars': 55821, '4 Stars': 52521, '3 Stars'...</td>\n",
       "    </tr>\n",
       "    <tr>\n",
       "      <th>6</th>\n",
       "      <td>1885.Pride_and_Prejudice</td>\n",
       "      <td>1885</td>\n",
       "      <td>Pride and Prejudice</td>\n",
       "      <td>NaN</td>\n",
       "      <td>NaN</td>\n",
       "      <td>0553213105</td>\n",
       "      <td>9780553213102</td>\n",
       "      <td>1813</td>\n",
       "      <td>Jane Austen</td>\n",
       "      <td>279</td>\n",
       "      <td>['Classics', 'Fiction', 'Romance', 'Historical...</td>\n",
       "      <td>{'to-read': 75835, 'classics': 56262, 'favorit...</td>\n",
       "      <td>{'Best': 421, 'Books': 3308, 'All': 292, '100'...</td>\n",
       "      <td>3468413</td>\n",
       "      <td>81906</td>\n",
       "      <td>4.27</td>\n",
       "      <td>{'5 Stars': 1889819, '4 Stars': 940168, '3 Sta...</td>\n",
       "    </tr>\n",
       "    <tr>\n",
       "      <th>7</th>\n",
       "      <td>1934.Little_Women</td>\n",
       "      <td>1934</td>\n",
       "      <td>Little Women</td>\n",
       "      <td>Little Women #1</td>\n",
       "      <td>/series/191497-little-women</td>\n",
       "      <td>0517214628</td>\n",
       "      <td>9780517214626</td>\n",
       "      <td>1869</td>\n",
       "      <td>Louisa May Alcott</td>\n",
       "      <td>449</td>\n",
       "      <td>['Classics', 'Fiction', 'Historical &gt; Historic...</td>\n",
       "      <td>{'to-read': 922809, 'currently-reading': 79640...</td>\n",
       "      <td>{'Books': 155, 'Best': 8800, '100': 1551, 'Fav...</td>\n",
       "      <td>1883127</td>\n",
       "      <td>36882</td>\n",
       "      <td>4.11</td>\n",
       "      <td>{'5 Stars': 829516, '4 Stars': 603483, '3 Star...</td>\n",
       "    </tr>\n",
       "    <tr>\n",
       "      <th>8</th>\n",
       "      <td>2657.To_Kill_a_Mockingbird</td>\n",
       "      <td>2657</td>\n",
       "      <td>To Kill a Mockingbird</td>\n",
       "      <td>To Kill a Mockingbird</td>\n",
       "      <td>/series/255474-to-kill-a-mockingbird</td>\n",
       "      <td>1439550417</td>\n",
       "      <td>9781439550410</td>\n",
       "      <td>1960</td>\n",
       "      <td>Harper Lee</td>\n",
       "      <td>336</td>\n",
       "      <td>['Classics', 'Fiction', 'Historical &gt; Historic...</td>\n",
       "      <td>{'to-read': 1822514, 'currently-reading': 7000...</td>\n",
       "      <td>{'Best': 78, 'Books': 358, '100': 166, '1001':...</td>\n",
       "      <td>5107142</td>\n",
       "      <td>100344</td>\n",
       "      <td>4.27</td>\n",
       "      <td>{'5 Stars': 2672097, '4 Stars': 1513692, '3 St...</td>\n",
       "    </tr>\n",
       "    <tr>\n",
       "      <th>9</th>\n",
       "      <td>320.One_Hundred_Years_of_Solitude</td>\n",
       "      <td>320</td>\n",
       "      <td>One Hundred Years of Solitude</td>\n",
       "      <td>NaN</td>\n",
       "      <td>NaN</td>\n",
       "      <td>8420471836</td>\n",
       "      <td>9788420471839</td>\n",
       "      <td>1967</td>\n",
       "      <td>Gabriel García Márquez</td>\n",
       "      <td>417</td>\n",
       "      <td>['Fiction', 'Classics', 'Magical Realism', 'Li...</td>\n",
       "      <td>{'to-read': 800558, 'currently-reading': 40584...</td>\n",
       "      <td>{'Best': 124, 'Books': 64, 'Favorite': 181, 'T...</td>\n",
       "      <td>835043</td>\n",
       "      <td>35250</td>\n",
       "      <td>4.09</td>\n",
       "      <td>{'5 Stars': 404586, '4 Stars': 223610, '3 Star...</td>\n",
       "    </tr>\n",
       "    <tr>\n",
       "      <th>10</th>\n",
       "      <td>36529.Narrative_of_the_Life_of_Frederick_Douglass</td>\n",
       "      <td>36529</td>\n",
       "      <td>Narrative of the Life of Frederick Douglass</td>\n",
       "      <td>The Autobiographies #1</td>\n",
       "      <td>/series/114730-the-autobiographies</td>\n",
       "      <td>0486284999</td>\n",
       "      <td>9780486284996</td>\n",
       "      <td>1845</td>\n",
       "      <td>Frederick Douglass</td>\n",
       "      <td>158</td>\n",
       "      <td>['Nonfiction', 'History', 'Classics', 'Biograp...</td>\n",
       "      <td>{'to-read': 102287, 'currently-reading': 4906,...</td>\n",
       "      <td>{'Books': 1220, 'Best': 3706, '100': 10706, 'B...</td>\n",
       "      <td>110761</td>\n",
       "      <td>5331</td>\n",
       "      <td>4.05</td>\n",
       "      <td>{'5 Stars': 46522, '4 Stars': 35841, '3 Stars'...</td>\n",
       "    </tr>\n",
       "    <tr>\n",
       "      <th>11</th>\n",
       "      <td>38447.The_Handmaid_s_Tale</td>\n",
       "      <td>38447</td>\n",
       "      <td>The Handmaid's Tale</td>\n",
       "      <td>The Handmaid's Tale  #1</td>\n",
       "      <td>/series/249878-the-handmaid-s-tale</td>\n",
       "      <td>isbn not found</td>\n",
       "      <td>isbn13 not found</td>\n",
       "      <td>1985</td>\n",
       "      <td>Margaret Atwood</td>\n",
       "      <td>314</td>\n",
       "      <td>['Fiction', 'Classics', 'Science Fiction &gt; Dys...</td>\n",
       "      <td>{'to-read': 53532, 'currently-reading': 139650...</td>\n",
       "      <td>{'Best': 254, 'Books': 883, '100': 72, 'The': ...</td>\n",
       "      <td>1685516</td>\n",
       "      <td>79326</td>\n",
       "      <td>4.12</td>\n",
       "      <td>{'5 Stars': 720943, '4 Stars': 594342, '3 Star...</td>\n",
       "    </tr>\n",
       "    <tr>\n",
       "      <th>12</th>\n",
       "      <td>4671.The_Great_Gatsby</td>\n",
       "      <td>4671</td>\n",
       "      <td>The Great Gatsby</td>\n",
       "      <td>NaN</td>\n",
       "      <td>NaN</td>\n",
       "      <td>0684801523</td>\n",
       "      <td>9780684801520</td>\n",
       "      <td>1925</td>\n",
       "      <td>F. Scott Fitzgerald</td>\n",
       "      <td>200</td>\n",
       "      <td>['Classics', 'Fiction', 'Academic &gt; School', '...</td>\n",
       "      <td>{'to-read': 1347600, 'currently-reading': 5119...</td>\n",
       "      <td>{'Books': 3262, 'Best': 116, '100': 88, '1001'...</td>\n",
       "      <td>4292197</td>\n",
       "      <td>78607</td>\n",
       "      <td>3.93</td>\n",
       "      <td>{'5 Stars': 1537539, '4 Stars': 1441476, '3 St...</td>\n",
       "    </tr>\n",
       "    <tr>\n",
       "      <th>13</th>\n",
       "      <td>5107.The_Catcher_in_the_Rye</td>\n",
       "      <td>5107</td>\n",
       "      <td>The Catcher in the Rye</td>\n",
       "      <td>NaN</td>\n",
       "      <td>NaN</td>\n",
       "      <td>0316769487</td>\n",
       "      <td>9780316769488</td>\n",
       "      <td>1951</td>\n",
       "      <td>J.D. Salinger</td>\n",
       "      <td>277</td>\n",
       "      <td>['Classics', 'Fiction', 'Young Adult', 'Litera...</td>\n",
       "      <td>{'to-read': 50753, 'classics': 34779, 'favorit...</td>\n",
       "      <td>{'Books': 111, 'Best': 527, '100': 2057, '1001...</td>\n",
       "      <td>3034197</td>\n",
       "      <td>65584</td>\n",
       "      <td>3.81</td>\n",
       "      <td>{'5 Stars': 1043043, '4 Stars': 934975, '3 Sta...</td>\n",
       "    </tr>\n",
       "    <tr>\n",
       "      <th>14</th>\n",
       "      <td>6185.Wuthering_Heights</td>\n",
       "      <td>6185</td>\n",
       "      <td>Wuthering Heights</td>\n",
       "      <td>NaN</td>\n",
       "      <td>NaN</td>\n",
       "      <td>0553212583</td>\n",
       "      <td>9780553212587</td>\n",
       "      <td>1847</td>\n",
       "      <td>Emily Brontë</td>\n",
       "      <td>464</td>\n",
       "      <td>['Classics', 'Fiction', 'Romance', 'Gothic', '...</td>\n",
       "      <td>{'classics': 37878, 'to-read': 28915, 'favorit...</td>\n",
       "      <td>{'Best': 7155, 'Books': 162, 'What': 165, '100...</td>\n",
       "      <td>1513505</td>\n",
       "      <td>44570</td>\n",
       "      <td>3.87</td>\n",
       "      <td>{'5 Stars': 551558, '4 Stars': 465944, '3 Star...</td>\n",
       "    </tr>\n",
       "  </tbody>\n",
       "</table>\n",
       "</div>"
      ],
      "text/plain": [
       "                                        book_id_title  book_id  \\\n",
       "0                                     10210.Jane_Eyre    10210   \n",
       "1                                11337.The_Bluest_Eye    11337   \n",
       "2                            12296.The_Scarlet_Letter    12296   \n",
       "3                                      1371.The_Iliad     1371   \n",
       "4                                  14942.Mrs_Dalloway    14942   \n",
       "5                     18423.The_Left_Hand_of_Darkness    18423   \n",
       "6                            1885.Pride_and_Prejudice     1885   \n",
       "7                                   1934.Little_Women     1934   \n",
       "8                          2657.To_Kill_a_Mockingbird     2657   \n",
       "9                   320.One_Hundred_Years_of_Solitude      320   \n",
       "10  36529.Narrative_of_the_Life_of_Frederick_Douglass    36529   \n",
       "11                          38447.The_Handmaid_s_Tale    38447   \n",
       "12                              4671.The_Great_Gatsby     4671   \n",
       "13                        5107.The_Catcher_in_the_Rye     5107   \n",
       "14                             6185.Wuthering_Heights     6185   \n",
       "\n",
       "                                     book_title              book_series  \\\n",
       "0                                     Jane Eyre                      NaN   \n",
       "1                                The Bluest Eye                      NaN   \n",
       "2                            The Scarlet Letter                      NaN   \n",
       "3                                     The Iliad                      NaN   \n",
       "4                                 Mrs. Dalloway                      NaN   \n",
       "5                     The Left Hand of Darkness            Hainish Cycle   \n",
       "6                           Pride and Prejudice                      NaN   \n",
       "7                                  Little Women          Little Women #1   \n",
       "8                         To Kill a Mockingbird    To Kill a Mockingbird   \n",
       "9                 One Hundred Years of Solitude                      NaN   \n",
       "10  Narrative of the Life of Frederick Douglass   The Autobiographies #1   \n",
       "11                          The Handmaid's Tale  The Handmaid's Tale  #1   \n",
       "12                             The Great Gatsby                      NaN   \n",
       "13                       The Catcher in the Rye                      NaN   \n",
       "14                            Wuthering Heights                      NaN   \n",
       "\n",
       "                         book_series_uri            isbn            isbn13  \\\n",
       "0                                    NaN      1551111802     9781551111803   \n",
       "1                                    NaN      0307278441     9780307278449   \n",
       "2                                    NaN      0679783385     9780679783381   \n",
       "3                                    NaN      8497644905     9788497644907   \n",
       "4                                    NaN      0156628708     9780156628709   \n",
       "5            /series/49359-hainish-cycle      0441478123     9780441478125   \n",
       "6                                    NaN      0553213105     9780553213102   \n",
       "7            /series/191497-little-women      0517214628     9780517214626   \n",
       "8   /series/255474-to-kill-a-mockingbird      1439550417     9781439550410   \n",
       "9                                    NaN      8420471836     9788420471839   \n",
       "10    /series/114730-the-autobiographies      0486284999     9780486284996   \n",
       "11    /series/249878-the-handmaid-s-tale  isbn not found  isbn13 not found   \n",
       "12                                   NaN      0684801523     9780684801520   \n",
       "13                                   NaN      0316769487     9780316769488   \n",
       "14                                   NaN      0553212583     9780553212587   \n",
       "\n",
       "    year_first_published                  author  num_pages  \\\n",
       "0                   1847        Charlotte Brontë        532   \n",
       "1                   1970           Toni Morrison        216   \n",
       "2                   1850     Nathaniel Hawthorne        279   \n",
       "3                    800                   Homer        683   \n",
       "4                   1925          Virginia Woolf        194   \n",
       "5                   1969       Ursula K. Le Guin        304   \n",
       "6                   1813             Jane Austen        279   \n",
       "7                   1869       Louisa May Alcott        449   \n",
       "8                   1960              Harper Lee        336   \n",
       "9                   1967  Gabriel García Márquez        417   \n",
       "10                  1845      Frederick Douglass        158   \n",
       "11                  1985         Margaret Atwood        314   \n",
       "12                  1925     F. Scott Fitzgerald        200   \n",
       "13                  1951           J.D. Salinger        277   \n",
       "14                  1847            Emily Brontë        464   \n",
       "\n",
       "                                               genres  \\\n",
       "0   ['Classics', 'Fiction', 'Romance', 'Historical...   \n",
       "1   ['Fiction', 'Classics', 'Historical > Historic...   \n",
       "2   ['Classics', 'Fiction', 'Historical > Historic...   \n",
       "3   ['Classics', 'Poetry', 'Fiction', 'Fantasy > M...   \n",
       "4   ['Classics', 'Fiction', 'Literature', 'Novels'...   \n",
       "5   ['Science Fiction', 'Fiction', 'Fantasy', 'Cla...   \n",
       "6   ['Classics', 'Fiction', 'Romance', 'Historical...   \n",
       "7   ['Classics', 'Fiction', 'Historical > Historic...   \n",
       "8   ['Classics', 'Fiction', 'Historical > Historic...   \n",
       "9   ['Fiction', 'Classics', 'Magical Realism', 'Li...   \n",
       "10  ['Nonfiction', 'History', 'Classics', 'Biograp...   \n",
       "11  ['Fiction', 'Classics', 'Science Fiction > Dys...   \n",
       "12  ['Classics', 'Fiction', 'Academic > School', '...   \n",
       "13  ['Classics', 'Fiction', 'Young Adult', 'Litera...   \n",
       "14  ['Classics', 'Fiction', 'Romance', 'Gothic', '...   \n",
       "\n",
       "                                              shelves  \\\n",
       "0   {'to-read': 26306, 'currently-reading': 61087,...   \n",
       "1   {'to-read': 154280, 'currently-reading': 8629,...   \n",
       "2   {'to-read': 335535, 'classics': 21729, 'curren...   \n",
       "3   {'to-read': 292101, 'currently-reading': 20519...   \n",
       "4   {'to-read': 253023, 'currently-reading': 16993...   \n",
       "5   {'to-read': 142167, 'currently-reading': 10044...   \n",
       "6   {'to-read': 75835, 'classics': 56262, 'favorit...   \n",
       "7   {'to-read': 922809, 'currently-reading': 79640...   \n",
       "8   {'to-read': 1822514, 'currently-reading': 7000...   \n",
       "9   {'to-read': 800558, 'currently-reading': 40584...   \n",
       "10  {'to-read': 102287, 'currently-reading': 4906,...   \n",
       "11  {'to-read': 53532, 'currently-reading': 139650...   \n",
       "12  {'to-read': 1347600, 'currently-reading': 5119...   \n",
       "13  {'to-read': 50753, 'classics': 34779, 'favorit...   \n",
       "14  {'classics': 37878, 'to-read': 28915, 'favorit...   \n",
       "\n",
       "                                                lists  num_ratings  \\\n",
       "0   {'Best': 264, 'Books': 364, '100': 1551, 'Big'...      1806721   \n",
       "1   {'Best': 2, 'Books': 49, \"Oprah's\": 11, 'Most'...       199971   \n",
       "2   {'Books': 4, 'Best': 10, '100': 6, 'The': 104,...       768351   \n",
       "3   {'Books': 58, 'The': 2, 'Big': 7486, 'Best': 3...       388749   \n",
       "4   {'Best': 5, 'The': 10, 'Books': 1675, '1001': ...       251160   \n",
       "5   {'Best': 61, 'Science': 3, 'Favorite': 5185, '...       141641   \n",
       "6   {'Best': 421, 'Books': 3308, 'All': 292, '100'...      3468413   \n",
       "7   {'Books': 155, 'Best': 8800, '100': 1551, 'Fav...      1883127   \n",
       "8   {'Best': 78, 'Books': 358, '100': 166, '1001':...      5107142   \n",
       "9   {'Best': 124, 'Books': 64, 'Favorite': 181, 'T...       835043   \n",
       "10  {'Books': 1220, 'Best': 3706, '100': 10706, 'B...       110761   \n",
       "11  {'Best': 254, 'Books': 883, '100': 72, 'The': ...      1685516   \n",
       "12  {'Books': 3262, 'Best': 116, '100': 88, '1001'...      4292197   \n",
       "13  {'Books': 111, 'Best': 527, '100': 2057, '1001...      3034197   \n",
       "14  {'Best': 7155, 'Books': 162, 'What': 165, '100...      1513505   \n",
       "\n",
       "    num_reviews  average_rating  \\\n",
       "0         49174            4.13   \n",
       "1         11416            4.09   \n",
       "2         16257            3.43   \n",
       "3          8683            3.88   \n",
       "4         12189            3.79   \n",
       "5         11138            4.08   \n",
       "6         81906            4.27   \n",
       "7         36882            4.11   \n",
       "8        100344            4.27   \n",
       "9         35250            4.09   \n",
       "10         5331            4.05   \n",
       "11        79326            4.12   \n",
       "12        78607            3.93   \n",
       "13        65584            3.81   \n",
       "14        44570            3.87   \n",
       "\n",
       "                                  rating_distribution  \n",
       "0   {'5 Stars': 835792, '4 Stars': 557600, '3 Star...  \n",
       "1   {'5 Stars': 78571, '4 Stars': 74952, '3 Stars'...  \n",
       "2   {'5 Stars': 146213, '4 Stars': 229651, '3 Star...  \n",
       "3   {'5 Stars': 132005, '4 Stars': 127126, '3 Star...  \n",
       "4   {'5 Stars': 77953, '4 Stars': 83370, '3 Stars'...  \n",
       "5   {'5 Stars': 55821, '4 Stars': 52521, '3 Stars'...  \n",
       "6   {'5 Stars': 1889819, '4 Stars': 940168, '3 Sta...  \n",
       "7   {'5 Stars': 829516, '4 Stars': 603483, '3 Star...  \n",
       "8   {'5 Stars': 2672097, '4 Stars': 1513692, '3 St...  \n",
       "9   {'5 Stars': 404586, '4 Stars': 223610, '3 Star...  \n",
       "10  {'5 Stars': 46522, '4 Stars': 35841, '3 Stars'...  \n",
       "11  {'5 Stars': 720943, '4 Stars': 594342, '3 Star...  \n",
       "12  {'5 Stars': 1537539, '4 Stars': 1441476, '3 St...  \n",
       "13  {'5 Stars': 1043043, '4 Stars': 934975, '3 Sta...  \n",
       "14  {'5 Stars': 551558, '4 Stars': 465944, '3 Star...  "
      ]
     },
     "execution_count": 8,
     "metadata": {},
     "output_type": "execute_result"
    }
   ],
   "source": [
    "metadata = pd.read_csv(\"classic_book_metadata/all_books.csv\")\n",
    "metadata"
   ]
  },
  {
   "cell_type": "markdown",
   "metadata": {},
   "source": [
    "Let's plot the total number of Goodreads ratings for each book"
   ]
  },
  {
   "cell_type": "code",
   "execution_count": 11,
   "metadata": {},
   "outputs": [
    {
     "data": {
      "text/plain": [
       "<matplotlib.axes._subplots.AxesSubplot at 0x116ade3d0>"
      ]
     },
     "execution_count": 11,
     "metadata": {},
     "output_type": "execute_result"
    },
    {
     "data": {
      "image/png": "[encoded data removed]",
      "text/plain": [
       "<Figure size 432x288 with 1 Axes>"
      ]
     },
     "metadata": {
      "needs_background": "light"
     },
     "output_type": "display_data"
    }
   ],
   "source": [
    "metadata.sort_values(by='num_ratings').plot(x='book_title', y='num_ratings', kind='barh')"
   ]
  },
  {
   "cell_type": "markdown",
   "metadata": {},
   "source": [
    "# Collect Goodreads Reviews (Chrome)\n",
    "## full text of review, shelves, date, user name, # likes, etc."
   ]
  },
  {
   "cell_type": "markdown",
   "metadata": {},
   "source": [
    "## Make new directory for book reviews"
   ]
  },
  {
   "cell_type": "code",
   "execution_count": 23,
   "metadata": {},
   "outputs": [],
   "source": [
    "!mkdir classic_book_reviews"
   ]
  },
  {
   "cell_type": "code",
   "execution_count": 2,
   "metadata": {},
   "outputs": [],
   "source": [
    "!mkdir brown_girl_reviews"
   ]
  },
  {
   "cell_type": "markdown",
   "metadata": {},
   "source": [
    "## Run Goodreads reviews collection script"
   ]
  },
  {
   "cell_type": "markdown",
   "metadata": {},
   "source": [
    "Below we're running `get_reviews.py`, setting `--sort_order` to `default` to collect the most liked and most commented on Goodreads reviews, and indicating that the web browser we'd like to use is Chrome."
   ]
  },
  {
   "cell_type": "code",
   "execution_count": 15,
   "metadata": {},
   "outputs": [],
   "source": [
    "!python get_reviews.py --book_ids_path jellicoe.txt \\\n",
    "--output_directory_path brown_girl_reviews --sort_order default --browser chrome "
   ]
  },
  {
   "cell_type": "code",
   "execution_count": 25,
   "metadata": {
    "scrolled": true
   },
   "outputs": [],
   "source": [
    "!python get_reviews.py --book_ids_path goodreads_classics_sample.txt \\\n",
    "--output_directory_path classic_book_reviews --sort_order default --browser chrome "
   ]
  },
  {
   "cell_type": "markdown",
   "metadata": {},
   "source": [
    "Let's read in the aggregated JSON file with Pandas and see what the data looks like:"
   ]
  },
  {
   "cell_type": "code",
   "execution_count": 6,
   "metadata": {
    "scrolled": true
   },
   "outputs": [
    {
     "ename": "FileNotFoundError",
     "evalue": "[Errno 2] No such file or directory: 'classic_book_reviews/all_reviews.csv'",
     "output_type": "error",
     "traceback": [
      "\u001b[1;31m---------------------------------------------------------------------------\u001b[0m",
      "\u001b[1;31mFileNotFoundError\u001b[0m                         Traceback (most recent call last)",
      "\u001b[1;32mC:\\Users\\LAURAW~1\\AppData\\Local\\Temp/ipykernel_15104/342002329.py\u001b[0m in \u001b[0;36m<module>\u001b[1;34m\u001b[0m\n\u001b[1;32m----> 1\u001b[1;33m \u001b[0mreviews_df\u001b[0m \u001b[1;33m=\u001b[0m \u001b[0mpd\u001b[0m\u001b[1;33m.\u001b[0m\u001b[0mread_csv\u001b[0m\u001b[1;33m(\u001b[0m\u001b[1;34m'classic_book_reviews/all_reviews.csv'\u001b[0m\u001b[1;33m)\u001b[0m\u001b[1;33m\u001b[0m\u001b[1;33m\u001b[0m\u001b[0m\n\u001b[0m",
      "\u001b[1;32m~\\anaconda3\\envs\\class\\lib\\site-packages\\pandas\\util\\_decorators.py\u001b[0m in \u001b[0;36mwrapper\u001b[1;34m(*args, **kwargs)\u001b[0m\n\u001b[0;32m    309\u001b[0m                     \u001b[0mstacklevel\u001b[0m\u001b[1;33m=\u001b[0m\u001b[0mstacklevel\u001b[0m\u001b[1;33m,\u001b[0m\u001b[1;33m\u001b[0m\u001b[1;33m\u001b[0m\u001b[0m\n\u001b[0;32m    310\u001b[0m                 )\n\u001b[1;32m--> 311\u001b[1;33m             \u001b[1;32mreturn\u001b[0m \u001b[0mfunc\u001b[0m\u001b[1;33m(\u001b[0m\u001b[1;33m*\u001b[0m\u001b[0margs\u001b[0m\u001b[1;33m,\u001b[0m \u001b[1;33m**\u001b[0m\u001b[0mkwargs\u001b[0m\u001b[1;33m)\u001b[0m\u001b[1;33m\u001b[0m\u001b[1;33m\u001b[0m\u001b[0m\n\u001b[0m\u001b[0;32m    312\u001b[0m \u001b[1;33m\u001b[0m\u001b[0m\n\u001b[0;32m    313\u001b[0m         \u001b[1;32mreturn\u001b[0m \u001b[0mwrapper\u001b[0m\u001b[1;33m\u001b[0m\u001b[1;33m\u001b[0m\u001b[0m\n",
      "\u001b[1;32m~\\anaconda3\\envs\\class\\lib\\site-packages\\pandas\\io\\parsers\\readers.py\u001b[0m in \u001b[0;36mread_csv\u001b[1;34m(filepath_or_buffer, sep, delimiter, header, names, index_col, usecols, squeeze, prefix, mangle_dupe_cols, dtype, engine, converters, true_values, false_values, skipinitialspace, skiprows, skipfooter, nrows, na_values, keep_default_na, na_filter, verbose, skip_blank_lines, parse_dates, infer_datetime_format, keep_date_col, date_parser, dayfirst, cache_dates, iterator, chunksize, compression, thousands, decimal, lineterminator, quotechar, quoting, doublequote, escapechar, comment, encoding, encoding_errors, dialect, error_bad_lines, warn_bad_lines, on_bad_lines, delim_whitespace, low_memory, memory_map, float_precision, storage_options)\u001b[0m\n\u001b[0;32m    584\u001b[0m     \u001b[0mkwds\u001b[0m\u001b[1;33m.\u001b[0m\u001b[0mupdate\u001b[0m\u001b[1;33m(\u001b[0m\u001b[0mkwds_defaults\u001b[0m\u001b[1;33m)\u001b[0m\u001b[1;33m\u001b[0m\u001b[1;33m\u001b[0m\u001b[0m\n\u001b[0;32m    585\u001b[0m \u001b[1;33m\u001b[0m\u001b[0m\n\u001b[1;32m--> 586\u001b[1;33m     \u001b[1;32mreturn\u001b[0m \u001b[0m_read\u001b[0m\u001b[1;33m(\u001b[0m\u001b[0mfilepath_or_buffer\u001b[0m\u001b[1;33m,\u001b[0m \u001b[0mkwds\u001b[0m\u001b[1;33m)\u001b[0m\u001b[1;33m\u001b[0m\u001b[1;33m\u001b[0m\u001b[0m\n\u001b[0m\u001b[0;32m    587\u001b[0m \u001b[1;33m\u001b[0m\u001b[0m\n\u001b[0;32m    588\u001b[0m \u001b[1;33m\u001b[0m\u001b[0m\n",
      "\u001b[1;32m~\\anaconda3\\envs\\class\\lib\\site-packages\\pandas\\io\\parsers\\readers.py\u001b[0m in \u001b[0;36m_read\u001b[1;34m(filepath_or_buffer, kwds)\u001b[0m\n\u001b[0;32m    480\u001b[0m \u001b[1;33m\u001b[0m\u001b[0m\n\u001b[0;32m    481\u001b[0m     \u001b[1;31m# Create the parser.\u001b[0m\u001b[1;33m\u001b[0m\u001b[1;33m\u001b[0m\u001b[0m\n\u001b[1;32m--> 482\u001b[1;33m     \u001b[0mparser\u001b[0m \u001b[1;33m=\u001b[0m \u001b[0mTextFileReader\u001b[0m\u001b[1;33m(\u001b[0m\u001b[0mfilepath_or_buffer\u001b[0m\u001b[1;33m,\u001b[0m \u001b[1;33m**\u001b[0m\u001b[0mkwds\u001b[0m\u001b[1;33m)\u001b[0m\u001b[1;33m\u001b[0m\u001b[1;33m\u001b[0m\u001b[0m\n\u001b[0m\u001b[0;32m    483\u001b[0m \u001b[1;33m\u001b[0m\u001b[0m\n\u001b[0;32m    484\u001b[0m     \u001b[1;32mif\u001b[0m \u001b[0mchunksize\u001b[0m \u001b[1;32mor\u001b[0m \u001b[0miterator\u001b[0m\u001b[1;33m:\u001b[0m\u001b[1;33m\u001b[0m\u001b[1;33m\u001b[0m\u001b[0m\n",
      "\u001b[1;32m~\\anaconda3\\envs\\class\\lib\\site-packages\\pandas\\io\\parsers\\readers.py\u001b[0m in \u001b[0;36m__init__\u001b[1;34m(self, f, engine, **kwds)\u001b[0m\n\u001b[0;32m    809\u001b[0m             \u001b[0mself\u001b[0m\u001b[1;33m.\u001b[0m\u001b[0moptions\u001b[0m\u001b[1;33m[\u001b[0m\u001b[1;34m\"has_index_names\"\u001b[0m\u001b[1;33m]\u001b[0m \u001b[1;33m=\u001b[0m \u001b[0mkwds\u001b[0m\u001b[1;33m[\u001b[0m\u001b[1;34m\"has_index_names\"\u001b[0m\u001b[1;33m]\u001b[0m\u001b[1;33m\u001b[0m\u001b[1;33m\u001b[0m\u001b[0m\n\u001b[0;32m    810\u001b[0m \u001b[1;33m\u001b[0m\u001b[0m\n\u001b[1;32m--> 811\u001b[1;33m         \u001b[0mself\u001b[0m\u001b[1;33m.\u001b[0m\u001b[0m_engine\u001b[0m \u001b[1;33m=\u001b[0m \u001b[0mself\u001b[0m\u001b[1;33m.\u001b[0m\u001b[0m_make_engine\u001b[0m\u001b[1;33m(\u001b[0m\u001b[0mself\u001b[0m\u001b[1;33m.\u001b[0m\u001b[0mengine\u001b[0m\u001b[1;33m)\u001b[0m\u001b[1;33m\u001b[0m\u001b[1;33m\u001b[0m\u001b[0m\n\u001b[0m\u001b[0;32m    812\u001b[0m \u001b[1;33m\u001b[0m\u001b[0m\n\u001b[0;32m    813\u001b[0m     \u001b[1;32mdef\u001b[0m \u001b[0mclose\u001b[0m\u001b[1;33m(\u001b[0m\u001b[0mself\u001b[0m\u001b[1;33m)\u001b[0m\u001b[1;33m:\u001b[0m\u001b[1;33m\u001b[0m\u001b[1;33m\u001b[0m\u001b[0m\n",
      "\u001b[1;32m~\\anaconda3\\envs\\class\\lib\\site-packages\\pandas\\io\\parsers\\readers.py\u001b[0m in \u001b[0;36m_make_engine\u001b[1;34m(self, engine)\u001b[0m\n\u001b[0;32m   1038\u001b[0m             )\n\u001b[0;32m   1039\u001b[0m         \u001b[1;31m# error: Too many arguments for \"ParserBase\"\u001b[0m\u001b[1;33m\u001b[0m\u001b[1;33m\u001b[0m\u001b[0m\n\u001b[1;32m-> 1040\u001b[1;33m         \u001b[1;32mreturn\u001b[0m \u001b[0mmapping\u001b[0m\u001b[1;33m[\u001b[0m\u001b[0mengine\u001b[0m\u001b[1;33m]\u001b[0m\u001b[1;33m(\u001b[0m\u001b[0mself\u001b[0m\u001b[1;33m.\u001b[0m\u001b[0mf\u001b[0m\u001b[1;33m,\u001b[0m \u001b[1;33m**\u001b[0m\u001b[0mself\u001b[0m\u001b[1;33m.\u001b[0m\u001b[0moptions\u001b[0m\u001b[1;33m)\u001b[0m  \u001b[1;31m# type: ignore[call-arg]\u001b[0m\u001b[1;33m\u001b[0m\u001b[1;33m\u001b[0m\u001b[0m\n\u001b[0m\u001b[0;32m   1041\u001b[0m \u001b[1;33m\u001b[0m\u001b[0m\n\u001b[0;32m   1042\u001b[0m     \u001b[1;32mdef\u001b[0m \u001b[0m_failover_to_python\u001b[0m\u001b[1;33m(\u001b[0m\u001b[0mself\u001b[0m\u001b[1;33m)\u001b[0m\u001b[1;33m:\u001b[0m\u001b[1;33m\u001b[0m\u001b[1;33m\u001b[0m\u001b[0m\n",
      "\u001b[1;32m~\\anaconda3\\envs\\class\\lib\\site-packages\\pandas\\io\\parsers\\c_parser_wrapper.py\u001b[0m in \u001b[0;36m__init__\u001b[1;34m(self, src, **kwds)\u001b[0m\n\u001b[0;32m     49\u001b[0m \u001b[1;33m\u001b[0m\u001b[0m\n\u001b[0;32m     50\u001b[0m         \u001b[1;31m# open handles\u001b[0m\u001b[1;33m\u001b[0m\u001b[1;33m\u001b[0m\u001b[0m\n\u001b[1;32m---> 51\u001b[1;33m         \u001b[0mself\u001b[0m\u001b[1;33m.\u001b[0m\u001b[0m_open_handles\u001b[0m\u001b[1;33m(\u001b[0m\u001b[0msrc\u001b[0m\u001b[1;33m,\u001b[0m \u001b[0mkwds\u001b[0m\u001b[1;33m)\u001b[0m\u001b[1;33m\u001b[0m\u001b[1;33m\u001b[0m\u001b[0m\n\u001b[0m\u001b[0;32m     52\u001b[0m         \u001b[1;32massert\u001b[0m \u001b[0mself\u001b[0m\u001b[1;33m.\u001b[0m\u001b[0mhandles\u001b[0m \u001b[1;32mis\u001b[0m \u001b[1;32mnot\u001b[0m \u001b[1;32mNone\u001b[0m\u001b[1;33m\u001b[0m\u001b[1;33m\u001b[0m\u001b[0m\n\u001b[0;32m     53\u001b[0m \u001b[1;33m\u001b[0m\u001b[0m\n",
      "\u001b[1;32m~\\anaconda3\\envs\\class\\lib\\site-packages\\pandas\\io\\parsers\\base_parser.py\u001b[0m in \u001b[0;36m_open_handles\u001b[1;34m(self, src, kwds)\u001b[0m\n\u001b[0;32m    220\u001b[0m         \u001b[0mLet\u001b[0m \u001b[0mthe\u001b[0m \u001b[0mreaders\u001b[0m \u001b[0mopen\u001b[0m \u001b[0mIOHandles\u001b[0m \u001b[0mafter\u001b[0m \u001b[0mthey\u001b[0m \u001b[0mare\u001b[0m \u001b[0mdone\u001b[0m \u001b[1;32mwith\u001b[0m \u001b[0mtheir\u001b[0m \u001b[0mpotential\u001b[0m \u001b[0mraises\u001b[0m\u001b[1;33m.\u001b[0m\u001b[1;33m\u001b[0m\u001b[1;33m\u001b[0m\u001b[0m\n\u001b[0;32m    221\u001b[0m         \"\"\"\n\u001b[1;32m--> 222\u001b[1;33m         self.handles = get_handle(\n\u001b[0m\u001b[0;32m    223\u001b[0m             \u001b[0msrc\u001b[0m\u001b[1;33m,\u001b[0m\u001b[1;33m\u001b[0m\u001b[1;33m\u001b[0m\u001b[0m\n\u001b[0;32m    224\u001b[0m             \u001b[1;34m\"r\"\u001b[0m\u001b[1;33m,\u001b[0m\u001b[1;33m\u001b[0m\u001b[1;33m\u001b[0m\u001b[0m\n",
      "\u001b[1;32m~\\anaconda3\\envs\\class\\lib\\site-packages\\pandas\\io\\common.py\u001b[0m in \u001b[0;36mget_handle\u001b[1;34m(path_or_buf, mode, encoding, compression, memory_map, is_text, errors, storage_options)\u001b[0m\n\u001b[0;32m    700\u001b[0m         \u001b[1;32mif\u001b[0m \u001b[0mioargs\u001b[0m\u001b[1;33m.\u001b[0m\u001b[0mencoding\u001b[0m \u001b[1;32mand\u001b[0m \u001b[1;34m\"b\"\u001b[0m \u001b[1;32mnot\u001b[0m \u001b[1;32min\u001b[0m \u001b[0mioargs\u001b[0m\u001b[1;33m.\u001b[0m\u001b[0mmode\u001b[0m\u001b[1;33m:\u001b[0m\u001b[1;33m\u001b[0m\u001b[1;33m\u001b[0m\u001b[0m\n\u001b[0;32m    701\u001b[0m             \u001b[1;31m# Encoding\u001b[0m\u001b[1;33m\u001b[0m\u001b[1;33m\u001b[0m\u001b[0m\n\u001b[1;32m--> 702\u001b[1;33m             handle = open(\n\u001b[0m\u001b[0;32m    703\u001b[0m                 \u001b[0mhandle\u001b[0m\u001b[1;33m,\u001b[0m\u001b[1;33m\u001b[0m\u001b[1;33m\u001b[0m\u001b[0m\n\u001b[0;32m    704\u001b[0m                 \u001b[0mioargs\u001b[0m\u001b[1;33m.\u001b[0m\u001b[0mmode\u001b[0m\u001b[1;33m,\u001b[0m\u001b[1;33m\u001b[0m\u001b[1;33m\u001b[0m\u001b[0m\n",
      "\u001b[1;31mFileNotFoundError\u001b[0m: [Errno 2] No such file or directory: 'classic_book_reviews/all_reviews.csv'"
     ]
    }
   ],
   "source": [
    "reviews_df = pd.read_csv('classic_book_reviews/all_reviews.csv')"
   ]
  },
  {
   "cell_type": "markdown",
   "metadata": {},
   "source": [
    "How many Goodreads reviews did we collect for each book?"
   ]
  },
  {
   "cell_type": "code",
   "execution_count": 21,
   "metadata": {},
   "outputs": [
    {
     "data": {
      "text/plain": [
       "To Kill a Mockingbird                          300\n",
       "The Iliad                                      300\n",
       "Wuthering Heights                              300\n",
       "One Hundred Years of Solitude                  300\n",
       "The Scarlet Letter                             300\n",
       "Narrative of the Life of Frederick Douglass    300\n",
       "The Left Hand of Darkness                      300\n",
       "The Bluest Eye                                 300\n",
       "Jane Eyre                                      300\n",
       "Mrs. Dalloway                                  300\n",
       "Little Women                                   300\n",
       "Pride and Prejudice                            300\n",
       "The Handmaid's Tale                            300\n",
       "The Catcher in the Rye                         299\n",
       "The Great Gatsby                                90\n",
       "Name: book_title, dtype: int64"
      ]
     },
     "execution_count": 21,
     "metadata": {},
     "output_type": "execute_result"
    }
   ],
   "source": [
    "reviews_df['book_title'].value_counts()"
   ]
  },
  {
   "cell_type": "markdown",
   "metadata": {},
   "source": [
    "How many Goodreads reviews did we collect in total?"
   ]
  },
  {
   "cell_type": "code",
   "execution_count": 22,
   "metadata": {},
   "outputs": [
    {
     "data": {
      "text/plain": [
       "4289"
      ]
     },
     "execution_count": 22,
     "metadata": {},
     "output_type": "execute_result"
    }
   ],
   "source": [
    "len(reviews_df)"
   ]
  },
  {
   "cell_type": "markdown",
   "metadata": {},
   "source": [
    "## Count duplicates"
   ]
  },
  {
   "cell_type": "markdown",
   "metadata": {},
   "source": [
    "How many duplicate reviews are in this data?"
   ]
  },
  {
   "cell_type": "code",
   "execution_count": null,
   "metadata": {},
   "outputs": [],
   "source": [
    "len(reviews_df[reviews_df[['book_title','text', 'user_name', 'user_url']].duplicated(keep=False)])"
   ]
  },
  {
   "cell_type": "markdown",
   "metadata": {},
   "source": [
    "Let's examine the duplicates (lots of spam/bots?):"
   ]
  },
  {
   "cell_type": "code",
   "execution_count": 24,
   "metadata": {
    "scrolled": true
   },
   "outputs": [
    {
     "data": {
      "text/html": [
       "<div>\n",
       "<style scoped>\n",
       "    .dataframe tbody tr th:only-of-type {\n",
       "        vertical-align: middle;\n",
       "    }\n",
       "\n",
       "    .dataframe tbody tr th {\n",
       "        vertical-align: top;\n",
       "    }\n",
       "\n",
       "    .dataframe thead th {\n",
       "        text-align: right;\n",
       "    }\n",
       "</style>\n",
       "<table border=\"1\" class=\"dataframe\">\n",
       "  <thead>\n",
       "    <tr style=\"text-align: right;\">\n",
       "      <th></th>\n",
       "      <th>book_id_title</th>\n",
       "      <th>book_id</th>\n",
       "      <th>book_title</th>\n",
       "      <th>review_url</th>\n",
       "      <th>review_id</th>\n",
       "      <th>date</th>\n",
       "      <th>rating</th>\n",
       "      <th>user_name</th>\n",
       "      <th>user_url</th>\n",
       "      <th>text</th>\n",
       "      <th>num_likes</th>\n",
       "      <th>sort_order</th>\n",
       "      <th>shelves</th>\n",
       "    </tr>\n",
       "  </thead>\n",
       "  <tbody>\n",
       "    <tr>\n",
       "      <th>3179</th>\n",
       "      <td>11337.The_Bluest_Eye</td>\n",
       "      <td>11337</td>\n",
       "      <td>The Bluest Eye</td>\n",
       "      <td>https://www.goodreads.com/review/show/3437328601</td>\n",
       "      <td>3437328601</td>\n",
       "      <td>2020-07-11</td>\n",
       "      <td>5</td>\n",
       "      <td>Amanda Hupe</td>\n",
       "      <td>/user/show/11658047-amanda-hupe</td>\n",
       "      <td>“Certain seeds it will not nurture, certain fr...</td>\n",
       "      <td>9</td>\n",
       "      <td>default</td>\n",
       "      <td>[2020-reads]</td>\n",
       "    </tr>\n",
       "    <tr>\n",
       "      <th>3246</th>\n",
       "      <td>11337.The_Bluest_Eye</td>\n",
       "      <td>11337</td>\n",
       "      <td>The Bluest Eye</td>\n",
       "      <td>https://www.goodreads.com/review/show/3420710517</td>\n",
       "      <td>3420710517</td>\n",
       "      <td>2020-07-08</td>\n",
       "      <td>5</td>\n",
       "      <td>Amanda Hupe</td>\n",
       "      <td>/user/show/11658047-amanda-hupe</td>\n",
       "      <td>“Certain seeds it will not nurture, certain fr...</td>\n",
       "      <td>5</td>\n",
       "      <td>default</td>\n",
       "      <td>[2020-reads]</td>\n",
       "    </tr>\n",
       "  </tbody>\n",
       "</table>\n",
       "</div>"
      ],
      "text/plain": [
       "             book_id_title  book_id      book_title  \\\n",
       "3179  11337.The_Bluest_Eye    11337  The Bluest Eye   \n",
       "3246  11337.The_Bluest_Eye    11337  The Bluest Eye   \n",
       "\n",
       "                                            review_url   review_id       date  \\\n",
       "3179  https://www.goodreads.com/review/show/3437328601  3437328601 2020-07-11   \n",
       "3246  https://www.goodreads.com/review/show/3420710517  3420710517 2020-07-08   \n",
       "\n",
       "     rating    user_name                         user_url  \\\n",
       "3179      5  Amanda Hupe  /user/show/11658047-amanda-hupe   \n",
       "3246      5  Amanda Hupe  /user/show/11658047-amanda-hupe   \n",
       "\n",
       "                                                   text  num_likes sort_order  \\\n",
       "3179  “Certain seeds it will not nurture, certain fr...          9    default   \n",
       "3246  “Certain seeds it will not nurture, certain fr...          5    default   \n",
       "\n",
       "           shelves  \n",
       "3179  [2020-reads]  \n",
       "3246  [2020-reads]  "
      ]
     },
     "execution_count": 24,
     "metadata": {},
     "output_type": "execute_result"
    }
   ],
   "source": [
    "reviews_df[reviews_df[['book_title','text', 'user_name', 'user_url']].duplicated(keep=False)]"
   ]
  },
  {
   "cell_type": "markdown",
   "metadata": {},
   "source": [
    "Drop duplicates"
   ]
  },
  {
   "cell_type": "code",
   "execution_count": 27,
   "metadata": {},
   "outputs": [],
   "source": [
    "reviews_df[['book_title','text', 'user_name', 'user_url']] = reviews_df[['book_title','text', 'user_name', 'user_url']].drop_duplicates(keep='first')"
   ]
  },
  {
   "cell_type": "code",
   "execution_count": 28,
   "metadata": {},
   "outputs": [
    {
     "data": {
      "text/html": [
       "<div>\n",
       "<style scoped>\n",
       "    .dataframe tbody tr th:only-of-type {\n",
       "        vertical-align: middle;\n",
       "    }\n",
       "\n",
       "    .dataframe tbody tr th {\n",
       "        vertical-align: top;\n",
       "    }\n",
       "\n",
       "    .dataframe thead th {\n",
       "        text-align: right;\n",
       "    }\n",
       "</style>\n",
       "<table border=\"1\" class=\"dataframe\">\n",
       "  <thead>\n",
       "    <tr style=\"text-align: right;\">\n",
       "      <th></th>\n",
       "      <th>book_id_title</th>\n",
       "      <th>book_id</th>\n",
       "      <th>book_title</th>\n",
       "      <th>review_url</th>\n",
       "      <th>review_id</th>\n",
       "      <th>date</th>\n",
       "      <th>rating</th>\n",
       "      <th>user_name</th>\n",
       "      <th>user_url</th>\n",
       "      <th>text</th>\n",
       "      <th>num_likes</th>\n",
       "      <th>sort_order</th>\n",
       "      <th>shelves</th>\n",
       "    </tr>\n",
       "  </thead>\n",
       "  <tbody>\n",
       "  </tbody>\n",
       "</table>\n",
       "</div>"
      ],
      "text/plain": [
       "Empty DataFrame\n",
       "Columns: [book_id_title, book_id, book_title, review_url, review_id, date, rating, user_name, user_url, text, num_likes, sort_order, shelves]\n",
       "Index: []"
      ]
     },
     "execution_count": 28,
     "metadata": {},
     "output_type": "execute_result"
    }
   ],
   "source": [
    "reviews_df[reviews_df[['book_title','text', 'user_name', 'user_url']].duplicated(keep=False)]"
   ]
  },
  {
   "cell_type": "markdown",
   "metadata": {},
   "source": [
    "Output to CSV file"
   ]
  },
  {
   "cell_type": "code",
   "execution_count": 30,
   "metadata": {},
   "outputs": [],
   "source": [
    "reviews_df.to_csv(\"all_goodreads_reviews.csv\", encoding ='utf-8', index=False)"
   ]
  },
  {
   "cell_type": "markdown",
   "metadata": {},
   "source": [
    "## Collect Newest Goodreads Reviews (Firefox)"
   ]
  },
  {
   "cell_type": "markdown",
   "metadata": {},
   "source": [
    "## Make new directory for book reviews"
   ]
  },
  {
   "cell_type": "markdown",
   "metadata": {},
   "source": [
    "Make new folder for newest Goodreads reviews"
   ]
  },
  {
   "cell_type": "code",
   "execution_count": 21,
   "metadata": {},
   "outputs": [],
   "source": [
    "!mkdir classic_book_reviews_newest"
   ]
  },
  {
   "cell_type": "markdown",
   "metadata": {},
   "source": [
    "## Run Goodreads reviews collection script"
   ]
  },
  {
   "cell_type": "markdown",
   "metadata": {},
   "source": [
    "Below we're running `get_reviews.py`, setting `--sort_order` to `newest` to collect the most recently published Goodreads reviews, indicating that the web browser we'd like to use is Firefox, and setting the file format of the aggregated reviews as a CSV file (in addition to a JSON file)."
   ]
  },
  {
   "cell_type": "code",
   "execution_count": 5,
   "metadata": {
    "scrolled": true
   },
   "outputs": [
    {
     "name": "stdout",
     "output_type": "stream",
     "text": [
      "2020-10-16 14:26:51.613647 get_reviews.py: Scraping 4671.The_Great_Gatsby...\n",
      "2020-10-16 14:26:51.613765 get_reviews.py: #3 out of 15 books\n",
      "Scraped page 1\n",
      "Scraped page 2\n",
      "Scraped page 3\n",
      "Scraped page 4\n",
      "Scraped page 5\n",
      "Scraped page 6\n",
      "Scraped page 7\n",
      "Scraped page 8\n",
      "Scraped page 9\n",
      "Scraped page 10\n",
      "2020-10-16 14:27:52.671204 get_reviews.py: Scraped ✨300✨ reviews for 4671.The_Great_Gatsby\n",
      "=============================\n",
      "2020-10-16 14:27:52.683197 get_reviews.py: Scraping 10210.Jane_Eyre...\n",
      "2020-10-16 14:27:52.683215 get_reviews.py: #4 out of 15 books\n",
      "🚨 ElementClickInterceptedException 🚨\n",
      "Refreshing Goodreads site and rescraping book\n",
      "Scraped page 1\n",
      "Scraped page 2\n",
      "Scraped page 3\n",
      "Scraped page 4\n",
      "Scraped page 5\n",
      "Scraped page 6\n",
      "Scraped page 7\n",
      "Scraped page 8\n",
      "Scraped page 9\n",
      "Scraped page 10\n",
      "2020-10-16 14:28:59.189851 get_reviews.py: Scraped ✨300✨ reviews for 10210.Jane_Eyre\n",
      "=============================\n",
      "2020-10-16 14:28:59.212523 get_reviews.py: Scraping 1371.The_Iliad...\n",
      "2020-10-16 14:28:59.212545 get_reviews.py: #5 out of 15 books\n",
      "Scraped page 1\n",
      "Scraped page 2\n",
      "Scraped page 3\n",
      "Scraped page 4\n",
      "Scraped page 5\n",
      "Scraped page 6\n",
      "Scraped page 7\n",
      "Scraped page 8\n",
      "Scraped page 9\n",
      "Scraped page 10\n",
      "2020-10-16 14:29:55.437714 get_reviews.py: Scraped ✨299✨ reviews for 1371.The_Iliad\n",
      "=============================\n",
      "2020-10-16 14:29:55.461226 get_reviews.py: Scraping 6185.Wuthering_Heights...\n",
      "2020-10-16 14:29:55.461250 get_reviews.py: #6 out of 15 books\n",
      "Scraped page 1\n",
      "Scraped page 2\n",
      "Scraped page 3\n",
      "Scraped page 4\n",
      "Scraped page 5\n",
      "Scraped page 6\n",
      "Scraped page 7\n",
      "Scraped page 8\n",
      "Scraped page 9\n",
      "Scraped page 10\n",
      "2020-10-16 14:30:51.039187 get_reviews.py: Scraped ✨300✨ reviews for 6185.Wuthering_Heights\n",
      "=============================\n",
      "2020-10-16 14:30:51.057336 get_reviews.py: Scraping 5107.The_Catcher_in_the_Rye...\n",
      "2020-10-16 14:30:51.057376 get_reviews.py: #7 out of 15 books\n",
      "Scraped page 1\n",
      "Scraped page 2\n",
      "Scraped page 3\n",
      "Scraped page 4\n",
      "Scraped page 5\n",
      "Scraped page 6\n",
      "Scraped page 7\n",
      "Scraped page 8\n",
      "Scraped page 9\n",
      "Scraped page 10\n",
      "2020-10-16 14:31:44.113949 get_reviews.py: Scraped ✨300✨ reviews for 5107.The_Catcher_in_the_Rye\n",
      "=============================\n",
      "2020-10-16 14:31:44.130292 get_reviews.py: Scraping 11337.The_Bluest_Eye...\n",
      "2020-10-16 14:31:44.130314 get_reviews.py: #8 out of 15 books\n",
      "Scraped page 1\n",
      "Scraped page 2\n",
      "Scraped page 3\n",
      "Scraped page 4\n",
      "Scraped page 5\n",
      "Scraped page 6\n",
      "Scraped page 7\n",
      "Scraped page 8\n",
      "Scraped page 9\n",
      "Scraped page 10\n",
      "2020-10-16 14:32:38.841013 get_reviews.py: Scraped ✨300✨ reviews for 11337.The_Bluest_Eye\n",
      "=============================\n",
      "2020-10-16 14:32:38.857938 get_reviews.py: Scraping 320.One_Hundred_Years_of_Solitude...\n",
      "2020-10-16 14:32:38.857961 get_reviews.py: #9 out of 15 books\n",
      "Scraped page 1\n",
      "Scraped page 2\n",
      "Scraped page 3\n",
      "Scraped page 4\n",
      "Scraped page 5\n",
      "Scraped page 6\n",
      "Scraped page 7\n",
      "Scraped page 8\n",
      "Scraped page 9\n",
      "Scraped page 10\n",
      "2020-10-16 14:33:35.687842 get_reviews.py: Scraped ✨300✨ reviews for 320.One_Hundred_Years_of_Solitude\n",
      "=============================\n",
      "2020-10-16 14:33:35.700831 get_reviews.py: Scraping 36529.Narrative_of_the_Life_of_Frederick_Douglass...\n",
      "2020-10-16 14:33:35.700858 get_reviews.py: #10 out of 15 books\n",
      "Scraped page 1\n",
      "Scraped page 2\n",
      "Scraped page 3\n",
      "Scraped page 4\n",
      "Scraped page 5\n",
      "Scraped page 6\n",
      "Scraped page 7\n",
      "Scraped page 8\n",
      "Scraped page 9\n",
      "Scraped page 10\n",
      "2020-10-16 14:34:30.543793 get_reviews.py: Scraped ✨300✨ reviews for 36529.Narrative_of_the_Life_of_Frederick_Douglass\n",
      "=============================\n",
      "2020-10-16 14:34:30.557592 get_reviews.py: Scraping 1934.Little_Women...\n",
      "2020-10-16 14:34:30.557610 get_reviews.py: #11 out of 15 books\n",
      "Scraped page 1\n",
      "Scraped page 2\n",
      "Scraped page 3\n",
      "Scraped page 4\n",
      "Scraped page 5\n",
      "Scraped page 6\n",
      "Scraped page 7\n",
      "Scraped page 8\n",
      "Scraped page 9\n",
      "Scraped page 10\n",
      "2020-10-16 14:35:27.850384 get_reviews.py: Scraped ✨300✨ reviews for 1934.Little_Women\n",
      "=============================\n",
      "2020-10-16 14:35:27.861498 get_reviews.py: Scraping 12296.The_Scarlet_Letter...\n",
      "2020-10-16 14:35:27.861516 get_reviews.py: #12 out of 15 books\n",
      "Scraped page 1\n",
      "Scraped page 2\n",
      "Scraped page 3\n",
      "Scraped page 4\n",
      "Scraped page 5\n",
      "Scraped page 6\n",
      "Scraped page 7\n",
      "Scraped page 8\n",
      "Scraped page 9\n",
      "Scraped page 10\n",
      "2020-10-16 14:36:22.745938 get_reviews.py: Scraped ✨300✨ reviews for 12296.The_Scarlet_Letter\n",
      "=============================\n",
      "2020-10-16 14:36:22.767726 get_reviews.py: Scraping 18423.The_Left_Hand_of_Darkness...\n",
      "2020-10-16 14:36:22.767752 get_reviews.py: #13 out of 15 books\n",
      "Scraped page 1\n",
      "Scraped page 2\n",
      "Scraped page 3\n",
      "Scraped page 4\n",
      "Scraped page 5\n",
      "Scraped page 6\n",
      "Scraped page 7\n",
      "Scraped page 8\n",
      "Scraped page 9\n",
      "Scraped page 10\n",
      "2020-10-16 14:37:16.797874 get_reviews.py: Scraped ✨300✨ reviews for 18423.The_Left_Hand_of_Darkness\n",
      "=============================\n",
      "2020-10-16 14:37:16.827592 get_reviews.py: Scraping 14942.Mrs_Dalloway...\n",
      "2020-10-16 14:37:16.827619 get_reviews.py: #14 out of 15 books\n",
      "Scraped page 1\n",
      "Scraped page 2\n",
      "Scraped page 3\n",
      "Scraped page 4\n",
      "Scraped page 5\n",
      "Scraped page 6\n",
      "Scraped page 7\n",
      "Scraped page 8\n",
      "Scraped page 9\n",
      "Scraped page 10\n",
      "2020-10-16 14:38:11.189933 get_reviews.py: Scraped ✨300✨ reviews for 14942.Mrs_Dalloway\n",
      "=============================\n",
      "2020-10-16 14:38:11.207819 get_reviews.py: Scraping 38447.The_Handmaid_s_Tale...\n",
      "2020-10-16 14:38:11.207845 get_reviews.py: #15 out of 15 books\n",
      "Scraped page 1\n",
      "Scraped page 2\n",
      "Scraped page 3\n",
      "Scraped page 4\n",
      "Scraped page 5\n",
      "Scraped page 6\n",
      "Scraped page 7\n",
      "Scraped page 8\n",
      "Scraped page 9\n",
      "Scraped page 10\n",
      "2020-10-16 14:39:05.388243 get_reviews.py: Scraped ✨300✨ reviews for 38447.The_Handmaid_s_Tale\n",
      "=============================\n",
      "2020-10-16 14:39:08.130923 get_reviews.py:\n",
      "\n",
      "🎉 Success! All book reviews scraped. 🎉\n",
      "\n",
      "Goodreads review files have been output to /classic_book_reviews_newest\n",
      "Goodreads scraping run time = ⏰ 0:12:21.264886 ⏰\n"
     ]
    }
   ],
   "source": [
    "!python get_reviews.py --book_ids_path goodreads_classics_sample.txt \\\n",
    "--output_directory_path classic_book_reviews_newest --sort_order newest --browser firefox --format csv"
   ]
  },
  {
   "cell_type": "markdown",
   "metadata": {},
   "source": [
    "Let's read in the aggregated CSV file with Pandas and see what the data looks like:"
   ]
  },
  {
   "cell_type": "code",
   "execution_count": 2,
   "metadata": {},
   "outputs": [
    {
     "ename": "FileNotFoundError",
     "evalue": "[Errno 2] No such file or directory: 'classic_book_reviews_newest/all_reviews.csv'",
     "output_type": "error",
     "traceback": [
      "\u001b[1;31m---------------------------------------------------------------------------\u001b[0m",
      "\u001b[1;31mFileNotFoundError\u001b[0m                         Traceback (most recent call last)",
      "\u001b[1;32mC:\\Users\\LAURAW~1\\AppData\\Local\\Temp/ipykernel_15104/2180219378.py\u001b[0m in \u001b[0;36m<module>\u001b[1;34m\u001b[0m\n\u001b[0;32m      1\u001b[0m \u001b[1;32mimport\u001b[0m \u001b[0mpandas\u001b[0m \u001b[1;32mas\u001b[0m \u001b[0mpd\u001b[0m\u001b[1;33m\u001b[0m\u001b[1;33m\u001b[0m\u001b[0m\n\u001b[1;32m----> 2\u001b[1;33m \u001b[0mnewest_reviews\u001b[0m \u001b[1;33m=\u001b[0m \u001b[0mpd\u001b[0m\u001b[1;33m.\u001b[0m\u001b[0mread_csv\u001b[0m\u001b[1;33m(\u001b[0m\u001b[1;34m'classic_book_reviews_newest/all_reviews.csv'\u001b[0m\u001b[1;33m)\u001b[0m\u001b[1;33m\u001b[0m\u001b[1;33m\u001b[0m\u001b[0m\n\u001b[0m",
      "\u001b[1;32m~\\anaconda3\\envs\\class\\lib\\site-packages\\pandas\\util\\_decorators.py\u001b[0m in \u001b[0;36mwrapper\u001b[1;34m(*args, **kwargs)\u001b[0m\n\u001b[0;32m    309\u001b[0m                     \u001b[0mstacklevel\u001b[0m\u001b[1;33m=\u001b[0m\u001b[0mstacklevel\u001b[0m\u001b[1;33m,\u001b[0m\u001b[1;33m\u001b[0m\u001b[1;33m\u001b[0m\u001b[0m\n\u001b[0;32m    310\u001b[0m                 )\n\u001b[1;32m--> 311\u001b[1;33m             \u001b[1;32mreturn\u001b[0m \u001b[0mfunc\u001b[0m\u001b[1;33m(\u001b[0m\u001b[1;33m*\u001b[0m\u001b[0margs\u001b[0m\u001b[1;33m,\u001b[0m \u001b[1;33m**\u001b[0m\u001b[0mkwargs\u001b[0m\u001b[1;33m)\u001b[0m\u001b[1;33m\u001b[0m\u001b[1;33m\u001b[0m\u001b[0m\n\u001b[0m\u001b[0;32m    312\u001b[0m \u001b[1;33m\u001b[0m\u001b[0m\n\u001b[0;32m    313\u001b[0m         \u001b[1;32mreturn\u001b[0m \u001b[0mwrapper\u001b[0m\u001b[1;33m\u001b[0m\u001b[1;33m\u001b[0m\u001b[0m\n",
      "\u001b[1;32m~\\anaconda3\\envs\\class\\lib\\site-packages\\pandas\\io\\parsers\\readers.py\u001b[0m in \u001b[0;36mread_csv\u001b[1;34m(filepath_or_buffer, sep, delimiter, header, names, index_col, usecols, squeeze, prefix, mangle_dupe_cols, dtype, engine, converters, true_values, false_values, skipinitialspace, skiprows, skipfooter, nrows, na_values, keep_default_na, na_filter, verbose, skip_blank_lines, parse_dates, infer_datetime_format, keep_date_col, date_parser, dayfirst, cache_dates, iterator, chunksize, compression, thousands, decimal, lineterminator, quotechar, quoting, doublequote, escapechar, comment, encoding, encoding_errors, dialect, error_bad_lines, warn_bad_lines, on_bad_lines, delim_whitespace, low_memory, memory_map, float_precision, storage_options)\u001b[0m\n\u001b[0;32m    584\u001b[0m     \u001b[0mkwds\u001b[0m\u001b[1;33m.\u001b[0m\u001b[0mupdate\u001b[0m\u001b[1;33m(\u001b[0m\u001b[0mkwds_defaults\u001b[0m\u001b[1;33m)\u001b[0m\u001b[1;33m\u001b[0m\u001b[1;33m\u001b[0m\u001b[0m\n\u001b[0;32m    585\u001b[0m \u001b[1;33m\u001b[0m\u001b[0m\n\u001b[1;32m--> 586\u001b[1;33m     \u001b[1;32mreturn\u001b[0m \u001b[0m_read\u001b[0m\u001b[1;33m(\u001b[0m\u001b[0mfilepath_or_buffer\u001b[0m\u001b[1;33m,\u001b[0m \u001b[0mkwds\u001b[0m\u001b[1;33m)\u001b[0m\u001b[1;33m\u001b[0m\u001b[1;33m\u001b[0m\u001b[0m\n\u001b[0m\u001b[0;32m    587\u001b[0m \u001b[1;33m\u001b[0m\u001b[0m\n\u001b[0;32m    588\u001b[0m \u001b[1;33m\u001b[0m\u001b[0m\n",
      "\u001b[1;32m~\\anaconda3\\envs\\class\\lib\\site-packages\\pandas\\io\\parsers\\readers.py\u001b[0m in \u001b[0;36m_read\u001b[1;34m(filepath_or_buffer, kwds)\u001b[0m\n\u001b[0;32m    480\u001b[0m \u001b[1;33m\u001b[0m\u001b[0m\n\u001b[0;32m    481\u001b[0m     \u001b[1;31m# Create the parser.\u001b[0m\u001b[1;33m\u001b[0m\u001b[1;33m\u001b[0m\u001b[0m\n\u001b[1;32m--> 482\u001b[1;33m     \u001b[0mparser\u001b[0m \u001b[1;33m=\u001b[0m \u001b[0mTextFileReader\u001b[0m\u001b[1;33m(\u001b[0m\u001b[0mfilepath_or_buffer\u001b[0m\u001b[1;33m,\u001b[0m \u001b[1;33m**\u001b[0m\u001b[0mkwds\u001b[0m\u001b[1;33m)\u001b[0m\u001b[1;33m\u001b[0m\u001b[1;33m\u001b[0m\u001b[0m\n\u001b[0m\u001b[0;32m    483\u001b[0m \u001b[1;33m\u001b[0m\u001b[0m\n\u001b[0;32m    484\u001b[0m     \u001b[1;32mif\u001b[0m \u001b[0mchunksize\u001b[0m \u001b[1;32mor\u001b[0m \u001b[0miterator\u001b[0m\u001b[1;33m:\u001b[0m\u001b[1;33m\u001b[0m\u001b[1;33m\u001b[0m\u001b[0m\n",
      "\u001b[1;32m~\\anaconda3\\envs\\class\\lib\\site-packages\\pandas\\io\\parsers\\readers.py\u001b[0m in \u001b[0;36m__init__\u001b[1;34m(self, f, engine, **kwds)\u001b[0m\n\u001b[0;32m    809\u001b[0m             \u001b[0mself\u001b[0m\u001b[1;33m.\u001b[0m\u001b[0moptions\u001b[0m\u001b[1;33m[\u001b[0m\u001b[1;34m\"has_index_names\"\u001b[0m\u001b[1;33m]\u001b[0m \u001b[1;33m=\u001b[0m \u001b[0mkwds\u001b[0m\u001b[1;33m[\u001b[0m\u001b[1;34m\"has_index_names\"\u001b[0m\u001b[1;33m]\u001b[0m\u001b[1;33m\u001b[0m\u001b[1;33m\u001b[0m\u001b[0m\n\u001b[0;32m    810\u001b[0m \u001b[1;33m\u001b[0m\u001b[0m\n\u001b[1;32m--> 811\u001b[1;33m         \u001b[0mself\u001b[0m\u001b[1;33m.\u001b[0m\u001b[0m_engine\u001b[0m \u001b[1;33m=\u001b[0m \u001b[0mself\u001b[0m\u001b[1;33m.\u001b[0m\u001b[0m_make_engine\u001b[0m\u001b[1;33m(\u001b[0m\u001b[0mself\u001b[0m\u001b[1;33m.\u001b[0m\u001b[0mengine\u001b[0m\u001b[1;33m)\u001b[0m\u001b[1;33m\u001b[0m\u001b[1;33m\u001b[0m\u001b[0m\n\u001b[0m\u001b[0;32m    812\u001b[0m \u001b[1;33m\u001b[0m\u001b[0m\n\u001b[0;32m    813\u001b[0m     \u001b[1;32mdef\u001b[0m \u001b[0mclose\u001b[0m\u001b[1;33m(\u001b[0m\u001b[0mself\u001b[0m\u001b[1;33m)\u001b[0m\u001b[1;33m:\u001b[0m\u001b[1;33m\u001b[0m\u001b[1;33m\u001b[0m\u001b[0m\n",
      "\u001b[1;32m~\\anaconda3\\envs\\class\\lib\\site-packages\\pandas\\io\\parsers\\readers.py\u001b[0m in \u001b[0;36m_make_engine\u001b[1;34m(self, engine)\u001b[0m\n\u001b[0;32m   1038\u001b[0m             )\n\u001b[0;32m   1039\u001b[0m         \u001b[1;31m# error: Too many arguments for \"ParserBase\"\u001b[0m\u001b[1;33m\u001b[0m\u001b[1;33m\u001b[0m\u001b[0m\n\u001b[1;32m-> 1040\u001b[1;33m         \u001b[1;32mreturn\u001b[0m \u001b[0mmapping\u001b[0m\u001b[1;33m[\u001b[0m\u001b[0mengine\u001b[0m\u001b[1;33m]\u001b[0m\u001b[1;33m(\u001b[0m\u001b[0mself\u001b[0m\u001b[1;33m.\u001b[0m\u001b[0mf\u001b[0m\u001b[1;33m,\u001b[0m \u001b[1;33m**\u001b[0m\u001b[0mself\u001b[0m\u001b[1;33m.\u001b[0m\u001b[0moptions\u001b[0m\u001b[1;33m)\u001b[0m  \u001b[1;31m# type: ignore[call-arg]\u001b[0m\u001b[1;33m\u001b[0m\u001b[1;33m\u001b[0m\u001b[0m\n\u001b[0m\u001b[0;32m   1041\u001b[0m \u001b[1;33m\u001b[0m\u001b[0m\n\u001b[0;32m   1042\u001b[0m     \u001b[1;32mdef\u001b[0m \u001b[0m_failover_to_python\u001b[0m\u001b[1;33m(\u001b[0m\u001b[0mself\u001b[0m\u001b[1;33m)\u001b[0m\u001b[1;33m:\u001b[0m\u001b[1;33m\u001b[0m\u001b[1;33m\u001b[0m\u001b[0m\n",
      "\u001b[1;32m~\\anaconda3\\envs\\class\\lib\\site-packages\\pandas\\io\\parsers\\c_parser_wrapper.py\u001b[0m in \u001b[0;36m__init__\u001b[1;34m(self, src, **kwds)\u001b[0m\n\u001b[0;32m     49\u001b[0m \u001b[1;33m\u001b[0m\u001b[0m\n\u001b[0;32m     50\u001b[0m         \u001b[1;31m# open handles\u001b[0m\u001b[1;33m\u001b[0m\u001b[1;33m\u001b[0m\u001b[0m\n\u001b[1;32m---> 51\u001b[1;33m         \u001b[0mself\u001b[0m\u001b[1;33m.\u001b[0m\u001b[0m_open_handles\u001b[0m\u001b[1;33m(\u001b[0m\u001b[0msrc\u001b[0m\u001b[1;33m,\u001b[0m \u001b[0mkwds\u001b[0m\u001b[1;33m)\u001b[0m\u001b[1;33m\u001b[0m\u001b[1;33m\u001b[0m\u001b[0m\n\u001b[0m\u001b[0;32m     52\u001b[0m         \u001b[1;32massert\u001b[0m \u001b[0mself\u001b[0m\u001b[1;33m.\u001b[0m\u001b[0mhandles\u001b[0m \u001b[1;32mis\u001b[0m \u001b[1;32mnot\u001b[0m \u001b[1;32mNone\u001b[0m\u001b[1;33m\u001b[0m\u001b[1;33m\u001b[0m\u001b[0m\n\u001b[0;32m     53\u001b[0m \u001b[1;33m\u001b[0m\u001b[0m\n",
      "\u001b[1;32m~\\anaconda3\\envs\\class\\lib\\site-packages\\pandas\\io\\parsers\\base_parser.py\u001b[0m in \u001b[0;36m_open_handles\u001b[1;34m(self, src, kwds)\u001b[0m\n\u001b[0;32m    220\u001b[0m         \u001b[0mLet\u001b[0m \u001b[0mthe\u001b[0m \u001b[0mreaders\u001b[0m \u001b[0mopen\u001b[0m \u001b[0mIOHandles\u001b[0m \u001b[0mafter\u001b[0m \u001b[0mthey\u001b[0m \u001b[0mare\u001b[0m \u001b[0mdone\u001b[0m \u001b[1;32mwith\u001b[0m \u001b[0mtheir\u001b[0m \u001b[0mpotential\u001b[0m \u001b[0mraises\u001b[0m\u001b[1;33m.\u001b[0m\u001b[1;33m\u001b[0m\u001b[1;33m\u001b[0m\u001b[0m\n\u001b[0;32m    221\u001b[0m         \"\"\"\n\u001b[1;32m--> 222\u001b[1;33m         self.handles = get_handle(\n\u001b[0m\u001b[0;32m    223\u001b[0m             \u001b[0msrc\u001b[0m\u001b[1;33m,\u001b[0m\u001b[1;33m\u001b[0m\u001b[1;33m\u001b[0m\u001b[0m\n\u001b[0;32m    224\u001b[0m             \u001b[1;34m\"r\"\u001b[0m\u001b[1;33m,\u001b[0m\u001b[1;33m\u001b[0m\u001b[1;33m\u001b[0m\u001b[0m\n",
      "\u001b[1;32m~\\anaconda3\\envs\\class\\lib\\site-packages\\pandas\\io\\common.py\u001b[0m in \u001b[0;36mget_handle\u001b[1;34m(path_or_buf, mode, encoding, compression, memory_map, is_text, errors, storage_options)\u001b[0m\n\u001b[0;32m    700\u001b[0m         \u001b[1;32mif\u001b[0m \u001b[0mioargs\u001b[0m\u001b[1;33m.\u001b[0m\u001b[0mencoding\u001b[0m \u001b[1;32mand\u001b[0m \u001b[1;34m\"b\"\u001b[0m \u001b[1;32mnot\u001b[0m \u001b[1;32min\u001b[0m \u001b[0mioargs\u001b[0m\u001b[1;33m.\u001b[0m\u001b[0mmode\u001b[0m\u001b[1;33m:\u001b[0m\u001b[1;33m\u001b[0m\u001b[1;33m\u001b[0m\u001b[0m\n\u001b[0;32m    701\u001b[0m             \u001b[1;31m# Encoding\u001b[0m\u001b[1;33m\u001b[0m\u001b[1;33m\u001b[0m\u001b[0m\n\u001b[1;32m--> 702\u001b[1;33m             handle = open(\n\u001b[0m\u001b[0;32m    703\u001b[0m                 \u001b[0mhandle\u001b[0m\u001b[1;33m,\u001b[0m\u001b[1;33m\u001b[0m\u001b[1;33m\u001b[0m\u001b[0m\n\u001b[0;32m    704\u001b[0m                 \u001b[0mioargs\u001b[0m\u001b[1;33m.\u001b[0m\u001b[0mmode\u001b[0m\u001b[1;33m,\u001b[0m\u001b[1;33m\u001b[0m\u001b[1;33m\u001b[0m\u001b[0m\n",
      "\u001b[1;31mFileNotFoundError\u001b[0m: [Errno 2] No such file or directory: 'classic_book_reviews_newest/all_reviews.csv'"
     ]
    }
   ],
   "source": [
    "import pandas as pd\n",
    "newest_reviews = pd.read_csv('classic_book_reviews_newest/all_reviews.csv')"
   ]
  },
  {
   "cell_type": "code",
   "execution_count": 11,
   "metadata": {
    "scrolled": true
   },
   "outputs": [
    {
     "data": {
      "text/html": [
       "<div>\n",
       "<style scoped>\n",
       "    .dataframe tbody tr th:only-of-type {\n",
       "        vertical-align: middle;\n",
       "    }\n",
       "\n",
       "    .dataframe tbody tr th {\n",
       "        vertical-align: top;\n",
       "    }\n",
       "\n",
       "    .dataframe thead th {\n",
       "        text-align: right;\n",
       "    }\n",
       "</style>\n",
       "<table border=\"1\" class=\"dataframe\">\n",
       "  <thead>\n",
       "    <tr style=\"text-align: right;\">\n",
       "      <th></th>\n",
       "      <th>book_id_title</th>\n",
       "      <th>book_id</th>\n",
       "      <th>book_title</th>\n",
       "      <th>review_url</th>\n",
       "      <th>review_id</th>\n",
       "      <th>date</th>\n",
       "      <th>rating</th>\n",
       "      <th>user_name</th>\n",
       "      <th>user_url</th>\n",
       "      <th>text</th>\n",
       "      <th>num_likes</th>\n",
       "      <th>sort_order</th>\n",
       "      <th>shelves</th>\n",
       "    </tr>\n",
       "  </thead>\n",
       "  <tbody>\n",
       "    <tr>\n",
       "      <th>0</th>\n",
       "      <td>320.One_Hundred_Years_of_Solitude</td>\n",
       "      <td>320</td>\n",
       "      <td>One Hundred Years of Solitude</td>\n",
       "      <td>https://www.goodreads.com/review/show/3572683523</td>\n",
       "      <td>3572683523</td>\n",
       "      <td>2020-10-16</td>\n",
       "      <td>4.0</td>\n",
       "      <td>Gitte Hornung</td>\n",
       "      <td>/user/show/63555571-gitte-hornung</td>\n",
       "      <td>Phew this was a long book. At one point I cons...</td>\n",
       "      <td>0</td>\n",
       "      <td>newest</td>\n",
       "      <td>[]</td>\n",
       "    </tr>\n",
       "    <tr>\n",
       "      <th>1</th>\n",
       "      <td>320.One_Hundred_Years_of_Solitude</td>\n",
       "      <td>320</td>\n",
       "      <td>One Hundred Years of Solitude</td>\n",
       "      <td>https://www.goodreads.com/review/show/3598284436</td>\n",
       "      <td>3598284436</td>\n",
       "      <td>2020-10-16</td>\n",
       "      <td>5.0</td>\n",
       "      <td>Rob Jacobs</td>\n",
       "      <td>/user/show/114599362-rob-jacobs</td>\n",
       "      <td>Great journey!</td>\n",
       "      <td>0</td>\n",
       "      <td>newest</td>\n",
       "      <td>[]</td>\n",
       "    </tr>\n",
       "    <tr>\n",
       "      <th>2</th>\n",
       "      <td>320.One_Hundred_Years_of_Solitude</td>\n",
       "      <td>320</td>\n",
       "      <td>One Hundred Years of Solitude</td>\n",
       "      <td>https://www.goodreads.com/review/show/3582954889</td>\n",
       "      <td>3582954889</td>\n",
       "      <td>2020-10-16</td>\n",
       "      <td>2.0</td>\n",
       "      <td>Rona Karen</td>\n",
       "      <td>/user/show/6864201-rona-karen</td>\n",
       "      <td>Two stars for now. The repetitive names annoye...</td>\n",
       "      <td>0</td>\n",
       "      <td>newest</td>\n",
       "      <td>[]</td>\n",
       "    </tr>\n",
       "    <tr>\n",
       "      <th>3</th>\n",
       "      <td>320.One_Hundred_Years_of_Solitude</td>\n",
       "      <td>320</td>\n",
       "      <td>One Hundred Years of Solitude</td>\n",
       "      <td>https://www.goodreads.com/review/show/2122452416</td>\n",
       "      <td>2122452416</td>\n",
       "      <td>2020-10-15</td>\n",
       "      <td>4.0</td>\n",
       "      <td>Emma Pek</td>\n",
       "      <td>/user/show/53126830-emma-pek</td>\n",
       "      <td>The story was timeless and full of excitement....</td>\n",
       "      <td>0</td>\n",
       "      <td>newest</td>\n",
       "      <td>[]</td>\n",
       "    </tr>\n",
       "    <tr>\n",
       "      <th>4</th>\n",
       "      <td>320.One_Hundred_Years_of_Solitude</td>\n",
       "      <td>320</td>\n",
       "      <td>One Hundred Years of Solitude</td>\n",
       "      <td>https://www.goodreads.com/review/show/3541262010</td>\n",
       "      <td>3541262010</td>\n",
       "      <td>2020-10-15</td>\n",
       "      <td>4.0</td>\n",
       "      <td>Irini Kallides</td>\n",
       "      <td>/user/show/113080501-irini-kallides</td>\n",
       "      <td>Amazed about the richness of his language and ...</td>\n",
       "      <td>0</td>\n",
       "      <td>newest</td>\n",
       "      <td>['book-club']</td>\n",
       "    </tr>\n",
       "    <tr>\n",
       "      <th>...</th>\n",
       "      <td>...</td>\n",
       "      <td>...</td>\n",
       "      <td>...</td>\n",
       "      <td>...</td>\n",
       "      <td>...</td>\n",
       "      <td>...</td>\n",
       "      <td>...</td>\n",
       "      <td>...</td>\n",
       "      <td>...</td>\n",
       "      <td>...</td>\n",
       "      <td>...</td>\n",
       "      <td>...</td>\n",
       "      <td>...</td>\n",
       "    </tr>\n",
       "    <tr>\n",
       "      <th>4493</th>\n",
       "      <td>1934.Little_Women</td>\n",
       "      <td>1934</td>\n",
       "      <td>Little Women</td>\n",
       "      <td>https://www.goodreads.com/review/show/3508929611</td>\n",
       "      <td>3508929611</td>\n",
       "      <td>2020-09-14</td>\n",
       "      <td>4.0</td>\n",
       "      <td>Michael</td>\n",
       "      <td>/user/show/108824026-michael</td>\n",
       "      <td>This was a great book despite how hard it was ...</td>\n",
       "      <td>0</td>\n",
       "      <td>newest</td>\n",
       "      <td>[]</td>\n",
       "    </tr>\n",
       "    <tr>\n",
       "      <th>4494</th>\n",
       "      <td>1934.Little_Women</td>\n",
       "      <td>1934</td>\n",
       "      <td>Little Women</td>\n",
       "      <td>https://www.goodreads.com/review/show/3486426118</td>\n",
       "      <td>3486426118</td>\n",
       "      <td>2020-09-14</td>\n",
       "      <td>2.0</td>\n",
       "      <td>Deanna</td>\n",
       "      <td>/user/show/43177294-deanna</td>\n",
       "      <td>Wow that did not live up to the hype, but I be...</td>\n",
       "      <td>0</td>\n",
       "      <td>newest</td>\n",
       "      <td>[]</td>\n",
       "    </tr>\n",
       "    <tr>\n",
       "      <th>4495</th>\n",
       "      <td>1934.Little_Women</td>\n",
       "      <td>1934</td>\n",
       "      <td>Little Women</td>\n",
       "      <td>https://www.goodreads.com/review/show/3532663154</td>\n",
       "      <td>3532663154</td>\n",
       "      <td>2020-09-14</td>\n",
       "      <td>2.0</td>\n",
       "      <td>Kelly</td>\n",
       "      <td>/user/show/8545345-kelly</td>\n",
       "      <td>I listened to 'Little Women' as an audiobook a...</td>\n",
       "      <td>0</td>\n",
       "      <td>newest</td>\n",
       "      <td>[]</td>\n",
       "    </tr>\n",
       "    <tr>\n",
       "      <th>4496</th>\n",
       "      <td>1934.Little_Women</td>\n",
       "      <td>1934</td>\n",
       "      <td>Little Women</td>\n",
       "      <td>https://www.goodreads.com/review/show/3359606301</td>\n",
       "      <td>3359606301</td>\n",
       "      <td>2020-09-14</td>\n",
       "      <td>2.0</td>\n",
       "      <td>Ashley Brooks</td>\n",
       "      <td>/user/show/17334972-ashley-brooks</td>\n",
       "      <td>Reading this as an adult was a different exper...</td>\n",
       "      <td>0</td>\n",
       "      <td>newest</td>\n",
       "      <td>[]</td>\n",
       "    </tr>\n",
       "    <tr>\n",
       "      <th>4497</th>\n",
       "      <td>1934.Little_Women</td>\n",
       "      <td>1934</td>\n",
       "      <td>Little Women</td>\n",
       "      <td>https://www.goodreads.com/review/show/2459445140</td>\n",
       "      <td>2459445140</td>\n",
       "      <td>2020-09-14</td>\n",
       "      <td>4.0</td>\n",
       "      <td>Khryzette Onishi</td>\n",
       "      <td>/user/show/10999719-khryzette-onishi</td>\n",
       "      <td>Rating: 4.5 stars.A coming of age in its simpl...</td>\n",
       "      <td>0</td>\n",
       "      <td>newest</td>\n",
       "      <td>[]</td>\n",
       "    </tr>\n",
       "  </tbody>\n",
       "</table>\n",
       "<p>4498 rows × 13 columns</p>\n",
       "</div>"
      ],
      "text/plain": [
       "                          book_id_title  book_id  \\\n",
       "0     320.One_Hundred_Years_of_Solitude      320   \n",
       "1     320.One_Hundred_Years_of_Solitude      320   \n",
       "2     320.One_Hundred_Years_of_Solitude      320   \n",
       "3     320.One_Hundred_Years_of_Solitude      320   \n",
       "4     320.One_Hundred_Years_of_Solitude      320   \n",
       "...                                 ...      ...   \n",
       "4493                  1934.Little_Women     1934   \n",
       "4494                  1934.Little_Women     1934   \n",
       "4495                  1934.Little_Women     1934   \n",
       "4496                  1934.Little_Women     1934   \n",
       "4497                  1934.Little_Women     1934   \n",
       "\n",
       "                         book_title  \\\n",
       "0     One Hundred Years of Solitude   \n",
       "1     One Hundred Years of Solitude   \n",
       "2     One Hundred Years of Solitude   \n",
       "3     One Hundred Years of Solitude   \n",
       "4     One Hundred Years of Solitude   \n",
       "...                             ...   \n",
       "4493                   Little Women   \n",
       "4494                   Little Women   \n",
       "4495                   Little Women   \n",
       "4496                   Little Women   \n",
       "4497                   Little Women   \n",
       "\n",
       "                                            review_url   review_id  \\\n",
       "0     https://www.goodreads.com/review/show/3572683523  3572683523   \n",
       "1     https://www.goodreads.com/review/show/3598284436  3598284436   \n",
       "2     https://www.goodreads.com/review/show/3582954889  3582954889   \n",
       "3     https://www.goodreads.com/review/show/2122452416  2122452416   \n",
       "4     https://www.goodreads.com/review/show/3541262010  3541262010   \n",
       "...                                                ...         ...   \n",
       "4493  https://www.goodreads.com/review/show/3508929611  3508929611   \n",
       "4494  https://www.goodreads.com/review/show/3486426118  3486426118   \n",
       "4495  https://www.goodreads.com/review/show/3532663154  3532663154   \n",
       "4496  https://www.goodreads.com/review/show/3359606301  3359606301   \n",
       "4497  https://www.goodreads.com/review/show/2459445140  2459445140   \n",
       "\n",
       "            date  rating         user_name  \\\n",
       "0     2020-10-16     4.0     Gitte Hornung   \n",
       "1     2020-10-16     5.0        Rob Jacobs   \n",
       "2     2020-10-16     2.0        Rona Karen   \n",
       "3     2020-10-15     4.0          Emma Pek   \n",
       "4     2020-10-15     4.0    Irini Kallides   \n",
       "...          ...     ...               ...   \n",
       "4493  2020-09-14     4.0           Michael   \n",
       "4494  2020-09-14     2.0            Deanna   \n",
       "4495  2020-09-14     2.0             Kelly   \n",
       "4496  2020-09-14     2.0     Ashley Brooks   \n",
       "4497  2020-09-14     4.0  Khryzette Onishi   \n",
       "\n",
       "                                  user_url  \\\n",
       "0        /user/show/63555571-gitte-hornung   \n",
       "1          /user/show/114599362-rob-jacobs   \n",
       "2            /user/show/6864201-rona-karen   \n",
       "3             /user/show/53126830-emma-pek   \n",
       "4      /user/show/113080501-irini-kallides   \n",
       "...                                    ...   \n",
       "4493          /user/show/108824026-michael   \n",
       "4494            /user/show/43177294-deanna   \n",
       "4495              /user/show/8545345-kelly   \n",
       "4496     /user/show/17334972-ashley-brooks   \n",
       "4497  /user/show/10999719-khryzette-onishi   \n",
       "\n",
       "                                                   text  num_likes sort_order  \\\n",
       "0     Phew this was a long book. At one point I cons...          0     newest   \n",
       "1                                        Great journey!          0     newest   \n",
       "2     Two stars for now. The repetitive names annoye...          0     newest   \n",
       "3     The story was timeless and full of excitement....          0     newest   \n",
       "4     Amazed about the richness of his language and ...          0     newest   \n",
       "...                                                 ...        ...        ...   \n",
       "4493  This was a great book despite how hard it was ...          0     newest   \n",
       "4494  Wow that did not live up to the hype, but I be...          0     newest   \n",
       "4495  I listened to 'Little Women' as an audiobook a...          0     newest   \n",
       "4496  Reading this as an adult was a different exper...          0     newest   \n",
       "4497  Rating: 4.5 stars.A coming of age in its simpl...          0     newest   \n",
       "\n",
       "            shelves  \n",
       "0                []  \n",
       "1                []  \n",
       "2                []  \n",
       "3                []  \n",
       "4     ['book-club']  \n",
       "...             ...  \n",
       "4493             []  \n",
       "4494             []  \n",
       "4495             []  \n",
       "4496             []  \n",
       "4497             []  \n",
       "\n",
       "[4498 rows x 13 columns]"
      ]
     },
     "execution_count": 11,
     "metadata": {},
     "output_type": "execute_result"
    }
   ],
   "source": [
    "newest_reviews "
   ]
  },
  {
   "cell_type": "markdown",
   "metadata": {},
   "source": [
    "How many Goodreads reviews did we collect for each book?"
   ]
  },
  {
   "cell_type": "code",
   "execution_count": 29,
   "metadata": {},
   "outputs": [
    {
     "data": {
      "text/plain": [
       "To Kill a Mockingbird                          300\n",
       "The Great Gatsby                               300\n",
       "Wuthering Heights                              300\n",
       "One Hundred Years of Solitude                  300\n",
       "The Scarlet Letter                             300\n",
       "Narrative of the Life of Frederick Douglass    300\n",
       "The Left Hand of Darkness                      300\n",
       "The Bluest Eye                                 300\n",
       "Jane Eyre                                      300\n",
       "Mrs. Dalloway                                  300\n",
       "Little Women                                   300\n",
       "The Handmaid's Tale                            300\n",
       "The Catcher in the Rye                         300\n",
       "The Iliad                                      299\n",
       "Pride and Prejudice                            299\n",
       "Name: book_title, dtype: int64"
      ]
     },
     "execution_count": 29,
     "metadata": {},
     "output_type": "execute_result"
    }
   ],
   "source": [
    "newest_reviews['book_title'].value_counts()"
   ]
  },
  {
   "cell_type": "markdown",
   "metadata": {},
   "source": [
    "How many Goodreads reviews did we collect in total?"
   ]
  },
  {
   "cell_type": "code",
   "execution_count": 34,
   "metadata": {},
   "outputs": [
    {
     "data": {
      "text/plain": [
       "4498"
      ]
     },
     "execution_count": 34,
     "metadata": {},
     "output_type": "execute_result"
    }
   ],
   "source": [
    "len(newest_reviews)"
   ]
  }
 ],
 "metadata": {
  "kernelspec": {
   "display_name": "Python 3 (ipykernel)",
   "language": "python",
   "name": "python3"
  },
  "language_info": {
   "codemirror_mode": {
    "name": "ipython",
    "version": 3
   },
   "file_extension": ".py",
   "mimetype": "text/x-python",
   "name": "python",
   "nbconvert_exporter": "python",
   "pygments_lexer": "ipython3",
   "version": "3.9.7"
  }
 },
 "nbformat": 4,
 "nbformat_minor": 4
}
