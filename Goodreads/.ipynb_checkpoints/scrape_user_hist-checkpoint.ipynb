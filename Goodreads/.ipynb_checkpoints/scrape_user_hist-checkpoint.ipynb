{
 "cells": [
  {
   "cell_type": "code",
   "execution_count": 1,
   "id": "353b4d44",
   "metadata": {},
   "outputs": [],
   "source": [
    "import requests\n",
    "import pandas as pd\n",
    "import time, random\n",
    "import urllib.request\n",
    "import xmltodict\n",
    "import pandas as pd\n",
    "import numpy as np"
   ]
  },
  {
   "cell_type": "code",
   "execution_count": 2,
   "id": "01182f60",
   "metadata": {},
   "outputs": [],
   "source": [
    "def get_user_data(user_id, key='ZRnySx6awjQuExO9tKEJXw', v='2', shelf='read', per_page='200'):\n",
    "    api_url_base = 'https://www.goodreads.com/review/list/'\n",
    "    final_url = api_url_base + user_id + '.xml?key=' + key + \\\n",
    "        '&v=' + v + '&shelf=' + shelf + '&per_page=' + per_page\n",
    "    contents = urllib.request.urlopen(final_url).read()\n",
    "    return(contents)"
   ]
  },
  {
   "cell_type": "code",
   "execution_count": null,
   "id": "2391935e",
   "metadata": {},
   "outputs": [],
   "source": [
    "https://www.goodreads.com/review/list/5312173.xml?key=ZRnySx6awjQuExO9tKEJXw&v=2&shelf=read&per_page=200"
   ]
  },
  {
   "cell_type": "code",
   "execution_count": 3,
   "id": "24626369",
   "metadata": {},
   "outputs": [],
   "source": [
    "users = pd.read_csv('users.csv')"
   ]
  },
  {
   "cell_type": "code",
   "execution_count": 4,
   "id": "b9bf1b6e",
   "metadata": {},
   "outputs": [],
   "source": [
    "user_ids = []\n",
    "for user in users.user_url:\n",
    "    user_ids.append(''.join(filter(lambda i: i.isdigit(), user)))"
   ]
  },
  {
   "cell_type": "code",
   "execution_count": 5,
   "id": "7ba09296",
   "metadata": {},
   "outputs": [
    {
     "data": {
      "text/plain": [
       "2.7222253438100807"
      ]
     },
     "execution_count": 5,
     "metadata": {},
     "output_type": "execute_result"
    }
   ],
   "source": [
    "np.random.uniform(1,5)"
   ]
  },
  {
   "cell_type": "code",
   "execution_count": null,
   "id": "f138070f",
   "metadata": {},
   "outputs": [
    {
     "name": "stdout",
     "output_type": "stream",
     "text": [
      "Error User: 4971692\n",
      "Error User: 16384209\n",
      "Error User: 3672777\n",
      "Error User: 26402455\n",
      "Error User: 65321843\n",
      "Error User: 4858513\n",
      "Error User: 4687823\n",
      "Error User: 40133512010\n",
      "Error User: 652877\n",
      "Error User: 10502567\n",
      "Error User: 11166121\n",
      "Error User: 2156200\n",
      "Error User: 3842653\n",
      "Error User: 3455554\n",
      "Error User: 32524334\n",
      "Error User: 1746727\n",
      "Error User: 24569331\n",
      "Error User: 108298\n",
      "Error User: 14514998\n",
      "Error User: 4972138\n"
     ]
    }
   ],
   "source": [
    "big_df = pd.DataFrame()\n",
    "for user_id in user_ids:\n",
    "    try:\n",
    "        data = get_user_data(user_id)\n",
    "\n",
    "    except:\n",
    "        print(f'Error User: {user_id}')\n",
    "        continue\n",
    "    parsed = xmltodict.parse(data)\n",
    "    user_df = pd.json_normalize(parsed['GoodreadsResponse']['reviews']['review'])\n",
    "    user_df = user_df.iloc[:,[0,1,7,8,18,22,30,35,37,38]]\n",
    "    user_df['user_id'] = user_id\n",
    "    big_df = pd.concat([big_df, user_df])\n",
    "    big_df.to_csv('users_history.csv', index=False)\n",
    "    time.sleep(np.random.uniform(1,5))"
   ]
  },
  {
   "cell_type": "code",
   "execution_count": null,
   "id": "5bc84c34",
   "metadata": {},
   "outputs": [],
   "source": [
    "history = pd.read_csv('users_history.csv')"
   ]
  },
  {
   "cell_type": "code",
   "execution_count": 81,
   "id": "47182d42",
   "metadata": {},
   "outputs": [],
   "source": [
    "df1, df2, df3 = df.iloc[:2], df.iloc[2:4], df.iloc[4:6]"
   ]
  },
  {
   "cell_type": "code",
   "execution_count": 83,
   "id": "4b47d092",
   "metadata": {},
   "outputs": [],
   "source": [
    "big_df = pd.DataFrame()\n",
    "for df in [df1, df2, df3]:\n",
    "    big_df = pd.concat([big_df, df])"
   ]
  },
  {
   "cell_type": "code",
   "execution_count": 93,
   "id": "d8776d51",
   "metadata": {},
   "outputs": [],
   "source": [
    "df = pd.json_normalize(data['GoodreadsResponse']['reviews']['review'])\n",
    "#df = df.iloc[:,[0,1,7,8,18,22,30,35,37,38]]"
   ]
  },
  {
   "cell_type": "code",
   "execution_count": 58,
   "id": "c330b1db",
   "metadata": {},
   "outputs": [],
   "source": [
    "df = df.iloc[:3,[0,1,7,8,18,22,30,35,37,38]]\n",
    "df['user_id'] = user_id"
   ]
  },
  {
   "cell_type": "code",
   "execution_count": 88,
   "id": "bad2945f",
   "metadata": {},
   "outputs": [
    {
     "name": "stdout",
     "output_type": "stream",
     "text": [
      "Request\n",
      "shelf\n",
      "reviews\n"
     ]
    }
   ],
   "source": [
    "for key, value in data['GoodreadsResponse'].items():\n",
    "    print(key)"
   ]
  },
  {
   "cell_type": "code",
   "execution_count": 95,
   "id": "a8d1e3d3",
   "metadata": {},
   "outputs": [
    {
     "data": {
      "text/html": [
       "<div>\n",
       "<style scoped>\n",
       "    .dataframe tbody tr th:only-of-type {\n",
       "        vertical-align: middle;\n",
       "    }\n",
       "\n",
       "    .dataframe tbody tr th {\n",
       "        vertical-align: top;\n",
       "    }\n",
       "\n",
       "    .dataframe thead th {\n",
       "        text-align: right;\n",
       "    }\n",
       "</style>\n",
       "<table border=\"1\" class=\"dataframe\">\n",
       "  <thead>\n",
       "    <tr style=\"text-align: right;\">\n",
       "      <th></th>\n",
       "      <th>id</th>\n",
       "      <th>rating</th>\n",
       "      <th>started_at</th>\n",
       "      <th>read_at</th>\n",
       "      <th>book.id.#text</th>\n",
       "      <th>book.text_reviews_count.#text</th>\n",
       "      <th>book.title</th>\n",
       "      <th>book.title_without_series</th>\n",
       "      <th>book.num_pages</th>\n",
       "      <th>book.publication_year</th>\n",
       "      <th>book.average_rating</th>\n",
       "      <th>book.ratings_count</th>\n",
       "    </tr>\n",
       "  </thead>\n",
       "  <tbody>\n",
       "    <tr>\n",
       "      <th>0</th>\n",
       "      <td>4424684252</td>\n",
       "      <td>2</td>\n",
       "      <td>Thu Dec 30 00:00:00 -0800 2021</td>\n",
       "      <td>Fri Dec 31 00:00:00 -0800 2021</td>\n",
       "      <td>57637452</td>\n",
       "      <td>15</td>\n",
       "      <td>Once Upon a Time We Ate Animals: The Future of...</td>\n",
       "      <td>Once Upon a Time We Ate Animals: The Future of...</td>\n",
       "      <td>288</td>\n",
       "      <td>2021</td>\n",
       "      <td>3.80</td>\n",
       "      <td>498</td>\n",
       "    </tr>\n",
       "    <tr>\n",
       "      <th>1</th>\n",
       "      <td>4406846067</td>\n",
       "      <td>5</td>\n",
       "      <td>Thu Dec 23 00:00:00 -0800 2021</td>\n",
       "      <td>Wed Dec 29 00:00:00 -0800 2021</td>\n",
       "      <td>55918521</td>\n",
       "      <td>516</td>\n",
       "      <td>Midnight in Everwood</td>\n",
       "      <td>Midnight in Everwood</td>\n",
       "      <td>384</td>\n",
       "      <td>2021</td>\n",
       "      <td>3.75</td>\n",
       "      <td>2266</td>\n",
       "    </tr>\n",
       "    <tr>\n",
       "      <th>2</th>\n",
       "      <td>4401201075</td>\n",
       "      <td>4</td>\n",
       "      <td>Tue Dec 21 00:00:00 -0800 2021</td>\n",
       "      <td>Thu Dec 23 00:00:00 -0800 2021</td>\n",
       "      <td>57299301</td>\n",
       "      <td>74</td>\n",
       "      <td>The North Wind (The Four Winds, #1)</td>\n",
       "      <td>The North Wind</td>\n",
       "      <td>551</td>\n",
       "      <td>2022</td>\n",
       "      <td>4.15</td>\n",
       "      <td>93</td>\n",
       "    </tr>\n",
       "  </tbody>\n",
       "</table>\n",
       "</div>"
      ],
      "text/plain": [
       "           id rating                      started_at  \\\n",
       "0  4424684252      2  Thu Dec 30 00:00:00 -0800 2021   \n",
       "1  4406846067      5  Thu Dec 23 00:00:00 -0800 2021   \n",
       "2  4401201075      4  Tue Dec 21 00:00:00 -0800 2021   \n",
       "\n",
       "                          read_at book.id.#text book.text_reviews_count.#text  \\\n",
       "0  Fri Dec 31 00:00:00 -0800 2021      57637452                            15   \n",
       "1  Wed Dec 29 00:00:00 -0800 2021      55918521                           516   \n",
       "2  Thu Dec 23 00:00:00 -0800 2021      57299301                            74   \n",
       "\n",
       "                                          book.title  \\\n",
       "0  Once Upon a Time We Ate Animals: The Future of...   \n",
       "1                               Midnight in Everwood   \n",
       "2                The North Wind (The Four Winds, #1)   \n",
       "\n",
       "                           book.title_without_series book.num_pages  \\\n",
       "0  Once Upon a Time We Ate Animals: The Future of...            288   \n",
       "1                               Midnight in Everwood            384   \n",
       "2                                     The North Wind            551   \n",
       "\n",
       "  book.publication_year book.average_rating book.ratings_count  \n",
       "0                  2021                3.80                498  \n",
       "1                  2021                3.75               2266  \n",
       "2                  2022                4.15                 93  "
      ]
     },
     "execution_count": 95,
     "metadata": {},
     "output_type": "execute_result"
    }
   ],
   "source": [
    "df.iloc[:3,[0,1,7,8,18,22,24,25,30,35,37,38]]"
   ]
  },
  {
   "cell_type": "code",
   "execution_count": 94,
   "id": "c8a088ca",
   "metadata": {},
   "outputs": [
    {
     "name": "stdout",
     "output_type": "stream",
     "text": [
      "<class 'pandas.core.frame.DataFrame'>\n",
      "RangeIndex: 200 entries, 0 to 199\n",
      "Data columns (total 61 columns):\n",
      " #   Column                                        Non-Null Count  Dtype \n",
      "---  ------                                        --------------  ----- \n",
      " 0   id                                            200 non-null    object\n",
      " 1   rating                                        200 non-null    object\n",
      " 2   votes                                         200 non-null    object\n",
      " 3   spoiler_flag                                  200 non-null    object\n",
      " 4   spoilers_state                                200 non-null    object\n",
      " 5   recommended_for                               0 non-null      object\n",
      " 6   recommended_by                                0 non-null      object\n",
      " 7   started_at                                    195 non-null    object\n",
      " 8   read_at                                       196 non-null    object\n",
      " 9   date_added                                    200 non-null    object\n",
      " 10  date_updated                                  200 non-null    object\n",
      " 11  read_count                                    200 non-null    object\n",
      " 12  body                                          199 non-null    object\n",
      " 13  comments_count                                200 non-null    object\n",
      " 14  url                                           200 non-null    object\n",
      " 15  link                                          200 non-null    object\n",
      " 16  owned                                         200 non-null    object\n",
      " 17  book.id.@type                                 200 non-null    object\n",
      " 18  book.id.#text                                 200 non-null    object\n",
      " 19  book.isbn                                     126 non-null    object\n",
      " 20  book.isbn13                                   137 non-null    object\n",
      " 21  book.text_reviews_count.@type                 200 non-null    object\n",
      " 22  book.text_reviews_count.#text                 200 non-null    object\n",
      " 23  book.uri                                      200 non-null    object\n",
      " 24  book.title                                    200 non-null    object\n",
      " 25  book.title_without_series                     200 non-null    object\n",
      " 26  book.image_url                                200 non-null    object\n",
      " 27  book.small_image_url                          200 non-null    object\n",
      " 28  book.large_image_url                          0 non-null      object\n",
      " 29  book.link                                     200 non-null    object\n",
      " 30  book.num_pages                                166 non-null    object\n",
      " 31  book.format                                   170 non-null    object\n",
      " 32  book.edition_information                      25 non-null     object\n",
      " 33  book.publisher                                174 non-null    object\n",
      " 34  book.publication_day                          168 non-null    object\n",
      " 35  book.publication_year                         173 non-null    object\n",
      " 36  book.publication_month                        169 non-null    object\n",
      " 37  book.average_rating                           200 non-null    object\n",
      " 38  book.ratings_count                            200 non-null    object\n",
      " 39  book.description                              196 non-null    object\n",
      " 40  book.authors.author.id                        200 non-null    object\n",
      " 41  book.authors.author.name                      200 non-null    object\n",
      " 42  book.authors.author.role                      1 non-null      object\n",
      " 43  book.authors.author.image_url.@nophoto        200 non-null    object\n",
      " 44  book.authors.author.image_url.#text           200 non-null    object\n",
      " 45  book.authors.author.small_image_url.@nophoto  200 non-null    object\n",
      " 46  book.authors.author.small_image_url.#text     200 non-null    object\n",
      " 47  book.authors.author.link                      200 non-null    object\n",
      " 48  book.authors.author.average_rating            200 non-null    object\n",
      " 49  book.authors.author.ratings_count             200 non-null    object\n",
      " 50  book.authors.author.text_reviews_count        200 non-null    object\n",
      " 51  book.published                                173 non-null    object\n",
      " 52  book.work.id                                  200 non-null    object\n",
      " 53  book.work.uri                                 200 non-null    object\n",
      " 54  shelves.shelf                                 199 non-null    object\n",
      " 55  book.isbn.@nil                                74 non-null     object\n",
      " 56  book.isbn13.@nil                              63 non-null     object\n",
      " 57  shelves.shelf.@name                           1 non-null      object\n",
      " 58  shelves.shelf.@exclusive                      1 non-null      object\n",
      " 59  shelves.shelf.@id                             1 non-null      object\n",
      " 60  shelves.shelf.@review_shelf_id                1 non-null      object\n",
      "dtypes: object(61)\n",
      "memory usage: 95.4+ KB\n"
     ]
    }
   ],
   "source": [
    "df.info()"
   ]
  }
 ],
 "metadata": {
  "kernelspec": {
   "display_name": "Python [conda env:linreg]",
   "language": "python",
   "name": "conda-env-linreg-py"
  },
  "language_info": {
   "codemirror_mode": {
    "name": "ipython",
    "version": 3
   },
   "file_extension": ".py",
   "mimetype": "text/x-python",
   "name": "python",
   "nbconvert_exporter": "python",
   "pygments_lexer": "ipython3",
   "version": "3.9.7"
  }
 },
 "nbformat": 4,
 "nbformat_minor": 5
}
