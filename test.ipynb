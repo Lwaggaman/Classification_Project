{
 "cells": [
  {
   "cell_type": "code",
   "execution_count": 1,
   "id": "9e6e76c1",
   "metadata": {},
   "outputs": [],
   "source": [
    "import pandas as pd\n",
    "import matplotlib.pyplot as plt\n",
    "import seaborn as sns\n",
    "import numpy as np\n",
    "#from sklearn.ensemble import RandomForestClassifier, AdaBoostClassifier\n",
    "from sklearn.metrics import f1_score, confusion_matrix, precision_score, recall_score, roc_curve\n",
    "from sklearn.preprocessing import StandardScaler\n",
    "from sklearn.model_selection import train_test_split\n",
    "import xgboost as xgb"
   ]
  },
  {
   "cell_type": "code",
   "execution_count": 346,
   "id": "02213488",
   "metadata": {},
   "outputs": [],
   "source": [
    "data = pd.read_csv('all_features_for_hp_tuning.csv')"
   ]
  },
  {
   "cell_type": "code",
   "execution_count": 368,
   "id": "6f2c58bb",
   "metadata": {},
   "outputs": [],
   "source": [
    "data = data.set_index('reader_id')"
   ]
  },
  {
   "cell_type": "code",
   "execution_count": 374,
   "id": "78ba2b2e",
   "metadata": {},
   "outputs": [],
   "source": [
    "X, y = data.iloc[:,1:], data.rating\n",
    "X_train, X_test, y_train, y_test = train_test_split(X, y, test_size = 0.2, random_state = 0)\n",
    "X_train, X_val, y_train, y_val = train_test_split(X_train, y_train, test_size=0.25, random_state=42)\n",
    "\n",
    "eval_set=[(X_test,y_test)]\n",
    "\n",
    "train_dmatrix = xgb.DMatrix(data=X_train, label=y_train)\n",
    "test_dmatrix = xgb.DMatrix(data=X_test, label=y_test)\n",
    "val_dmatrix = xgb.DMatrix(data=X_val, label=y_val)"
   ]
  },
  {
   "cell_type": "code",
   "execution_count": 367,
   "id": "1c73994a",
   "metadata": {},
   "outputs": [
    {
     "data": {
      "text/html": [
       "<div>\n",
       "<style scoped>\n",
       "    .dataframe tbody tr th:only-of-type {\n",
       "        vertical-align: middle;\n",
       "    }\n",
       "\n",
       "    .dataframe tbody tr th {\n",
       "        vertical-align: top;\n",
       "    }\n",
       "\n",
       "    .dataframe thead th {\n",
       "        text-align: right;\n",
       "    }\n",
       "</style>\n",
       "<table border=\"1\" class=\"dataframe\">\n",
       "  <thead>\n",
       "    <tr style=\"text-align: right;\">\n",
       "      <th></th>\n",
       "      <th>rating</th>\n",
       "      <th>Fiction percentile</th>\n",
       "      <th>Young Adult percentile</th>\n",
       "      <th>Romance percentile</th>\n",
       "      <th>Contemporary percentile</th>\n",
       "      <th>Fantasy percentile</th>\n",
       "      <th>Adult percentile</th>\n",
       "      <th>Adult Fiction percentile</th>\n",
       "      <th>Mystery percentile</th>\n",
       "      <th>Adventure percentile</th>\n",
       "      <th>...</th>\n",
       "      <th>Childrens &gt; School Stories median</th>\n",
       "      <th>Russian History &gt; Romanovs median</th>\n",
       "      <th>Cultural &gt; Tasmania median</th>\n",
       "      <th>Horticulture &gt; Gardening median</th>\n",
       "      <th>Environment &gt; Sustainability median</th>\n",
       "      <th>Planets &gt; Earth median</th>\n",
       "      <th>reader_avg_publ_year</th>\n",
       "      <th>reader_avg_rating</th>\n",
       "      <th>reader_avg_book_length</th>\n",
       "      <th>reader_avg_rating bias</th>\n",
       "    </tr>\n",
       "  </thead>\n",
       "  <tbody>\n",
       "    <tr>\n",
       "      <th>72</th>\n",
       "      <td>1</td>\n",
       "      <td>0.232520</td>\n",
       "      <td>0.226464</td>\n",
       "      <td>0.063811</td>\n",
       "      <td>0.169328</td>\n",
       "      <td>0.299410</td>\n",
       "      <td>0.228703</td>\n",
       "      <td>0.160633</td>\n",
       "      <td>0.232010</td>\n",
       "      <td>0.287262</td>\n",
       "      <td>...</td>\n",
       "      <td>NaN</td>\n",
       "      <td>NaN</td>\n",
       "      <td>NaN</td>\n",
       "      <td>NaN</td>\n",
       "      <td>NaN</td>\n",
       "      <td>NaN</td>\n",
       "      <td>2017.398496</td>\n",
       "      <td>3.370000</td>\n",
       "      <td>4.07255</td>\n",
       "      <td>-0.702550</td>\n",
       "    </tr>\n",
       "    <tr>\n",
       "      <th>1069</th>\n",
       "      <td>0</td>\n",
       "      <td>0.494785</td>\n",
       "      <td>0.479084</td>\n",
       "      <td>0.470585</td>\n",
       "      <td>0.543511</td>\n",
       "      <td>0.470928</td>\n",
       "      <td>0.608321</td>\n",
       "      <td>0.606842</td>\n",
       "      <td>0.433862</td>\n",
       "      <td>0.445361</td>\n",
       "      <td>...</td>\n",
       "      <td>NaN</td>\n",
       "      <td>NaN</td>\n",
       "      <td>NaN</td>\n",
       "      <td>NaN</td>\n",
       "      <td>NaN</td>\n",
       "      <td>NaN</td>\n",
       "      <td>2008.549223</td>\n",
       "      <td>3.964824</td>\n",
       "      <td>4.08000</td>\n",
       "      <td>-0.115176</td>\n",
       "    </tr>\n",
       "    <tr>\n",
       "      <th>2757</th>\n",
       "      <td>0</td>\n",
       "      <td>0.404011</td>\n",
       "      <td>0.376450</td>\n",
       "      <td>0.384757</td>\n",
       "      <td>0.390043</td>\n",
       "      <td>0.408072</td>\n",
       "      <td>0.424516</td>\n",
       "      <td>0.483406</td>\n",
       "      <td>0.489192</td>\n",
       "      <td>0.326564</td>\n",
       "      <td>...</td>\n",
       "      <td>NaN</td>\n",
       "      <td>NaN</td>\n",
       "      <td>NaN</td>\n",
       "      <td>NaN</td>\n",
       "      <td>NaN</td>\n",
       "      <td>NaN</td>\n",
       "      <td>2016.875000</td>\n",
       "      <td>3.305000</td>\n",
       "      <td>4.00525</td>\n",
       "      <td>-0.700250</td>\n",
       "    </tr>\n",
       "    <tr>\n",
       "      <th>869</th>\n",
       "      <td>0</td>\n",
       "      <td>0.295915</td>\n",
       "      <td>0.326615</td>\n",
       "      <td>0.257629</td>\n",
       "      <td>0.303698</td>\n",
       "      <td>0.246745</td>\n",
       "      <td>0.205315</td>\n",
       "      <td>0.185432</td>\n",
       "      <td>0.347345</td>\n",
       "      <td>0.284539</td>\n",
       "      <td>...</td>\n",
       "      <td>NaN</td>\n",
       "      <td>NaN</td>\n",
       "      <td>NaN</td>\n",
       "      <td>NaN</td>\n",
       "      <td>NaN</td>\n",
       "      <td>NaN</td>\n",
       "      <td>2003.881356</td>\n",
       "      <td>3.066667</td>\n",
       "      <td>3.95950</td>\n",
       "      <td>-0.892833</td>\n",
       "    </tr>\n",
       "    <tr>\n",
       "      <th>394</th>\n",
       "      <td>1</td>\n",
       "      <td>0.284087</td>\n",
       "      <td>0.343765</td>\n",
       "      <td>0.226450</td>\n",
       "      <td>0.219465</td>\n",
       "      <td>0.447300</td>\n",
       "      <td>0.261251</td>\n",
       "      <td>0.218397</td>\n",
       "      <td>0.322972</td>\n",
       "      <td>0.435157</td>\n",
       "      <td>...</td>\n",
       "      <td>NaN</td>\n",
       "      <td>NaN</td>\n",
       "      <td>NaN</td>\n",
       "      <td>NaN</td>\n",
       "      <td>NaN</td>\n",
       "      <td>NaN</td>\n",
       "      <td>2015.741379</td>\n",
       "      <td>3.055000</td>\n",
       "      <td>4.00930</td>\n",
       "      <td>-0.954300</td>\n",
       "    </tr>\n",
       "  </tbody>\n",
       "</table>\n",
       "<p>5 rows × 887 columns</p>\n",
       "</div>"
      ],
      "text/plain": [
       "      rating  Fiction percentile  Young Adult percentile  Romance percentile  \\\n",
       "72         1            0.232520                0.226464            0.063811   \n",
       "1069       0            0.494785                0.479084            0.470585   \n",
       "2757       0            0.404011                0.376450            0.384757   \n",
       "869        0            0.295915                0.326615            0.257629   \n",
       "394        1            0.284087                0.343765            0.226450   \n",
       "\n",
       "      Contemporary percentile  Fantasy percentile  Adult percentile  \\\n",
       "72                   0.169328            0.299410          0.228703   \n",
       "1069                 0.543511            0.470928          0.608321   \n",
       "2757                 0.390043            0.408072          0.424516   \n",
       "869                  0.303698            0.246745          0.205315   \n",
       "394                  0.219465            0.447300          0.261251   \n",
       "\n",
       "      Adult Fiction percentile  Mystery percentile  Adventure percentile  ...  \\\n",
       "72                    0.160633            0.232010              0.287262  ...   \n",
       "1069                  0.606842            0.433862              0.445361  ...   \n",
       "2757                  0.483406            0.489192              0.326564  ...   \n",
       "869                   0.185432            0.347345              0.284539  ...   \n",
       "394                   0.218397            0.322972              0.435157  ...   \n",
       "\n",
       "      Childrens > School Stories median  Russian History > Romanovs median  \\\n",
       "72                                  NaN                                NaN   \n",
       "1069                                NaN                                NaN   \n",
       "2757                                NaN                                NaN   \n",
       "869                                 NaN                                NaN   \n",
       "394                                 NaN                                NaN   \n",
       "\n",
       "      Cultural > Tasmania median  Horticulture > Gardening median  \\\n",
       "72                           NaN                              NaN   \n",
       "1069                         NaN                              NaN   \n",
       "2757                         NaN                              NaN   \n",
       "869                          NaN                              NaN   \n",
       "394                          NaN                              NaN   \n",
       "\n",
       "      Environment > Sustainability median  Planets > Earth median  \\\n",
       "72                                    NaN                     NaN   \n",
       "1069                                  NaN                     NaN   \n",
       "2757                                  NaN                     NaN   \n",
       "869                                   NaN                     NaN   \n",
       "394                                   NaN                     NaN   \n",
       "\n",
       "      reader_avg_publ_year  reader_avg_rating  reader_avg_book_length  \\\n",
       "72             2017.398496           3.370000                 4.07255   \n",
       "1069           2008.549223           3.964824                 4.08000   \n",
       "2757           2016.875000           3.305000                 4.00525   \n",
       "869            2003.881356           3.066667                 3.95950   \n",
       "394            2015.741379           3.055000                 4.00930   \n",
       "\n",
       "      reader_avg_rating bias  \n",
       "72                 -0.702550  \n",
       "1069               -0.115176  \n",
       "2757               -0.700250  \n",
       "869                -0.892833  \n",
       "394                -0.954300  \n",
       "\n",
       "[5 rows x 887 columns]"
      ]
     },
     "execution_count": 367,
     "metadata": {},
     "output_type": "execute_result"
    }
   ],
   "source": [
    "X_train.head()"
   ]
  },
  {
   "cell_type": "code",
   "execution_count": null,
   "id": "5dc73b07",
   "metadata": {},
   "outputs": [],
   "source": [
    "params = ({'n_estimators' = 30000, 'max_depth' = 6, 'objective' = 'binary:logistic', 'eta'=.05,\n",
    "           'subsample'=.8, 'min_child_weight'= 3, 'colsample_bytree' = .8, 'use_label_encoder'= False})\n",
    "\n",
    "fit_params = {'eval_set' = eval_set, 'eval_metric' = 'auc', 'early_stopping_rounds' = 50}"
   ]
  },
  {
   "cell_type": "markdown",
   "id": "389604e9",
   "metadata": {},
   "source": [
    "#### 10-fold CV, iterating to find best parameters"
   ]
  },
  {
   "cell_type": "markdown",
   "id": "70a296a4",
   "metadata": {},
   "source": [
    "Tree depth"
   ]
  },
  {
   "cell_type": "code",
   "execution_count": 232,
   "id": "2e0e4d0e",
   "metadata": {},
   "outputs": [],
   "source": [
    "params = {\"objective\":\"binary:logistic\", 'seed': 123}\n",
    "\n",
    "max_depths = [3, 4, 5, 6, 7]\n",
    "best_auc = []\n",
    "best_logloss = []\n",
    "best_error = []\n",
    "\n",
    "for curr_val in max_depths:\n",
    "    params[\"max_depth\"] = curr_val\n",
    "    cv_results = (xgb.cv(dtrain=data_dmatrix, params=params, nfold=5, early_stopping_rounds=50,\n",
    "                         num_boost_round=1200,metrics=['error','aucpr','logloss'], seed=123, as_pandas=True))\n",
    "    best_auc.append(cv_results[\"test-aucpr-mean\"].tail().values[-1])\n",
    "    best_error.append(cv_results[\"test-error-mean\"].tail().values[-1])\n",
    "    best_logloss.append(cv_results[\"test-logloss-mean\"].tail().values[-1])"
   ]
  },
  {
   "cell_type": "code",
   "execution_count": 233,
   "id": "78925594",
   "metadata": {},
   "outputs": [
    {
     "data": {
      "text/html": [
       "<div>\n",
       "<style scoped>\n",
       "    .dataframe tbody tr th:only-of-type {\n",
       "        vertical-align: middle;\n",
       "    }\n",
       "\n",
       "    .dataframe tbody tr th {\n",
       "        vertical-align: top;\n",
       "    }\n",
       "\n",
       "    .dataframe thead th {\n",
       "        text-align: right;\n",
       "    }\n",
       "</style>\n",
       "<table border=\"1\" class=\"dataframe\">\n",
       "  <thead>\n",
       "    <tr style=\"text-align: right;\">\n",
       "      <th></th>\n",
       "      <th>max_depth</th>\n",
       "      <th>auc</th>\n",
       "      <th>logloss</th>\n",
       "      <th>error</th>\n",
       "    </tr>\n",
       "  </thead>\n",
       "  <tbody>\n",
       "    <tr>\n",
       "      <th>0</th>\n",
       "      <td>3</td>\n",
       "      <td>0.671061</td>\n",
       "      <td>0.579673</td>\n",
       "      <td>0.313304</td>\n",
       "    </tr>\n",
       "    <tr>\n",
       "      <th>1</th>\n",
       "      <td>4</td>\n",
       "      <td>0.664397</td>\n",
       "      <td>0.584798</td>\n",
       "      <td>0.322262</td>\n",
       "    </tr>\n",
       "    <tr>\n",
       "      <th>2</th>\n",
       "      <td>5</td>\n",
       "      <td>0.650999</td>\n",
       "      <td>0.589327</td>\n",
       "      <td>0.317785</td>\n",
       "    </tr>\n",
       "    <tr>\n",
       "      <th>3</th>\n",
       "      <td>6</td>\n",
       "      <td>0.653159</td>\n",
       "      <td>0.597488</td>\n",
       "      <td>0.334959</td>\n",
       "    </tr>\n",
       "    <tr>\n",
       "      <th>4</th>\n",
       "      <td>7</td>\n",
       "      <td>0.630905</td>\n",
       "      <td>0.606951</td>\n",
       "      <td>0.341679</td>\n",
       "    </tr>\n",
       "  </tbody>\n",
       "</table>\n",
       "</div>"
      ],
      "text/plain": [
       "   max_depth       auc   logloss     error\n",
       "0          3  0.671061  0.579673  0.313304\n",
       "1          4  0.664397  0.584798  0.322262\n",
       "2          5  0.650999  0.589327  0.317785\n",
       "3          6  0.653159  0.597488  0.334959\n",
       "4          7  0.630905  0.606951  0.341679"
      ]
     },
     "execution_count": 233,
     "metadata": {},
     "output_type": "execute_result"
    }
   ],
   "source": [
    "max_depths_df = (pd.DataFrame(list(zip(max_depths, best_auc, best_logloss, best_error)),\n",
    "                              columns=[\"max_depth\", 'auc', \"logloss\", 'error']))\n",
    "max_depths_df"
   ]
  },
  {
   "cell_type": "markdown",
   "id": "23692719",
   "metadata": {},
   "source": [
    "Learning Rate"
   ]
  },
  {
   "cell_type": "code",
   "execution_count": 227,
   "id": "ff914090",
   "metadata": {},
   "outputs": [],
   "source": [
    "#best_auc = []\n",
    "#etas = []"
   ]
  },
  {
   "cell_type": "code",
   "execution_count": 236,
   "id": "58eccd65",
   "metadata": {},
   "outputs": [
    {
     "data": {
      "text/html": [
       "<div>\n",
       "<style scoped>\n",
       "    .dataframe tbody tr th:only-of-type {\n",
       "        vertical-align: middle;\n",
       "    }\n",
       "\n",
       "    .dataframe tbody tr th {\n",
       "        vertical-align: top;\n",
       "    }\n",
       "\n",
       "    .dataframe thead th {\n",
       "        text-align: right;\n",
       "    }\n",
       "</style>\n",
       "<table border=\"1\" class=\"dataframe\">\n",
       "  <thead>\n",
       "    <tr style=\"text-align: right;\">\n",
       "      <th></th>\n",
       "      <th>eta</th>\n",
       "      <th>best_auc</th>\n",
       "    </tr>\n",
       "  </thead>\n",
       "  <tbody>\n",
       "    <tr>\n",
       "      <th>0</th>\n",
       "      <td>0.05</td>\n",
       "      <td>0.671061</td>\n",
       "    </tr>\n",
       "    <tr>\n",
       "      <th>1</th>\n",
       "      <td>0.15</td>\n",
       "      <td>0.664397</td>\n",
       "    </tr>\n",
       "    <tr>\n",
       "      <th>2</th>\n",
       "      <td>1.00</td>\n",
       "      <td>0.650999</td>\n",
       "    </tr>\n",
       "    <tr>\n",
       "      <th>3</th>\n",
       "      <td>0.10</td>\n",
       "      <td>0.653159</td>\n",
       "    </tr>\n",
       "    <tr>\n",
       "      <th>4</th>\n",
       "      <td>0.01</td>\n",
       "      <td>0.630905</td>\n",
       "    </tr>\n",
       "  </tbody>\n",
       "</table>\n",
       "</div>"
      ],
      "text/plain": [
       "    eta  best_auc\n",
       "0  0.05  0.671061\n",
       "1  0.15  0.664397\n",
       "2  1.00  0.650999\n",
       "3  0.10  0.653159\n",
       "4  0.01  0.630905"
      ]
     },
     "execution_count": 236,
     "metadata": {},
     "output_type": "execute_result"
    }
   ],
   "source": [
    "params = ({'objective':'binary:logistic', 'max_depth': 5, 'seed':123})\n",
    "new_etas = [.01]\n",
    "for curr_value in new_etas:\n",
    "    etas.append(curr_value)\n",
    "    params[\"learning_rate\"] = curr_value\n",
    "    cv_results = (xgb.cv(dtrain=data_dmatrix, params=params, nfold=4, early_stopping_rounds=45,\n",
    "                         num_boost_round=1200,metrics='auc', seed=123, as_pandas=True))\n",
    "    best_auc.append(cv_results[\"test-auc-mean\"].tail().values[-1])\n",
    "\n",
    "best_etas = (pd.DataFrame(list(zip(etas, best_auc)),columns=[\"eta\",\"best_auc\"]))\n",
    "best_etas"
   ]
  },
  {
   "cell_type": "markdown",
   "id": "59c5efbe",
   "metadata": {},
   "source": [
    "Regularization"
   ]
  },
  {
   "cell_type": "code",
   "execution_count": 139,
   "id": "01620096",
   "metadata": {},
   "outputs": [],
   "source": [
    "alphas = []\n",
    "best_alpha_auc = []"
   ]
  },
  {
   "cell_type": "code",
   "execution_count": 140,
   "id": "c6bc5482",
   "metadata": {},
   "outputs": [],
   "source": [
    "params = ({'objective':'binary:logistic', 'max_depth': 4, 'seed':123, 'eta':.094, })\n",
    "new_alphas = [.001, .01, .1]\n",
    "for curr_value in new_alphas:\n",
    "    alphas.append(curr_value)\n",
    "    params[\"learning_rate\"] = curr_value\n",
    "    cv_results = (xgb.cv(dtrain=data_dmatrix, params=params, nfold=4, early_stopping_rounds=45,\n",
    "                         num_boost_round=1200,metrics='auc', seed=123, as_pandas=True))\n",
    "    best_alpha_auc.append(cv_results[\"test-auc-mean\"].tail().values[-1])\n",
    "\n",
    "best_alphas = (pd.DataFrame(list(zip(alphas, best_alpha_auc)),columns=[\"alpha\",\"best_auc\"]))"
   ]
  },
  {
   "cell_type": "markdown",
   "id": "ad850cce",
   "metadata": {},
   "source": [
    "Randomized Search to narrow down. Metric: Precision."
   ]
  },
  {
   "cell_type": "code",
   "execution_count": 237,
   "id": "e05616fb",
   "metadata": {},
   "outputs": [],
   "source": [
    "from sklearn.model_selection import RandomizedSearchCV"
   ]
  },
  {
   "cell_type": "code",
   "execution_count": 396,
   "id": "894188b7",
   "metadata": {},
   "outputs": [
    {
     "ename": "SyntaxError",
     "evalue": "invalid syntax (3051578420.py, line 3)",
     "output_type": "error",
     "traceback": [
      "\u001b[0;36m  File \u001b[0;32m\"/var/folders/tv/8qzgqvq554vgrs4zb6bwbwlm0000gn/T/ipykernel_3385/3051578420.py\"\u001b[0;36m, line \u001b[0;32m3\u001b[0m\n\u001b[0;31m    gbm = xgb.XGBClassifier('objective':'binary:logistic', n_estimators=200, use_label_encoder=False)\u001b[0m\n\u001b[0m                                       ^\u001b[0m\n\u001b[0;31mSyntaxError\u001b[0m\u001b[0;31m:\u001b[0m invalid syntax\n"
     ]
    }
   ],
   "source": [
    "gbm_param_grid = {'learning_rate': np.arange(.01,.16, .01), 'max_depth': [4,5], 'alpha': [.01, .05, .1]}\n",
    "\n",
    "gbm = xgb.XGBClassifier(n_estimators=200, use_label_encoder=False)\n",
    "\n",
    "randomized_auc = (RandomizedSearchCV(estimator=gbm, param_distributions = gbm_param_grid, n_iter=20,\n",
    "                                     scoring='precision', cv=10, verbose=1))\n",
    "randomized_auc.fit(X_train_test, y_train_test)"
   ]
  },
  {
   "cell_type": "code",
   "execution_count": 357,
   "id": "d73a6da0",
   "metadata": {},
   "outputs": [
    {
     "name": "stdout",
     "output_type": "stream",
     "text": [
      "Best parameters found:  {'max_depth': 4, 'learning_rate': 0.06299999999999996, 'alpha': 0.01}\n",
      "Best precision score:  1.0\n"
     ]
    }
   ],
   "source": [
    "print(\"Best parameters found: \", randomized_auc.best_params_)\n",
    "print(\"Best precision score: \",(randomized_auc.best_score_))"
   ]
  },
  {
   "cell_type": "code",
   "execution_count": 337,
   "id": "47d7f1ae",
   "metadata": {},
   "outputs": [
    {
     "name": "stdout",
     "output_type": "stream",
     "text": [
      "1.0\n"
     ]
    }
   ],
   "source": [
    "y_pred = (randomized_auc.predict_proba(X_val)[:,1]>0.5)\n",
    "print(precision_score(y_val, y_pred))"
   ]
  },
  {
   "cell_type": "code",
   "execution_count": 360,
   "id": "952c29b3",
   "metadata": {},
   "outputs": [
    {
     "name": "stdout",
     "output_type": "stream",
     "text": [
      "1.0\n"
     ]
    }
   ],
   "source": [
    "y_pred = (randomized_auc.predict_proba(X_test)[:,1]>0.5)\n",
    "print(precision_score(y_test, y_test))"
   ]
  },
  {
   "cell_type": "code",
   "execution_count": 345,
   "id": "357dda9b",
   "metadata": {},
   "outputs": [
    {
     "data": {
      "text/plain": [
       "array([[342,   0],\n",
       "       [  0, 267]])"
      ]
     },
     "execution_count": 345,
     "metadata": {},
     "output_type": "execute_result"
    }
   ],
   "source": [
    "confusion_matrix(y_val, randomized_auc.predict(X_val))"
   ]
  },
  {
   "cell_type": "code",
   "execution_count": 339,
   "id": "23fe3eda",
   "metadata": {},
   "outputs": [
    {
     "name": "stdout",
     "output_type": "stream",
     "text": [
      "1.0\n"
     ]
    }
   ],
   "source": [
    "y_pred = (randomized_auc.predict_proba(X_test)[:,1]>0.5)\n",
    "print(precision_score(y_test, y_pred)) #I had to see :o"
   ]
  },
  {
   "cell_type": "markdown",
   "id": "022ce5f1",
   "metadata": {},
   "source": [
    "#### Final Model"
   ]
  },
  {
   "cell_type": "markdown",
   "id": "257330ea",
   "metadata": {},
   "source": [
    "# Gridsearch"
   ]
  },
  {
   "cell_type": "code",
   "execution_count": 123,
   "id": "fd591e43",
   "metadata": {},
   "outputs": [],
   "source": [
    "from sklearn.model_selection import GridSearchCV"
   ]
  },
  {
   "cell_type": "code",
   "execution_count": 361,
   "id": "7a687e47",
   "metadata": {},
   "outputs": [
    {
     "name": "stdout",
     "output_type": "stream",
     "text": [
      "Fitting 10 folds for each of 4 candidates, totalling 40 fits\n",
      "[18:47:53] WARNING: /Users/runner/miniforge3/conda-bld/xgboost-split_1634712680264/work/src/learner.cc:1115: Starting in XGBoost 1.3.0, the default evaluation metric used with the objective 'binary:logistic' was changed from 'error' to 'logloss'. Explicitly set eval_metric if you'd like to restore the old behavior.\n",
      "[18:47:58] WARNING: /Users/runner/miniforge3/conda-bld/xgboost-split_1634712680264/work/src/learner.cc:1115: Starting in XGBoost 1.3.0, the default evaluation metric used with the objective 'binary:logistic' was changed from 'error' to 'logloss'. Explicitly set eval_metric if you'd like to restore the old behavior.\n",
      "[18:48:02] WARNING: /Users/runner/miniforge3/conda-bld/xgboost-split_1634712680264/work/src/learner.cc:1115: Starting in XGBoost 1.3.0, the default evaluation metric used with the objective 'binary:logistic' was changed from 'error' to 'logloss'. Explicitly set eval_metric if you'd like to restore the old behavior.\n",
      "[18:48:07] WARNING: /Users/runner/miniforge3/conda-bld/xgboost-split_1634712680264/work/src/learner.cc:1115: Starting in XGBoost 1.3.0, the default evaluation metric used with the objective 'binary:logistic' was changed from 'error' to 'logloss'. Explicitly set eval_metric if you'd like to restore the old behavior.\n",
      "[18:48:12] WARNING: /Users/runner/miniforge3/conda-bld/xgboost-split_1634712680264/work/src/learner.cc:1115: Starting in XGBoost 1.3.0, the default evaluation metric used with the objective 'binary:logistic' was changed from 'error' to 'logloss'. Explicitly set eval_metric if you'd like to restore the old behavior.\n",
      "[18:48:17] WARNING: /Users/runner/miniforge3/conda-bld/xgboost-split_1634712680264/work/src/learner.cc:1115: Starting in XGBoost 1.3.0, the default evaluation metric used with the objective 'binary:logistic' was changed from 'error' to 'logloss'. Explicitly set eval_metric if you'd like to restore the old behavior.\n",
      "[18:48:22] WARNING: /Users/runner/miniforge3/conda-bld/xgboost-split_1634712680264/work/src/learner.cc:1115: Starting in XGBoost 1.3.0, the default evaluation metric used with the objective 'binary:logistic' was changed from 'error' to 'logloss'. Explicitly set eval_metric if you'd like to restore the old behavior.\n",
      "[18:48:27] WARNING: /Users/runner/miniforge3/conda-bld/xgboost-split_1634712680264/work/src/learner.cc:1115: Starting in XGBoost 1.3.0, the default evaluation metric used with the objective 'binary:logistic' was changed from 'error' to 'logloss'. Explicitly set eval_metric if you'd like to restore the old behavior.\n",
      "[18:48:32] WARNING: /Users/runner/miniforge3/conda-bld/xgboost-split_1634712680264/work/src/learner.cc:1115: Starting in XGBoost 1.3.0, the default evaluation metric used with the objective 'binary:logistic' was changed from 'error' to 'logloss'. Explicitly set eval_metric if you'd like to restore the old behavior.\n",
      "[18:48:37] WARNING: /Users/runner/miniforge3/conda-bld/xgboost-split_1634712680264/work/src/learner.cc:1115: Starting in XGBoost 1.3.0, the default evaluation metric used with the objective 'binary:logistic' was changed from 'error' to 'logloss'. Explicitly set eval_metric if you'd like to restore the old behavior.\n",
      "[18:48:42] WARNING: /Users/runner/miniforge3/conda-bld/xgboost-split_1634712680264/work/src/learner.cc:1115: Starting in XGBoost 1.3.0, the default evaluation metric used with the objective 'binary:logistic' was changed from 'error' to 'logloss'. Explicitly set eval_metric if you'd like to restore the old behavior.\n",
      "[18:48:47] WARNING: /Users/runner/miniforge3/conda-bld/xgboost-split_1634712680264/work/src/learner.cc:1115: Starting in XGBoost 1.3.0, the default evaluation metric used with the objective 'binary:logistic' was changed from 'error' to 'logloss'. Explicitly set eval_metric if you'd like to restore the old behavior.\n",
      "[18:48:52] WARNING: /Users/runner/miniforge3/conda-bld/xgboost-split_1634712680264/work/src/learner.cc:1115: Starting in XGBoost 1.3.0, the default evaluation metric used with the objective 'binary:logistic' was changed from 'error' to 'logloss'. Explicitly set eval_metric if you'd like to restore the old behavior.\n",
      "[18:48:57] WARNING: /Users/runner/miniforge3/conda-bld/xgboost-split_1634712680264/work/src/learner.cc:1115: Starting in XGBoost 1.3.0, the default evaluation metric used with the objective 'binary:logistic' was changed from 'error' to 'logloss'. Explicitly set eval_metric if you'd like to restore the old behavior.\n",
      "[18:49:02] WARNING: /Users/runner/miniforge3/conda-bld/xgboost-split_1634712680264/work/src/learner.cc:1115: Starting in XGBoost 1.3.0, the default evaluation metric used with the objective 'binary:logistic' was changed from 'error' to 'logloss'. Explicitly set eval_metric if you'd like to restore the old behavior.\n",
      "[18:49:08] WARNING: /Users/runner/miniforge3/conda-bld/xgboost-split_1634712680264/work/src/learner.cc:1115: Starting in XGBoost 1.3.0, the default evaluation metric used with the objective 'binary:logistic' was changed from 'error' to 'logloss'. Explicitly set eval_metric if you'd like to restore the old behavior.\n",
      "[18:49:12] WARNING: /Users/runner/miniforge3/conda-bld/xgboost-split_1634712680264/work/src/learner.cc:1115: Starting in XGBoost 1.3.0, the default evaluation metric used with the objective 'binary:logistic' was changed from 'error' to 'logloss'. Explicitly set eval_metric if you'd like to restore the old behavior.\n",
      "[18:49:16] WARNING: /Users/runner/miniforge3/conda-bld/xgboost-split_1634712680264/work/src/learner.cc:1115: Starting in XGBoost 1.3.0, the default evaluation metric used with the objective 'binary:logistic' was changed from 'error' to 'logloss'. Explicitly set eval_metric if you'd like to restore the old behavior.\n",
      "[18:49:21] WARNING: /Users/runner/miniforge3/conda-bld/xgboost-split_1634712680264/work/src/learner.cc:1115: Starting in XGBoost 1.3.0, the default evaluation metric used with the objective 'binary:logistic' was changed from 'error' to 'logloss'. Explicitly set eval_metric if you'd like to restore the old behavior.\n",
      "[18:49:26] WARNING: /Users/runner/miniforge3/conda-bld/xgboost-split_1634712680264/work/src/learner.cc:1115: Starting in XGBoost 1.3.0, the default evaluation metric used with the objective 'binary:logistic' was changed from 'error' to 'logloss'. Explicitly set eval_metric if you'd like to restore the old behavior.\n",
      "[18:49:30] WARNING: /Users/runner/miniforge3/conda-bld/xgboost-split_1634712680264/work/src/learner.cc:1115: Starting in XGBoost 1.3.0, the default evaluation metric used with the objective 'binary:logistic' was changed from 'error' to 'logloss'. Explicitly set eval_metric if you'd like to restore the old behavior.\n",
      "[18:49:35] WARNING: /Users/runner/miniforge3/conda-bld/xgboost-split_1634712680264/work/src/learner.cc:1115: Starting in XGBoost 1.3.0, the default evaluation metric used with the objective 'binary:logistic' was changed from 'error' to 'logloss'. Explicitly set eval_metric if you'd like to restore the old behavior.\n",
      "[18:49:40] WARNING: /Users/runner/miniforge3/conda-bld/xgboost-split_1634712680264/work/src/learner.cc:1115: Starting in XGBoost 1.3.0, the default evaluation metric used with the objective 'binary:logistic' was changed from 'error' to 'logloss'. Explicitly set eval_metric if you'd like to restore the old behavior.\n",
      "[18:49:45] WARNING: /Users/runner/miniforge3/conda-bld/xgboost-split_1634712680264/work/src/learner.cc:1115: Starting in XGBoost 1.3.0, the default evaluation metric used with the objective 'binary:logistic' was changed from 'error' to 'logloss'. Explicitly set eval_metric if you'd like to restore the old behavior.\n",
      "[18:49:50] WARNING: /Users/runner/miniforge3/conda-bld/xgboost-split_1634712680264/work/src/learner.cc:1115: Starting in XGBoost 1.3.0, the default evaluation metric used with the objective 'binary:logistic' was changed from 'error' to 'logloss'. Explicitly set eval_metric if you'd like to restore the old behavior.\n",
      "[18:49:55] WARNING: /Users/runner/miniforge3/conda-bld/xgboost-split_1634712680264/work/src/learner.cc:1115: Starting in XGBoost 1.3.0, the default evaluation metric used with the objective 'binary:logistic' was changed from 'error' to 'logloss'. Explicitly set eval_metric if you'd like to restore the old behavior.\n"
     ]
    },
    {
     "name": "stdout",
     "output_type": "stream",
     "text": [
      "[18:49:59] WARNING: /Users/runner/miniforge3/conda-bld/xgboost-split_1634712680264/work/src/learner.cc:1115: Starting in XGBoost 1.3.0, the default evaluation metric used with the objective 'binary:logistic' was changed from 'error' to 'logloss'. Explicitly set eval_metric if you'd like to restore the old behavior.\n",
      "[18:50:04] WARNING: /Users/runner/miniforge3/conda-bld/xgboost-split_1634712680264/work/src/learner.cc:1115: Starting in XGBoost 1.3.0, the default evaluation metric used with the objective 'binary:logistic' was changed from 'error' to 'logloss'. Explicitly set eval_metric if you'd like to restore the old behavior.\n",
      "[18:50:09] WARNING: /Users/runner/miniforge3/conda-bld/xgboost-split_1634712680264/work/src/learner.cc:1115: Starting in XGBoost 1.3.0, the default evaluation metric used with the objective 'binary:logistic' was changed from 'error' to 'logloss'. Explicitly set eval_metric if you'd like to restore the old behavior.\n",
      "[18:50:14] WARNING: /Users/runner/miniforge3/conda-bld/xgboost-split_1634712680264/work/src/learner.cc:1115: Starting in XGBoost 1.3.0, the default evaluation metric used with the objective 'binary:logistic' was changed from 'error' to 'logloss'. Explicitly set eval_metric if you'd like to restore the old behavior.\n",
      "[18:50:19] WARNING: /Users/runner/miniforge3/conda-bld/xgboost-split_1634712680264/work/src/learner.cc:1115: Starting in XGBoost 1.3.0, the default evaluation metric used with the objective 'binary:logistic' was changed from 'error' to 'logloss'. Explicitly set eval_metric if you'd like to restore the old behavior.\n",
      "[18:50:24] WARNING: /Users/runner/miniforge3/conda-bld/xgboost-split_1634712680264/work/src/learner.cc:1115: Starting in XGBoost 1.3.0, the default evaluation metric used with the objective 'binary:logistic' was changed from 'error' to 'logloss'. Explicitly set eval_metric if you'd like to restore the old behavior.\n",
      "[18:50:29] WARNING: /Users/runner/miniforge3/conda-bld/xgboost-split_1634712680264/work/src/learner.cc:1115: Starting in XGBoost 1.3.0, the default evaluation metric used with the objective 'binary:logistic' was changed from 'error' to 'logloss'. Explicitly set eval_metric if you'd like to restore the old behavior.\n",
      "[18:50:34] WARNING: /Users/runner/miniforge3/conda-bld/xgboost-split_1634712680264/work/src/learner.cc:1115: Starting in XGBoost 1.3.0, the default evaluation metric used with the objective 'binary:logistic' was changed from 'error' to 'logloss'. Explicitly set eval_metric if you'd like to restore the old behavior.\n",
      "[18:50:39] WARNING: /Users/runner/miniforge3/conda-bld/xgboost-split_1634712680264/work/src/learner.cc:1115: Starting in XGBoost 1.3.0, the default evaluation metric used with the objective 'binary:logistic' was changed from 'error' to 'logloss'. Explicitly set eval_metric if you'd like to restore the old behavior.\n",
      "[18:50:44] WARNING: /Users/runner/miniforge3/conda-bld/xgboost-split_1634712680264/work/src/learner.cc:1115: Starting in XGBoost 1.3.0, the default evaluation metric used with the objective 'binary:logistic' was changed from 'error' to 'logloss'. Explicitly set eval_metric if you'd like to restore the old behavior.\n",
      "[18:50:49] WARNING: /Users/runner/miniforge3/conda-bld/xgboost-split_1634712680264/work/src/learner.cc:1115: Starting in XGBoost 1.3.0, the default evaluation metric used with the objective 'binary:logistic' was changed from 'error' to 'logloss'. Explicitly set eval_metric if you'd like to restore the old behavior.\n",
      "[18:50:54] WARNING: /Users/runner/miniforge3/conda-bld/xgboost-split_1634712680264/work/src/learner.cc:1115: Starting in XGBoost 1.3.0, the default evaluation metric used with the objective 'binary:logistic' was changed from 'error' to 'logloss'. Explicitly set eval_metric if you'd like to restore the old behavior.\n",
      "[18:50:59] WARNING: /Users/runner/miniforge3/conda-bld/xgboost-split_1634712680264/work/src/learner.cc:1115: Starting in XGBoost 1.3.0, the default evaluation metric used with the objective 'binary:logistic' was changed from 'error' to 'logloss'. Explicitly set eval_metric if you'd like to restore the old behavior.\n",
      "[18:51:03] WARNING: /Users/runner/miniforge3/conda-bld/xgboost-split_1634712680264/work/src/learner.cc:1115: Starting in XGBoost 1.3.0, the default evaluation metric used with the objective 'binary:logistic' was changed from 'error' to 'logloss'. Explicitly set eval_metric if you'd like to restore the old behavior.\n",
      "[18:51:08] WARNING: /Users/runner/miniforge3/conda-bld/xgboost-split_1634712680264/work/src/learner.cc:1115: Starting in XGBoost 1.3.0, the default evaluation metric used with the objective 'binary:logistic' was changed from 'error' to 'logloss'. Explicitly set eval_metric if you'd like to restore the old behavior.\n"
     ]
    },
    {
     "data": {
      "text/plain": [
       "GridSearchCV(cv=10,\n",
       "             estimator=XGBClassifier(base_score=None, booster=None,\n",
       "                                     colsample_bylevel=None,\n",
       "                                     colsample_bynode=None,\n",
       "                                     colsample_bytree=None,\n",
       "                                     enable_categorical=False, gamma=None,\n",
       "                                     gpu_id=None, importance_type=None,\n",
       "                                     interaction_constraints=None,\n",
       "                                     learning_rate=None, max_delta_step=None,\n",
       "                                     max_depth=None, min_child_weight=None,\n",
       "                                     missing=nan, monotone_constraints=None,\n",
       "                                     n_estimators=200, n_jobs=None,\n",
       "                                     num_parallel_tree=None, predictor=None,\n",
       "                                     random_state=None, reg_alpha=None,\n",
       "                                     reg_lambda=None, scale_pos_weight=None,\n",
       "                                     subsample=None, tree_method=None,\n",
       "                                     use_label_encoder=False,\n",
       "                                     validate_parameters=None, verbosity=None),\n",
       "             param_grid={'alpha': [0.1, 0.01],\n",
       "                         'learning_rate': [0.013999999999999997,\n",
       "                                           0.013999999999999997],\n",
       "                         'max_depth': [4]},\n",
       "             scoring='precision', verbose=1)"
      ]
     },
     "execution_count": 361,
     "metadata": {},
     "output_type": "execute_result"
    }
   ],
   "source": [
    "gbm_param_grid = ({'learning_rate':[0.013999999999999997, 0.013999999999999997],'alpha':[.1,0.01], 'max_depth': [4]})\n",
    "\n",
    "gbm = xgb.XGBClassifier(n_estimators=200, objective='binary:logistic', use_label_encoder=False)\n",
    "\n",
    "grid_gbm = (GridSearchCV(estimator = gbm, param_grid = gbm_param_grid, scoring = 'precision', cv = 10, verbose = 1))\n",
    "grid_gbm.fit(X_train, y_test)"
   ]
  },
  {
   "cell_type": "code",
   "execution_count": 380,
   "id": "b05261c4",
   "metadata": {},
   "outputs": [
    {
     "data": {
      "text/plain": [
       "{'alpha': 0.1, 'learning_rate': 0.013999999999999997, 'max_depth': 4}"
      ]
     },
     "execution_count": 380,
     "metadata": {},
     "output_type": "execute_result"
    }
   ],
   "source": [
    "grid_gbm.best_params_"
   ]
  },
  {
   "cell_type": "code",
   "execution_count": 350,
   "id": "08976247",
   "metadata": {},
   "outputs": [
    {
     "data": {
      "text/plain": [
       "{'alpha': 0.1, 'learning_rate': 0.1, 'max_depth': 5}"
      ]
     },
     "execution_count": 350,
     "metadata": {},
     "output_type": "execute_result"
    }
   ],
   "source": [
    "grid_gbm.best_params_"
   ]
  },
  {
   "cell_type": "code",
   "execution_count": null,
   "id": "6d635c3b",
   "metadata": {},
   "outputs": [],
   "source": [
    "grid_gbm.best_params_"
   ]
  },
  {
   "cell_type": "code",
   "execution_count": 351,
   "id": "3f5d948f",
   "metadata": {},
   "outputs": [
    {
     "data": {
      "text/plain": [
       "0.635766797857315"
      ]
     },
     "execution_count": 351,
     "metadata": {},
     "output_type": "execute_result"
    }
   ],
   "source": [
    "grid_gbm.best_score_"
   ]
  },
  {
   "cell_type": "code",
   "execution_count": 388,
   "id": "13713cc1",
   "metadata": {},
   "outputs": [
    {
     "data": {
      "text/plain": [
       "(609, 886)"
      ]
     },
     "execution_count": 388,
     "metadata": {},
     "output_type": "execute_result"
    }
   ],
   "source": [
    "X_test.shape"
   ]
  },
  {
   "cell_type": "code",
   "execution_count": 389,
   "id": "884c8e9e",
   "metadata": {},
   "outputs": [
    {
     "data": {
      "text/plain": [
       "(1826, 886)"
      ]
     },
     "execution_count": 389,
     "metadata": {},
     "output_type": "execute_result"
    }
   ],
   "source": [
    "X_train.shape"
   ]
  },
  {
   "cell_type": "markdown",
   "id": "764441f7",
   "metadata": {},
   "source": [
    "#### Final Model"
   ]
  },
  {
   "cell_type": "code",
   "execution_count": 292,
   "id": "c934ad28",
   "metadata": {},
   "outputs": [
    {
     "name": "stdout",
     "output_type": "stream",
     "text": [
      "0.8833333333333333\n"
     ]
    }
   ],
   "source": [
    "y_pred = (grid_gbm.predict_proba(X_val)[:,1]>0.9)\n",
    "print(precision_score(y_val, y_pred))"
   ]
  },
  {
   "cell_type": "code",
   "execution_count": null,
   "id": "3ce40560",
   "metadata": {},
   "outputs": [],
   "source": [
    "y_pred = (grid_gbm.predict_proba(X_)[:,1]>0.5)\n",
    "print(precision_score(y_test, y_pred))"
   ]
  },
  {
   "cell_type": "markdown",
   "id": "dd4f55c0",
   "metadata": {},
   "source": [
    "Test regularization"
   ]
  },
  {
   "cell_type": "code",
   "execution_count": null,
   "id": "2516e1f7",
   "metadata": {},
   "outputs": [],
   "source": [
    "xgb.cv(dtrain=data_dmatrix params=params, nfold=4, early_stopping_rounds=25,\n",
    "                         num_boost_round=1000,metrics='auc', seed=123, as_pandas=True)"
   ]
  },
  {
   "cell_type": "markdown",
   "id": "87ee82e4",
   "metadata": {},
   "source": [
    "#### Old"
   ]
  },
  {
   "cell_type": "code",
   "execution_count": 32,
   "id": "28471cd3",
   "metadata": {},
   "outputs": [
    {
     "name": "stdout",
     "output_type": "stream",
     "text": [
      "   colsample_bytree  best_auc\n",
      "0               0.1  0.735700\n",
      "1               0.5  0.737626\n",
      "2               0.8  0.737779\n",
      "3               1.0  0.738356\n"
     ]
    }
   ],
   "source": [
    "# Doesn't really make sense to use colsample_bytree\n",
    "params={\"objective\":\"binary:logistic\",\"max_depth\":4}\n",
    "\n",
    "colsample_bytree_vals = [.1, .5, .8, 1]\n",
    "best_rmse = []\n",
    "\n",
    "for curr_val in colsample_bytree_vals:\n",
    "    params['colsample_bytree'] = curr_val\n",
    "    cv_results = (xgb.cv(dtrain=data_dmatrix, params=params, nfold=2, num_boost_round=250,\n",
    "                         early_stopping_rounds=20,metrics=\"auc\", as_pandas=True, seed=123))\n",
    "    best_rmse.append(cv_results[\"test-auc-mean\"].tail().values[-1])\n",
    "\n",
    "print(pd.DataFrame(list(zip(colsample_bytree_vals, best_rmse)), columns=[\"colsample_bytree\",\"best_auc\"]))"
   ]
  },
  {
   "cell_type": "code",
   "execution_count": null,
   "id": "315694ff",
   "metadata": {},
   "outputs": [],
   "source": [
    "params = {'learning_rate':.1,'alpha':.1, 'max_depth': 5, 'use_label_encoder':False, 'verbose':1,'num_boost_round':3000}\n",
    "\n",
    "#gbm = (xgb.XGBClassifier(objective='binary:logistic', use_label_encoder=False, learning_rate = .1, alpha = .1,\n",
    "#                         , max_depth = 5, verbose = 1, n_estimators=3000)\n",
    "\n",
    "gbm_cv = (xgb.cv(dtrain=train_dmatrix, params=params, metrics = 'aucpr', nfold = 10, early_stopping_rounds=50))\n",
    "\n",
    "\n",
    "#xgb.cv(dtrain=data_dmatrix params=params, nfold=4, early_stopping_rounds=25,\n",
    "#                         num_boost_round=1000,metrics='auc', seed=123, as_pandas=True)"
   ]
  },
  {
   "cell_type": "code",
   "execution_count": null,
   "id": "ce43574e",
   "metadata": {},
   "outputs": [],
   "source": [
    "f1_score()"
   ]
  }
 ],
 "metadata": {
  "kernelspec": {
   "display_name": "Python [conda env:metis] *",
   "language": "python",
   "name": "conda-env-metis-py"
  },
  "language_info": {
   "codemirror_mode": {
    "name": "ipython",
    "version": 3
   },
   "file_extension": ".py",
   "mimetype": "text/x-python",
   "name": "python",
   "nbconvert_exporter": "python",
   "pygments_lexer": "ipython3",
   "version": "3.9.7"
  }
 },
 "nbformat": 4,
 "nbformat_minor": 5
}
